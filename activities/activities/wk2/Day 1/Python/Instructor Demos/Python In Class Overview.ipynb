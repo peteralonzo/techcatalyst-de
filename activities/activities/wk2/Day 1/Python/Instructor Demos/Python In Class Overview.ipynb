{
 "cells": [
  {
   "cell_type": "markdown",
   "id": "4d1e9294-e531-450a-9c83-199fa4e482d9",
   "metadata": {},
   "source": [
    "# Python Overview"
   ]
  },
  {
   "cell_type": "markdown",
   "id": "fe84709a-343a-4ebc-bb95-37fbec5a1682",
   "metadata": {},
   "source": [
    "## Lists\n"
   ]
  },
  {
   "cell_type": "code",
   "execution_count": 141,
   "id": "24c36524-965f-4404-ae2a-ef457bb64bab",
   "metadata": {},
   "outputs": [
    {
     "name": "stdout",
     "output_type": "stream",
     "text": [
      "['apple', 'banana', 'cherry']\n",
      "banana\n",
      "['apple', 'blueberry', 'cherry']\n",
      "['apple', 'blueberry', 'cherry', 'date']\n",
      "['blueberry', 'cherry', 'date']\n",
      "['cherry', 'date']\n"
     ]
    }
   ],
   "source": [
    "# Creating a list\n",
    "fruits = ['apple', 'banana', 'cherry']\n",
    "print(fruits)\n",
    "\n",
    "# Accessing elements\n",
    "print(fruits[1])  # Output: banana\n",
    "\n",
    "# Modifying elements\n",
    "fruits[1] = 'blueberry'\n",
    "print(fruits)  # Output: ['apple', 'blueberry', 'cherry']\n",
    "\n",
    "# Appending elements\n",
    "fruits.append('date')\n",
    "print(fruits)  # Output: ['apple', 'blueberry', 'cherry', 'date']\n",
    "\n",
    "# Removing elements\n",
    "fruits.remove('apple')\n",
    "print(fruits)  # Output: ['blueberry', 'cherry', 'date']\n",
    "\n",
    "# Slicing lists\n",
    "print(fruits[1:3])  # Output: ['cherry', 'date']\n"
   ]
  },
  {
   "cell_type": "markdown",
   "id": "5e4e6cf2-ff3d-4748-bd03-00c862c3ee2e",
   "metadata": {},
   "source": [
    "## Tuples"
   ]
  },
  {
   "cell_type": "code",
   "execution_count": 142,
   "id": "28115d05-b9e3-4905-814b-5685e697321d",
   "metadata": {},
   "outputs": [
    {
     "name": "stdout",
     "output_type": "stream",
     "text": [
      "(10.0, 20.0)\n",
      "10.0\n",
      "(10.0,)\n"
     ]
    }
   ],
   "source": [
    "# Creating a tuple\n",
    "coordinates = (10.0, 20.0)\n",
    "print(coordinates)\n",
    "\n",
    "# Accessing elements\n",
    "print(coordinates[0])  # Output: 10.0\n",
    "\n",
    "# Slicing tuples\n",
    "print(coordinates[0:1])  # Output: (10.0,)\n"
   ]
  },
  {
   "cell_type": "markdown",
   "id": "f60fe11f-6532-4fa2-87ff-55fbbeec0968",
   "metadata": {},
   "source": [
    "## Sets\n"
   ]
  },
  {
   "cell_type": "code",
   "execution_count": 143,
   "id": "e0535aac-ef32-473d-a53c-4c5b676bed9e",
   "metadata": {},
   "outputs": [
    {
     "name": "stdout",
     "output_type": "stream",
     "text": [
      "{'cherry', 'banana', 'apple'}\n",
      "{'date', 'cherry', 'banana', 'apple'}\n",
      "{'date', 'cherry', 'apple'}\n",
      "{1, 2, 3, 4, 5}\n",
      "{3}\n",
      "{1, 2}\n"
     ]
    }
   ],
   "source": [
    "# Creating a set\n",
    "fruits = {'apple', 'banana', 'cherry'}\n",
    "print(fruits)\n",
    "\n",
    "# Adding elements\n",
    "fruits.add('date')\n",
    "print(fruits)  # Output: {'apple', 'banana', 'cherry', 'date'}\n",
    "\n",
    "# Removing elements\n",
    "fruits.remove('banana')\n",
    "print(fruits)  # Output: {'apple', 'cherry', 'date'}\n",
    "\n",
    "# Set operations\n",
    "set1 = {1, 2, 3}\n",
    "set2 = {3, 4, 5}\n",
    "\n",
    "# Union\n",
    "print(set1 | set2)  # Output: {1, 2, 3, 4, 5}\n",
    "\n",
    "# Intersection\n",
    "print(set1 & set2)  # Output: {3}\n",
    "\n",
    "# Difference\n",
    "print(set1 - set2)  # Output: {1, 2}\n"
   ]
  },
  {
   "cell_type": "markdown",
   "id": "3683e1eb-25a7-45d8-85d8-9134704d858e",
   "metadata": {},
   "source": [
    "## Dictionary"
   ]
  },
  {
   "cell_type": "code",
   "execution_count": 144,
   "id": "94bb56e7-f5e7-44f0-824d-e3eaaba899de",
   "metadata": {},
   "outputs": [
    {
     "name": "stdout",
     "output_type": "stream",
     "text": [
      "{'name': 'Alice', 'age': 25, 'city': 'New York'}\n",
      "Alice\n",
      "{'name': 'Alice', 'age': 26, 'city': 'New York'}\n",
      "{'name': 'Alice', 'age': 26, 'city': 'New York', 'email': 'alice@example.com'}\n",
      "{'name': 'Alice', 'age': 26, 'email': 'alice@example.com'}\n",
      "dict_keys(['name', 'age', 'email'])\n",
      "dict_values(['Alice', 26, 'alice@example.com'])\n"
     ]
    }
   ],
   "source": [
    "# Creating a dictionary\n",
    "person = {'name': 'Alice', 'age': 25, 'city': 'New York'}\n",
    "print(person)\n",
    "\n",
    "# Accessing elements\n",
    "print(person['name'])  # Output: Alice\n",
    "\n",
    "# Modifying elements\n",
    "person['age'] = 26\n",
    "print(person)  # Output: {'name': 'Alice', 'age': 26, 'city': 'New York'}\n",
    "\n",
    "# Adding elements\n",
    "person['email'] = 'alice@example.com'\n",
    "print(person)  # Output: {'name': 'Alice', 'age': 26, 'city': 'New York', 'email': 'alice@example.com'}\n",
    "\n",
    "# Removing elements\n",
    "del person['city']\n",
    "print(person)  # Output: {'name': 'Alice', 'age': 26, 'email': 'alice@example.com'}\n",
    "\n",
    "# Getting keys and values\n",
    "print(person.keys())   # Output: dict_keys(['name', 'age', 'email'])\n",
    "print(person.values()) # Output: dict_values(['Alice', 26, 'alice@example.com'])\n"
   ]
  },
  {
   "cell_type": "markdown",
   "id": "5a76ec58-0e48-4654-974e-a5cc755ec1c0",
   "metadata": {},
   "source": [
    "## Strings\n"
   ]
  },
  {
   "cell_type": "code",
   "execution_count": 145,
   "id": "d11490a5-c7b0-4935-81ec-d5fbd4af082c",
   "metadata": {},
   "outputs": [
    {
     "name": "stdout",
     "output_type": "stream",
     "text": [
      "Hello, World!\n",
      "e\n",
      "Hello, World! How are you?\n",
      "Hello\n",
      "Name: Alice, Age: 30\n"
     ]
    }
   ],
   "source": [
    "# Creating a string\n",
    "greeting = \"Hello, World!\"\n",
    "print(greeting)\n",
    "\n",
    "# Accessing characters\n",
    "print(greeting[1])  # Output: e\n",
    "\n",
    "# Concatenating strings\n",
    "new_greeting = greeting + \" How are you?\"\n",
    "print(new_greeting)  # Output: Hello, World! How are you?\n",
    "\n",
    "# Slicing strings\n",
    "print(greeting[0:5])  # Output: Hello\n",
    "\n",
    "# Formatting strings\n",
    "name = \"Alice\"\n",
    "age = 30\n",
    "formatted_string = f\"Name: {name}, Age: {age}\"\n",
    "print(formatted_string)  # Output: Name: Alice, Age: 30\n"
   ]
  },
  {
   "cell_type": "markdown",
   "id": "93e907d7-d979-42ef-aafd-f1ef0f90f4d7",
   "metadata": {},
   "source": [
    "## Reading Text Files"
   ]
  },
  {
   "cell_type": "code",
   "execution_count": 30,
   "id": "6731639b-3a33-4d22-b864-dc68663be2ed",
   "metadata": {},
   "outputs": [
    {
     "name": "stdout",
     "output_type": "stream",
     "text": [
      "3.1415926535\n",
      "  8979323846\n",
      "  2643383279\n"
     ]
    }
   ],
   "source": [
    "from pathlib import Path\n",
    "\n",
    "path = Path('pi_digits.txt')\n",
    "contents = path.read_text()\n",
    "print(contents)"
   ]
  },
  {
   "cell_type": "code",
   "execution_count": 31,
   "id": "57cd2fa0-2a43-4f14-b833-c1d4493fc2e7",
   "metadata": {},
   "outputs": [
    {
     "name": "stdout",
     "output_type": "stream",
     "text": [
      "['3.1415926535', '  8979323846', '  2643383279']\n"
     ]
    }
   ],
   "source": [
    "lines = contents.splitlines()\n",
    "print(lines)"
   ]
  },
  {
   "cell_type": "code",
   "execution_count": 32,
   "id": "f77ca909-a8a5-4bd3-8431-b1cf2ed513bb",
   "metadata": {},
   "outputs": [
    {
     "name": "stdout",
     "output_type": "stream",
     "text": [
      "3.1415926535\n",
      "8979323846\n",
      "2643383279\n"
     ]
    }
   ],
   "source": [
    "for line in lines:\n",
    "    print(line.strip())"
   ]
  },
  {
   "cell_type": "code",
   "execution_count": 40,
   "id": "c943b52e-63bf-4557-b903-330af27cd95e",
   "metadata": {},
   "outputs": [
    {
     "name": "stdout",
     "output_type": "stream",
     "text": [
      "3.1415926535\n",
      "  8979323846\n",
      "  2643383279\n"
     ]
    }
   ],
   "source": [
    "with open(path) as file:\n",
    "    content = file.read()\n",
    "    print(content)"
   ]
  },
  {
   "cell_type": "code",
   "execution_count": 34,
   "id": "ee1546d3-a511-47d1-b3dc-569a62857dc0",
   "metadata": {},
   "outputs": [
    {
     "name": "stdout",
     "output_type": "stream",
     "text": [
      "['3.1415926535\\n', '  8979323846\\n', '  2643383279']\n"
     ]
    }
   ],
   "source": [
    "with open(path) as file:\n",
    "    content = file.readlines()\n",
    "    print(content)"
   ]
  },
  {
   "cell_type": "code",
   "execution_count": 35,
   "id": "049f9b73-4e9f-4b9b-b288-b8b34833bc80",
   "metadata": {},
   "outputs": [
    {
     "name": "stdout",
     "output_type": "stream",
     "text": [
      "3.1415926535\n",
      "8979323846\n",
      "2643383279\n"
     ]
    }
   ],
   "source": [
    "with open(path) as file:\n",
    "    lines = file.readlines()\n",
    "    for line in lines:\n",
    "        print(line.strip())"
   ]
  },
  {
   "cell_type": "code",
   "execution_count": 89,
   "id": "5b416a82-0d2c-4832-ba94-b33145d4cb10",
   "metadata": {},
   "outputs": [],
   "source": [
    "json_output = {}\n",
    "\n",
    "with open(path) as file:\n",
    "    lines = file.readlines()\n",
    "    for ln, line in enumerate(lines):\n",
    "        json_output[ln] = line"
   ]
  },
  {
   "cell_type": "code",
   "execution_count": 91,
   "id": "a1dd8443-7168-42da-ae77-0b4f92ac9638",
   "metadata": {},
   "outputs": [],
   "source": [
    "import pprint"
   ]
  },
  {
   "cell_type": "code",
   "execution_count": 98,
   "id": "4a59bea9-66f7-4ef5-9a71-a0d8c74f3843",
   "metadata": {},
   "outputs": [
    {
     "name": "stdout",
     "output_type": "stream",
     "text": [
      "{0: '3.1415926535\\n', 1: '  8979323846\\n', 2: '  2643383279'}\n"
     ]
    }
   ],
   "source": [
    "pprint.pprint(json_output, indent= 2)"
   ]
  },
  {
   "cell_type": "markdown",
   "id": "b6785882-f0f3-4e91-a9b2-37026e46f58d",
   "metadata": {},
   "source": [
    "## Working with JSON files"
   ]
  },
  {
   "cell_type": "code",
   "execution_count": 99,
   "id": "fa811413-626d-4bfa-91c3-eefe3c011255",
   "metadata": {},
   "outputs": [],
   "source": [
    "import json"
   ]
  },
  {
   "cell_type": "code",
   "execution_count": 103,
   "id": "6bd3b71f-d4d3-4d99-8ee7-4c15c92bb949",
   "metadata": {},
   "outputs": [
    {
     "data": {
      "text/plain": [
       "'{\"0\": \"3.1415926535\\\\n\", \"1\": \"  8979323846\\\\n\", \"2\": \"  2643383279\"}'"
      ]
     },
     "execution_count": 103,
     "metadata": {},
     "output_type": "execute_result"
    }
   ],
   "source": [
    "output = json.dumps(json_output)\n",
    "output"
   ]
  },
  {
   "cell_type": "code",
   "execution_count": 104,
   "id": "1e34cf5e-bdad-45e1-a7a0-34b755a47fae",
   "metadata": {},
   "outputs": [],
   "source": [
    "filename = Path('output.json')\n",
    "with open(filename, 'w') as file:\n",
    "    file.write(output)"
   ]
  },
  {
   "cell_type": "code",
   "execution_count": 48,
   "id": "c3790ff4-7f3a-41f9-b014-e54ef1bdfa11",
   "metadata": {},
   "outputs": [],
   "source": [
    "import pickle "
   ]
  },
  {
   "cell_type": "markdown",
   "id": "ae10f2b4-b6b3-459f-a294-5c9d8f5d066a",
   "metadata": {},
   "source": [
    "## Pickling "
   ]
  },
  {
   "cell_type": "code",
   "execution_count": 137,
   "id": "dcbd1a7c-fea5-4924-abe1-c2fa20f4c3c0",
   "metadata": {},
   "outputs": [],
   "source": [
    "pkl = pickle.dumps(json_output)"
   ]
  },
  {
   "cell_type": "code",
   "execution_count": 146,
   "id": "7421b42c-d707-4a21-a51e-52cf3e2942d8",
   "metadata": {},
   "outputs": [],
   "source": [
    "with open('output.pkl', 'wb') as file:\n",
    "    pickle.dump(json_output, file, protocol=pickle.HIGHEST_PROTOCOL)\n"
   ]
  },
  {
   "cell_type": "code",
   "execution_count": 147,
   "id": "48ecf3cd-d771-4244-b231-523e47ef7529",
   "metadata": {},
   "outputs": [],
   "source": [
    "with open('output.pkl', 'rb') as file:\n",
    "    pickle_input = pickle.load(file)"
   ]
  },
  {
   "cell_type": "code",
   "execution_count": 148,
   "id": "f4ec9bf8-61ef-46e8-9912-ec3c0356879d",
   "metadata": {},
   "outputs": [
    {
     "name": "stdout",
     "output_type": "stream",
     "text": [
      "{0: '3.1415926535\\n', 1: '  8979323846\\n', 2: '  2643383279'}\n"
     ]
    }
   ],
   "source": [
    "print(pickle_input)"
   ]
  },
  {
   "cell_type": "code",
   "execution_count": null,
   "id": "3a0d636e-b424-49cd-a13b-d858a88ab883",
   "metadata": {},
   "outputs": [],
   "source": []
  },
  {
   "cell_type": "code",
   "execution_count": null,
   "id": "23022d13-3422-44fa-acce-730f9054c5dd",
   "metadata": {},
   "outputs": [],
   "source": []
  }
 ],
 "metadata": {
  "kernelspec": {
   "display_name": "Python [conda env:base] *",
   "language": "python",
   "name": "conda-base-py"
  },
  "language_info": {
   "codemirror_mode": {
    "name": "ipython",
    "version": 3
   },
   "file_extension": ".py",
   "mimetype": "text/x-python",
   "name": "python",
   "nbconvert_exporter": "python",
   "pygments_lexer": "ipython3",
   "version": "3.9.16"
  }
 },
 "nbformat": 4,
 "nbformat_minor": 5
}
