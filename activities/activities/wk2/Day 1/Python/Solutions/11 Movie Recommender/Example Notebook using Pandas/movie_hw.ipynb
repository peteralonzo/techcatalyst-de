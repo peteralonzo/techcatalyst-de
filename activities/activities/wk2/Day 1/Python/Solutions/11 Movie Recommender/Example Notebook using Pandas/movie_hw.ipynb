{
 "cells": [
  {
   "cell_type": "markdown",
   "id": "65348c89-69a0-4c41-ad44-85e707bab63b",
   "metadata": {},
   "source": [
    "## Reading the CSV IMDB data using Pandas "
   ]
  },
  {
   "cell_type": "code",
   "execution_count": 27,
   "id": "618029c9-70e2-4172-968e-8f51f5f61ffc",
   "metadata": {},
   "outputs": [],
   "source": [
    "import pandas as pd\n",
    "import pickle"
   ]
  },
  {
   "cell_type": "code",
   "execution_count": 28,
   "id": "0c8518c4-389f-4d0b-bf28-7635973a98c2",
   "metadata": {},
   "outputs": [],
   "source": [
    "df = pd.read_csv('../Dataset/imdb_top_1000.csv')"
   ]
  },
  {
   "cell_type": "code",
   "execution_count": 29,
   "id": "cd0e2111-8ed9-4439-9f09-b575c2ec34a6",
   "metadata": {},
   "outputs": [
    {
     "name": "stdout",
     "output_type": "stream",
     "text": [
      "<class 'pandas.core.frame.DataFrame'>\n",
      "RangeIndex: 1000 entries, 0 to 999\n",
      "Data columns (total 16 columns):\n",
      " #   Column         Non-Null Count  Dtype  \n",
      "---  ------         --------------  -----  \n",
      " 0   Poster_Link    1000 non-null   object \n",
      " 1   Series_Title   1000 non-null   object \n",
      " 2   Released_Year  1000 non-null   object \n",
      " 3   Certificate    899 non-null    object \n",
      " 4   Runtime        1000 non-null   object \n",
      " 5   Genre          1000 non-null   object \n",
      " 6   IMDB_Rating    1000 non-null   float64\n",
      " 7   Overview       1000 non-null   object \n",
      " 8   Meta_score     843 non-null    float64\n",
      " 9   Director       1000 non-null   object \n",
      " 10  Star1          1000 non-null   object \n",
      " 11  Star2          1000 non-null   object \n",
      " 12  Star3          1000 non-null   object \n",
      " 13  Star4          1000 non-null   object \n",
      " 14  No_of_Votes    1000 non-null   int64  \n",
      " 15  Gross          831 non-null    object \n",
      "dtypes: float64(2), int64(1), object(13)\n",
      "memory usage: 125.1+ KB\n"
     ]
    }
   ],
   "source": [
    "df.info()"
   ]
  },
  {
   "cell_type": "markdown",
   "id": "75a20905-16ef-4d9d-abf2-dc8239efff64",
   "metadata": {},
   "source": [
    "### Basic Data Clean up "
   ]
  },
  {
   "cell_type": "code",
   "execution_count": 30,
   "id": "ecb170c3-34ad-4451-b4d2-3e35d8701c3b",
   "metadata": {},
   "outputs": [],
   "source": [
    "df['Genre'] = df['Genre'].str.split(',')"
   ]
  },
  {
   "cell_type": "code",
   "execution_count": 31,
   "id": "c3f429aa-8503-42b0-be2d-3b777f0d729e",
   "metadata": {},
   "outputs": [],
   "source": [
    "df.rename(columns={'Series_Title': 'Title', 'IMDB_Rating':'Rating'}, inplace=True)"
   ]
  },
  {
   "cell_type": "code",
   "execution_count": 32,
   "id": "e7c10098-4f43-449e-ad65-73e4fd244bbb",
   "metadata": {},
   "outputs": [],
   "source": [
    "df['Actors'] = (df['Star1'] + ', ' + df['Star2'] + ', ' + df['Star3'] + ', ' + df['Star4'])"
   ]
  },
  {
   "cell_type": "code",
   "execution_count": 33,
   "id": "a885c676-238f-4b19-97a9-b8989c4cf689",
   "metadata": {},
   "outputs": [],
   "source": [
    "df['Actors'] = df['Actors'].str.split(',')"
   ]
  },
  {
   "cell_type": "code",
   "execution_count": 34,
   "id": "5cf63676-aab5-4350-ace2-6c5409a10cf3",
   "metadata": {},
   "outputs": [
    {
     "data": {
      "text/html": [
       "<div>\n",
       "<style scoped>\n",
       "    .dataframe tbody tr th:only-of-type {\n",
       "        vertical-align: middle;\n",
       "    }\n",
       "\n",
       "    .dataframe tbody tr th {\n",
       "        vertical-align: top;\n",
       "    }\n",
       "\n",
       "    .dataframe thead th {\n",
       "        text-align: right;\n",
       "    }\n",
       "</style>\n",
       "<table border=\"1\" class=\"dataframe\">\n",
       "  <thead>\n",
       "    <tr style=\"text-align: right;\">\n",
       "      <th></th>\n",
       "      <th>Poster_Link</th>\n",
       "      <th>Title</th>\n",
       "      <th>Released_Year</th>\n",
       "      <th>Certificate</th>\n",
       "      <th>Runtime</th>\n",
       "      <th>Genre</th>\n",
       "      <th>Rating</th>\n",
       "      <th>Overview</th>\n",
       "      <th>Meta_score</th>\n",
       "      <th>Director</th>\n",
       "      <th>Star1</th>\n",
       "      <th>Star2</th>\n",
       "      <th>Star3</th>\n",
       "      <th>Star4</th>\n",
       "      <th>No_of_Votes</th>\n",
       "      <th>Gross</th>\n",
       "      <th>Actors</th>\n",
       "    </tr>\n",
       "  </thead>\n",
       "  <tbody>\n",
       "    <tr>\n",
       "      <th>0</th>\n",
       "      <td>https://m.media-amazon.com/images/M/MV5BMDFkYT...</td>\n",
       "      <td>The Shawshank Redemption</td>\n",
       "      <td>1994</td>\n",
       "      <td>A</td>\n",
       "      <td>142 min</td>\n",
       "      <td>[Drama]</td>\n",
       "      <td>9.3</td>\n",
       "      <td>Two imprisoned men bond over a number of years...</td>\n",
       "      <td>80.0</td>\n",
       "      <td>Frank Darabont</td>\n",
       "      <td>Tim Robbins</td>\n",
       "      <td>Morgan Freeman</td>\n",
       "      <td>Bob Gunton</td>\n",
       "      <td>William Sadler</td>\n",
       "      <td>2343110</td>\n",
       "      <td>28,341,469</td>\n",
       "      <td>[Tim Robbins,  Morgan Freeman,  Bob Gunton,  W...</td>\n",
       "    </tr>\n",
       "    <tr>\n",
       "      <th>1</th>\n",
       "      <td>https://m.media-amazon.com/images/M/MV5BM2MyNj...</td>\n",
       "      <td>The Godfather</td>\n",
       "      <td>1972</td>\n",
       "      <td>A</td>\n",
       "      <td>175 min</td>\n",
       "      <td>[Crime,  Drama]</td>\n",
       "      <td>9.2</td>\n",
       "      <td>An organized crime dynasty's aging patriarch t...</td>\n",
       "      <td>100.0</td>\n",
       "      <td>Francis Ford Coppola</td>\n",
       "      <td>Marlon Brando</td>\n",
       "      <td>Al Pacino</td>\n",
       "      <td>James Caan</td>\n",
       "      <td>Diane Keaton</td>\n",
       "      <td>1620367</td>\n",
       "      <td>134,966,411</td>\n",
       "      <td>[Marlon Brando,  Al Pacino,  James Caan,  Dian...</td>\n",
       "    </tr>\n",
       "    <tr>\n",
       "      <th>2</th>\n",
       "      <td>https://m.media-amazon.com/images/M/MV5BMTMxNT...</td>\n",
       "      <td>The Dark Knight</td>\n",
       "      <td>2008</td>\n",
       "      <td>UA</td>\n",
       "      <td>152 min</td>\n",
       "      <td>[Action,  Crime,  Drama]</td>\n",
       "      <td>9.0</td>\n",
       "      <td>When the menace known as the Joker wreaks havo...</td>\n",
       "      <td>84.0</td>\n",
       "      <td>Christopher Nolan</td>\n",
       "      <td>Christian Bale</td>\n",
       "      <td>Heath Ledger</td>\n",
       "      <td>Aaron Eckhart</td>\n",
       "      <td>Michael Caine</td>\n",
       "      <td>2303232</td>\n",
       "      <td>534,858,444</td>\n",
       "      <td>[Christian Bale,  Heath Ledger,  Aaron Eckhart...</td>\n",
       "    </tr>\n",
       "    <tr>\n",
       "      <th>3</th>\n",
       "      <td>https://m.media-amazon.com/images/M/MV5BMWMwMG...</td>\n",
       "      <td>The Godfather: Part II</td>\n",
       "      <td>1974</td>\n",
       "      <td>A</td>\n",
       "      <td>202 min</td>\n",
       "      <td>[Crime,  Drama]</td>\n",
       "      <td>9.0</td>\n",
       "      <td>The early life and career of Vito Corleone in ...</td>\n",
       "      <td>90.0</td>\n",
       "      <td>Francis Ford Coppola</td>\n",
       "      <td>Al Pacino</td>\n",
       "      <td>Robert De Niro</td>\n",
       "      <td>Robert Duvall</td>\n",
       "      <td>Diane Keaton</td>\n",
       "      <td>1129952</td>\n",
       "      <td>57,300,000</td>\n",
       "      <td>[Al Pacino,  Robert De Niro,  Robert Duvall,  ...</td>\n",
       "    </tr>\n",
       "    <tr>\n",
       "      <th>4</th>\n",
       "      <td>https://m.media-amazon.com/images/M/MV5BMWU4N2...</td>\n",
       "      <td>12 Angry Men</td>\n",
       "      <td>1957</td>\n",
       "      <td>U</td>\n",
       "      <td>96 min</td>\n",
       "      <td>[Crime,  Drama]</td>\n",
       "      <td>9.0</td>\n",
       "      <td>A jury holdout attempts to prevent a miscarria...</td>\n",
       "      <td>96.0</td>\n",
       "      <td>Sidney Lumet</td>\n",
       "      <td>Henry Fonda</td>\n",
       "      <td>Lee J. Cobb</td>\n",
       "      <td>Martin Balsam</td>\n",
       "      <td>John Fiedler</td>\n",
       "      <td>689845</td>\n",
       "      <td>4,360,000</td>\n",
       "      <td>[Henry Fonda,  Lee J. Cobb,  Martin Balsam,  J...</td>\n",
       "    </tr>\n",
       "  </tbody>\n",
       "</table>\n",
       "</div>"
      ],
      "text/plain": [
       "                                         Poster_Link  \\\n",
       "0  https://m.media-amazon.com/images/M/MV5BMDFkYT...   \n",
       "1  https://m.media-amazon.com/images/M/MV5BM2MyNj...   \n",
       "2  https://m.media-amazon.com/images/M/MV5BMTMxNT...   \n",
       "3  https://m.media-amazon.com/images/M/MV5BMWMwMG...   \n",
       "4  https://m.media-amazon.com/images/M/MV5BMWU4N2...   \n",
       "\n",
       "                      Title Released_Year Certificate  Runtime  \\\n",
       "0  The Shawshank Redemption          1994           A  142 min   \n",
       "1             The Godfather          1972           A  175 min   \n",
       "2           The Dark Knight          2008          UA  152 min   \n",
       "3    The Godfather: Part II          1974           A  202 min   \n",
       "4              12 Angry Men          1957           U   96 min   \n",
       "\n",
       "                      Genre  Rating  \\\n",
       "0                   [Drama]     9.3   \n",
       "1           [Crime,  Drama]     9.2   \n",
       "2  [Action,  Crime,  Drama]     9.0   \n",
       "3           [Crime,  Drama]     9.0   \n",
       "4           [Crime,  Drama]     9.0   \n",
       "\n",
       "                                            Overview  Meta_score  \\\n",
       "0  Two imprisoned men bond over a number of years...        80.0   \n",
       "1  An organized crime dynasty's aging patriarch t...       100.0   \n",
       "2  When the menace known as the Joker wreaks havo...        84.0   \n",
       "3  The early life and career of Vito Corleone in ...        90.0   \n",
       "4  A jury holdout attempts to prevent a miscarria...        96.0   \n",
       "\n",
       "               Director           Star1           Star2          Star3  \\\n",
       "0        Frank Darabont     Tim Robbins  Morgan Freeman     Bob Gunton   \n",
       "1  Francis Ford Coppola   Marlon Brando       Al Pacino     James Caan   \n",
       "2     Christopher Nolan  Christian Bale    Heath Ledger  Aaron Eckhart   \n",
       "3  Francis Ford Coppola       Al Pacino  Robert De Niro  Robert Duvall   \n",
       "4          Sidney Lumet     Henry Fonda     Lee J. Cobb  Martin Balsam   \n",
       "\n",
       "            Star4  No_of_Votes        Gross  \\\n",
       "0  William Sadler      2343110   28,341,469   \n",
       "1    Diane Keaton      1620367  134,966,411   \n",
       "2   Michael Caine      2303232  534,858,444   \n",
       "3    Diane Keaton      1129952   57,300,000   \n",
       "4    John Fiedler       689845    4,360,000   \n",
       "\n",
       "                                              Actors  \n",
       "0  [Tim Robbins,  Morgan Freeman,  Bob Gunton,  W...  \n",
       "1  [Marlon Brando,  Al Pacino,  James Caan,  Dian...  \n",
       "2  [Christian Bale,  Heath Ledger,  Aaron Eckhart...  \n",
       "3  [Al Pacino,  Robert De Niro,  Robert Duvall,  ...  \n",
       "4  [Henry Fonda,  Lee J. Cobb,  Martin Balsam,  J...  "
      ]
     },
     "execution_count": 34,
     "metadata": {},
     "output_type": "execute_result"
    }
   ],
   "source": [
    "df.head()"
   ]
  },
  {
   "cell_type": "code",
   "execution_count": 35,
   "id": "4b9f1e1c-a1c1-4e7d-ae15-c4fa0f8c9cd4",
   "metadata": {},
   "outputs": [],
   "source": [
    "cols = ['Title', 'Released_Year', 'Runtime', 'Rating', 'Genre', 'Director', 'Actors','Overview']"
   ]
  },
  {
   "cell_type": "code",
   "execution_count": 36,
   "id": "1b741724-e7c3-4b52-b191-fdc2a0bf6360",
   "metadata": {},
   "outputs": [],
   "source": [
    "df = df[cols]"
   ]
  },
  {
   "cell_type": "code",
   "execution_count": 37,
   "id": "be45b791-a610-4cf0-a732-9d94776727b8",
   "metadata": {},
   "outputs": [],
   "source": [
    "df.to_csv('clean_movie_data.csv')"
   ]
  },
  {
   "cell_type": "markdown",
   "id": "020557ba-2610-479a-8d1b-30a8c8f72377",
   "metadata": {},
   "source": [
    "## Convert from a Pandas DataFrame "
   ]
  },
  {
   "cell_type": "code",
   "execution_count": 38,
   "id": "d16ef820-3c62-4525-8fee-3c1270cefa07",
   "metadata": {},
   "outputs": [],
   "source": [
    "movie_db = df.to_dict(orient='records')"
   ]
  },
  {
   "cell_type": "markdown",
   "id": "7e73b0c2-15f5-4231-96ea-53674952f62e",
   "metadata": {},
   "source": [
    "## Storing the `Movie_db` dictionary using Pickle (Pickling)"
   ]
  },
  {
   "cell_type": "code",
   "execution_count": 39,
   "id": "3e19a0f2-b7f0-499f-bc07-c07804621ab9",
   "metadata": {},
   "outputs": [],
   "source": [
    "movie_nested_dict = {}\n",
    "\n",
    "for i in movie_db:\n",
    "    entry = {\n",
    "        'Released_Year': i['Released_Year'],\n",
    "    'Runtime': i['Runtime'],\n",
    "    'Rating': i['Rating'],\n",
    "    'Genre': i['Genre'],\n",
    "    'Director': i['Director'],\n",
    "    'Actors': i['Actors'],\n",
    "    'Overview': i['Overview']\n",
    "    }\n",
    "\n",
    "    movie_nested_dict[i['Title']] = entry\n",
    "    \n",
    "# with open('movie_nested_dict.pickle', 'wb') as file:\n",
    "#     pickle.dump(movie_nested_dict, file, protocol=pickle.HIGHEST_PROTOCOL)"
   ]
  },
  {
   "cell_type": "code",
   "execution_count": 41,
   "id": "740108ac-5e89-4744-a289-f03f8d1c4579",
   "metadata": {},
   "outputs": [],
   "source": [
    "# %whos"
   ]
  },
  {
   "cell_type": "code",
   "execution_count": 50,
   "id": "6ed90de3-d259-49be-b2cc-21ec2a92c812",
   "metadata": {},
   "outputs": [],
   "source": [
    "movie_db = movie_nested_dict\n",
    "\n",
    "\n",
    "# with open('../movie_nested_dict.pickle', 'rb') as file:\n",
    "#     movie_db = pickle.load(file)"
   ]
  },
  {
   "cell_type": "code",
   "execution_count": 43,
   "id": "6f21a7ff-b162-44e3-8a45-24c534e5d013",
   "metadata": {},
   "outputs": [],
   "source": [
    "def search_genre(genre):\n",
    "    title = []\n",
    "    for k,v in movie_db.items():\n",
    "        if v['Genre'] != [None]:\n",
    "            for g in v['Genre']:\n",
    "                if g.lstrip().upper() == genre.upper():\n",
    "                    title.append(k)\n",
    "    print(f\"There are {len(title)} movies for {genre} Genre.\")\n",
    "                \n",
    "    if len(title) > 0:\n",
    "        print(\"Here are some movies you might enjoy: \\n \")\n",
    "        for i, t in enumerate(title):\n",
    "            print(f\"{i+1}. {t}\")\n",
    "    else:\n",
    "         print(\"No Results Found\")\n",
    "            "
   ]
  },
  {
   "cell_type": "code",
   "execution_count": 44,
   "id": "b5abf040-ed7c-4b4e-bad9-024dc9ca4499",
   "metadata": {},
   "outputs": [],
   "source": [
    "# for k,v in movie_db.items():\n",
    "#     if v['Genre'] != [None]:\n",
    "#         for g in v['Genre']:\n",
    "#             if g.lstrip().upper() == 'horror'.upper():\n",
    "#                 print(k)"
   ]
  },
  {
   "cell_type": "code",
   "execution_count": 45,
   "id": "9056a40b-6424-45a1-b1df-36cb27adacae",
   "metadata": {},
   "outputs": [],
   "source": [
    "def search_title(title):\n",
    "    for m in movie_db.keys():\n",
    "        tmp = m.upper()\n",
    "        title = title.upper()\n",
    "        if tmp.find(title) > -1:\n",
    "            print('#'*30)\n",
    "            print(f\"Movie Title: {m}\")\n",
    "            print(f\"Genre: {movie_db[m]['Genre']}\")  \n",
    "            print(f\"Year: {movie_db[m]['Released_Year']}\") \n",
    "            print(f\"Director: {movie_db[m]['Director']}\")\n",
    "            print(f\"Actors: {movie_db[m]['Actors']}\")  "
   ]
  },
  {
   "cell_type": "code",
   "execution_count": 46,
   "id": "9bf53d05-ecd4-4077-b88d-9ed2582e268a",
   "metadata": {},
   "outputs": [],
   "source": [
    "def search_rating(rating):\n",
    "    title = []\n",
    "    for k,v in movie_db.items():\n",
    "        if v['Rating'] == rating:\n",
    "            title.append(k)\n",
    "    print(f\"There are {len(title)} movies with {rating} rating.\")\n",
    "                \n",
    "    if len(title) > 0:\n",
    "        print(\"Here are some movies you might enjoy: \\n \")\n",
    "        for i, t in enumerate(title):\n",
    "            print(f\"{i+1}. {t}\")\n",
    "    else:\n",
    "         print(\"No Results Found\")"
   ]
  },
  {
   "cell_type": "code",
   "execution_count": 47,
   "id": "6dca0158-31f5-4d10-96cf-5ceadb9d4597",
   "metadata": {},
   "outputs": [],
   "source": [
    "def search_year(year):\n",
    "    title = []\n",
    "    for k,v in movie_db.items():\n",
    "        if v['Released_Year'] == year:\n",
    "            title.append(k)\n",
    "    print(f\"There are {len(title)} movies released in {year}.\")\n",
    "                \n",
    "    if len(title) > 0:\n",
    "        print(\"Here are some movies you might enjoy: \\n \")\n",
    "        for i, t in enumerate(title):\n",
    "            print(f\"{i+1}. {t}\")\n",
    "    else:\n",
    "         print(\"No Results Found\")"
   ]
  },
  {
   "cell_type": "code",
   "execution_count": 48,
   "id": "409dfdbc-4596-4099-8931-d5f63924aa1a",
   "metadata": {},
   "outputs": [],
   "source": [
    "def add_movie(title, rating, director, year, actors, genre):\n",
    "    rating = None if len(rating) == 0 else rating\n",
    "    director = None if len(director) == 0 else director\n",
    "    year = None if len(year) == 0 else year\n",
    "    actors = None if len(actors) == 0 else actors\n",
    "    genre = None if len(genre) == 0 else genre\n",
    "    \n",
    "    record = {\n",
    "        'Rating': rating,\n",
    "        'Director': director,\n",
    "        'Released_Year': year,\n",
    "        'Actors': actors,\n",
    "        'Genre': [genre],\n",
    "    }\n",
    "    movie_db[title] = record\n",
    "    print('Movie added')"
   ]
  },
  {
   "cell_type": "code",
   "execution_count": 49,
   "id": "af059c81-1365-4584-a55f-9e94730aea50",
   "metadata": {},
   "outputs": [
    {
     "name": "stdin",
     "output_type": "stream",
     "text": [
      "\n",
      "        Select a choice (1 - 5):\n",
      "        1. Search by Genre\n",
      "        2. Search by Movie Title\n",
      "        3. Search by Rating\n",
      "        4. Search by Year\n",
      "        5. Add a Movie\n",
      "\n",
      "        Enter:  1\n",
      "Enter Genre:  crazy\n"
     ]
    },
    {
     "name": "stdout",
     "output_type": "stream",
     "text": [
      "There are 0 movies for crazy Genre.\n",
      "No Results Found\n"
     ]
    }
   ],
   "source": [
    "if __name__==\"__main__\":\n",
    "    \n",
    "    selection = int(input('''\n",
    "        Select a choice (1 - 5):\n",
    "        1. Search by Genre\n",
    "        2. Search by Movie Title\n",
    "        3. Search by Rating\n",
    "        4. Search by Year\n",
    "        5. Add a Movie\n",
    "\n",
    "        Enter: '''))\n",
    "\n",
    "    # calls the specific function based on user selection \n",
    "    \n",
    "    if selection == 1:\n",
    "        # Searching by Genre\n",
    "        sub_selection = input('Enter Genre: ')\n",
    "        search_genre(sub_selection)\n",
    "\n",
    "                    \n",
    "    elif selection == 2:\n",
    "        # Searching by Text in Title (with a loop)\n",
    "        sub_selection = None\n",
    "        \n",
    "        while sub_selection != 'EXIT':\n",
    "            sub_selection = input(\"\"\"\n",
    "            Enter Movie Title to Search. \n",
    "            Else type 'EXIT' to terminate\n",
    "\n",
    "            Title Search: \"\"\")\n",
    "            \n",
    "            movies = search_title(sub_selection)\n",
    "            \n",
    "    elif selection == 3:\n",
    "        # Searching by Rating\n",
    "        rating = input('Enter a Rating (ex. 8.0, 8.3): ')\n",
    "        try:\n",
    "            rating = float(rating)\n",
    "            search_rating(rating)\n",
    "        except:\n",
    "            print('Rating needs to be numeric')\n",
    "\n",
    "\n",
    "    elif selection == 4:\n",
    "        # Searching by Year\n",
    "        year = input('Enter a Movie Year (ex: 1993, 2002): ')\n",
    "        search_year(year)\n",
    "    \n",
    "\n",
    "    elif selection == 5:\n",
    "        # Add a new Movie \n",
    "        mov_title = input('Enter a Movie Title: ')\n",
    "        mov_genre = input('Enter a Genre: ')\n",
    "        mov_rating = input('Enter a Movie Rating: ')\n",
    "        mov_director = input('Enter a Movie Director: ')\n",
    "        mov_year = input('Enter Movie Year: ')\n",
    "        mov_actors = input(\"Enter Actors e.g. ['A. Smith', 'Tom Cruise', 'Jennifer W']: \")\n",
    "\n",
    "\n",
    "        if len(mov_title) == 0:\n",
    "            while len(mov_title) == 0 or title == 'EXIT':\n",
    "                print('Title Cannot be Empty. Please try again. To stop type \"EXIT\"')\n",
    "                mov_title = input('Enter a Movie Title: ')\n",
    "            \n",
    "        if mov_title != 'EXIT':\n",
    "            add_movie(mov_title, mov_rating, mov_director, mov_year, mov_actors, mov_genre)\n"
   ]
  },
  {
   "cell_type": "code",
   "execution_count": null,
   "id": "30bfad81-3dd7-4369-b45c-8397c86b63e6",
   "metadata": {},
   "outputs": [],
   "source": []
  }
 ],
 "metadata": {
  "kernelspec": {
   "display_name": "Python [conda env:base] *",
   "language": "python",
   "name": "conda-base-py"
  },
  "language_info": {
   "codemirror_mode": {
    "name": "ipython",
    "version": 3
   },
   "file_extension": ".py",
   "mimetype": "text/x-python",
   "name": "python",
   "nbconvert_exporter": "python",
   "pygments_lexer": "ipython3",
   "version": "3.9.16"
  }
 },
 "nbformat": 4,
 "nbformat_minor": 5
}
