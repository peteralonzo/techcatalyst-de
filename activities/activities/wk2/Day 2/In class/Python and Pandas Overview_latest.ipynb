{
 "cells": [
  {
   "cell_type": "markdown",
   "id": "72d35e8b-d82b-4d24-8512-d45ffe4b90d5",
   "metadata": {},
   "source": [
    "# Python Overview"
   ]
  },
  {
   "cell_type": "markdown",
   "id": "54750ff0-9e9d-4b8a-8ad2-70a1a1856212",
   "metadata": {},
   "source": [
    "## Functions"
   ]
  },
  {
   "cell_type": "code",
   "execution_count": 3,
   "id": "46742dc5-42eb-4a40-b7b7-4daa6458d4de",
   "metadata": {},
   "outputs": [
    {
     "name": "stdout",
     "output_type": "stream",
     "text": [
      "Greetings!\n"
     ]
    }
   ],
   "source": [
    "# Define a main function that prints \"Greetings!\" to the console\n",
    "def main():\n",
    "    print(\"Greetings!\")\n",
    "\n",
    "\n",
    "main()"
   ]
  },
  {
   "cell_type": "code",
   "execution_count": 4,
   "id": "01603c4f-b28e-41b0-bae0-e779ef986bc6",
   "metadata": {},
   "outputs": [
    {
     "name": "stdout",
     "output_type": "stream",
     "text": [
      "AMZN is booming right now!\n"
     ]
    }
   ],
   "source": [
    "# Define a main function that accepts a string argument\n",
    "def main(stock_ticker):\n",
    "    print(stock_ticker + \" is booming right now!\")\n",
    "\n",
    "main('AMZN')"
   ]
  },
  {
   "cell_type": "code",
   "execution_count": 5,
   "id": "1b98f62e-4e05-40d6-93ef-ba8cfdbc6803",
   "metadata": {},
   "outputs": [
    {
     "name": "stdout",
     "output_type": "stream",
     "text": [
      "AMZN is booming right now!\n"
     ]
    }
   ],
   "source": [
    "# Using F string\n",
    "\n",
    "def main(stock_ticker):\n",
    "    print(f\"{stock_ticker} is booming right now!\")\n",
    "\n",
    "main('AMZN')"
   ]
  },
  {
   "cell_type": "code",
   "execution_count": 6,
   "id": "fb39ad3d-ed50-4f67-9d7c-c63a90ca4957",
   "metadata": {},
   "outputs": [
    {
     "name": "stdout",
     "output_type": "stream",
     "text": [
      "SBUX Market Capitalization: 94588216000.0\n",
      "Data type of market_cap variable is: <class 'float'>\n"
     ]
    }
   ],
   "source": [
    "# Define a calculate_market_cap function that returns an integer\n",
    "def calculate_market_cap(market_price, number_of_shares):\n",
    "    cap = market_price * number_of_shares\n",
    "\n",
    "    return cap\n",
    "\n",
    "\n",
    "stock_ticker = \"SBUX\"\n",
    "market_price = 76.06\n",
    "number_of_shares = 1243600000\n",
    "\n",
    "market_cap = calculate_market_cap(market_price, number_of_shares)\n",
    "print(f\"{stock_ticker} Market Capitalization: {market_cap}\")\n",
    "print(f\"Data type of market_cap variable is: {type(market_cap)}\")\n"
   ]
  },
  {
   "cell_type": "code",
   "execution_count": 8,
   "id": "98be9a61-a5e5-491c-aa12-432312e6fce3",
   "metadata": {},
   "outputs": [
    {
     "name": "stdout",
     "output_type": "stream",
     "text": [
      "Here is a beef quesadilla with guacamole\n",
      "Here is a chicken quesadilla with salsa\n",
      "Here is a sour cream quesadilla with beef\n"
     ]
    }
   ],
   "source": [
    "# Functions can have more than one parameter\n",
    "def make_quesadilla(protein, topping):\n",
    "    quesadilla = f\"Here is a {protein} quesadilla with {topping}\"\n",
    "    print(quesadilla)\n",
    "\n",
    "\n",
    "# Supply the arguments (values) when calling the function\n",
    "make_quesadilla(\"beef\", \"guacamole\")\n",
    "make_quesadilla(\"chicken\", \"salsa\")\n",
    "\n",
    "# @NOTE: Order is important when supplying arguments!\n",
    "make_quesadilla(\"sour cream\", \"beef\")"
   ]
  },
  {
   "cell_type": "code",
   "execution_count": 9,
   "id": "533391f4-9207-4878-a2b1-0389ddf56c19",
   "metadata": {},
   "outputs": [
    {
     "name": "stdout",
     "output_type": "stream",
     "text": [
      "Here is a chicken quesadilla with sour cream\n",
      "Here is a beef quesadilla with guacamole\n"
     ]
    }
   ],
   "source": [
    "# We can also specify default values for parameters\n",
    "def make_quesadilla(protein, topping=\"sour cream\"):\n",
    "    quesadilla = f\"Here is a {protein} quesadilla with {topping}\"\n",
    "    print(quesadilla)\n",
    "\n",
    "\n",
    "# Make a quesadilla using the default topping\n",
    "make_quesadilla(\"chicken\")\n",
    "\n",
    "# Make a quesadilla with a new topping\n",
    "make_quesadilla(\"beef\", \"guacamole\")"
   ]
  },
  {
   "cell_type": "markdown",
   "id": "587ddc53-5f62-4362-9ec6-9d929b74700f",
   "metadata": {},
   "source": [
    "## Functional Programming\n",
    "### Lambda Function"
   ]
  },
  {
   "cell_type": "code",
   "execution_count": 11,
   "id": "bf7a1375-00fb-47de-90fe-068b3ea9d0fb",
   "metadata": {},
   "outputs": [
    {
     "name": "stdout",
     "output_type": "stream",
     "text": [
      "25\n"
     ]
    }
   ],
   "source": [
    "# Lambda function\n",
    "square = lambda x: x ** 2\n",
    "print(square(5))  # Output: 25\n",
    "\n"
   ]
  },
  {
   "cell_type": "markdown",
   "id": "67a51256-6ded-4c07-a49e-c660a34654e8",
   "metadata": {},
   "source": [
    "### Map Function"
   ]
  },
  {
   "cell_type": "code",
   "execution_count": 12,
   "id": "e25e148b-d08b-46fb-8384-c016a256759c",
   "metadata": {},
   "outputs": [
    {
     "name": "stdout",
     "output_type": "stream",
     "text": [
      "[1, 4, 9, 16, 25]\n"
     ]
    }
   ],
   "source": [
    "# map() function\n",
    "numbers = [1, 2, 3, 4, 5]\n",
    "squared_numbers = list(map(lambda x: x ** 2, numbers))\n",
    "print(squared_numbers)  # Output: [1, 4, 9, 16, 25]\n",
    "\n"
   ]
  },
  {
   "cell_type": "markdown",
   "id": "32b12a53-00a7-4d33-9be3-0c18e76b8bb9",
   "metadata": {},
   "source": [
    "### Filter function"
   ]
  },
  {
   "cell_type": "code",
   "execution_count": 13,
   "id": "ba02ad26-032b-41b6-9605-f55052bdfbd5",
   "metadata": {},
   "outputs": [
    {
     "name": "stdout",
     "output_type": "stream",
     "text": [
      "[2, 4]\n"
     ]
    }
   ],
   "source": [
    "# filter() function\n",
    "even_numbers = list(filter(lambda x: x % 2 == 0, numbers))\n",
    "print(even_numbers)  # Output: [2, 4]\n",
    "\n"
   ]
  },
  {
   "cell_type": "markdown",
   "id": "abcee404-c3da-41e6-afcf-b0aca8ef7643",
   "metadata": {},
   "source": [
    "### Reduce Function"
   ]
  },
  {
   "cell_type": "code",
   "execution_count": 14,
   "id": "b076c54d-2c4b-4cbc-af45-b8d8b4f56341",
   "metadata": {},
   "outputs": [
    {
     "name": "stdout",
     "output_type": "stream",
     "text": [
      "15\n"
     ]
    }
   ],
   "source": [
    "# reduce() function\n",
    "from functools import reduce\n",
    "sum_of_numbers = reduce(lambda x, y: x + y, numbers)\n",
    "print(sum_of_numbers)  # Output: 15"
   ]
  },
  {
   "cell_type": "markdown",
   "id": "b16a7f75-81d9-4383-8c21-416e5b2cacf3",
   "metadata": {},
   "source": [
    "## Reading CSV"
   ]
  },
  {
   "cell_type": "code",
   "execution_count": 33,
   "id": "ab269d80-e2e7-4346-a21b-242879fbb93f",
   "metadata": {},
   "outputs": [
    {
     "name": "stdout",
     "output_type": "stream",
     "text": [
      "['26-Apr-2021', 'Friday', '1', '$125,789.89 ', '', '-', '$235,036.46 ', '-46.48%', '1000', '$125,789.89 ', '1']\n",
      "['27-Apr-2021', 'Saturday', '1', '$99,374.01 ', '79.00%', '-26416', '$197,622.55 ', '-49.72%', '1000', '$225,163.90 ', '2']\n",
      "['28-Apr-2021', 'Sunday', '1', '$82,203.16 ', '82.72%', '-17171', '$116,991.26 ', '-29.74%', '1000', '$307,367.06 ', '3']\n",
      "['29-Apr-2021', 'Monday', '1', '$33,530.26 ', '40.79%', '-48673', '$66,652.65 ', '-49.69%', '1000', '$340,897.32 ', '4']\n",
      "['30-Apr-2021', 'Tuesday', '1', '$30,105.24 ', '89.79%', '-3425', '$34,828.19 ', '-13.56%', '1000', '$371,002.56 ', '5']\n",
      "['1-May-2021', 'Wednesday', '1', '$22,955.06 ', '76.25%', '-7150', '$29,879.53 ', '-23.17%', '1000', '$393,957.62 ', '6']\n",
      "['2-May-2021', 'Thursday', '1', '$19,579.02 ', '85.29%', '-3376', '$20,236.81 ', '-3.25%', '1000', '$413,536.63 ', '7']\n",
      "['3-May-2021', 'Friday', '1', '$37,018.43 ', '189.07%', '17439', '$38,390.96 ', '-3.58%', '1000', '$450,555.06 ', '8']\n",
      "['4-May-2021', 'Saturday', '1', '$55,900.40 ', '151.01%', '18882', '$62,773.88 ', '-10.95%', '1000', '$506,455.46 ', '9']\n",
      "['5-May-2021', 'Sunday', '1', '$40,984.73 ', '73.32%', '-14916', '$77,932.26 ', '-47.41%', '1000', '$547,440.19 ', '10']\n"
     ]
    }
   ],
   "source": [
    "import csv\n",
    "import itertools\n",
    "\n",
    "with open('movieboxoffice.csv', 'r') as file:\n",
    "    csvreader = csv.reader(file)\n",
    "\n",
    "    header = next(csvreader)\n",
    "    for row in itertools.islice(csvreader, 10):\n",
    "        print(row)"
   ]
  },
  {
   "cell_type": "code",
   "execution_count": 69,
   "id": "7243550d-c68a-4de3-ab69-cc563678f89d",
   "metadata": {},
   "outputs": [
    {
     "name": "stdout",
     "output_type": "stream",
     "text": [
      "Error converting row ['26-Apr-2021', 'Friday', '1', '$125,789.89 ', '', '-', '$235,036.46 ', '-46.48%', '1000', '$125,789.89 ', '1']: invalid literal for int() with base 10: ''\n",
      "Total Daily Earnings: $626,354.04\n",
      "Average Daily Earnings: $4,931.92\n",
      "Total Earnings to Date: $752,143.87\n"
     ]
    }
   ],
   "source": [
    "import csv\n",
    "import itertools\n",
    "from datetime import datetime\n",
    "\n",
    "def convert_row(row):\n",
    "    date = datetime.strptime(row[0], '%d-%b-%Y')  # Convert date string to datetime object\n",
    "    day_of_week = row[1]  # Leave as string\n",
    "    rank = int(row[2])  # Convert rank to integer\n",
    "    daily = float(row[3].replace('$', '').replace(',', ''))  # Convert daily earnings to float\n",
    "    percent_change = float(row[4].replace('%', '').replace('-', '')) if row[4] else None  # Convert percent change to float, handle empty strings\n",
    "    diff_k = int(row[5].replace('-', '')) if row[5] else None  # Convert diff to integer, handle empty strings\n",
    "    forecast = float(row[6].replace('$', '').replace(',', '')) if row[6] else None  # Convert forecast to float\n",
    "    percent_diff = float(row[7].replace('%', '').replace('-', '')) if row[7] else None  # Convert percent diff to float, handle empty strings\n",
    "    theaters = int(row[8])  # Convert theaters to integer\n",
    "    to_date = float(row[9].replace('$', '').replace(',', ''))  # Convert to date earnings to float\n",
    "    row_id = int(row[10])  # Convert row ID to integer\n",
    "\n",
    "    return [date, day_of_week, rank, daily, percent_change, diff_k, forecast, percent_diff, theaters, to_date, row_id]\n",
    "\n",
    "with open('movieboxoffice.csv', 'r') as file:\n",
    "    csvreader = csv.reader(file)\n",
    "    header = next(csvreader)\n",
    "    \n",
    "    data = []\n",
    "    for row in csvreader:\n",
    "        try:\n",
    "            converted_row = convert_row(row)\n",
    "            data.append(converted_row)\n",
    "        except ValueError as e:\n",
    "            print(f\"Error converting row {row}: {e}\")\n",
    "\n",
    "# Print the transformed data\n",
    "# for row in data:\n",
    "#     print(row)\n",
    "\n",
    "# Quick summary and aggregation\n",
    "total_daily = sum(row[3] for row in data)\n",
    "average_daily = total_daily / len(data)\n",
    "total_to_date = data[-1][9]  # Assuming the last row gives the cumulative earnings\n",
    "\n",
    "print(f\"Total Daily Earnings: ${total_daily:,.2f}\")\n",
    "print(f\"Average Daily Earnings: ${average_daily:,.2f}\")\n",
    "print(f\"Total Earnings to Date: ${total_to_date:,.2f}\")\n"
   ]
  },
  {
   "cell_type": "markdown",
   "id": "f57b9ed5-7316-4d8e-8bc0-35b61a235c5d",
   "metadata": {},
   "source": [
    "## Using Pandas"
   ]
  },
  {
   "cell_type": "code",
   "execution_count": 40,
   "id": "2e2dbf8c-a3ca-4a33-942e-d90a2904054c",
   "metadata": {},
   "outputs": [],
   "source": [
    "import pandas as pd"
   ]
  },
  {
   "cell_type": "code",
   "execution_count": 43,
   "id": "cbfd2987-34bb-4e9b-a22e-f9be422aa906",
   "metadata": {},
   "outputs": [
    {
     "data": {
      "text/html": [
       "<div>\n",
       "<style scoped>\n",
       "    .dataframe tbody tr th:only-of-type {\n",
       "        vertical-align: middle;\n",
       "    }\n",
       "\n",
       "    .dataframe tbody tr th {\n",
       "        vertical-align: top;\n",
       "    }\n",
       "\n",
       "    .dataframe thead th {\n",
       "        text-align: right;\n",
       "    }\n",
       "</style>\n",
       "<table border=\"1\" class=\"dataframe\">\n",
       "  <thead>\n",
       "    <tr style=\"text-align: right;\">\n",
       "      <th></th>\n",
       "      <th>Date</th>\n",
       "      <th>DOW</th>\n",
       "      <th>Rank</th>\n",
       "      <th>Daily</th>\n",
       "      <th>Percent Change</th>\n",
       "      <th>Diff (k)</th>\n",
       "      <th>Forecast</th>\n",
       "      <th>Percent Diff</th>\n",
       "      <th>Theaters</th>\n",
       "      <th>To Date</th>\n",
       "      <th>Row ID</th>\n",
       "    </tr>\n",
       "  </thead>\n",
       "  <tbody>\n",
       "    <tr>\n",
       "      <th>0</th>\n",
       "      <td>26-Apr-2021</td>\n",
       "      <td>Friday</td>\n",
       "      <td>1</td>\n",
       "      <td>$125,789.89</td>\n",
       "      <td>NaN</td>\n",
       "      <td>-</td>\n",
       "      <td>$235,036.46</td>\n",
       "      <td>-46.48%</td>\n",
       "      <td>1000</td>\n",
       "      <td>$125,789.89</td>\n",
       "      <td>1</td>\n",
       "    </tr>\n",
       "    <tr>\n",
       "      <th>1</th>\n",
       "      <td>27-Apr-2021</td>\n",
       "      <td>Saturday</td>\n",
       "      <td>1</td>\n",
       "      <td>$99,374.01</td>\n",
       "      <td>79.00%</td>\n",
       "      <td>-26416</td>\n",
       "      <td>$197,622.55</td>\n",
       "      <td>-49.72%</td>\n",
       "      <td>1000</td>\n",
       "      <td>$225,163.90</td>\n",
       "      <td>2</td>\n",
       "    </tr>\n",
       "    <tr>\n",
       "      <th>2</th>\n",
       "      <td>28-Apr-2021</td>\n",
       "      <td>Sunday</td>\n",
       "      <td>1</td>\n",
       "      <td>$82,203.16</td>\n",
       "      <td>82.72%</td>\n",
       "      <td>-17171</td>\n",
       "      <td>$116,991.26</td>\n",
       "      <td>-29.74%</td>\n",
       "      <td>1000</td>\n",
       "      <td>$307,367.06</td>\n",
       "      <td>3</td>\n",
       "    </tr>\n",
       "    <tr>\n",
       "      <th>3</th>\n",
       "      <td>29-Apr-2021</td>\n",
       "      <td>Monday</td>\n",
       "      <td>1</td>\n",
       "      <td>$33,530.26</td>\n",
       "      <td>40.79%</td>\n",
       "      <td>-48673</td>\n",
       "      <td>$66,652.65</td>\n",
       "      <td>-49.69%</td>\n",
       "      <td>1000</td>\n",
       "      <td>$340,897.32</td>\n",
       "      <td>4</td>\n",
       "    </tr>\n",
       "    <tr>\n",
       "      <th>4</th>\n",
       "      <td>30-Apr-2021</td>\n",
       "      <td>Tuesday</td>\n",
       "      <td>1</td>\n",
       "      <td>$30,105.24</td>\n",
       "      <td>89.79%</td>\n",
       "      <td>-3425</td>\n",
       "      <td>$34,828.19</td>\n",
       "      <td>-13.56%</td>\n",
       "      <td>1000</td>\n",
       "      <td>$371,002.56</td>\n",
       "      <td>5</td>\n",
       "    </tr>\n",
       "  </tbody>\n",
       "</table>\n",
       "</div>"
      ],
      "text/plain": [
       "          Date       DOW  Rank         Daily Percent Change Diff (k)  \\\n",
       "0  26-Apr-2021    Friday     1  $125,789.89             NaN        -   \n",
       "1  27-Apr-2021  Saturday     1   $99,374.01          79.00%   -26416   \n",
       "2  28-Apr-2021    Sunday     1   $82,203.16          82.72%   -17171   \n",
       "3  29-Apr-2021    Monday     1   $33,530.26          40.79%   -48673   \n",
       "4  30-Apr-2021   Tuesday     1   $30,105.24          89.79%    -3425   \n",
       "\n",
       "       Forecast Percent Diff  Theaters       To Date  Row ID  \n",
       "0  $235,036.46       -46.48%      1000  $125,789.89        1  \n",
       "1  $197,622.55       -49.72%      1000  $225,163.90        2  \n",
       "2  $116,991.26       -29.74%      1000  $307,367.06        3  \n",
       "3   $66,652.65       -49.69%      1000  $340,897.32        4  \n",
       "4   $34,828.19       -13.56%      1000  $371,002.56        5  "
      ]
     },
     "execution_count": 43,
     "metadata": {},
     "output_type": "execute_result"
    }
   ],
   "source": [
    "file = 'movieboxoffice.csv'\n",
    "\n",
    "df = pd.read_csv(file)\n",
    "\n",
    "df.head()"
   ]
  },
  {
   "cell_type": "code",
   "execution_count": 44,
   "id": "36c84ad1-56c7-471a-a0a4-349219e0ca12",
   "metadata": {},
   "outputs": [
    {
     "name": "stdout",
     "output_type": "stream",
     "text": [
      "<class 'pandas.core.frame.DataFrame'>\n",
      "RangeIndex: 128 entries, 0 to 127\n",
      "Data columns (total 11 columns):\n",
      " #   Column          Non-Null Count  Dtype \n",
      "---  ------          --------------  ----- \n",
      " 0   Date            128 non-null    object\n",
      " 1   DOW             128 non-null    object\n",
      " 2   Rank            128 non-null    int64 \n",
      " 3   Daily           128 non-null    object\n",
      " 4   Percent Change  127 non-null    object\n",
      " 5   Diff (k)        128 non-null    object\n",
      " 6   Forecast        128 non-null    object\n",
      " 7   Percent Diff    128 non-null    object\n",
      " 8   Theaters        128 non-null    int64 \n",
      " 9   To Date         128 non-null    object\n",
      " 10  Row ID          128 non-null    int64 \n",
      "dtypes: int64(3), object(8)\n",
      "memory usage: 11.1+ KB\n"
     ]
    }
   ],
   "source": [
    "df.info()"
   ]
  },
  {
   "cell_type": "code",
   "execution_count": 45,
   "id": "40a84e95-5092-4259-8a6a-6538f0da461e",
   "metadata": {},
   "outputs": [
    {
     "data": {
      "text/html": [
       "<div>\n",
       "<style scoped>\n",
       "    .dataframe tbody tr th:only-of-type {\n",
       "        vertical-align: middle;\n",
       "    }\n",
       "\n",
       "    .dataframe tbody tr th {\n",
       "        vertical-align: top;\n",
       "    }\n",
       "\n",
       "    .dataframe thead th {\n",
       "        text-align: right;\n",
       "    }\n",
       "</style>\n",
       "<table border=\"1\" class=\"dataframe\">\n",
       "  <thead>\n",
       "    <tr style=\"text-align: right;\">\n",
       "      <th></th>\n",
       "      <th>Date</th>\n",
       "      <th>DOW</th>\n",
       "      <th>Daily</th>\n",
       "      <th>Forecast</th>\n",
       "      <th>Percent Diff</th>\n",
       "    </tr>\n",
       "  </thead>\n",
       "  <tbody>\n",
       "    <tr>\n",
       "      <th>0</th>\n",
       "      <td>2021-04-26</td>\n",
       "      <td>Friday</td>\n",
       "      <td>$125,789.89</td>\n",
       "      <td>$235,036.46</td>\n",
       "      <td>-46.48%</td>\n",
       "    </tr>\n",
       "    <tr>\n",
       "      <th>1</th>\n",
       "      <td>2021-04-27</td>\n",
       "      <td>Saturday</td>\n",
       "      <td>$99,374.01</td>\n",
       "      <td>$197,622.55</td>\n",
       "      <td>-49.72%</td>\n",
       "    </tr>\n",
       "    <tr>\n",
       "      <th>2</th>\n",
       "      <td>2021-04-28</td>\n",
       "      <td>Sunday</td>\n",
       "      <td>$82,203.16</td>\n",
       "      <td>$116,991.26</td>\n",
       "      <td>-29.74%</td>\n",
       "    </tr>\n",
       "    <tr>\n",
       "      <th>3</th>\n",
       "      <td>2021-04-29</td>\n",
       "      <td>Monday</td>\n",
       "      <td>$33,530.26</td>\n",
       "      <td>$66,652.65</td>\n",
       "      <td>-49.69%</td>\n",
       "    </tr>\n",
       "    <tr>\n",
       "      <th>4</th>\n",
       "      <td>2021-04-30</td>\n",
       "      <td>Tuesday</td>\n",
       "      <td>$30,105.24</td>\n",
       "      <td>$34,828.19</td>\n",
       "      <td>-13.56%</td>\n",
       "    </tr>\n",
       "  </tbody>\n",
       "</table>\n",
       "</div>"
      ],
      "text/plain": [
       "        Date       DOW         Daily      Forecast Percent Diff\n",
       "0 2021-04-26    Friday  $125,789.89   $235,036.46       -46.48%\n",
       "1 2021-04-27  Saturday   $99,374.01   $197,622.55       -49.72%\n",
       "2 2021-04-28    Sunday   $82,203.16   $116,991.26       -29.74%\n",
       "3 2021-04-29    Monday   $33,530.26    $66,652.65       -49.69%\n",
       "4 2021-04-30   Tuesday   $30,105.24    $34,828.19       -13.56%"
      ]
     },
     "execution_count": 45,
     "metadata": {},
     "output_type": "execute_result"
    }
   ],
   "source": [
    "df = pd.read_csv(file,\n",
    "                 parse_dates=[0],\n",
    "                 usecols=['Date',\n",
    "                          'DOW',\n",
    "                          'Daily',\n",
    "                          'Forecast',\n",
    "                          'Percent Diff'])\n",
    "df.head()"
   ]
  },
  {
   "cell_type": "code",
   "execution_count": 46,
   "id": "4ac845f4-fa66-4b54-8491-748da3ed7e06",
   "metadata": {},
   "outputs": [
    {
     "name": "stdout",
     "output_type": "stream",
     "text": [
      "<class 'pandas.core.frame.DataFrame'>\n",
      "RangeIndex: 128 entries, 0 to 127\n",
      "Data columns (total 5 columns):\n",
      " #   Column        Non-Null Count  Dtype         \n",
      "---  ------        --------------  -----         \n",
      " 0   Date          128 non-null    datetime64[ns]\n",
      " 1   DOW           128 non-null    object        \n",
      " 2   Daily         128 non-null    object        \n",
      " 3   Forecast      128 non-null    object        \n",
      " 4   Percent Diff  128 non-null    object        \n",
      "dtypes: datetime64[ns](1), object(4)\n",
      "memory usage: 5.1+ KB\n"
     ]
    }
   ],
   "source": [
    "df.info()"
   ]
  },
  {
   "cell_type": "code",
   "execution_count": 47,
   "id": "cc5c2ced-c633-44dd-b2df-d00d124d31c5",
   "metadata": {},
   "outputs": [
    {
     "data": {
      "text/html": [
       "<div>\n",
       "<style scoped>\n",
       "    .dataframe tbody tr th:only-of-type {\n",
       "        vertical-align: middle;\n",
       "    }\n",
       "\n",
       "    .dataframe tbody tr th {\n",
       "        vertical-align: top;\n",
       "    }\n",
       "\n",
       "    .dataframe thead th {\n",
       "        text-align: right;\n",
       "    }\n",
       "</style>\n",
       "<table border=\"1\" class=\"dataframe\">\n",
       "  <thead>\n",
       "    <tr style=\"text-align: right;\">\n",
       "      <th></th>\n",
       "      <th>DOW</th>\n",
       "      <th>Daily</th>\n",
       "      <th>Forecast</th>\n",
       "      <th>Percent Diff</th>\n",
       "    </tr>\n",
       "    <tr>\n",
       "      <th>Date</th>\n",
       "      <th></th>\n",
       "      <th></th>\n",
       "      <th></th>\n",
       "      <th></th>\n",
       "    </tr>\n",
       "  </thead>\n",
       "  <tbody>\n",
       "    <tr>\n",
       "      <th>2021-04-26</th>\n",
       "      <td>Friday</td>\n",
       "      <td>$125,789.89</td>\n",
       "      <td>$235,036.46</td>\n",
       "      <td>-46.48%</td>\n",
       "    </tr>\n",
       "    <tr>\n",
       "      <th>2021-04-27</th>\n",
       "      <td>Saturday</td>\n",
       "      <td>$99,374.01</td>\n",
       "      <td>$197,622.55</td>\n",
       "      <td>-49.72%</td>\n",
       "    </tr>\n",
       "    <tr>\n",
       "      <th>2021-04-28</th>\n",
       "      <td>Sunday</td>\n",
       "      <td>$82,203.16</td>\n",
       "      <td>$116,991.26</td>\n",
       "      <td>-29.74%</td>\n",
       "    </tr>\n",
       "    <tr>\n",
       "      <th>2021-04-29</th>\n",
       "      <td>Monday</td>\n",
       "      <td>$33,530.26</td>\n",
       "      <td>$66,652.65</td>\n",
       "      <td>-49.69%</td>\n",
       "    </tr>\n",
       "    <tr>\n",
       "      <th>2021-04-30</th>\n",
       "      <td>Tuesday</td>\n",
       "      <td>$30,105.24</td>\n",
       "      <td>$34,828.19</td>\n",
       "      <td>-13.56%</td>\n",
       "    </tr>\n",
       "  </tbody>\n",
       "</table>\n",
       "</div>"
      ],
      "text/plain": [
       "                 DOW         Daily      Forecast Percent Diff\n",
       "Date                                                         \n",
       "2021-04-26    Friday  $125,789.89   $235,036.46       -46.48%\n",
       "2021-04-27  Saturday   $99,374.01   $197,622.55       -49.72%\n",
       "2021-04-28    Sunday   $82,203.16   $116,991.26       -29.74%\n",
       "2021-04-29    Monday   $33,530.26    $66,652.65       -49.69%\n",
       "2021-04-30   Tuesday   $30,105.24    $34,828.19       -13.56%"
      ]
     },
     "execution_count": 47,
     "metadata": {},
     "output_type": "execute_result"
    }
   ],
   "source": [
    "df = pd.read_csv(file,\n",
    "                 header=0,\n",
    "                 parse_dates=[0],\n",
    "                 index_col=0,\n",
    "                 usecols=['Date',\n",
    "                          'DOW',\n",
    "                          'Daily',\n",
    "                          'Forecast',\n",
    "                          'Percent Diff'])\n",
    "df.head()"
   ]
  },
  {
   "cell_type": "code",
   "execution_count": 48,
   "id": "2e467f6a-5cb8-415a-a625-d3cea56587f2",
   "metadata": {},
   "outputs": [
    {
     "name": "stdout",
     "output_type": "stream",
     "text": [
      "<class 'pandas.core.frame.DataFrame'>\n",
      "DatetimeIndex: 128 entries, 2021-04-26 to 2021-08-31\n",
      "Data columns (total 4 columns):\n",
      " #   Column        Non-Null Count  Dtype \n",
      "---  ------        --------------  ----- \n",
      " 0   DOW           128 non-null    object\n",
      " 1   Daily         128 non-null    object\n",
      " 2   Forecast      128 non-null    object\n",
      " 3   Percent Diff  128 non-null    object\n",
      "dtypes: object(4)\n",
      "memory usage: 5.0+ KB\n"
     ]
    }
   ],
   "source": [
    "df.info()"
   ]
  },
  {
   "cell_type": "code",
   "execution_count": 49,
   "id": "c2a0da59-257c-4e90-8491-73f68d0032a2",
   "metadata": {},
   "outputs": [
    {
     "data": {
      "text/html": [
       "<div>\n",
       "<style scoped>\n",
       "    .dataframe tbody tr th:only-of-type {\n",
       "        vertical-align: middle;\n",
       "    }\n",
       "\n",
       "    .dataframe tbody tr th {\n",
       "        vertical-align: top;\n",
       "    }\n",
       "\n",
       "    .dataframe thead th {\n",
       "        text-align: right;\n",
       "    }\n",
       "</style>\n",
       "<table border=\"1\" class=\"dataframe\">\n",
       "  <thead>\n",
       "    <tr style=\"text-align: right;\">\n",
       "      <th></th>\n",
       "      <th>DOW</th>\n",
       "      <th>Daily</th>\n",
       "      <th>Forecast</th>\n",
       "      <th>Percent Diff</th>\n",
       "    </tr>\n",
       "    <tr>\n",
       "      <th>Date</th>\n",
       "      <th></th>\n",
       "      <th></th>\n",
       "      <th></th>\n",
       "      <th></th>\n",
       "    </tr>\n",
       "  </thead>\n",
       "  <tbody>\n",
       "    <tr>\n",
       "      <th>2021-04-26</th>\n",
       "      <td>Friday</td>\n",
       "      <td>$125,789.89</td>\n",
       "      <td>$235,036.46</td>\n",
       "      <td>-46.48%</td>\n",
       "    </tr>\n",
       "    <tr>\n",
       "      <th>2021-04-27</th>\n",
       "      <td>Saturday</td>\n",
       "      <td>$99,374.01</td>\n",
       "      <td>$197,622.55</td>\n",
       "      <td>-49.72%</td>\n",
       "    </tr>\n",
       "    <tr>\n",
       "      <th>2021-04-28</th>\n",
       "      <td>Sunday</td>\n",
       "      <td>$82,203.16</td>\n",
       "      <td>$116,991.26</td>\n",
       "      <td>-29.74%</td>\n",
       "    </tr>\n",
       "    <tr>\n",
       "      <th>2021-04-29</th>\n",
       "      <td>Monday</td>\n",
       "      <td>$33,530.26</td>\n",
       "      <td>$66,652.65</td>\n",
       "      <td>-49.69%</td>\n",
       "    </tr>\n",
       "    <tr>\n",
       "      <th>2021-04-30</th>\n",
       "      <td>Tuesday</td>\n",
       "      <td>$30,105.24</td>\n",
       "      <td>$34,828.19</td>\n",
       "      <td>-13.56%</td>\n",
       "    </tr>\n",
       "    <tr>\n",
       "      <th>2021-05-01</th>\n",
       "      <td>Wednesday</td>\n",
       "      <td>$22,955.06</td>\n",
       "      <td>$29,879.53</td>\n",
       "      <td>-23.17%</td>\n",
       "    </tr>\n",
       "    <tr>\n",
       "      <th>2021-05-02</th>\n",
       "      <td>Thursday</td>\n",
       "      <td>$19,579.02</td>\n",
       "      <td>$20,236.81</td>\n",
       "      <td>-3.25%</td>\n",
       "    </tr>\n",
       "    <tr>\n",
       "      <th>2021-05-03</th>\n",
       "      <td>Friday</td>\n",
       "      <td>$37,018.43</td>\n",
       "      <td>$38,390.96</td>\n",
       "      <td>-3.58%</td>\n",
       "    </tr>\n",
       "    <tr>\n",
       "      <th>2021-05-04</th>\n",
       "      <td>Saturday</td>\n",
       "      <td>$55,900.40</td>\n",
       "      <td>$62,773.88</td>\n",
       "      <td>-10.95%</td>\n",
       "    </tr>\n",
       "    <tr>\n",
       "      <th>2021-05-05</th>\n",
       "      <td>Sunday</td>\n",
       "      <td>$40,984.73</td>\n",
       "      <td>$77,932.26</td>\n",
       "      <td>-47.41%</td>\n",
       "    </tr>\n",
       "  </tbody>\n",
       "</table>\n",
       "</div>"
      ],
      "text/plain": [
       "                  DOW         Daily      Forecast Percent Diff\n",
       "Date                                                          \n",
       "2021-04-26     Friday  $125,789.89   $235,036.46       -46.48%\n",
       "2021-04-27   Saturday   $99,374.01   $197,622.55       -49.72%\n",
       "2021-04-28     Sunday   $82,203.16   $116,991.26       -29.74%\n",
       "2021-04-29     Monday   $33,530.26    $66,652.65       -49.69%\n",
       "2021-04-30    Tuesday   $30,105.24    $34,828.19       -13.56%\n",
       "2021-05-01  Wednesday   $22,955.06    $29,879.53       -23.17%\n",
       "2021-05-02   Thursday   $19,579.02    $20,236.81        -3.25%\n",
       "2021-05-03     Friday   $37,018.43    $38,390.96        -3.58%\n",
       "2021-05-04   Saturday   $55,900.40    $62,773.88       -10.95%\n",
       "2021-05-05     Sunday   $40,984.73    $77,932.26       -47.41%"
      ]
     },
     "execution_count": 49,
     "metadata": {},
     "output_type": "execute_result"
    }
   ],
   "source": [
    "df.head(10)"
   ]
  },
  {
   "cell_type": "code",
   "execution_count": 51,
   "id": "1ee2607b-6468-4ec4-a2af-23f29e971aac",
   "metadata": {},
   "outputs": [],
   "source": [
    "clean = lambda x: x.str.replace('[^\\\\d]', '', regex=True)                                                      \n",
    "c_df = df[['Daily', 'Forecast']].apply(clean, axis=1)\n",
    "df[['Daily', 'Forecast']] = c_df.astype(float)     "
   ]
  },
  {
   "cell_type": "code",
   "execution_count": 52,
   "id": "c83e16ef-8d5c-461f-bec7-c68d84d2c52b",
   "metadata": {},
   "outputs": [
    {
     "data": {
      "text/html": [
       "<div>\n",
       "<style scoped>\n",
       "    .dataframe tbody tr th:only-of-type {\n",
       "        vertical-align: middle;\n",
       "    }\n",
       "\n",
       "    .dataframe tbody tr th {\n",
       "        vertical-align: top;\n",
       "    }\n",
       "\n",
       "    .dataframe thead th {\n",
       "        text-align: right;\n",
       "    }\n",
       "</style>\n",
       "<table border=\"1\" class=\"dataframe\">\n",
       "  <thead>\n",
       "    <tr style=\"text-align: right;\">\n",
       "      <th></th>\n",
       "      <th>DOW</th>\n",
       "      <th>Daily</th>\n",
       "      <th>Forecast</th>\n",
       "      <th>Percent Diff</th>\n",
       "    </tr>\n",
       "    <tr>\n",
       "      <th>Date</th>\n",
       "      <th></th>\n",
       "      <th></th>\n",
       "      <th></th>\n",
       "      <th></th>\n",
       "    </tr>\n",
       "  </thead>\n",
       "  <tbody>\n",
       "    <tr>\n",
       "      <th>2021-04-26</th>\n",
       "      <td>Friday</td>\n",
       "      <td>12578989.0</td>\n",
       "      <td>23503646.0</td>\n",
       "      <td>-46.48%</td>\n",
       "    </tr>\n",
       "    <tr>\n",
       "      <th>2021-04-27</th>\n",
       "      <td>Saturday</td>\n",
       "      <td>9937401.0</td>\n",
       "      <td>19762255.0</td>\n",
       "      <td>-49.72%</td>\n",
       "    </tr>\n",
       "    <tr>\n",
       "      <th>2021-04-28</th>\n",
       "      <td>Sunday</td>\n",
       "      <td>8220316.0</td>\n",
       "      <td>11699126.0</td>\n",
       "      <td>-29.74%</td>\n",
       "    </tr>\n",
       "    <tr>\n",
       "      <th>2021-04-29</th>\n",
       "      <td>Monday</td>\n",
       "      <td>3353026.0</td>\n",
       "      <td>6665265.0</td>\n",
       "      <td>-49.69%</td>\n",
       "    </tr>\n",
       "    <tr>\n",
       "      <th>2021-04-30</th>\n",
       "      <td>Tuesday</td>\n",
       "      <td>3010524.0</td>\n",
       "      <td>3482819.0</td>\n",
       "      <td>-13.56%</td>\n",
       "    </tr>\n",
       "  </tbody>\n",
       "</table>\n",
       "</div>"
      ],
      "text/plain": [
       "                 DOW       Daily    Forecast Percent Diff\n",
       "Date                                                     \n",
       "2021-04-26    Friday  12578989.0  23503646.0      -46.48%\n",
       "2021-04-27  Saturday   9937401.0  19762255.0      -49.72%\n",
       "2021-04-28    Sunday   8220316.0  11699126.0      -29.74%\n",
       "2021-04-29    Monday   3353026.0   6665265.0      -49.69%\n",
       "2021-04-30   Tuesday   3010524.0   3482819.0      -13.56%"
      ]
     },
     "execution_count": 52,
     "metadata": {},
     "output_type": "execute_result"
    }
   ],
   "source": [
    "df.head()"
   ]
  },
  {
   "cell_type": "code",
   "execution_count": 53,
   "id": "88dd4941-eaa9-4966-8225-a441e2869281",
   "metadata": {},
   "outputs": [
    {
     "name": "stdout",
     "output_type": "stream",
     "text": [
      "<class 'pandas.core.frame.DataFrame'>\n",
      "DatetimeIndex: 128 entries, 2021-04-26 to 2021-08-31\n",
      "Data columns (total 4 columns):\n",
      " #   Column        Non-Null Count  Dtype  \n",
      "---  ------        --------------  -----  \n",
      " 0   DOW           128 non-null    object \n",
      " 1   Daily         128 non-null    float64\n",
      " 2   Forecast      128 non-null    float64\n",
      " 3   Percent Diff  128 non-null    object \n",
      "dtypes: float64(2), object(2)\n",
      "memory usage: 5.0+ KB\n"
     ]
    }
   ],
   "source": [
    "df.info()"
   ]
  },
  {
   "cell_type": "code",
   "execution_count": 54,
   "id": "73e0e699-739f-45b9-af01-34301102e1f8",
   "metadata": {},
   "outputs": [
    {
     "data": {
      "text/plain": [
       "Index           1024\n",
       "DOW             1024\n",
       "Daily           1024\n",
       "Forecast        1024\n",
       "Percent Diff    1024\n",
       "dtype: int64"
      ]
     },
     "execution_count": 54,
     "metadata": {},
     "output_type": "execute_result"
    }
   ],
   "source": [
    "df.memory_usage()"
   ]
  },
  {
   "cell_type": "code",
   "execution_count": 71,
   "id": "622594da-d34a-4cac-a6de-f740335605d7",
   "metadata": {},
   "outputs": [
    {
     "data": {
      "text/html": [
       "<div>\n",
       "<style scoped>\n",
       "    .dataframe tbody tr th:only-of-type {\n",
       "        vertical-align: middle;\n",
       "    }\n",
       "\n",
       "    .dataframe tbody tr th {\n",
       "        vertical-align: top;\n",
       "    }\n",
       "\n",
       "    .dataframe thead th {\n",
       "        text-align: right;\n",
       "    }\n",
       "</style>\n",
       "<table border=\"1\" class=\"dataframe\">\n",
       "  <thead>\n",
       "    <tr style=\"text-align: right;\">\n",
       "      <th></th>\n",
       "      <th>Daily</th>\n",
       "      <th>Forecast</th>\n",
       "    </tr>\n",
       "  </thead>\n",
       "  <tbody>\n",
       "    <tr>\n",
       "      <th>count</th>\n",
       "      <td>1.280000e+02</td>\n",
       "      <td>1.280000e+02</td>\n",
       "    </tr>\n",
       "    <tr>\n",
       "      <th>mean</th>\n",
       "      <td>5.876124e+05</td>\n",
       "      <td>9.366103e+05</td>\n",
       "    </tr>\n",
       "    <tr>\n",
       "      <th>std</th>\n",
       "      <td>1.755046e+06</td>\n",
       "      <td>3.082168e+06</td>\n",
       "    </tr>\n",
       "    <tr>\n",
       "      <th>min</th>\n",
       "      <td>0.000000e+00</td>\n",
       "      <td>0.000000e+00</td>\n",
       "    </tr>\n",
       "    <tr>\n",
       "      <th>25%</th>\n",
       "      <td>5.636750e+03</td>\n",
       "      <td>9.266750e+03</td>\n",
       "    </tr>\n",
       "    <tr>\n",
       "      <th>50%</th>\n",
       "      <td>4.266750e+04</td>\n",
       "      <td>6.523100e+04</td>\n",
       "    </tr>\n",
       "    <tr>\n",
       "      <th>75%</th>\n",
       "      <td>1.927085e+05</td>\n",
       "      <td>2.893818e+05</td>\n",
       "    </tr>\n",
       "    <tr>\n",
       "      <th>max</th>\n",
       "      <td>1.257899e+07</td>\n",
       "      <td>2.350365e+07</td>\n",
       "    </tr>\n",
       "  </tbody>\n",
       "</table>\n",
       "</div>"
      ],
      "text/plain": [
       "              Daily      Forecast\n",
       "count  1.280000e+02  1.280000e+02\n",
       "mean   5.876124e+05  9.366103e+05\n",
       "std    1.755046e+06  3.082168e+06\n",
       "min    0.000000e+00  0.000000e+00\n",
       "25%    5.636750e+03  9.266750e+03\n",
       "50%    4.266750e+04  6.523100e+04\n",
       "75%    1.927085e+05  2.893818e+05\n",
       "max    1.257899e+07  2.350365e+07"
      ]
     },
     "execution_count": 71,
     "metadata": {},
     "output_type": "execute_result"
    }
   ],
   "source": [
    "df.describe()"
   ]
  },
  {
   "cell_type": "code",
   "execution_count": 75,
   "id": "c2b8acbe-3d02-4d7b-8e72-4234053405b7",
   "metadata": {},
   "outputs": [
    {
     "data": {
      "text/plain": [
       "75214393.0"
      ]
     },
     "execution_count": 75,
     "metadata": {},
     "output_type": "execute_result"
    }
   ],
   "source": [
    "df['Daily'].sum()"
   ]
  },
  {
   "cell_type": "code",
   "execution_count": 76,
   "id": "3d1feef2-e2a8-4f1e-8e8e-b95c09f598ee",
   "metadata": {},
   "outputs": [
    {
     "data": {
      "text/plain": [
       "587612.4453125"
      ]
     },
     "execution_count": 76,
     "metadata": {},
     "output_type": "execute_result"
    }
   ],
   "source": [
    "df['Daily'].mean()"
   ]
  },
  {
   "cell_type": "code",
   "execution_count": 83,
   "id": "34c9ead7-f0b3-4dc3-b6be-28fda9ef8253",
   "metadata": {},
   "outputs": [
    {
     "data": {
      "text/html": [
       "<div>\n",
       "<style scoped>\n",
       "    .dataframe tbody tr th:only-of-type {\n",
       "        vertical-align: middle;\n",
       "    }\n",
       "\n",
       "    .dataframe tbody tr th {\n",
       "        vertical-align: top;\n",
       "    }\n",
       "\n",
       "    .dataframe thead th {\n",
       "        text-align: right;\n",
       "    }\n",
       "</style>\n",
       "<table border=\"1\" class=\"dataframe\">\n",
       "  <thead>\n",
       "    <tr style=\"text-align: right;\">\n",
       "      <th></th>\n",
       "      <th>Daily</th>\n",
       "      <th>Forecast</th>\n",
       "    </tr>\n",
       "  </thead>\n",
       "  <tbody>\n",
       "    <tr>\n",
       "      <th>mean</th>\n",
       "      <td>5.876124e+05</td>\n",
       "      <td>9.366103e+05</td>\n",
       "    </tr>\n",
       "    <tr>\n",
       "      <th>sum</th>\n",
       "      <td>7.521439e+07</td>\n",
       "      <td>1.198861e+08</td>\n",
       "    </tr>\n",
       "    <tr>\n",
       "      <th>min</th>\n",
       "      <td>NaN</td>\n",
       "      <td>0.000000e+00</td>\n",
       "    </tr>\n",
       "    <tr>\n",
       "      <th>max</th>\n",
       "      <td>NaN</td>\n",
       "      <td>2.350365e+07</td>\n",
       "    </tr>\n",
       "  </tbody>\n",
       "</table>\n",
       "</div>"
      ],
      "text/plain": [
       "             Daily      Forecast\n",
       "mean  5.876124e+05  9.366103e+05\n",
       "sum   7.521439e+07  1.198861e+08\n",
       "min            NaN  0.000000e+00\n",
       "max            NaN  2.350365e+07"
      ]
     },
     "execution_count": 83,
     "metadata": {},
     "output_type": "execute_result"
    }
   ],
   "source": [
    "df.agg({'Daily': ['mean', 'sum'] , 'Forecast': ['mean', 'sum', 'min', 'max']})"
   ]
  },
  {
   "cell_type": "code",
   "execution_count": 84,
   "id": "e7bdf6de-db7e-41ce-bb46-ecbf791467a1",
   "metadata": {},
   "outputs": [
    {
     "data": {
      "text/html": [
       "<div>\n",
       "<style scoped>\n",
       "    .dataframe tbody tr th:only-of-type {\n",
       "        vertical-align: middle;\n",
       "    }\n",
       "\n",
       "    .dataframe tbody tr th {\n",
       "        vertical-align: top;\n",
       "    }\n",
       "\n",
       "    .dataframe thead th {\n",
       "        text-align: right;\n",
       "    }\n",
       "</style>\n",
       "<table border=\"1\" class=\"dataframe\">\n",
       "  <thead>\n",
       "    <tr style=\"text-align: right;\">\n",
       "      <th></th>\n",
       "      <th>DOW</th>\n",
       "      <th>Daily</th>\n",
       "      <th>Forecast</th>\n",
       "      <th>Percent Diff</th>\n",
       "    </tr>\n",
       "    <tr>\n",
       "      <th>Date</th>\n",
       "      <th></th>\n",
       "      <th></th>\n",
       "      <th></th>\n",
       "      <th></th>\n",
       "    </tr>\n",
       "  </thead>\n",
       "  <tbody>\n",
       "    <tr>\n",
       "      <th>2021-04-26</th>\n",
       "      <td>False</td>\n",
       "      <td>False</td>\n",
       "      <td>False</td>\n",
       "      <td>False</td>\n",
       "    </tr>\n",
       "    <tr>\n",
       "      <th>2021-04-27</th>\n",
       "      <td>False</td>\n",
       "      <td>False</td>\n",
       "      <td>False</td>\n",
       "      <td>False</td>\n",
       "    </tr>\n",
       "    <tr>\n",
       "      <th>2021-04-28</th>\n",
       "      <td>False</td>\n",
       "      <td>False</td>\n",
       "      <td>False</td>\n",
       "      <td>False</td>\n",
       "    </tr>\n",
       "    <tr>\n",
       "      <th>2021-04-29</th>\n",
       "      <td>False</td>\n",
       "      <td>False</td>\n",
       "      <td>False</td>\n",
       "      <td>False</td>\n",
       "    </tr>\n",
       "    <tr>\n",
       "      <th>2021-04-30</th>\n",
       "      <td>False</td>\n",
       "      <td>False</td>\n",
       "      <td>False</td>\n",
       "      <td>False</td>\n",
       "    </tr>\n",
       "    <tr>\n",
       "      <th>...</th>\n",
       "      <td>...</td>\n",
       "      <td>...</td>\n",
       "      <td>...</td>\n",
       "      <td>...</td>\n",
       "    </tr>\n",
       "    <tr>\n",
       "      <th>2021-08-27</th>\n",
       "      <td>False</td>\n",
       "      <td>False</td>\n",
       "      <td>False</td>\n",
       "      <td>False</td>\n",
       "    </tr>\n",
       "    <tr>\n",
       "      <th>2021-08-28</th>\n",
       "      <td>False</td>\n",
       "      <td>False</td>\n",
       "      <td>False</td>\n",
       "      <td>False</td>\n",
       "    </tr>\n",
       "    <tr>\n",
       "      <th>2021-08-29</th>\n",
       "      <td>False</td>\n",
       "      <td>False</td>\n",
       "      <td>False</td>\n",
       "      <td>False</td>\n",
       "    </tr>\n",
       "    <tr>\n",
       "      <th>2021-08-30</th>\n",
       "      <td>False</td>\n",
       "      <td>False</td>\n",
       "      <td>False</td>\n",
       "      <td>False</td>\n",
       "    </tr>\n",
       "    <tr>\n",
       "      <th>2021-08-31</th>\n",
       "      <td>False</td>\n",
       "      <td>False</td>\n",
       "      <td>False</td>\n",
       "      <td>False</td>\n",
       "    </tr>\n",
       "  </tbody>\n",
       "</table>\n",
       "<p>128 rows × 4 columns</p>\n",
       "</div>"
      ],
      "text/plain": [
       "              DOW  Daily  Forecast  Percent Diff\n",
       "Date                                            \n",
       "2021-04-26  False  False     False         False\n",
       "2021-04-27  False  False     False         False\n",
       "2021-04-28  False  False     False         False\n",
       "2021-04-29  False  False     False         False\n",
       "2021-04-30  False  False     False         False\n",
       "...           ...    ...       ...           ...\n",
       "2021-08-27  False  False     False         False\n",
       "2021-08-28  False  False     False         False\n",
       "2021-08-29  False  False     False         False\n",
       "2021-08-30  False  False     False         False\n",
       "2021-08-31  False  False     False         False\n",
       "\n",
       "[128 rows x 4 columns]"
      ]
     },
     "execution_count": 84,
     "metadata": {},
     "output_type": "execute_result"
    }
   ],
   "source": [
    "df.isna()"
   ]
  },
  {
   "cell_type": "code",
   "execution_count": 85,
   "id": "61b59bfa-af15-44f8-a881-7fc0565403a0",
   "metadata": {},
   "outputs": [
    {
     "data": {
      "text/plain": [
       "DOW             0\n",
       "Daily           0\n",
       "Forecast        0\n",
       "Percent Diff    0\n",
       "dtype: int64"
      ]
     },
     "execution_count": 85,
     "metadata": {},
     "output_type": "execute_result"
    }
   ],
   "source": [
    "df.isna().sum()"
   ]
  },
  {
   "cell_type": "code",
   "execution_count": 86,
   "id": "7c704c0a-e8fb-47c8-bd82-87d31b8ddc52",
   "metadata": {},
   "outputs": [
    {
     "data": {
      "text/plain": [
       "Index(['DOW', 'Daily', 'Forecast', 'Percent Diff'], dtype='object')"
      ]
     },
     "execution_count": 86,
     "metadata": {},
     "output_type": "execute_result"
    }
   ],
   "source": [
    "df.columns"
   ]
  },
  {
   "cell_type": "code",
   "execution_count": 87,
   "id": "3f51982d-8e27-418a-9e0d-2e812194fedc",
   "metadata": {},
   "outputs": [
    {
     "data": {
      "text/plain": [
       "DOW\n",
       "Friday       19\n",
       "Saturday     19\n",
       "Sunday       18\n",
       "Monday       18\n",
       "Tuesday      18\n",
       "Wednesday    18\n",
       "Thursday     18\n",
       "Name: count, dtype: int64"
      ]
     },
     "execution_count": 87,
     "metadata": {},
     "output_type": "execute_result"
    }
   ],
   "source": [
    "df['DOW'].value_counts()"
   ]
  },
  {
   "cell_type": "markdown",
   "id": "9b2b6b99-26fe-4a63-9832-534bd65cda59",
   "metadata": {},
   "source": [
    "## Reading data from GitHub"
   ]
  },
  {
   "cell_type": "code",
   "execution_count": 89,
   "id": "cf2b6f58-28cb-459f-a0e2-e058f1f30f43",
   "metadata": {},
   "outputs": [
    {
     "data": {
      "text/html": [
       "<div>\n",
       "<style scoped>\n",
       "    .dataframe tbody tr th:only-of-type {\n",
       "        vertical-align: middle;\n",
       "    }\n",
       "\n",
       "    .dataframe tbody tr th {\n",
       "        vertical-align: top;\n",
       "    }\n",
       "\n",
       "    .dataframe thead th {\n",
       "        text-align: right;\n",
       "    }\n",
       "</style>\n",
       "<table border=\"1\" class=\"dataframe\">\n",
       "  <thead>\n",
       "    <tr style=\"text-align: right;\">\n",
       "      <th></th>\n",
       "      <th>Time</th>\n",
       "      <th>CO(GT)</th>\n",
       "      <th>PT08.S1(CO)</th>\n",
       "      <th>NMHC(GT)</th>\n",
       "      <th>C6H6(GT)</th>\n",
       "      <th>PT08.S2(NMHC)</th>\n",
       "      <th>NOx(GT)</th>\n",
       "      <th>PT08.S3(NOx)</th>\n",
       "      <th>NO2(GT)</th>\n",
       "      <th>PT08.S4(NO2)</th>\n",
       "      <th>PT08.S5(O3)</th>\n",
       "      <th>T</th>\n",
       "      <th>RH</th>\n",
       "      <th>AH</th>\n",
       "    </tr>\n",
       "    <tr>\n",
       "      <th>Date</th>\n",
       "      <th></th>\n",
       "      <th></th>\n",
       "      <th></th>\n",
       "      <th></th>\n",
       "      <th></th>\n",
       "      <th></th>\n",
       "      <th></th>\n",
       "      <th></th>\n",
       "      <th></th>\n",
       "      <th></th>\n",
       "      <th></th>\n",
       "      <th></th>\n",
       "      <th></th>\n",
       "      <th></th>\n",
       "    </tr>\n",
       "  </thead>\n",
       "  <tbody>\n",
       "    <tr>\n",
       "      <th>10/03/2004</th>\n",
       "      <td>18:00:00</td>\n",
       "      <td>2.6</td>\n",
       "      <td>1360.00</td>\n",
       "      <td>150</td>\n",
       "      <td>11.881723</td>\n",
       "      <td>1045.50</td>\n",
       "      <td>166.0</td>\n",
       "      <td>1056.25</td>\n",
       "      <td>113.0</td>\n",
       "      <td>1692.00</td>\n",
       "      <td>1267.50</td>\n",
       "      <td>13.60</td>\n",
       "      <td>48.875001</td>\n",
       "      <td>0.757754</td>\n",
       "    </tr>\n",
       "    <tr>\n",
       "      <th>10/03/2004</th>\n",
       "      <td>19:00:00</td>\n",
       "      <td>2.0</td>\n",
       "      <td>1292.25</td>\n",
       "      <td>112</td>\n",
       "      <td>9.397165</td>\n",
       "      <td>954.75</td>\n",
       "      <td>103.0</td>\n",
       "      <td>1173.75</td>\n",
       "      <td>92.0</td>\n",
       "      <td>1558.75</td>\n",
       "      <td>972.25</td>\n",
       "      <td>13.30</td>\n",
       "      <td>47.700000</td>\n",
       "      <td>0.725487</td>\n",
       "    </tr>\n",
       "    <tr>\n",
       "      <th>10/03/2004</th>\n",
       "      <td>20:00:00</td>\n",
       "      <td>2.2</td>\n",
       "      <td>1402.00</td>\n",
       "      <td>88</td>\n",
       "      <td>8.997817</td>\n",
       "      <td>939.25</td>\n",
       "      <td>131.0</td>\n",
       "      <td>1140.00</td>\n",
       "      <td>114.0</td>\n",
       "      <td>1554.50</td>\n",
       "      <td>1074.00</td>\n",
       "      <td>11.90</td>\n",
       "      <td>53.975000</td>\n",
       "      <td>0.750239</td>\n",
       "    </tr>\n",
       "    <tr>\n",
       "      <th>10/03/2004</th>\n",
       "      <td>21:00:00</td>\n",
       "      <td>2.2</td>\n",
       "      <td>1375.50</td>\n",
       "      <td>80</td>\n",
       "      <td>9.228796</td>\n",
       "      <td>948.25</td>\n",
       "      <td>172.0</td>\n",
       "      <td>1092.00</td>\n",
       "      <td>122.0</td>\n",
       "      <td>1583.75</td>\n",
       "      <td>1203.25</td>\n",
       "      <td>11.00</td>\n",
       "      <td>60.000000</td>\n",
       "      <td>0.786713</td>\n",
       "    </tr>\n",
       "    <tr>\n",
       "      <th>10/03/2004</th>\n",
       "      <td>22:00:00</td>\n",
       "      <td>1.6</td>\n",
       "      <td>1272.25</td>\n",
       "      <td>51</td>\n",
       "      <td>6.518224</td>\n",
       "      <td>835.50</td>\n",
       "      <td>131.0</td>\n",
       "      <td>1205.00</td>\n",
       "      <td>116.0</td>\n",
       "      <td>1490.00</td>\n",
       "      <td>1110.00</td>\n",
       "      <td>11.15</td>\n",
       "      <td>59.575001</td>\n",
       "      <td>0.788794</td>\n",
       "    </tr>\n",
       "  </tbody>\n",
       "</table>\n",
       "</div>"
      ],
      "text/plain": [
       "                Time  CO(GT)  PT08.S1(CO)  NMHC(GT)   C6H6(GT)  PT08.S2(NMHC)  \\\n",
       "Date                                                                            \n",
       "10/03/2004  18:00:00     2.6      1360.00       150  11.881723        1045.50   \n",
       "10/03/2004  19:00:00     2.0      1292.25       112   9.397165         954.75   \n",
       "10/03/2004  20:00:00     2.2      1402.00        88   8.997817         939.25   \n",
       "10/03/2004  21:00:00     2.2      1375.50        80   9.228796         948.25   \n",
       "10/03/2004  22:00:00     1.6      1272.25        51   6.518224         835.50   \n",
       "\n",
       "            NOx(GT)  PT08.S3(NOx)  NO2(GT)  PT08.S4(NO2)  PT08.S5(O3)      T  \\\n",
       "Date                                                                           \n",
       "10/03/2004    166.0       1056.25    113.0       1692.00      1267.50  13.60   \n",
       "10/03/2004    103.0       1173.75     92.0       1558.75       972.25  13.30   \n",
       "10/03/2004    131.0       1140.00    114.0       1554.50      1074.00  11.90   \n",
       "10/03/2004    172.0       1092.00    122.0       1583.75      1203.25  11.00   \n",
       "10/03/2004    131.0       1205.00    116.0       1490.00      1110.00  11.15   \n",
       "\n",
       "                   RH        AH  \n",
       "Date                             \n",
       "10/03/2004  48.875001  0.757754  \n",
       "10/03/2004  47.700000  0.725487  \n",
       "10/03/2004  53.975000  0.750239  \n",
       "10/03/2004  60.000000  0.786713  \n",
       "10/03/2004  59.575001  0.788794  "
      ]
     },
     "execution_count": 89,
     "metadata": {},
     "output_type": "execute_result"
    }
   ],
   "source": [
    "url = 'https://raw.githubusercontent.com/PacktPublishing/Time-Series-Analysis-with-Python-Cookbook/main/datasets/Ch2/AirQualityUCI.csv'\n",
    "\n",
    "df = pd.read_csv(url,\n",
    "                 delimiter=';',\n",
    "                 parse_dates=['Date'],\n",
    "                 index_col='Date')\n",
    "\n",
    "df.head()"
   ]
  },
  {
   "cell_type": "markdown",
   "id": "6d961c94-7191-4b11-922b-2d7b1b135c56",
   "metadata": {},
   "source": [
    "## Reading data from a Public S3 bucket"
   ]
  },
  {
   "cell_type": "markdown",
   "id": "d2b714e3-c797-48e9-923c-95d9b5651bd1",
   "metadata": {},
   "source": [
    "**Path-style access**"
   ]
  },
  {
   "cell_type": "code",
   "execution_count": 90,
   "id": "66c134b6-bb91-420c-bbcd-21759acb5292",
   "metadata": {},
   "outputs": [
    {
     "data": {
      "text/html": [
       "<div>\n",
       "<style scoped>\n",
       "    .dataframe tbody tr th:only-of-type {\n",
       "        vertical-align: middle;\n",
       "    }\n",
       "\n",
       "    .dataframe tbody tr th {\n",
       "        vertical-align: top;\n",
       "    }\n",
       "\n",
       "    .dataframe thead th {\n",
       "        text-align: right;\n",
       "    }\n",
       "</style>\n",
       "<table border=\"1\" class=\"dataframe\">\n",
       "  <thead>\n",
       "    <tr style=\"text-align: right;\">\n",
       "      <th></th>\n",
       "      <th>Time</th>\n",
       "      <th>CO(GT)</th>\n",
       "      <th>PT08.S1(CO)</th>\n",
       "      <th>NMHC(GT)</th>\n",
       "      <th>C6H6(GT)</th>\n",
       "      <th>PT08.S2(NMHC)</th>\n",
       "      <th>NOx(GT)</th>\n",
       "      <th>PT08.S3(NOx)</th>\n",
       "      <th>NO2(GT)</th>\n",
       "      <th>PT08.S4(NO2)</th>\n",
       "      <th>PT08.S5(O3)</th>\n",
       "      <th>T</th>\n",
       "      <th>RH</th>\n",
       "      <th>AH</th>\n",
       "    </tr>\n",
       "    <tr>\n",
       "      <th>Date</th>\n",
       "      <th></th>\n",
       "      <th></th>\n",
       "      <th></th>\n",
       "      <th></th>\n",
       "      <th></th>\n",
       "      <th></th>\n",
       "      <th></th>\n",
       "      <th></th>\n",
       "      <th></th>\n",
       "      <th></th>\n",
       "      <th></th>\n",
       "      <th></th>\n",
       "      <th></th>\n",
       "      <th></th>\n",
       "    </tr>\n",
       "  </thead>\n",
       "  <tbody>\n",
       "    <tr>\n",
       "      <th>2004-03-10</th>\n",
       "      <td>18:00:00</td>\n",
       "      <td>2.6</td>\n",
       "      <td>1360.00</td>\n",
       "      <td>150</td>\n",
       "      <td>11.881723</td>\n",
       "      <td>1045.50</td>\n",
       "      <td>166.0</td>\n",
       "      <td>1056.25</td>\n",
       "      <td>113.0</td>\n",
       "      <td>1692.00</td>\n",
       "      <td>1267.50</td>\n",
       "      <td>13.60</td>\n",
       "      <td>48.875001</td>\n",
       "      <td>0.757754</td>\n",
       "    </tr>\n",
       "    <tr>\n",
       "      <th>2004-03-10</th>\n",
       "      <td>19:00:00</td>\n",
       "      <td>2.0</td>\n",
       "      <td>1292.25</td>\n",
       "      <td>112</td>\n",
       "      <td>9.397165</td>\n",
       "      <td>954.75</td>\n",
       "      <td>103.0</td>\n",
       "      <td>1173.75</td>\n",
       "      <td>92.0</td>\n",
       "      <td>1558.75</td>\n",
       "      <td>972.25</td>\n",
       "      <td>13.30</td>\n",
       "      <td>47.700000</td>\n",
       "      <td>0.725487</td>\n",
       "    </tr>\n",
       "    <tr>\n",
       "      <th>2004-03-10</th>\n",
       "      <td>20:00:00</td>\n",
       "      <td>2.2</td>\n",
       "      <td>1402.00</td>\n",
       "      <td>88</td>\n",
       "      <td>8.997817</td>\n",
       "      <td>939.25</td>\n",
       "      <td>131.0</td>\n",
       "      <td>1140.00</td>\n",
       "      <td>114.0</td>\n",
       "      <td>1554.50</td>\n",
       "      <td>1074.00</td>\n",
       "      <td>11.90</td>\n",
       "      <td>53.975000</td>\n",
       "      <td>0.750239</td>\n",
       "    </tr>\n",
       "    <tr>\n",
       "      <th>2004-03-10</th>\n",
       "      <td>21:00:00</td>\n",
       "      <td>2.2</td>\n",
       "      <td>1375.50</td>\n",
       "      <td>80</td>\n",
       "      <td>9.228796</td>\n",
       "      <td>948.25</td>\n",
       "      <td>172.0</td>\n",
       "      <td>1092.00</td>\n",
       "      <td>122.0</td>\n",
       "      <td>1583.75</td>\n",
       "      <td>1203.25</td>\n",
       "      <td>11.00</td>\n",
       "      <td>60.000000</td>\n",
       "      <td>0.786713</td>\n",
       "    </tr>\n",
       "    <tr>\n",
       "      <th>2004-03-10</th>\n",
       "      <td>22:00:00</td>\n",
       "      <td>1.6</td>\n",
       "      <td>1272.25</td>\n",
       "      <td>51</td>\n",
       "      <td>6.518224</td>\n",
       "      <td>835.50</td>\n",
       "      <td>131.0</td>\n",
       "      <td>1205.00</td>\n",
       "      <td>116.0</td>\n",
       "      <td>1490.00</td>\n",
       "      <td>1110.00</td>\n",
       "      <td>11.15</td>\n",
       "      <td>59.575001</td>\n",
       "      <td>0.788794</td>\n",
       "    </tr>\n",
       "  </tbody>\n",
       "</table>\n",
       "</div>"
      ],
      "text/plain": [
       "                Time  CO(GT)  PT08.S1(CO)  NMHC(GT)   C6H6(GT)  PT08.S2(NMHC)  \\\n",
       "Date                                                                            \n",
       "2004-03-10  18:00:00     2.6      1360.00       150  11.881723        1045.50   \n",
       "2004-03-10  19:00:00     2.0      1292.25       112   9.397165         954.75   \n",
       "2004-03-10  20:00:00     2.2      1402.00        88   8.997817         939.25   \n",
       "2004-03-10  21:00:00     2.2      1375.50        80   9.228796         948.25   \n",
       "2004-03-10  22:00:00     1.6      1272.25        51   6.518224         835.50   \n",
       "\n",
       "            NOx(GT)  PT08.S3(NOx)  NO2(GT)  PT08.S4(NO2)  PT08.S5(O3)      T  \\\n",
       "Date                                                                           \n",
       "2004-03-10    166.0       1056.25    113.0       1692.00      1267.50  13.60   \n",
       "2004-03-10    103.0       1173.75     92.0       1558.75       972.25  13.30   \n",
       "2004-03-10    131.0       1140.00    114.0       1554.50      1074.00  11.90   \n",
       "2004-03-10    172.0       1092.00    122.0       1583.75      1203.25  11.00   \n",
       "2004-03-10    131.0       1205.00    116.0       1490.00      1110.00  11.15   \n",
       "\n",
       "                   RH        AH  \n",
       "Date                             \n",
       "2004-03-10  48.875001  0.757754  \n",
       "2004-03-10  47.700000  0.725487  \n",
       "2004-03-10  53.975000  0.750239  \n",
       "2004-03-10  60.000000  0.786713  \n",
       "2004-03-10  59.575001  0.788794  "
      ]
     },
     "execution_count": 90,
     "metadata": {},
     "output_type": "execute_result"
    }
   ],
   "source": [
    "url = 'https://s3.us-east-1.amazonaws.com/tscookbook/AirQualityUCI.xlsx'\n",
    "\n",
    "df = pd.read_excel(url,\n",
    "                   index_col='Date',\n",
    "                   parse_dates=True)\n",
    "df.head()"
   ]
  },
  {
   "cell_type": "markdown",
   "id": "70d15fad-fd59-4e7c-8b7f-19a814772021",
   "metadata": {},
   "source": [
    "**Virtual-hosted–style access**"
   ]
  },
  {
   "cell_type": "code",
   "execution_count": 91,
   "id": "2ea5479d-c266-4919-8e69-6101a50a87e2",
   "metadata": {},
   "outputs": [
    {
     "data": {
      "text/html": [
       "<div>\n",
       "<style scoped>\n",
       "    .dataframe tbody tr th:only-of-type {\n",
       "        vertical-align: middle;\n",
       "    }\n",
       "\n",
       "    .dataframe tbody tr th {\n",
       "        vertical-align: top;\n",
       "    }\n",
       "\n",
       "    .dataframe thead th {\n",
       "        text-align: right;\n",
       "    }\n",
       "</style>\n",
       "<table border=\"1\" class=\"dataframe\">\n",
       "  <thead>\n",
       "    <tr style=\"text-align: right;\">\n",
       "      <th></th>\n",
       "      <th>Time</th>\n",
       "      <th>CO(GT)</th>\n",
       "      <th>PT08.S1(CO)</th>\n",
       "      <th>NMHC(GT)</th>\n",
       "      <th>C6H6(GT)</th>\n",
       "      <th>PT08.S2(NMHC)</th>\n",
       "      <th>NOx(GT)</th>\n",
       "      <th>PT08.S3(NOx)</th>\n",
       "      <th>NO2(GT)</th>\n",
       "      <th>PT08.S4(NO2)</th>\n",
       "      <th>PT08.S5(O3)</th>\n",
       "      <th>T</th>\n",
       "      <th>RH</th>\n",
       "      <th>AH</th>\n",
       "    </tr>\n",
       "    <tr>\n",
       "      <th>Date</th>\n",
       "      <th></th>\n",
       "      <th></th>\n",
       "      <th></th>\n",
       "      <th></th>\n",
       "      <th></th>\n",
       "      <th></th>\n",
       "      <th></th>\n",
       "      <th></th>\n",
       "      <th></th>\n",
       "      <th></th>\n",
       "      <th></th>\n",
       "      <th></th>\n",
       "      <th></th>\n",
       "      <th></th>\n",
       "    </tr>\n",
       "  </thead>\n",
       "  <tbody>\n",
       "    <tr>\n",
       "      <th>2004-03-10</th>\n",
       "      <td>18:00:00</td>\n",
       "      <td>2.6</td>\n",
       "      <td>1360.00</td>\n",
       "      <td>150</td>\n",
       "      <td>11.881723</td>\n",
       "      <td>1045.50</td>\n",
       "      <td>166.0</td>\n",
       "      <td>1056.25</td>\n",
       "      <td>113.0</td>\n",
       "      <td>1692.00</td>\n",
       "      <td>1267.50</td>\n",
       "      <td>13.60</td>\n",
       "      <td>48.875001</td>\n",
       "      <td>0.757754</td>\n",
       "    </tr>\n",
       "    <tr>\n",
       "      <th>2004-03-10</th>\n",
       "      <td>19:00:00</td>\n",
       "      <td>2.0</td>\n",
       "      <td>1292.25</td>\n",
       "      <td>112</td>\n",
       "      <td>9.397165</td>\n",
       "      <td>954.75</td>\n",
       "      <td>103.0</td>\n",
       "      <td>1173.75</td>\n",
       "      <td>92.0</td>\n",
       "      <td>1558.75</td>\n",
       "      <td>972.25</td>\n",
       "      <td>13.30</td>\n",
       "      <td>47.700000</td>\n",
       "      <td>0.725487</td>\n",
       "    </tr>\n",
       "    <tr>\n",
       "      <th>2004-03-10</th>\n",
       "      <td>20:00:00</td>\n",
       "      <td>2.2</td>\n",
       "      <td>1402.00</td>\n",
       "      <td>88</td>\n",
       "      <td>8.997817</td>\n",
       "      <td>939.25</td>\n",
       "      <td>131.0</td>\n",
       "      <td>1140.00</td>\n",
       "      <td>114.0</td>\n",
       "      <td>1554.50</td>\n",
       "      <td>1074.00</td>\n",
       "      <td>11.90</td>\n",
       "      <td>53.975000</td>\n",
       "      <td>0.750239</td>\n",
       "    </tr>\n",
       "    <tr>\n",
       "      <th>2004-03-10</th>\n",
       "      <td>21:00:00</td>\n",
       "      <td>2.2</td>\n",
       "      <td>1375.50</td>\n",
       "      <td>80</td>\n",
       "      <td>9.228796</td>\n",
       "      <td>948.25</td>\n",
       "      <td>172.0</td>\n",
       "      <td>1092.00</td>\n",
       "      <td>122.0</td>\n",
       "      <td>1583.75</td>\n",
       "      <td>1203.25</td>\n",
       "      <td>11.00</td>\n",
       "      <td>60.000000</td>\n",
       "      <td>0.786713</td>\n",
       "    </tr>\n",
       "    <tr>\n",
       "      <th>2004-03-10</th>\n",
       "      <td>22:00:00</td>\n",
       "      <td>1.6</td>\n",
       "      <td>1272.25</td>\n",
       "      <td>51</td>\n",
       "      <td>6.518224</td>\n",
       "      <td>835.50</td>\n",
       "      <td>131.0</td>\n",
       "      <td>1205.00</td>\n",
       "      <td>116.0</td>\n",
       "      <td>1490.00</td>\n",
       "      <td>1110.00</td>\n",
       "      <td>11.15</td>\n",
       "      <td>59.575001</td>\n",
       "      <td>0.788794</td>\n",
       "    </tr>\n",
       "  </tbody>\n",
       "</table>\n",
       "</div>"
      ],
      "text/plain": [
       "                Time  CO(GT)  PT08.S1(CO)  NMHC(GT)   C6H6(GT)  PT08.S2(NMHC)  \\\n",
       "Date                                                                            \n",
       "2004-03-10  18:00:00     2.6      1360.00       150  11.881723        1045.50   \n",
       "2004-03-10  19:00:00     2.0      1292.25       112   9.397165         954.75   \n",
       "2004-03-10  20:00:00     2.2      1402.00        88   8.997817         939.25   \n",
       "2004-03-10  21:00:00     2.2      1375.50        80   9.228796         948.25   \n",
       "2004-03-10  22:00:00     1.6      1272.25        51   6.518224         835.50   \n",
       "\n",
       "            NOx(GT)  PT08.S3(NOx)  NO2(GT)  PT08.S4(NO2)  PT08.S5(O3)      T  \\\n",
       "Date                                                                           \n",
       "2004-03-10    166.0       1056.25    113.0       1692.00      1267.50  13.60   \n",
       "2004-03-10    103.0       1173.75     92.0       1558.75       972.25  13.30   \n",
       "2004-03-10    131.0       1140.00    114.0       1554.50      1074.00  11.90   \n",
       "2004-03-10    172.0       1092.00    122.0       1583.75      1203.25  11.00   \n",
       "2004-03-10    131.0       1205.00    116.0       1490.00      1110.00  11.15   \n",
       "\n",
       "                   RH        AH  \n",
       "Date                             \n",
       "2004-03-10  48.875001  0.757754  \n",
       "2004-03-10  47.700000  0.725487  \n",
       "2004-03-10  53.975000  0.750239  \n",
       "2004-03-10  60.000000  0.786713  \n",
       "2004-03-10  59.575001  0.788794  "
      ]
     },
     "execution_count": 91,
     "metadata": {},
     "output_type": "execute_result"
    }
   ],
   "source": [
    "url = 'https://tscookbook.s3.amazonaws.com/AirQualityUCI.xlsx'\n",
    "\n",
    "df = pd.read_excel(url,\n",
    "                   index_col='Date',\n",
    "                   parse_dates=True)\n",
    "df.head()"
   ]
  },
  {
   "cell_type": "markdown",
   "id": "4bb92d0c-f4a6-48d4-a3f5-f27b2c81c296",
   "metadata": {},
   "source": [
    "**Accessing a bucket using S3://**"
   ]
  },
  {
   "cell_type": "code",
   "execution_count": 92,
   "id": "ac5c98ba-a5e0-4361-b369-2ee3e6f54e0a",
   "metadata": {},
   "outputs": [
    {
     "data": {
      "text/html": [
       "<div>\n",
       "<style scoped>\n",
       "    .dataframe tbody tr th:only-of-type {\n",
       "        vertical-align: middle;\n",
       "    }\n",
       "\n",
       "    .dataframe tbody tr th {\n",
       "        vertical-align: top;\n",
       "    }\n",
       "\n",
       "    .dataframe thead th {\n",
       "        text-align: right;\n",
       "    }\n",
       "</style>\n",
       "<table border=\"1\" class=\"dataframe\">\n",
       "  <thead>\n",
       "    <tr style=\"text-align: right;\">\n",
       "      <th></th>\n",
       "      <th>Time</th>\n",
       "      <th>CO(GT)</th>\n",
       "      <th>PT08.S1(CO)</th>\n",
       "      <th>NMHC(GT)</th>\n",
       "      <th>C6H6(GT)</th>\n",
       "      <th>PT08.S2(NMHC)</th>\n",
       "      <th>NOx(GT)</th>\n",
       "      <th>PT08.S3(NOx)</th>\n",
       "      <th>NO2(GT)</th>\n",
       "      <th>PT08.S4(NO2)</th>\n",
       "      <th>PT08.S5(O3)</th>\n",
       "      <th>T</th>\n",
       "      <th>RH</th>\n",
       "      <th>AH</th>\n",
       "    </tr>\n",
       "    <tr>\n",
       "      <th>Date</th>\n",
       "      <th></th>\n",
       "      <th></th>\n",
       "      <th></th>\n",
       "      <th></th>\n",
       "      <th></th>\n",
       "      <th></th>\n",
       "      <th></th>\n",
       "      <th></th>\n",
       "      <th></th>\n",
       "      <th></th>\n",
       "      <th></th>\n",
       "      <th></th>\n",
       "      <th></th>\n",
       "      <th></th>\n",
       "    </tr>\n",
       "  </thead>\n",
       "  <tbody>\n",
       "    <tr>\n",
       "      <th>2004-03-10</th>\n",
       "      <td>18:00:00</td>\n",
       "      <td>2.6</td>\n",
       "      <td>1360.00</td>\n",
       "      <td>150</td>\n",
       "      <td>11.881723</td>\n",
       "      <td>1045.50</td>\n",
       "      <td>166.0</td>\n",
       "      <td>1056.25</td>\n",
       "      <td>113.0</td>\n",
       "      <td>1692.00</td>\n",
       "      <td>1267.50</td>\n",
       "      <td>13.60</td>\n",
       "      <td>48.875001</td>\n",
       "      <td>0.757754</td>\n",
       "    </tr>\n",
       "    <tr>\n",
       "      <th>2004-03-10</th>\n",
       "      <td>19:00:00</td>\n",
       "      <td>2.0</td>\n",
       "      <td>1292.25</td>\n",
       "      <td>112</td>\n",
       "      <td>9.397165</td>\n",
       "      <td>954.75</td>\n",
       "      <td>103.0</td>\n",
       "      <td>1173.75</td>\n",
       "      <td>92.0</td>\n",
       "      <td>1558.75</td>\n",
       "      <td>972.25</td>\n",
       "      <td>13.30</td>\n",
       "      <td>47.700000</td>\n",
       "      <td>0.725487</td>\n",
       "    </tr>\n",
       "    <tr>\n",
       "      <th>2004-03-10</th>\n",
       "      <td>20:00:00</td>\n",
       "      <td>2.2</td>\n",
       "      <td>1402.00</td>\n",
       "      <td>88</td>\n",
       "      <td>8.997817</td>\n",
       "      <td>939.25</td>\n",
       "      <td>131.0</td>\n",
       "      <td>1140.00</td>\n",
       "      <td>114.0</td>\n",
       "      <td>1554.50</td>\n",
       "      <td>1074.00</td>\n",
       "      <td>11.90</td>\n",
       "      <td>53.975000</td>\n",
       "      <td>0.750239</td>\n",
       "    </tr>\n",
       "    <tr>\n",
       "      <th>2004-03-10</th>\n",
       "      <td>21:00:00</td>\n",
       "      <td>2.2</td>\n",
       "      <td>1375.50</td>\n",
       "      <td>80</td>\n",
       "      <td>9.228796</td>\n",
       "      <td>948.25</td>\n",
       "      <td>172.0</td>\n",
       "      <td>1092.00</td>\n",
       "      <td>122.0</td>\n",
       "      <td>1583.75</td>\n",
       "      <td>1203.25</td>\n",
       "      <td>11.00</td>\n",
       "      <td>60.000000</td>\n",
       "      <td>0.786713</td>\n",
       "    </tr>\n",
       "    <tr>\n",
       "      <th>2004-03-10</th>\n",
       "      <td>22:00:00</td>\n",
       "      <td>1.6</td>\n",
       "      <td>1272.25</td>\n",
       "      <td>51</td>\n",
       "      <td>6.518224</td>\n",
       "      <td>835.50</td>\n",
       "      <td>131.0</td>\n",
       "      <td>1205.00</td>\n",
       "      <td>116.0</td>\n",
       "      <td>1490.00</td>\n",
       "      <td>1110.00</td>\n",
       "      <td>11.15</td>\n",
       "      <td>59.575001</td>\n",
       "      <td>0.788794</td>\n",
       "    </tr>\n",
       "  </tbody>\n",
       "</table>\n",
       "</div>"
      ],
      "text/plain": [
       "                Time  CO(GT)  PT08.S1(CO)  NMHC(GT)   C6H6(GT)  PT08.S2(NMHC)  \\\n",
       "Date                                                                            \n",
       "2004-03-10  18:00:00     2.6      1360.00       150  11.881723        1045.50   \n",
       "2004-03-10  19:00:00     2.0      1292.25       112   9.397165         954.75   \n",
       "2004-03-10  20:00:00     2.2      1402.00        88   8.997817         939.25   \n",
       "2004-03-10  21:00:00     2.2      1375.50        80   9.228796         948.25   \n",
       "2004-03-10  22:00:00     1.6      1272.25        51   6.518224         835.50   \n",
       "\n",
       "            NOx(GT)  PT08.S3(NOx)  NO2(GT)  PT08.S4(NO2)  PT08.S5(O3)      T  \\\n",
       "Date                                                                           \n",
       "2004-03-10    166.0       1056.25    113.0       1692.00      1267.50  13.60   \n",
       "2004-03-10    103.0       1173.75     92.0       1558.75       972.25  13.30   \n",
       "2004-03-10    131.0       1140.00    114.0       1554.50      1074.00  11.90   \n",
       "2004-03-10    172.0       1092.00    122.0       1583.75      1203.25  11.00   \n",
       "2004-03-10    131.0       1205.00    116.0       1490.00      1110.00  11.15   \n",
       "\n",
       "                   RH        AH  \n",
       "Date                             \n",
       "2004-03-10  48.875001  0.757754  \n",
       "2004-03-10  47.700000  0.725487  \n",
       "2004-03-10  53.975000  0.750239  \n",
       "2004-03-10  60.000000  0.786713  \n",
       "2004-03-10  59.575001  0.788794  "
      ]
     },
     "execution_count": 92,
     "metadata": {},
     "output_type": "execute_result"
    }
   ],
   "source": [
    "s3uri = 's3://tscookbook/AirQualityUCI.xlsx'\n",
    "df = pd.read_excel(s3uri,\n",
    "                   index_col='Date',\n",
    "                   parse_dates=True)\n",
    "df.head()"
   ]
  },
  {
   "cell_type": "markdown",
   "id": "81d22504-cfb1-447e-a5d5-4ab4e96c4647",
   "metadata": {},
   "source": [
    "## Reading from HTML"
   ]
  },
  {
   "cell_type": "code",
   "execution_count": 93,
   "id": "581baf6c-983f-4964-890a-dcd08a4dc9b5",
   "metadata": {},
   "outputs": [
    {
     "name": "stdout",
     "output_type": "stream",
     "text": [
      "69\n"
     ]
    }
   ],
   "source": [
    "url = \"https://en.wikipedia.org/wiki/COVID-19_pandemic_by_country_and_territory\"\n",
    "results = pd.read_html(url)\n",
    "print(len(results))"
   ]
  },
  {
   "cell_type": "code",
   "execution_count": 94,
   "id": "0b52ae31-e31c-4992-9f4d-4c126f8a9c6e",
   "metadata": {},
   "outputs": [
    {
     "data": {
      "text/plain": [
       "Index(['Region[30]', 'Total cases', 'Total deaths', 'Cases per million',\n",
       "       'Deaths per million', 'Current weekly cases', 'Current weekly deaths',\n",
       "       'Population millions', 'Vaccinated %[31]'],\n",
       "      dtype='object')"
      ]
     },
     "execution_count": 94,
     "metadata": {},
     "output_type": "execute_result"
    }
   ],
   "source": [
    "df = results[15]\n",
    "df.columns"
   ]
  },
  {
   "cell_type": "code",
   "execution_count": 95,
   "id": "1c220bf3-79d8-4fdd-a2ff-0ed1a6b14cc4",
   "metadata": {},
   "outputs": [
    {
     "data": {
      "text/html": [
       "<div>\n",
       "<style scoped>\n",
       "    .dataframe tbody tr th:only-of-type {\n",
       "        vertical-align: middle;\n",
       "    }\n",
       "\n",
       "    .dataframe tbody tr th {\n",
       "        vertical-align: top;\n",
       "    }\n",
       "\n",
       "    .dataframe thead th {\n",
       "        text-align: right;\n",
       "    }\n",
       "</style>\n",
       "<table border=\"1\" class=\"dataframe\">\n",
       "  <thead>\n",
       "    <tr style=\"text-align: right;\">\n",
       "      <th></th>\n",
       "      <th>Region[30]</th>\n",
       "      <th>Total cases</th>\n",
       "      <th>Total deaths</th>\n",
       "      <th>Cases per million</th>\n",
       "    </tr>\n",
       "  </thead>\n",
       "  <tbody>\n",
       "    <tr>\n",
       "      <th>0</th>\n",
       "      <td>European Union</td>\n",
       "      <td>179537758</td>\n",
       "      <td>1185108</td>\n",
       "      <td>401363</td>\n",
       "    </tr>\n",
       "    <tr>\n",
       "      <th>1</th>\n",
       "      <td>North America</td>\n",
       "      <td>103783777</td>\n",
       "      <td>1133607</td>\n",
       "      <td>281404</td>\n",
       "    </tr>\n",
       "    <tr>\n",
       "      <th>2</th>\n",
       "      <td>Other Europe</td>\n",
       "      <td>57721948</td>\n",
       "      <td>498259</td>\n",
       "      <td>247054</td>\n",
       "    </tr>\n",
       "  </tbody>\n",
       "</table>\n",
       "</div>"
      ],
      "text/plain": [
       "       Region[30]  Total cases  Total deaths  Cases per million\n",
       "0  European Union    179537758       1185108             401363\n",
       "1   North America    103783777       1133607             281404\n",
       "2    Other Europe     57721948        498259             247054"
      ]
     },
     "execution_count": 95,
     "metadata": {},
     "output_type": "execute_result"
    }
   ],
   "source": [
    "df[['Region[30]','Total cases', 'Total deaths', 'Cases per million']].head(3)"
   ]
  },
  {
   "cell_type": "code",
   "execution_count": 97,
   "id": "c8f585d9-44ab-43aa-8b07-6f3a0b5f9210",
   "metadata": {},
   "outputs": [
    {
     "data": {
      "text/html": [
       "<div>\n",
       "<style scoped>\n",
       "    .dataframe tbody tr th:only-of-type {\n",
       "        vertical-align: middle;\n",
       "    }\n",
       "\n",
       "    .dataframe tbody tr th {\n",
       "        vertical-align: top;\n",
       "    }\n",
       "\n",
       "    .dataframe thead th {\n",
       "        text-align: right;\n",
       "    }\n",
       "</style>\n",
       "<table border=\"1\" class=\"dataframe\">\n",
       "  <thead>\n",
       "    <tr style=\"text-align: right;\">\n",
       "      <th></th>\n",
       "      <th>Ticker</th>\n",
       "      <th>Price</th>\n",
       "    </tr>\n",
       "  </thead>\n",
       "  <tbody>\n",
       "    <tr>\n",
       "      <th>0</th>\n",
       "      <td>MSFT</td>\n",
       "      <td>230</td>\n",
       "    </tr>\n",
       "    <tr>\n",
       "      <th>1</th>\n",
       "      <td>APPL</td>\n",
       "      <td>300</td>\n",
       "    </tr>\n",
       "    <tr>\n",
       "      <th>2</th>\n",
       "      <td>MSTR</td>\n",
       "      <td>120</td>\n",
       "    </tr>\n",
       "  </tbody>\n",
       "</table>\n",
       "</div>"
      ],
      "text/plain": [
       "  Ticker  Price\n",
       "0   MSFT    230\n",
       "1   APPL    300\n",
       "2   MSTR    120"
      ]
     },
     "execution_count": 97,
     "metadata": {},
     "output_type": "execute_result"
    }
   ],
   "source": [
    "from io import StringIO\n",
    "import pandas as pd\n",
    "\n",
    "html = \"\"\"\n",
    " <table>\n",
    "   <tr>\n",
    "     <th>Ticker</th>\n",
    "     <th>Price</th>\n",
    "   </tr>\n",
    "   <tr>\n",
    "     <td>MSFT</td>\n",
    "     <td>230</td>\n",
    "   </tr>\n",
    "   <tr>\n",
    "     <td>APPL</td>\n",
    "     <td>300</td>\n",
    "   </tr>\n",
    "     <tr>\n",
    "     <td>MSTR</td>\n",
    "     <td>120</td>\n",
    "   </tr>\n",
    " </table>\n",
    "\n",
    " </body>\n",
    " </html>\n",
    " \"\"\"\n",
    "\n",
    "df = pd.read_html(StringIO(html))\n",
    "df[0]\n"
   ]
  },
  {
   "cell_type": "code",
   "execution_count": 100,
   "id": "3b1222b6-fe8a-40c8-baee-f7a1cf0f8dcd",
   "metadata": {},
   "outputs": [],
   "source": [
    "file = ('LA_weather.parquet')\n",
    "df = pd.read_parquet(file,\n",
    "                    engine='pyarrow')"
   ]
  },
  {
   "cell_type": "code",
   "execution_count": 101,
   "id": "d031d7e6-2dc5-4772-beb6-f79161d1d8a8",
   "metadata": {},
   "outputs": [
    {
     "name": "stdout",
     "output_type": "stream",
     "text": [
      "<class 'pandas.core.frame.DataFrame'>\n",
      "RangeIndex: 4899 entries, 0 to 4898\n",
      "Data columns (total 17 columns):\n",
      " #   Column           Non-Null Count  Dtype         \n",
      "---  ------           --------------  -----         \n",
      " 0   STATION          4899 non-null   object        \n",
      " 1   NAME             4899 non-null   object        \n",
      " 2   DATE             4899 non-null   object        \n",
      " 3   PRCP             4899 non-null   float64       \n",
      " 4   PRCP_ATTRIBUTES  4899 non-null   object        \n",
      " 5   SNOW             121 non-null    float64       \n",
      " 6   SNOW_ATTRIBUTES  121 non-null    object        \n",
      " 7   SNWD             59 non-null     float64       \n",
      " 8   SNWD_ATTRIBUTES  59 non-null     object        \n",
      " 9   TAVG             3713 non-null   float64       \n",
      " 10  TAVG_ATTRIBUTES  3713 non-null   object        \n",
      " 11  TMAX             4899 non-null   int64         \n",
      " 12  TMAX_ATTRIBUTES  4899 non-null   object        \n",
      " 13  TMIN             4899 non-null   int64         \n",
      " 14  TMIN_ATTRIBUTES  4899 non-null   object        \n",
      " 15  DT               4899 non-null   datetime64[us]\n",
      " 16  year             4899 non-null   category      \n",
      "dtypes: category(1), datetime64[us](1), float64(4), int64(2), object(9)\n",
      "memory usage: 617.8+ KB\n"
     ]
    }
   ],
   "source": [
    "df.info()"
   ]
  },
  {
   "cell_type": "code",
   "execution_count": 102,
   "id": "c59fb958-6919-4cb3-91c7-8d5d27c3d0c9",
   "metadata": {},
   "outputs": [],
   "source": [
    "filters = [('year', '==', 2012)]\n",
    "df_2012 = pd.read_parquet(file, \n",
    "                          engine='pyarrow', \n",
    "                          filters=filters)"
   ]
  },
  {
   "cell_type": "code",
   "execution_count": 103,
   "id": "6bab3da0-7f0b-4fe6-a977-1b5907a3a81b",
   "metadata": {},
   "outputs": [
    {
     "name": "stdout",
     "output_type": "stream",
     "text": [
      "<class 'pandas.core.frame.DataFrame'>\n",
      "RangeIndex: 366 entries, 0 to 365\n",
      "Data columns (total 17 columns):\n",
      " #   Column           Non-Null Count  Dtype         \n",
      "---  ------           --------------  -----         \n",
      " 0   STATION          366 non-null    object        \n",
      " 1   NAME             366 non-null    object        \n",
      " 2   DATE             366 non-null    object        \n",
      " 3   PRCP             366 non-null    float64       \n",
      " 4   PRCP_ATTRIBUTES  366 non-null    object        \n",
      " 5   SNOW             0 non-null      float64       \n",
      " 6   SNOW_ATTRIBUTES  0 non-null      object        \n",
      " 7   SNWD             0 non-null      float64       \n",
      " 8   SNWD_ATTRIBUTES  0 non-null      object        \n",
      " 9   TAVG             0 non-null      float64       \n",
      " 10  TAVG_ATTRIBUTES  0 non-null      object        \n",
      " 11  TMAX             366 non-null    int64         \n",
      " 12  TMAX_ATTRIBUTES  366 non-null    object        \n",
      " 13  TMIN             366 non-null    int64         \n",
      " 14  TMIN_ATTRIBUTES  366 non-null    object        \n",
      " 15  DT               366 non-null    datetime64[us]\n",
      " 16  year             366 non-null    category      \n",
      "dtypes: category(1), datetime64[us](1), float64(4), int64(2), object(9)\n",
      "memory usage: 46.7+ KB\n"
     ]
    }
   ],
   "source": [
    "df_2012.info()"
   ]
  },
  {
   "cell_type": "code",
   "execution_count": 104,
   "id": "9be166bc-2e9f-4aad-acb6-cd6a5f10d8c8",
   "metadata": {},
   "outputs": [
    {
     "name": "stdout",
     "output_type": "stream",
     "text": [
      "<class 'pandas.core.frame.DataFrame'>\n",
      "RangeIndex: 881 entries, 0 to 880\n",
      "Data columns (total 17 columns):\n",
      " #   Column           Non-Null Count  Dtype         \n",
      "---  ------           --------------  -----         \n",
      " 0   STATION          881 non-null    object        \n",
      " 1   NAME             881 non-null    object        \n",
      " 2   DATE             881 non-null    object        \n",
      " 3   PRCP             881 non-null    float64       \n",
      " 4   PRCP_ATTRIBUTES  881 non-null    object        \n",
      " 5   SNOW             0 non-null      float64       \n",
      " 6   SNOW_ATTRIBUTES  0 non-null      object        \n",
      " 7   SNWD             0 non-null      float64       \n",
      " 8   SNWD_ATTRIBUTES  0 non-null      object        \n",
      " 9   TAVG             881 non-null    float64       \n",
      " 10  TAVG_ATTRIBUTES  881 non-null    object        \n",
      " 11  TMAX             881 non-null    int64         \n",
      " 12  TMAX_ATTRIBUTES  881 non-null    object        \n",
      " 13  TMIN             881 non-null    int64         \n",
      " 14  TMIN_ATTRIBUTES  881 non-null    object        \n",
      " 15  DT               881 non-null    datetime64[us]\n",
      " 16  year             881 non-null    category      \n",
      "dtypes: category(1), datetime64[us](1), float64(4), int64(2), object(9)\n",
      "memory usage: 111.6+ KB\n"
     ]
    }
   ],
   "source": [
    "filters = [('year', '>', 2020)]\n",
    "\n",
    "df = pd.read_parquet(file, \n",
    "                     engine='pyarrow', \n",
    "                     filters=filters)\n",
    "df.info()"
   ]
  },
  {
   "cell_type": "code",
   "execution_count": 105,
   "id": "4363971c-31c2-4697-a27c-b315f6b1ce01",
   "metadata": {},
   "outputs": [
    {
     "name": "stdout",
     "output_type": "stream",
     "text": [
      "<class 'pandas.core.frame.DataFrame'>\n",
      "RangeIndex: 881 entries, 0 to 880\n",
      "Data columns (total 17 columns):\n",
      " #   Column           Non-Null Count  Dtype         \n",
      "---  ------           --------------  -----         \n",
      " 0   STATION          881 non-null    object        \n",
      " 1   NAME             881 non-null    object        \n",
      " 2   DATE             881 non-null    object        \n",
      " 3   PRCP             881 non-null    float64       \n",
      " 4   PRCP_ATTRIBUTES  881 non-null    object        \n",
      " 5   SNOW             0 non-null      float64       \n",
      " 6   SNOW_ATTRIBUTES  0 non-null      object        \n",
      " 7   SNWD             0 non-null      float64       \n",
      " 8   SNWD_ATTRIBUTES  0 non-null      object        \n",
      " 9   TAVG             881 non-null    float64       \n",
      " 10  TAVG_ATTRIBUTES  881 non-null    object        \n",
      " 11  TMAX             881 non-null    int64         \n",
      " 12  TMAX_ATTRIBUTES  881 non-null    object        \n",
      " 13  TMIN             881 non-null    int64         \n",
      " 14  TMIN_ATTRIBUTES  881 non-null    object        \n",
      " 15  DT               881 non-null    datetime64[us]\n",
      " 16  year             881 non-null    category      \n",
      "dtypes: category(1), datetime64[us](1), float64(4), int64(2), object(9)\n",
      "memory usage: 111.6+ KB\n"
     ]
    }
   ],
   "source": [
    "filters = [('year', '>=', 2021)]\n",
    "pd.read_parquet(file, \n",
    "                engine='pyarrow', \n",
    "                filters= filters).info()"
   ]
  },
  {
   "cell_type": "code",
   "execution_count": 106,
   "id": "37dae7c4-36ce-4ff4-a25a-97923e09ae4a",
   "metadata": {},
   "outputs": [
    {
     "name": "stdout",
     "output_type": "stream",
     "text": [
      "<class 'pandas.core.frame.DataFrame'>\n",
      "RangeIndex: 881 entries, 0 to 880\n",
      "Data columns (total 17 columns):\n",
      " #   Column           Non-Null Count  Dtype         \n",
      "---  ------           --------------  -----         \n",
      " 0   STATION          881 non-null    object        \n",
      " 1   NAME             881 non-null    object        \n",
      " 2   DATE             881 non-null    object        \n",
      " 3   PRCP             881 non-null    float64       \n",
      " 4   PRCP_ATTRIBUTES  881 non-null    object        \n",
      " 5   SNOW             0 non-null      float64       \n",
      " 6   SNOW_ATTRIBUTES  0 non-null      object        \n",
      " 7   SNWD             0 non-null      float64       \n",
      " 8   SNWD_ATTRIBUTES  0 non-null      object        \n",
      " 9   TAVG             881 non-null    float64       \n",
      " 10  TAVG_ATTRIBUTES  881 non-null    object        \n",
      " 11  TMAX             881 non-null    int64         \n",
      " 12  TMAX_ATTRIBUTES  881 non-null    object        \n",
      " 13  TMIN             881 non-null    int64         \n",
      " 14  TMIN_ATTRIBUTES  881 non-null    object        \n",
      " 15  DT               881 non-null    datetime64[us]\n",
      " 16  year             881 non-null    category      \n",
      "dtypes: category(1), datetime64[us](1), float64(4), int64(2), object(9)\n",
      "memory usage: 111.6+ KB\n"
     ]
    }
   ],
   "source": [
    "filters = [('year', 'in', [2021, 2022, 2023])]\n",
    "df = pd.read_parquet(file, \n",
    "                     engine='pyarrow', \n",
    "                     filters=filters)\n",
    "df.info()"
   ]
  },
  {
   "cell_type": "code",
   "execution_count": 107,
   "id": "c8271fb3-98e7-46dd-a8f1-6d87b1dc08f6",
   "metadata": {},
   "outputs": [
    {
     "data": {
      "text/html": [
       "<div>\n",
       "<style scoped>\n",
       "    .dataframe tbody tr th:only-of-type {\n",
       "        vertical-align: middle;\n",
       "    }\n",
       "\n",
       "    .dataframe tbody tr th {\n",
       "        vertical-align: top;\n",
       "    }\n",
       "\n",
       "    .dataframe thead th {\n",
       "        text-align: right;\n",
       "    }\n",
       "</style>\n",
       "<table border=\"1\" class=\"dataframe\">\n",
       "  <thead>\n",
       "    <tr style=\"text-align: right;\">\n",
       "      <th></th>\n",
       "      <th>DATE</th>\n",
       "      <th>year</th>\n",
       "      <th>TMAX</th>\n",
       "    </tr>\n",
       "  </thead>\n",
       "  <tbody>\n",
       "    <tr>\n",
       "      <th>0</th>\n",
       "      <td>2021-01-01</td>\n",
       "      <td>2021</td>\n",
       "      <td>67</td>\n",
       "    </tr>\n",
       "    <tr>\n",
       "      <th>1</th>\n",
       "      <td>2021-01-02</td>\n",
       "      <td>2021</td>\n",
       "      <td>63</td>\n",
       "    </tr>\n",
       "    <tr>\n",
       "      <th>2</th>\n",
       "      <td>2021-01-03</td>\n",
       "      <td>2021</td>\n",
       "      <td>62</td>\n",
       "    </tr>\n",
       "    <tr>\n",
       "      <th>3</th>\n",
       "      <td>2021-01-04</td>\n",
       "      <td>2021</td>\n",
       "      <td>59</td>\n",
       "    </tr>\n",
       "    <tr>\n",
       "      <th>4</th>\n",
       "      <td>2021-01-05</td>\n",
       "      <td>2021</td>\n",
       "      <td>57</td>\n",
       "    </tr>\n",
       "  </tbody>\n",
       "</table>\n",
       "</div>"
      ],
      "text/plain": [
       "         DATE  year  TMAX\n",
       "0  2021-01-01  2021    67\n",
       "1  2021-01-02  2021    63\n",
       "2  2021-01-03  2021    62\n",
       "3  2021-01-04  2021    59\n",
       "4  2021-01-05  2021    57"
      ]
     },
     "execution_count": 107,
     "metadata": {},
     "output_type": "execute_result"
    }
   ],
   "source": [
    "columns = ['DATE', 'year', 'TMAX']\n",
    "df = pd.read_parquet(file, \n",
    "                     engine='pyarrow', \n",
    "                     filters=filters, \n",
    "                     columns=columns)\n",
    "\n",
    "df.head()"
   ]
  },
  {
   "cell_type": "markdown",
   "id": "a5128b74-8450-4c76-9725-d0d426a04333",
   "metadata": {},
   "source": [
    "## SQLite"
   ]
  },
  {
   "cell_type": "code",
   "execution_count": 1,
   "id": "5b22fede-7f53-40e9-a5d5-34e7b95f0c3d",
   "metadata": {},
   "outputs": [],
   "source": [
    "import sqlite3\n",
    "\n",
    "query = \"\"\"\n",
    "CREATE TABLE test\n",
    "(a VARCHAR(20), b VARCHAR(20),\n",
    " c REAL,        d INTEGER\n",
    ");\"\"\"\n",
    "\n",
    "con = sqlite3.connect(\"mydata.sqlite\")\n",
    "con.execute(query)\n",
    "con.commit()"
   ]
  },
  {
   "cell_type": "code",
   "execution_count": 2,
   "id": "ef0ced3f-861f-4ccd-8644-9b1a4b64fc1a",
   "metadata": {},
   "outputs": [],
   "source": [
    "data = [(\"Atlanta\", \"Georgia\", 1.25, 6),\n",
    "        (\"Tallahassee\", \"Florida\", 2.6, 3),\n",
    "        (\"Sacramento\", \"California\", 1.7, 5)]\n",
    "stmt = \"INSERT INTO test VALUES(?, ?, ?, ?)\"\n",
    "\n",
    "con.executemany(stmt, data)\n",
    "con.commit()"
   ]
  },
  {
   "cell_type": "code",
   "execution_count": 3,
   "id": "aba54cb7-e927-43e1-9a26-d82d412d1522",
   "metadata": {},
   "outputs": [
    {
     "data": {
      "text/plain": [
       "[('Atlanta', 'Georgia', 1.25, 6),\n",
       " ('Tallahassee', 'Florida', 2.6, 3),\n",
       " ('Sacramento', 'California', 1.7, 5)]"
      ]
     },
     "execution_count": 3,
     "metadata": {},
     "output_type": "execute_result"
    }
   ],
   "source": [
    "cursor = con.execute(\"SELECT * FROM test\")\n",
    "rows = cursor.fetchall()\n",
    "rows"
   ]
  },
  {
   "cell_type": "code",
   "execution_count": 5,
   "id": "212d77d2-8ea4-4d07-a52f-4b61e9d2b558",
   "metadata": {},
   "outputs": [],
   "source": [
    "import pandas as pd"
   ]
  },
  {
   "cell_type": "code",
   "execution_count": 7,
   "id": "72755c0b-fbb9-4a62-8383-7a089973f354",
   "metadata": {},
   "outputs": [
    {
     "data": {
      "text/html": [
       "<div>\n",
       "<style scoped>\n",
       "    .dataframe tbody tr th:only-of-type {\n",
       "        vertical-align: middle;\n",
       "    }\n",
       "\n",
       "    .dataframe tbody tr th {\n",
       "        vertical-align: top;\n",
       "    }\n",
       "\n",
       "    .dataframe thead th {\n",
       "        text-align: right;\n",
       "    }\n",
       "</style>\n",
       "<table border=\"1\" class=\"dataframe\">\n",
       "  <thead>\n",
       "    <tr style=\"text-align: right;\">\n",
       "      <th></th>\n",
       "      <th>a</th>\n",
       "      <th>b</th>\n",
       "      <th>c</th>\n",
       "      <th>d</th>\n",
       "    </tr>\n",
       "  </thead>\n",
       "  <tbody>\n",
       "    <tr>\n",
       "      <th>0</th>\n",
       "      <td>Atlanta</td>\n",
       "      <td>Georgia</td>\n",
       "      <td>1.25</td>\n",
       "      <td>6</td>\n",
       "    </tr>\n",
       "    <tr>\n",
       "      <th>1</th>\n",
       "      <td>Tallahassee</td>\n",
       "      <td>Florida</td>\n",
       "      <td>2.60</td>\n",
       "      <td>3</td>\n",
       "    </tr>\n",
       "    <tr>\n",
       "      <th>2</th>\n",
       "      <td>Sacramento</td>\n",
       "      <td>California</td>\n",
       "      <td>1.70</td>\n",
       "      <td>5</td>\n",
       "    </tr>\n",
       "  </tbody>\n",
       "</table>\n",
       "</div>"
      ],
      "text/plain": [
       "             a           b     c  d\n",
       "0      Atlanta     Georgia  1.25  6\n",
       "1  Tallahassee     Florida  2.60  3\n",
       "2   Sacramento  California  1.70  5"
      ]
     },
     "execution_count": 7,
     "metadata": {},
     "output_type": "execute_result"
    }
   ],
   "source": [
    "pd.read_sql_query(\"SELECT * FROM test\", con)"
   ]
  },
  {
   "cell_type": "markdown",
   "id": "03bd4b2c-0c2f-4567-9439-b2390c3521ef",
   "metadata": {},
   "source": [
    "## Creating a DataFrame\n"
   ]
  },
  {
   "cell_type": "code",
   "execution_count": 10,
   "id": "080750ec-6798-477b-b801-e40461caf8fd",
   "metadata": {},
   "outputs": [
    {
     "data": {
      "text/html": [
       "<div>\n",
       "<style scoped>\n",
       "    .dataframe tbody tr th:only-of-type {\n",
       "        vertical-align: middle;\n",
       "    }\n",
       "\n",
       "    .dataframe tbody tr th {\n",
       "        vertical-align: top;\n",
       "    }\n",
       "\n",
       "    .dataframe thead th {\n",
       "        text-align: right;\n",
       "    }\n",
       "</style>\n",
       "<table border=\"1\" class=\"dataframe\">\n",
       "  <thead>\n",
       "    <tr style=\"text-align: right;\">\n",
       "      <th></th>\n",
       "      <th>Name</th>\n",
       "      <th>Age</th>\n",
       "      <th>City</th>\n",
       "    </tr>\n",
       "  </thead>\n",
       "  <tbody>\n",
       "    <tr>\n",
       "      <th>0</th>\n",
       "      <td>Alice</td>\n",
       "      <td>25</td>\n",
       "      <td>New York</td>\n",
       "    </tr>\n",
       "    <tr>\n",
       "      <th>1</th>\n",
       "      <td>Bob</td>\n",
       "      <td>30</td>\n",
       "      <td>San Francisco</td>\n",
       "    </tr>\n",
       "    <tr>\n",
       "      <th>2</th>\n",
       "      <td>Charlie</td>\n",
       "      <td>35</td>\n",
       "      <td>Los Angeles</td>\n",
       "    </tr>\n",
       "  </tbody>\n",
       "</table>\n",
       "</div>"
      ],
      "text/plain": [
       "      Name  Age           City\n",
       "0    Alice   25       New York\n",
       "1      Bob   30  San Francisco\n",
       "2  Charlie   35    Los Angeles"
      ]
     },
     "execution_count": 10,
     "metadata": {},
     "output_type": "execute_result"
    }
   ],
   "source": [
    "# Creating a DataFrame from a dictionary\n",
    "data = {\n",
    "    'Name': ['Alice', 'Bob', 'Charlie'],\n",
    "    'Age': [25, 30, 35],\n",
    "    'City': ['New York', 'San Francisco', 'Los Angeles']\n",
    "}\n",
    "df = pd.DataFrame(data)\n",
    "df\n"
   ]
  },
  {
   "cell_type": "code",
   "execution_count": 12,
   "id": "9ad204e9-bc3d-4a0d-a6e1-45444c5049b3",
   "metadata": {},
   "outputs": [
    {
     "data": {
      "text/plain": [
       "0      Alice\n",
       "1        Bob\n",
       "2    Charlie\n",
       "Name: Name, dtype: object"
      ]
     },
     "execution_count": 12,
     "metadata": {},
     "output_type": "execute_result"
    }
   ],
   "source": [
    "# Accessing columns\n",
    "df['Name']\n"
   ]
  },
  {
   "cell_type": "code",
   "execution_count": 14,
   "id": "13e1962b-1ae0-4904-a847-d9edb21893d4",
   "metadata": {},
   "outputs": [
    {
     "data": {
      "text/plain": [
       "Name       Alice\n",
       "Age           25\n",
       "City    New York\n",
       "Name: 0, dtype: object"
      ]
     },
     "execution_count": 14,
     "metadata": {},
     "output_type": "execute_result"
    }
   ],
   "source": [
    "# Accessing rows by index\n",
    "df.loc[0]\n",
    "df.iloc[0]\n"
   ]
  },
  {
   "cell_type": "code",
   "execution_count": null,
   "id": "2f521aa6-8d84-4988-a9ae-8accb99915b5",
   "metadata": {},
   "outputs": [],
   "source": []
  }
 ],
 "metadata": {
  "kernelspec": {
   "display_name": "Python [conda env:base] *",
   "language": "python",
   "name": "conda-base-py"
  },
  "language_info": {
   "codemirror_mode": {
    "name": "ipython",
    "version": 3
   },
   "file_extension": ".py",
   "mimetype": "text/x-python",
   "name": "python",
   "nbconvert_exporter": "python",
   "pygments_lexer": "ipython3",
   "version": "3.9.16"
  }
 },
 "nbformat": 4,
 "nbformat_minor": 5
}
