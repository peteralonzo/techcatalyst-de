{
 "cells": [
  {
   "cell_type": "markdown",
   "id": "06d22a0f-678a-4aaf-88f8-39afce3114b8",
   "metadata": {},
   "source": [
    "# Graduating Functions\n",
    "\n",
    "In this activity, you will create a function that searches a list of students and graduates by state to determine state graduation rates for public, private nonprofit, and private for-profit institutions.\n",
    "\n",
    "## Instructions\n",
    "\n",
    "* Analyze the code and CSV provided, looking specifically for what needs to still be added to the application.\n",
    "\n",
    "* Using the starter code provided, create a function called `print_percentages` which takes in a parameter called `state_data` and does the following:\n",
    "\n",
    "  * Uses the data stored within `state_data` to calculate the estimated graduation rates in each category of Title IV 4-year institutions (public, non-profit private, and for-profit private).\n",
    "\n",
    "  * Prints out the graduation rates for each school type for the state to the terminal.\n",
    "\n",
    "Note: Some states do not have non-profit or for-profit private schools, so data must be checked for zeros\n",
    "\n",
    "## Bonus\n",
    "\n",
    "* Still within the `print_percentages()` function, calculate the overall graduation rate, and create a conditional that checks a state's overall graduation rate and prints either \"Graduation success\" to the screen if the number was greater than fifty or \"State needs improvement\" if the number was less than 50.\n",
    "\n",
    "## References\n",
    "\n",
    "Data Source: U.S. Department of Education, National Center for Education Statistics, IPEDS, Winter 2012-13, Graduation Rates component (final data). [https://nces.ed.gov/datalab/table/library/detail/12572](https://nces.ed.gov/datalab/table/library/detail/12572)\n"
   ]
  },
  {
   "cell_type": "code",
   "execution_count": 15,
   "id": "d66b5a93-0c48-4654-88d9-85e34e3ad719",
   "metadata": {},
   "outputs": [
    {
     "name": "stdin",
     "output_type": "stream",
     "text": [
      "What state do you want to look for?  Arizona\n"
     ]
    },
    {
     "name": "stdout",
     "output_type": "stream",
     "text": [
      "\n",
      "Stats for Arizona\n",
      "Public School Graduation Rate: 56.44519826880337\n",
      "Private Non-Profit School Graduation Rate: 52.96296296296297\n",
      "Private For-Profit School Graduation Rate: 23.095253639746687\n",
      "Overall Graduation Rate: 30.52619572656072\n",
      "State needs improvement\n"
     ]
    }
   ],
   "source": [
    "import os\n",
    "import csv\n",
    "\n",
    "# Path to collect data from the Resources folder\n",
    "graduation_csv = 'graduation_data.csv'\n",
    "\n",
    "# Define the function and have it accept the 'state_data' as its sole parameter\n",
    "def print_percentages(state_data):\n",
    "    total_students = int(state_data[1]) + int(state_data[3]) + int(state_data[5]) # Find the total students\n",
    "    total_graduates = int(state_data[2]) + int(state_data[4]) + int(state_data[6]) # Find the total graduates\n",
    "\n",
    "    public_grad = (float(state_data[2]) / float(state_data[1])) * 100 # Find the public school graduation rate\n",
    "    if float(state_data[4]) == 0.0 or float(state_data[3]) == 0.0:\n",
    "        non_profit_grad = 0.0\n",
    "    else:\n",
    "        non_profit_grad = (float(state_data[4]) / float(state_data[3])) * 100 # Find the non-profit school graduation rate\n",
    "    if float(state_data[6]) == 0.0 or float(state_data[5]) == 0.0:\n",
    "        for_profit_grad = 0.0\n",
    "    else:\n",
    "        for_profit_grad = (float(state_data[6]) / float(state_data[5])) * 100 # Find the for-profit school graduation rate\n",
    "    overall_grad = (float(total_graduates) / float(total_students)) * 100 # Calculate the overall graduation rate\n",
    "\n",
    "    print(f'\\nStats for {state_data[0]}')\n",
    "    print(f'Public School Graduation Rate: {public_grad}')\n",
    "    print(f'Private Non-Profit School Graduation Rate: {non_profit_grad}')\n",
    "    print(f'Private For-Profit School Graduation Rate: {for_profit_grad}')\n",
    "    print(f'Overall Graduation Rate: {overall_grad}')\n",
    "    if overall_grad > 50:\n",
    "        print('Graduation Success')\n",
    "    if overall_grad < 50:\n",
    "        print('State needs improvement')\n",
    "\n",
    "# Read in the CSV file\n",
    "with open(graduation_csv, 'r') as csvfile:\n",
    "    csvreader = csv.reader(csvfile, delimiter=',') # Split the data on commas\n",
    "    header = next(csvreader)\n",
    "\n",
    "    # Prompt the user for what state they would like to search for\n",
    "    state_to_check = input(\"What state do you want to look for? \")\n",
    "\n",
    "    # Loop through the data\n",
    "    for row in csvreader:\n",
    "\n",
    "        # If the state's name in a row is equal to that which the user input, run the 'print_percentages()' function\n",
    "        if state_to_check == row[0]:\n",
    "            print_percentages(row)\n"
   ]
  },
  {
   "cell_type": "markdown",
   "id": "9e869ce4-b2e9-44f2-9cd2-0a4aac900469",
   "metadata": {},
   "source": [
    "## Example Output\n",
    "\n",
    "```\n",
    "What state do you want to look for?  Arizona\n",
    "\n",
    "Stats for Arizona\n",
    "Public School Graduation Rate: 56.44519826880337\n",
    "Private Non-Profit School Graduation Rate: 52.96296296296297\n",
    "Private For-Profit School Graduation Rate: 23.095253639746687\n",
    "Overall Graduation Rate: 30.52619572656072\n",
    "State needs improvement\n",
    "```"
   ]
  },
  {
   "cell_type": "code",
   "execution_count": 19,
   "id": "6c71a0d4-96dc-47b2-ad2a-884edfccfbaa",
   "metadata": {},
   "outputs": [
    {
     "name": "stdout",
     "output_type": "stream",
     "text": [
      "division by zero\n",
      "Hi!\n"
     ]
    }
   ],
   "source": [
    "try:\n",
    "    21 / 0\n",
    "except ZeroDivisionError as e:\n",
    "    print(e)\n",
    "print('Hi!')"
   ]
  },
  {
   "cell_type": "code",
   "execution_count": null,
   "id": "8f9a43e0-5b60-468d-93e3-b1d36e99ad4b",
   "metadata": {},
   "outputs": [],
   "source": []
  }
 ],
 "metadata": {
  "kernelspec": {
   "display_name": "Python [conda env:dev1]",
   "language": "python",
   "name": "conda-env-dev1-py"
  },
  "language_info": {
   "codemirror_mode": {
    "name": "ipython",
    "version": 3
   },
   "file_extension": ".py",
   "mimetype": "text/x-python",
   "name": "python",
   "nbconvert_exporter": "python",
   "pygments_lexer": "ipython3",
   "version": "3.11.9"
  }
 },
 "nbformat": 4,
 "nbformat_minor": 5
}
