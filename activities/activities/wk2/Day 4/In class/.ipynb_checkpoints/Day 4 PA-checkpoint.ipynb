{
 "cells": [
  {
   "cell_type": "code",
   "execution_count": 1,
   "id": "c583edda-7368-411c-a19a-6b8deec91ebd",
   "metadata": {},
   "outputs": [],
   "source": [
    "import boto3"
   ]
  },
  {
   "cell_type": "code",
   "execution_count": 7,
   "id": "d305b58d-e17b-4372-a57b-507b008ed919",
   "metadata": {},
   "outputs": [],
   "source": [
    "import configparser"
   ]
  },
  {
   "cell_type": "code",
   "execution_count": 8,
   "id": "65e123e7-fd74-402b-9933-079eddb01de1",
   "metadata": {},
   "outputs": [],
   "source": [
    "config = configparser.ConfigParser()"
   ]
  },
  {
   "cell_type": "code",
   "execution_count": 9,
   "id": "714f0509-b0f9-49bf-bff9-b0142ff4c08b",
   "metadata": {
    "scrolled": true
   },
   "outputs": [
    {
     "data": {
      "text/plain": [
       "['aws.cfg']"
      ]
     },
     "execution_count": 9,
     "metadata": {},
     "output_type": "execute_result"
    }
   ],
   "source": [
    "config.read('aws.cfg')"
   ]
  },
  {
   "cell_type": "code",
   "execution_count": 10,
   "id": "31ef9c7b-750f-4b7e-ad8b-b92271a4d980",
   "metadata": {},
   "outputs": [
    {
     "ename": "KeyError",
     "evalue": "'AWS'",
     "output_type": "error",
     "traceback": [
      "\u001b[0;31m---------------------------------------------------------------------------\u001b[0m",
      "\u001b[0;31mKeyError\u001b[0m                                  Traceback (most recent call last)",
      "Cell \u001b[0;32mIn[10], line 1\u001b[0m\n\u001b[0;32m----> 1\u001b[0m AWS_ACCESS_KEY \u001b[38;5;241m=\u001b[39m config[\u001b[38;5;124m'\u001b[39m\u001b[38;5;124mAWS\u001b[39m\u001b[38;5;124m'\u001b[39m][\u001b[38;5;124m'\u001b[39m\u001b[38;5;124maws_access_key\u001b[39m\u001b[38;5;124m'\u001b[39m]\n\u001b[1;32m      2\u001b[0m AWS_SECRET_KEY \u001b[38;5;241m=\u001b[39m config[\u001b[38;5;124m'\u001b[39m\u001b[38;5;124mAWS\u001b[39m\u001b[38;5;124m'\u001b[39m][\u001b[38;5;124m'\u001b[39m\u001b[38;5;124maws_secret_key\u001b[39m\u001b[38;5;124m'\u001b[39m]\n",
      "File \u001b[0;32m~/miniconda3/envs/notebook_env/lib/python3.11/configparser.py:979\u001b[0m, in \u001b[0;36mRawConfigParser.__getitem__\u001b[0;34m(self, key)\u001b[0m\n\u001b[1;32m    977\u001b[0m \u001b[38;5;28;01mdef\u001b[39;00m \u001b[38;5;21m__getitem__\u001b[39m(\u001b[38;5;28mself\u001b[39m, key):\n\u001b[1;32m    978\u001b[0m     \u001b[38;5;28;01mif\u001b[39;00m key \u001b[38;5;241m!=\u001b[39m \u001b[38;5;28mself\u001b[39m\u001b[38;5;241m.\u001b[39mdefault_section \u001b[38;5;129;01mand\u001b[39;00m \u001b[38;5;129;01mnot\u001b[39;00m \u001b[38;5;28mself\u001b[39m\u001b[38;5;241m.\u001b[39mhas_section(key):\n\u001b[0;32m--> 979\u001b[0m         \u001b[38;5;28;01mraise\u001b[39;00m \u001b[38;5;167;01mKeyError\u001b[39;00m(key)\n\u001b[1;32m    980\u001b[0m     \u001b[38;5;28;01mreturn\u001b[39;00m \u001b[38;5;28mself\u001b[39m\u001b[38;5;241m.\u001b[39m_proxies[key]\n",
      "\u001b[0;31mKeyError\u001b[0m: 'AWS'"
     ]
    }
   ],
   "source": [
    "AWS_ACCESS_KEY = config['AWS']['aws_access_key']\n",
    "AWS_SECRET_KEY = config['AWS']['aws_secret_key']"
   ]
  },
  {
   "cell_type": "code",
   "execution_count": 5,
   "id": "c4d51fc7-2e5e-4e58-844d-79409ccca7d9",
   "metadata": {},
   "outputs": [],
   "source": [
    "#s3client = boto3.client('s3', aws_access_key_id = '', aws_secret_access_key = '')"
   ]
  },
  {
   "cell_type": "code",
   "execution_count": 6,
   "id": "92d86560-24c2-490e-861d-6a8927698315",
   "metadata": {},
   "outputs": [],
   "source": [
    "#s3client.list_buckets()"
   ]
  },
  {
   "cell_type": "code",
   "execution_count": null,
   "id": "f92dc517-1e24-4827-b43a-ee37d1540881",
   "metadata": {},
   "outputs": [],
   "source": []
  }
 ],
 "metadata": {
  "kernelspec": {
   "display_name": "Python [conda env:notebook_env] *",
   "language": "python",
   "name": "conda-env-notebook_env-py"
  },
  "language_info": {
   "codemirror_mode": {
    "name": "ipython",
    "version": 3
   },
   "file_extension": ".py",
   "mimetype": "text/x-python",
   "name": "python",
   "nbconvert_exporter": "python",
   "pygments_lexer": "ipython3",
   "version": "3.11.9"
  }
 },
 "nbformat": 4,
 "nbformat_minor": 5
}
