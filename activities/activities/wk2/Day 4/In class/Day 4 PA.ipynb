{
 "cells": [
  {
   "cell_type": "code",
   "execution_count": 1,
   "id": "c583edda-7368-411c-a19a-6b8deec91ebd",
   "metadata": {},
   "outputs": [],
   "source": [
    "import boto3"
   ]
  },
  {
   "cell_type": "code",
   "execution_count": 2,
   "id": "d305b58d-e17b-4372-a57b-507b008ed919",
   "metadata": {},
   "outputs": [],
   "source": [
    "import configparser"
   ]
  },
  {
   "cell_type": "code",
   "execution_count": 3,
   "id": "65e123e7-fd74-402b-9933-079eddb01de1",
   "metadata": {},
   "outputs": [],
   "source": [
    "config = configparser.ConfigParser()"
   ]
  },
  {
   "cell_type": "code",
   "execution_count": 4,
   "id": "714f0509-b0f9-49bf-bff9-b0142ff4c08b",
   "metadata": {
    "scrolled": true
   },
   "outputs": [
    {
     "data": {
      "text/plain": [
       "['aws.cfg']"
      ]
     },
     "execution_count": 4,
     "metadata": {},
     "output_type": "execute_result"
    }
   ],
   "source": [
    "config.read('aws.cfg')"
   ]
  },
  {
   "cell_type": "code",
   "execution_count": 5,
   "id": "31ef9c7b-750f-4b7e-ad8b-b92271a4d980",
   "metadata": {},
   "outputs": [],
   "source": [
    "AWS_ACCESS_KEY = config['AWS']['aws_access_key']\n",
    "AWS_SECRET_KEY = config['AWS']['aws_secret_key']"
   ]
  },
  {
   "cell_type": "code",
   "execution_count": 6,
   "id": "c4d51fc7-2e5e-4e58-844d-79409ccca7d9",
   "metadata": {},
   "outputs": [],
   "source": [
    "#s3client = boto3.client('s3', aws_access_key_id = AWS_ACCESS_KEY, aws_secret_access_key = AWS_SECRET_KEY)"
   ]
  },
  {
   "cell_type": "code",
   "execution_count": 7,
   "id": "92d86560-24c2-490e-861d-6a8927698315",
   "metadata": {},
   "outputs": [],
   "source": [
    "#response = s3client.list_buckets()"
   ]
  },
  {
   "cell_type": "code",
   "execution_count": 8,
   "id": "bdfc7cb3-88fb-4875-b000-67d97a00a912",
   "metadata": {},
   "outputs": [],
   "source": [
    "bucket_name = 'techcatalyst-raw'"
   ]
  },
  {
   "cell_type": "code",
   "execution_count": 9,
   "id": "f92dc517-1e24-4827-b43a-ee37d1540881",
   "metadata": {},
   "outputs": [],
   "source": [
    "# for bucket in response['Bucket']:\n",
    "#     print(bucket['Name'])"
   ]
  },
  {
   "cell_type": "code",
   "execution_count": 12,
   "id": "c517eb41-9011-4536-8724-bb451d8f3ec6",
   "metadata": {},
   "outputs": [],
   "source": [
    "# obj_r = s3client.list_objects_vs(Bucket=bucket_name)\n",
    "# for obj in obj_r['Contents']:\n",
    "#     print(obj['Key'])\n",
    "# uri = f's3://{bucket_name}/{myfiles[0]}'\n",
    "\n",
    "import pandas as pd\n",
    "# df = pd.read_parquet(uri, storage_options= {'key': AWS_ACCESS_KEY, 'secret': AWS_SECRET_KEY})"
   ]
  },
  {
   "cell_type": "code",
   "execution_count": 13,
   "id": "9656cb73-14db-40e1-905e-de40b8af8290",
   "metadata": {},
   "outputs": [],
   "source": [
    "#Make method with all data transformations and then loop through files to process efficiently"
   ]
  },
  {
   "cell_type": "code",
   "execution_count": 17,
   "id": "336db1ed-b7fd-4ba1-875d-4836bffa1cf7",
   "metadata": {},
   "outputs": [
    {
     "data": {
      "text/html": [
       "<div>\n",
       "<style scoped>\n",
       "    .dataframe tbody tr th:only-of-type {\n",
       "        vertical-align: middle;\n",
       "    }\n",
       "\n",
       "    .dataframe tbody tr th {\n",
       "        vertical-align: top;\n",
       "    }\n",
       "\n",
       "    .dataframe thead th {\n",
       "        text-align: right;\n",
       "    }\n",
       "</style>\n",
       "<table border=\"1\" class=\"dataframe\">\n",
       "  <thead>\n",
       "    <tr style=\"text-align: right;\">\n",
       "      <th></th>\n",
       "      <th>file_name</th>\n",
       "      <th>number of records</th>\n",
       "      <th>number_of_cols</th>\n",
       "      <th>number_of_cols_with_na</th>\n",
       "      <th>date_time</th>\n",
       "    </tr>\n",
       "  </thead>\n",
       "  <tbody>\n",
       "    <tr>\n",
       "      <th>0</th>\n",
       "      <td>yellow_tripdata_2024-04.parquet</td>\n",
       "      <td>3514289</td>\n",
       "      <td>11</td>\n",
       "      <td>3</td>\n",
       "      <td>2024-06-27 10:55:28.472559</td>\n",
       "    </tr>\n",
       "    <tr>\n",
       "      <th>0</th>\n",
       "      <td>yellow_tripdata_2024-03.parquet</td>\n",
       "      <td>3582628</td>\n",
       "      <td>11</td>\n",
       "      <td>3</td>\n",
       "      <td>2024-06-27 10:55:35.948348</td>\n",
       "    </tr>\n",
       "  </tbody>\n",
       "</table>\n",
       "</div>"
      ],
      "text/plain": [
       "                         file_name  number of records  number_of_cols  \\\n",
       "0  yellow_tripdata_2024-04.parquet            3514289              11   \n",
       "0  yellow_tripdata_2024-03.parquet            3582628              11   \n",
       "\n",
       "   number_of_cols_with_na                  date_time  \n",
       "0                       3 2024-06-27 10:55:28.472559  \n",
       "0                       3 2024-06-27 10:55:35.948348  "
      ]
     },
     "execution_count": 17,
     "metadata": {},
     "output_type": "execute_result"
    }
   ],
   "source": [
    "from datetime import datetime\n",
    "\n",
    "stats = pd.DataFrame()\n",
    "def cleanup(df, name, dest):\n",
    "    #Read Data\n",
    "    # df = pd.read_parquet('yellow_tripdata_2024-04.parquet')\n",
    "    df = pd.read_parquet(name)\n",
    "    \n",
    "    df['Trip_Duration'] = (df['tpep_dropoff_datetime'] - df['tpep_pickup_datetime']).dt.total_seconds() // 60\n",
    "    df['Total_Trip_Charge'] = df['fare_amount'] + df['extra'] + df['mta_tax'] + df['tolls_amount'] + df['improvement_surcharge'] + df['congestion_surcharge'] + df['Airport_fee'] + df['tip_amount']\n",
    "    df['Trip_Date'] = pd.to_datetime(df['tpep_pickup_datetime'].dt.date)\n",
    "    df['Trip_Month'] = df['Trip_Date'].dt.month_name()\n",
    "    df['Trip_Day'] = df['Trip_Date'].dt.day_name()\n",
    "    df['Trip_Year'] = df['Trip_Date'].dt.year\n",
    "    cols = ['VendorID', 'Trip_Date', 'Trip_Year', 'Trip_Month', 'Trip_Day',\n",
    "       'passenger_count', 'trip_distance', 'store_and_fwd_flag',\n",
    "       'payment_type', 'Trip_Duration',\n",
    "       'Total_Trip_Charge' ]\n",
    "    df = df[cols]\n",
    "    df.rename(columns={\n",
    "    'VendorID': 'Vendor_ID',\n",
    "    'passenger_count': 'No_of_Passengers',\n",
    "    'store_and_fwd_flag': 'SF_Flag',\n",
    "    'payment_type': 'Payment_Type'\n",
    "}, inplace=True)\n",
    "    \n",
    "    #Write Data\n",
    "    # df.to_parquet('Yellow Taxi Transformed.parquet', partition_cols=['Trip_Year', 'Trip_Month'])\n",
    "    df.to_parquet(dest, partition_cols=['Trip_Year', 'Trip_Month'])\n",
    "    stats_data = {'file_name': name ,'number of records': df.shape[0] ,'number_of_cols': df.shape[1] ,'number_of_cols_with_na': df.isna().any().sum(),'date_time': datetime.now()} \n",
    "    stats_return = pd.DataFrame(data=stats_data, index=[0])\n",
    "    return stats_return\n",
    "stats = pd.DataFrame()\n",
    "obj = ['yellow_tripdata_2024-04.parquet', 'yellow_tripdata_2024-03.parquet']\n",
    "for ob in obj:\n",
    "    test = cleanup(pd.DataFrame(), ob, 'Yellow Taxi Transformed.parquet')\n",
    "    stats = pd.concat([stats, test], axis=0)\n",
    "stats\n"
   ]
  },
  {
   "cell_type": "code",
   "execution_count": null,
   "id": "e4403334-6e81-4fb3-81b7-c6b5c771e97d",
   "metadata": {},
   "outputs": [],
   "source": []
  }
 ],
 "metadata": {
  "kernelspec": {
   "display_name": "Python [conda env:notebook_env] *",
   "language": "python",
   "name": "conda-env-notebook_env-py"
  },
  "language_info": {
   "codemirror_mode": {
    "name": "ipython",
    "version": 3
   },
   "file_extension": ".py",
   "mimetype": "text/x-python",
   "name": "python",
   "nbconvert_exporter": "python",
   "pygments_lexer": "ipython3",
   "version": "3.11.9"
  }
 },
 "nbformat": 4,
 "nbformat_minor": 5
}
