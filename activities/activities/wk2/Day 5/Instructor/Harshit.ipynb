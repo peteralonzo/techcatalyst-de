{
 "cells": [
  {
   "cell_type": "code",
   "execution_count": 37,
   "id": "d533d81f-a2c4-4cc7-afff-5eb90552e6d3",
   "metadata": {},
   "outputs": [],
   "source": [
    "import pandas as pd\n",
    "\n",
    "import configparser\n",
    "config = configparser.ConfigParser()\n",
    "\n",
    "# read the cfg file\n",
    "config.read('../datasets/aws.cfg')\n",
    "\n",
    "AWS_ACCESS_KEY = config['AWSDEV']['aws_access_key']\n",
    "AWS_SECRET_KEY = config['AWSDEV']['aws_secret_key']"
   ]
  },
  {
   "cell_type": "code",
   "execution_count": 39,
   "id": "cea941a6-931c-4aae-9fea-419cc039094d",
   "metadata": {},
   "outputs": [],
   "source": [
    "df = pd.read_csv('s3://techcatalyst-raw/SalesRaw/sales_data.csv',\n",
    "                 parse_dates=['DateTime'],\n",
    "               storage_options={\n",
    "                   'key' : AWS_ACCESS_KEY,\n",
    "                   'secret' : AWS_SECRET_KEY\n",
    "               })"
   ]
  },
  {
   "cell_type": "code",
   "execution_count": 40,
   "id": "d49c9c1d-038d-47f7-b578-79eb5f93a7f5",
   "metadata": {},
   "outputs": [
    {
     "data": {
      "text/html": [
       "<div>\n",
       "<style scoped>\n",
       "    .dataframe tbody tr th:only-of-type {\n",
       "        vertical-align: middle;\n",
       "    }\n",
       "\n",
       "    .dataframe tbody tr th {\n",
       "        vertical-align: top;\n",
       "    }\n",
       "\n",
       "    .dataframe thead th {\n",
       "        text-align: right;\n",
       "    }\n",
       "</style>\n",
       "<table border=\"1\" class=\"dataframe\">\n",
       "  <thead>\n",
       "    <tr style=\"text-align: right;\">\n",
       "      <th></th>\n",
       "      <th>DateTime</th>\n",
       "      <th>Time Zone</th>\n",
       "      <th>Sales Amount</th>\n",
       "      <th>Country</th>\n",
       "      <th>Sales Person</th>\n",
       "    </tr>\n",
       "  </thead>\n",
       "  <tbody>\n",
       "    <tr>\n",
       "      <th>0</th>\n",
       "      <td>2024-06-15 05:56:00</td>\n",
       "      <td>Australia/Sydney</td>\n",
       "      <td>NaN</td>\n",
       "      <td>Australia</td>\n",
       "      <td>David</td>\n",
       "    </tr>\n",
       "    <tr>\n",
       "      <th>1</th>\n",
       "      <td>2024-09-30 05:36:00</td>\n",
       "      <td>Europe/Berlin</td>\n",
       "      <td>23882.74</td>\n",
       "      <td>Germany</td>\n",
       "      <td>Alice</td>\n",
       "    </tr>\n",
       "    <tr>\n",
       "      <th>2</th>\n",
       "      <td>2024-02-01 15:04:00</td>\n",
       "      <td>Australia/Sydney</td>\n",
       "      <td>NaN</td>\n",
       "      <td>Australia</td>\n",
       "      <td>Eve</td>\n",
       "    </tr>\n",
       "    <tr>\n",
       "      <th>3</th>\n",
       "      <td>2024-04-24 05:12:00</td>\n",
       "      <td>Australia/Sydney</td>\n",
       "      <td>20945.38</td>\n",
       "      <td>Australia</td>\n",
       "      <td>Alice</td>\n",
       "    </tr>\n",
       "    <tr>\n",
       "      <th>4</th>\n",
       "      <td>2024-07-11 00:33:00</td>\n",
       "      <td>Europe/Berlin</td>\n",
       "      <td>NaN</td>\n",
       "      <td>Germany</td>\n",
       "      <td>David</td>\n",
       "    </tr>\n",
       "  </tbody>\n",
       "</table>\n",
       "</div>"
      ],
      "text/plain": [
       "             DateTime         Time Zone Sales Amount    Country Sales Person\n",
       "0 2024-06-15 05:56:00  Australia/Sydney          NaN  Australia        David\n",
       "1 2024-09-30 05:36:00     Europe/Berlin     23882.74    Germany        Alice\n",
       "2 2024-02-01 15:04:00  Australia/Sydney          NaN  Australia          Eve\n",
       "3 2024-04-24 05:12:00  Australia/Sydney     20945.38  Australia        Alice\n",
       "4 2024-07-11 00:33:00     Europe/Berlin          NaN    Germany        David"
      ]
     },
     "execution_count": 40,
     "metadata": {},
     "output_type": "execute_result"
    }
   ],
   "source": [
    "df.head()"
   ]
  },
  {
   "cell_type": "code",
   "execution_count": 41,
   "id": "ac1f103f-f4c8-4e6f-bfb0-0721af154e11",
   "metadata": {},
   "outputs": [
    {
     "data": {
      "text/html": [
       "<div>\n",
       "<style scoped>\n",
       "    .dataframe tbody tr th:only-of-type {\n",
       "        vertical-align: middle;\n",
       "    }\n",
       "\n",
       "    .dataframe tbody tr th {\n",
       "        vertical-align: top;\n",
       "    }\n",
       "\n",
       "    .dataframe thead th {\n",
       "        text-align: right;\n",
       "    }\n",
       "</style>\n",
       "<table border=\"1\" class=\"dataframe\">\n",
       "  <thead>\n",
       "    <tr style=\"text-align: right;\">\n",
       "      <th></th>\n",
       "      <th>DateTime</th>\n",
       "      <th>Time Zone</th>\n",
       "      <th>Sales Amount</th>\n",
       "      <th>Country</th>\n",
       "      <th>Sales Person</th>\n",
       "    </tr>\n",
       "  </thead>\n",
       "  <tbody>\n",
       "    <tr>\n",
       "      <th>count</th>\n",
       "      <td>10000</td>\n",
       "      <td>10000</td>\n",
       "      <td>5951</td>\n",
       "      <td>10000</td>\n",
       "      <td>10000</td>\n",
       "    </tr>\n",
       "    <tr>\n",
       "      <th>unique</th>\n",
       "      <td>NaN</td>\n",
       "      <td>5</td>\n",
       "      <td>3905</td>\n",
       "      <td>5</td>\n",
       "      <td>5</td>\n",
       "    </tr>\n",
       "    <tr>\n",
       "      <th>top</th>\n",
       "      <td>NaN</td>\n",
       "      <td>UTC</td>\n",
       "      <td>?</td>\n",
       "      <td>United Kingdom</td>\n",
       "      <td>Eve</td>\n",
       "    </tr>\n",
       "    <tr>\n",
       "      <th>freq</th>\n",
       "      <td>NaN</td>\n",
       "      <td>2046</td>\n",
       "      <td>2025</td>\n",
       "      <td>2046</td>\n",
       "      <td>2041</td>\n",
       "    </tr>\n",
       "    <tr>\n",
       "      <th>mean</th>\n",
       "      <td>2024-07-01 02:47:21.606000128</td>\n",
       "      <td>NaN</td>\n",
       "      <td>NaN</td>\n",
       "      <td>NaN</td>\n",
       "      <td>NaN</td>\n",
       "    </tr>\n",
       "    <tr>\n",
       "      <th>min</th>\n",
       "      <td>2024-01-01 00:01:00</td>\n",
       "      <td>NaN</td>\n",
       "      <td>NaN</td>\n",
       "      <td>NaN</td>\n",
       "      <td>NaN</td>\n",
       "    </tr>\n",
       "    <tr>\n",
       "      <th>25%</th>\n",
       "      <td>2024-03-31 14:52:45</td>\n",
       "      <td>NaN</td>\n",
       "      <td>NaN</td>\n",
       "      <td>NaN</td>\n",
       "      <td>NaN</td>\n",
       "    </tr>\n",
       "    <tr>\n",
       "      <th>50%</th>\n",
       "      <td>2024-06-30 13:37:00</td>\n",
       "      <td>NaN</td>\n",
       "      <td>NaN</td>\n",
       "      <td>NaN</td>\n",
       "      <td>NaN</td>\n",
       "    </tr>\n",
       "    <tr>\n",
       "      <th>75%</th>\n",
       "      <td>2024-09-30 05:46:45</td>\n",
       "      <td>NaN</td>\n",
       "      <td>NaN</td>\n",
       "      <td>NaN</td>\n",
       "      <td>NaN</td>\n",
       "    </tr>\n",
       "    <tr>\n",
       "      <th>max</th>\n",
       "      <td>2024-12-30 21:37:00</td>\n",
       "      <td>NaN</td>\n",
       "      <td>NaN</td>\n",
       "      <td>NaN</td>\n",
       "      <td>NaN</td>\n",
       "    </tr>\n",
       "  </tbody>\n",
       "</table>\n",
       "</div>"
      ],
      "text/plain": [
       "                             DateTime Time Zone Sales Amount         Country  \\\n",
       "count                           10000     10000         5951           10000   \n",
       "unique                            NaN         5         3905               5   \n",
       "top                               NaN       UTC            ?  United Kingdom   \n",
       "freq                              NaN      2046         2025            2046   \n",
       "mean    2024-07-01 02:47:21.606000128       NaN          NaN             NaN   \n",
       "min               2024-01-01 00:01:00       NaN          NaN             NaN   \n",
       "25%               2024-03-31 14:52:45       NaN          NaN             NaN   \n",
       "50%               2024-06-30 13:37:00       NaN          NaN             NaN   \n",
       "75%               2024-09-30 05:46:45       NaN          NaN             NaN   \n",
       "max               2024-12-30 21:37:00       NaN          NaN             NaN   \n",
       "\n",
       "       Sales Person  \n",
       "count         10000  \n",
       "unique            5  \n",
       "top             Eve  \n",
       "freq           2041  \n",
       "mean            NaN  \n",
       "min             NaN  \n",
       "25%             NaN  \n",
       "50%             NaN  \n",
       "75%             NaN  \n",
       "max             NaN  "
      ]
     },
     "execution_count": 41,
     "metadata": {},
     "output_type": "execute_result"
    }
   ],
   "source": [
    "df.describe(include='all')"
   ]
  },
  {
   "cell_type": "code",
   "execution_count": 42,
   "id": "f4442ce2-4ce1-4774-8206-7537494e56dc",
   "metadata": {},
   "outputs": [
    {
     "name": "stdout",
     "output_type": "stream",
     "text": [
      "<class 'pandas.core.frame.DataFrame'>\n",
      "RangeIndex: 10000 entries, 0 to 9999\n",
      "Data columns (total 5 columns):\n",
      " #   Column        Non-Null Count  Dtype         \n",
      "---  ------        --------------  -----         \n",
      " 0   DateTime      10000 non-null  datetime64[ns]\n",
      " 1   Time Zone     10000 non-null  object        \n",
      " 2   Sales Amount  5951 non-null   object        \n",
      " 3   Country       10000 non-null  object        \n",
      " 4   Sales Person  10000 non-null  object        \n",
      "dtypes: datetime64[ns](1), object(4)\n",
      "memory usage: 390.8+ KB\n"
     ]
    }
   ],
   "source": [
    "df.info()"
   ]
  },
  {
   "cell_type": "code",
   "execution_count": 271,
   "id": "450b05bc-772e-4759-a671-766b55942837",
   "metadata": {},
   "outputs": [],
   "source": [
    "df = pd.read_csv('s3://techcatalyst-raw/SalesRaw/sales_data.csv',\n",
    "                 parse_dates=['DateTime'],\n",
    "                 na_values={'?', 'None'},\n",
    "               storage_options={\n",
    "                   'key' : AWS_ACCESS_KEY,\n",
    "                   'secret' : AWS_SECRET_KEY\n",
    "               })"
   ]
  },
  {
   "cell_type": "code",
   "execution_count": 272,
   "id": "6c5985e9-65cd-4671-bd69-63a28b4355c6",
   "metadata": {},
   "outputs": [
    {
     "data": {
      "text/html": [
       "<div>\n",
       "<style scoped>\n",
       "    .dataframe tbody tr th:only-of-type {\n",
       "        vertical-align: middle;\n",
       "    }\n",
       "\n",
       "    .dataframe tbody tr th {\n",
       "        vertical-align: top;\n",
       "    }\n",
       "\n",
       "    .dataframe thead th {\n",
       "        text-align: right;\n",
       "    }\n",
       "</style>\n",
       "<table border=\"1\" class=\"dataframe\">\n",
       "  <thead>\n",
       "    <tr style=\"text-align: right;\">\n",
       "      <th></th>\n",
       "      <th>DateTime</th>\n",
       "      <th>Time Zone</th>\n",
       "      <th>Sales Amount</th>\n",
       "      <th>Country</th>\n",
       "      <th>Sales Person</th>\n",
       "    </tr>\n",
       "  </thead>\n",
       "  <tbody>\n",
       "    <tr>\n",
       "      <th>0</th>\n",
       "      <td>2024-06-15 05:56:00</td>\n",
       "      <td>Australia/Sydney</td>\n",
       "      <td>NaN</td>\n",
       "      <td>Australia</td>\n",
       "      <td>David</td>\n",
       "    </tr>\n",
       "    <tr>\n",
       "      <th>1</th>\n",
       "      <td>2024-09-30 05:36:00</td>\n",
       "      <td>Europe/Berlin</td>\n",
       "      <td>23882.74</td>\n",
       "      <td>Germany</td>\n",
       "      <td>Alice</td>\n",
       "    </tr>\n",
       "    <tr>\n",
       "      <th>2</th>\n",
       "      <td>2024-02-01 15:04:00</td>\n",
       "      <td>Australia/Sydney</td>\n",
       "      <td>NaN</td>\n",
       "      <td>Australia</td>\n",
       "      <td>Eve</td>\n",
       "    </tr>\n",
       "    <tr>\n",
       "      <th>3</th>\n",
       "      <td>2024-04-24 05:12:00</td>\n",
       "      <td>Australia/Sydney</td>\n",
       "      <td>20945.38</td>\n",
       "      <td>Australia</td>\n",
       "      <td>Alice</td>\n",
       "    </tr>\n",
       "    <tr>\n",
       "      <th>4</th>\n",
       "      <td>2024-07-11 00:33:00</td>\n",
       "      <td>Europe/Berlin</td>\n",
       "      <td>NaN</td>\n",
       "      <td>Germany</td>\n",
       "      <td>David</td>\n",
       "    </tr>\n",
       "  </tbody>\n",
       "</table>\n",
       "</div>"
      ],
      "text/plain": [
       "             DateTime         Time Zone  Sales Amount    Country Sales Person\n",
       "0 2024-06-15 05:56:00  Australia/Sydney           NaN  Australia        David\n",
       "1 2024-09-30 05:36:00     Europe/Berlin      23882.74    Germany        Alice\n",
       "2 2024-02-01 15:04:00  Australia/Sydney           NaN  Australia          Eve\n",
       "3 2024-04-24 05:12:00  Australia/Sydney      20945.38  Australia        Alice\n",
       "4 2024-07-11 00:33:00     Europe/Berlin           NaN    Germany        David"
      ]
     },
     "execution_count": 272,
     "metadata": {},
     "output_type": "execute_result"
    }
   ],
   "source": [
    "df.head()"
   ]
  },
  {
   "cell_type": "code",
   "execution_count": 273,
   "id": "4c7dd488-9e5d-435e-9eee-13c17d52a299",
   "metadata": {},
   "outputs": [
    {
     "data": {
      "text/html": [
       "<div>\n",
       "<style scoped>\n",
       "    .dataframe tbody tr th:only-of-type {\n",
       "        vertical-align: middle;\n",
       "    }\n",
       "\n",
       "    .dataframe tbody tr th {\n",
       "        vertical-align: top;\n",
       "    }\n",
       "\n",
       "    .dataframe thead th {\n",
       "        text-align: right;\n",
       "    }\n",
       "</style>\n",
       "<table border=\"1\" class=\"dataframe\">\n",
       "  <thead>\n",
       "    <tr style=\"text-align: right;\">\n",
       "      <th></th>\n",
       "      <th>DateTime</th>\n",
       "      <th>Time Zone</th>\n",
       "      <th>Sales Amount</th>\n",
       "      <th>Country</th>\n",
       "      <th>Sales Person</th>\n",
       "    </tr>\n",
       "  </thead>\n",
       "  <tbody>\n",
       "    <tr>\n",
       "      <th>0</th>\n",
       "      <td>2024-06-15 05:56:00</td>\n",
       "      <td>Australia/Sydney</td>\n",
       "      <td>NaN</td>\n",
       "      <td>Australia</td>\n",
       "      <td>David</td>\n",
       "    </tr>\n",
       "    <tr>\n",
       "      <th>1</th>\n",
       "      <td>2024-09-30 05:36:00</td>\n",
       "      <td>Europe/Berlin</td>\n",
       "      <td>23882.74</td>\n",
       "      <td>Germany</td>\n",
       "      <td>Alice</td>\n",
       "    </tr>\n",
       "    <tr>\n",
       "      <th>2</th>\n",
       "      <td>2024-02-01 15:04:00</td>\n",
       "      <td>Australia/Sydney</td>\n",
       "      <td>NaN</td>\n",
       "      <td>Australia</td>\n",
       "      <td>Eve</td>\n",
       "    </tr>\n",
       "    <tr>\n",
       "      <th>3</th>\n",
       "      <td>2024-04-24 05:12:00</td>\n",
       "      <td>Australia/Sydney</td>\n",
       "      <td>20945.38</td>\n",
       "      <td>Australia</td>\n",
       "      <td>Alice</td>\n",
       "    </tr>\n",
       "    <tr>\n",
       "      <th>4</th>\n",
       "      <td>2024-07-11 00:33:00</td>\n",
       "      <td>Europe/Berlin</td>\n",
       "      <td>NaN</td>\n",
       "      <td>Germany</td>\n",
       "      <td>David</td>\n",
       "    </tr>\n",
       "  </tbody>\n",
       "</table>\n",
       "</div>"
      ],
      "text/plain": [
       "             DateTime         Time Zone  Sales Amount    Country Sales Person\n",
       "0 2024-06-15 05:56:00  Australia/Sydney           NaN  Australia        David\n",
       "1 2024-09-30 05:36:00     Europe/Berlin      23882.74    Germany        Alice\n",
       "2 2024-02-01 15:04:00  Australia/Sydney           NaN  Australia          Eve\n",
       "3 2024-04-24 05:12:00  Australia/Sydney      20945.38  Australia        Alice\n",
       "4 2024-07-11 00:33:00     Europe/Berlin           NaN    Germany        David"
      ]
     },
     "execution_count": 273,
     "metadata": {},
     "output_type": "execute_result"
    }
   ],
   "source": [
    "df.head()"
   ]
  },
  {
   "cell_type": "code",
   "execution_count": 274,
   "id": "414b8061-930f-488b-871b-861e2dda7660",
   "metadata": {},
   "outputs": [
    {
     "name": "stdout",
     "output_type": "stream",
     "text": [
      "<class 'pandas.core.frame.DataFrame'>\n",
      "RangeIndex: 10000 entries, 0 to 9999\n",
      "Data columns (total 5 columns):\n",
      " #   Column        Non-Null Count  Dtype         \n",
      "---  ------        --------------  -----         \n",
      " 0   DateTime      10000 non-null  datetime64[ns]\n",
      " 1   Time Zone     10000 non-null  object        \n",
      " 2   Sales Amount  3926 non-null   float64       \n",
      " 3   Country       10000 non-null  object        \n",
      " 4   Sales Person  10000 non-null  object        \n",
      "dtypes: datetime64[ns](1), float64(1), object(3)\n",
      "memory usage: 390.8+ KB\n"
     ]
    }
   ],
   "source": [
    "df.info()"
   ]
  },
  {
   "cell_type": "code",
   "execution_count": 275,
   "id": "36ee0126-c240-479b-940c-3dbe235b770a",
   "metadata": {},
   "outputs": [
    {
     "data": {
      "text/html": [
       "<div>\n",
       "<style scoped>\n",
       "    .dataframe tbody tr th:only-of-type {\n",
       "        vertical-align: middle;\n",
       "    }\n",
       "\n",
       "    .dataframe tbody tr th {\n",
       "        vertical-align: top;\n",
       "    }\n",
       "\n",
       "    .dataframe thead th {\n",
       "        text-align: right;\n",
       "    }\n",
       "</style>\n",
       "<table border=\"1\" class=\"dataframe\">\n",
       "  <thead>\n",
       "    <tr style=\"text-align: right;\">\n",
       "      <th></th>\n",
       "      <th>DateTime</th>\n",
       "      <th>Sales Amount</th>\n",
       "    </tr>\n",
       "  </thead>\n",
       "  <tbody>\n",
       "    <tr>\n",
       "      <th>count</th>\n",
       "      <td>10000</td>\n",
       "      <td>3926.000000</td>\n",
       "    </tr>\n",
       "    <tr>\n",
       "      <th>mean</th>\n",
       "      <td>2024-07-01 02:47:21.606000128</td>\n",
       "      <td>15572.928839</td>\n",
       "    </tr>\n",
       "    <tr>\n",
       "      <th>min</th>\n",
       "      <td>2024-01-01 00:01:00</td>\n",
       "      <td>10.380000</td>\n",
       "    </tr>\n",
       "    <tr>\n",
       "      <th>25%</th>\n",
       "      <td>2024-03-31 14:52:45</td>\n",
       "      <td>514.525000</td>\n",
       "    </tr>\n",
       "    <tr>\n",
       "      <th>50%</th>\n",
       "      <td>2024-06-30 13:37:00</td>\n",
       "      <td>10891.170000</td>\n",
       "    </tr>\n",
       "    <tr>\n",
       "      <th>75%</th>\n",
       "      <td>2024-09-30 05:46:45</td>\n",
       "      <td>30655.217500</td>\n",
       "    </tr>\n",
       "    <tr>\n",
       "      <th>max</th>\n",
       "      <td>2024-12-30 21:37:00</td>\n",
       "      <td>49996.820000</td>\n",
       "    </tr>\n",
       "    <tr>\n",
       "      <th>std</th>\n",
       "      <td>NaN</td>\n",
       "      <td>16922.555911</td>\n",
       "    </tr>\n",
       "  </tbody>\n",
       "</table>\n",
       "</div>"
      ],
      "text/plain": [
       "                            DateTime  Sales Amount\n",
       "count                          10000   3926.000000\n",
       "mean   2024-07-01 02:47:21.606000128  15572.928839\n",
       "min              2024-01-01 00:01:00     10.380000\n",
       "25%              2024-03-31 14:52:45    514.525000\n",
       "50%              2024-06-30 13:37:00  10891.170000\n",
       "75%              2024-09-30 05:46:45  30655.217500\n",
       "max              2024-12-30 21:37:00  49996.820000\n",
       "std                              NaN  16922.555911"
      ]
     },
     "execution_count": 275,
     "metadata": {},
     "output_type": "execute_result"
    }
   ],
   "source": [
    "df.describe()"
   ]
  },
  {
   "cell_type": "code",
   "execution_count": 276,
   "id": "4137f883-d579-4846-8362-27d58ba603ff",
   "metadata": {},
   "outputs": [],
   "source": [
    "threshold = 37000\n",
    "df.loc[df['Sales Amount'] > threshold, 'Sales Amount'] = pd.NA"
   ]
  },
  {
   "cell_type": "code",
   "execution_count": 277,
   "id": "7d877b31-09fc-4a6a-8b7f-cf6f9156a967",
   "metadata": {},
   "outputs": [
    {
     "name": "stdout",
     "output_type": "stream",
     "text": [
      "<class 'pandas.core.frame.DataFrame'>\n",
      "RangeIndex: 10000 entries, 0 to 9999\n",
      "Data columns (total 5 columns):\n",
      " #   Column        Non-Null Count  Dtype         \n",
      "---  ------        --------------  -----         \n",
      " 0   DateTime      10000 non-null  datetime64[ns]\n",
      " 1   Time Zone     10000 non-null  object        \n",
      " 2   Sales Amount  3252 non-null   float64       \n",
      " 3   Country       10000 non-null  object        \n",
      " 4   Sales Person  10000 non-null  object        \n",
      "dtypes: datetime64[ns](1), float64(1), object(3)\n",
      "memory usage: 390.8+ KB\n"
     ]
    }
   ],
   "source": [
    "df.info()"
   ]
  },
  {
   "cell_type": "code",
   "execution_count": 278,
   "id": "5e2b1550-c4c7-4cf4-87d6-3465e3ce53ea",
   "metadata": {},
   "outputs": [
    {
     "data": {
      "text/plain": [
       "9829.400738007382"
      ]
     },
     "execution_count": 278,
     "metadata": {},
     "output_type": "execute_result"
    }
   ],
   "source": [
    "average = df['Sales Amount'].mean()\n",
    "average"
   ]
  },
  {
   "cell_type": "code",
   "execution_count": 279,
   "id": "98423ecb-3d72-4329-8d5b-e9bf31085e33",
   "metadata": {},
   "outputs": [],
   "source": [
    "df['Sales Amount'] = df['Sales Amount'].fillna(value=average)"
   ]
  },
  {
   "cell_type": "code",
   "execution_count": 280,
   "id": "ff962ca3-8d4e-4aff-9f7c-b3f0c0812213",
   "metadata": {},
   "outputs": [
    {
     "data": {
      "text/html": [
       "<div>\n",
       "<style scoped>\n",
       "    .dataframe tbody tr th:only-of-type {\n",
       "        vertical-align: middle;\n",
       "    }\n",
       "\n",
       "    .dataframe tbody tr th {\n",
       "        vertical-align: top;\n",
       "    }\n",
       "\n",
       "    .dataframe thead th {\n",
       "        text-align: right;\n",
       "    }\n",
       "</style>\n",
       "<table border=\"1\" class=\"dataframe\">\n",
       "  <thead>\n",
       "    <tr style=\"text-align: right;\">\n",
       "      <th></th>\n",
       "      <th>DateTime</th>\n",
       "      <th>Time Zone</th>\n",
       "      <th>Sales Amount</th>\n",
       "      <th>Country</th>\n",
       "      <th>Sales Person</th>\n",
       "    </tr>\n",
       "  </thead>\n",
       "  <tbody>\n",
       "    <tr>\n",
       "      <th>0</th>\n",
       "      <td>2024-06-15 05:56:00</td>\n",
       "      <td>Australia/Sydney</td>\n",
       "      <td>9829.400738</td>\n",
       "      <td>Australia</td>\n",
       "      <td>David</td>\n",
       "    </tr>\n",
       "    <tr>\n",
       "      <th>1</th>\n",
       "      <td>2024-09-30 05:36:00</td>\n",
       "      <td>Europe/Berlin</td>\n",
       "      <td>23882.740000</td>\n",
       "      <td>Germany</td>\n",
       "      <td>Alice</td>\n",
       "    </tr>\n",
       "    <tr>\n",
       "      <th>2</th>\n",
       "      <td>2024-02-01 15:04:00</td>\n",
       "      <td>Australia/Sydney</td>\n",
       "      <td>9829.400738</td>\n",
       "      <td>Australia</td>\n",
       "      <td>Eve</td>\n",
       "    </tr>\n",
       "    <tr>\n",
       "      <th>3</th>\n",
       "      <td>2024-04-24 05:12:00</td>\n",
       "      <td>Australia/Sydney</td>\n",
       "      <td>20945.380000</td>\n",
       "      <td>Australia</td>\n",
       "      <td>Alice</td>\n",
       "    </tr>\n",
       "    <tr>\n",
       "      <th>4</th>\n",
       "      <td>2024-07-11 00:33:00</td>\n",
       "      <td>Europe/Berlin</td>\n",
       "      <td>9829.400738</td>\n",
       "      <td>Germany</td>\n",
       "      <td>David</td>\n",
       "    </tr>\n",
       "  </tbody>\n",
       "</table>\n",
       "</div>"
      ],
      "text/plain": [
       "             DateTime         Time Zone  Sales Amount    Country Sales Person\n",
       "0 2024-06-15 05:56:00  Australia/Sydney   9829.400738  Australia        David\n",
       "1 2024-09-30 05:36:00     Europe/Berlin  23882.740000    Germany        Alice\n",
       "2 2024-02-01 15:04:00  Australia/Sydney   9829.400738  Australia          Eve\n",
       "3 2024-04-24 05:12:00  Australia/Sydney  20945.380000  Australia        Alice\n",
       "4 2024-07-11 00:33:00     Europe/Berlin   9829.400738    Germany        David"
      ]
     },
     "execution_count": 280,
     "metadata": {},
     "output_type": "execute_result"
    }
   ],
   "source": [
    "df.head()"
   ]
  },
  {
   "cell_type": "code",
   "execution_count": 281,
   "id": "aeb75371-6280-4bd7-b3f3-f1996a9c8935",
   "metadata": {},
   "outputs": [
    {
     "data": {
      "text/html": [
       "<div>\n",
       "<style scoped>\n",
       "    .dataframe tbody tr th:only-of-type {\n",
       "        vertical-align: middle;\n",
       "    }\n",
       "\n",
       "    .dataframe tbody tr th {\n",
       "        vertical-align: top;\n",
       "    }\n",
       "\n",
       "    .dataframe thead th {\n",
       "        text-align: right;\n",
       "    }\n",
       "</style>\n",
       "<table border=\"1\" class=\"dataframe\">\n",
       "  <thead>\n",
       "    <tr style=\"text-align: right;\">\n",
       "      <th></th>\n",
       "      <th>DateTime</th>\n",
       "      <th>Time Zone</th>\n",
       "      <th>Sales Amount</th>\n",
       "      <th>Country</th>\n",
       "      <th>Sales Person</th>\n",
       "    </tr>\n",
       "  </thead>\n",
       "  <tbody>\n",
       "    <tr>\n",
       "      <th>0</th>\n",
       "      <td>2024-06-15 05:56:00</td>\n",
       "      <td>Australia/Sydney</td>\n",
       "      <td>9829.40</td>\n",
       "      <td>Australia</td>\n",
       "      <td>David</td>\n",
       "    </tr>\n",
       "    <tr>\n",
       "      <th>1</th>\n",
       "      <td>2024-09-30 05:36:00</td>\n",
       "      <td>Europe/Berlin</td>\n",
       "      <td>23882.74</td>\n",
       "      <td>Germany</td>\n",
       "      <td>Alice</td>\n",
       "    </tr>\n",
       "    <tr>\n",
       "      <th>2</th>\n",
       "      <td>2024-02-01 15:04:00</td>\n",
       "      <td>Australia/Sydney</td>\n",
       "      <td>9829.40</td>\n",
       "      <td>Australia</td>\n",
       "      <td>Eve</td>\n",
       "    </tr>\n",
       "    <tr>\n",
       "      <th>3</th>\n",
       "      <td>2024-04-24 05:12:00</td>\n",
       "      <td>Australia/Sydney</td>\n",
       "      <td>20945.38</td>\n",
       "      <td>Australia</td>\n",
       "      <td>Alice</td>\n",
       "    </tr>\n",
       "    <tr>\n",
       "      <th>4</th>\n",
       "      <td>2024-07-11 00:33:00</td>\n",
       "      <td>Europe/Berlin</td>\n",
       "      <td>9829.40</td>\n",
       "      <td>Germany</td>\n",
       "      <td>David</td>\n",
       "    </tr>\n",
       "  </tbody>\n",
       "</table>\n",
       "</div>"
      ],
      "text/plain": [
       "             DateTime         Time Zone  Sales Amount    Country Sales Person\n",
       "0 2024-06-15 05:56:00  Australia/Sydney       9829.40  Australia        David\n",
       "1 2024-09-30 05:36:00     Europe/Berlin      23882.74    Germany        Alice\n",
       "2 2024-02-01 15:04:00  Australia/Sydney       9829.40  Australia          Eve\n",
       "3 2024-04-24 05:12:00  Australia/Sydney      20945.38  Australia        Alice\n",
       "4 2024-07-11 00:33:00     Europe/Berlin       9829.40    Germany        David"
      ]
     },
     "execution_count": 281,
     "metadata": {},
     "output_type": "execute_result"
    }
   ],
   "source": [
    "df['Sales Amount'] = df['Sales Amount'].round(2)\n",
    "df.head()"
   ]
  },
  {
   "cell_type": "code",
   "execution_count": 282,
   "id": "786e6b61-aa3c-4c50-9d7e-829fa98f5d47",
   "metadata": {},
   "outputs": [
    {
     "name": "stdout",
     "output_type": "stream",
     "text": [
      "<class 'pandas.core.frame.DataFrame'>\n",
      "RangeIndex: 10000 entries, 0 to 9999\n",
      "Data columns (total 5 columns):\n",
      " #   Column        Non-Null Count  Dtype         \n",
      "---  ------        --------------  -----         \n",
      " 0   DateTime      10000 non-null  datetime64[ns]\n",
      " 1   Time Zone     10000 non-null  object        \n",
      " 2   Sales Amount  10000 non-null  float64       \n",
      " 3   Country       10000 non-null  object        \n",
      " 4   Sales Person  10000 non-null  object        \n",
      "dtypes: datetime64[ns](1), float64(1), object(3)\n",
      "memory usage: 390.8+ KB\n"
     ]
    }
   ],
   "source": [
    "df.info()"
   ]
  },
  {
   "cell_type": "code",
   "execution_count": 283,
   "id": "d5ca4b34-7584-41c4-95f8-500922399419",
   "metadata": {},
   "outputs": [
    {
     "data": {
      "text/html": [
       "<div>\n",
       "<style scoped>\n",
       "    .dataframe tbody tr th:only-of-type {\n",
       "        vertical-align: middle;\n",
       "    }\n",
       "\n",
       "    .dataframe tbody tr th {\n",
       "        vertical-align: top;\n",
       "    }\n",
       "\n",
       "    .dataframe thead th {\n",
       "        text-align: right;\n",
       "    }\n",
       "</style>\n",
       "<table border=\"1\" class=\"dataframe\">\n",
       "  <thead>\n",
       "    <tr style=\"text-align: right;\">\n",
       "      <th></th>\n",
       "      <th>DateTime</th>\n",
       "      <th>Sales Amount</th>\n",
       "    </tr>\n",
       "  </thead>\n",
       "  <tbody>\n",
       "    <tr>\n",
       "      <th>count</th>\n",
       "      <td>10000</td>\n",
       "      <td>10000.000000</td>\n",
       "    </tr>\n",
       "    <tr>\n",
       "      <th>mean</th>\n",
       "      <td>2024-07-01 02:47:21.606000128</td>\n",
       "      <td>9829.400240</td>\n",
       "    </tr>\n",
       "    <tr>\n",
       "      <th>min</th>\n",
       "      <td>2024-01-01 00:01:00</td>\n",
       "      <td>10.380000</td>\n",
       "    </tr>\n",
       "    <tr>\n",
       "      <th>25%</th>\n",
       "      <td>2024-03-31 14:52:45</td>\n",
       "      <td>9829.400000</td>\n",
       "    </tr>\n",
       "    <tr>\n",
       "      <th>50%</th>\n",
       "      <td>2024-06-30 13:37:00</td>\n",
       "      <td>9829.400000</td>\n",
       "    </tr>\n",
       "    <tr>\n",
       "      <th>75%</th>\n",
       "      <td>2024-09-30 05:46:45</td>\n",
       "      <td>9829.400000</td>\n",
       "    </tr>\n",
       "    <tr>\n",
       "      <th>max</th>\n",
       "      <td>2024-12-30 21:37:00</td>\n",
       "      <td>36959.150000</td>\n",
       "    </tr>\n",
       "    <tr>\n",
       "      <th>std</th>\n",
       "      <td>NaN</td>\n",
       "      <td>7001.282356</td>\n",
       "    </tr>\n",
       "  </tbody>\n",
       "</table>\n",
       "</div>"
      ],
      "text/plain": [
       "                            DateTime  Sales Amount\n",
       "count                          10000  10000.000000\n",
       "mean   2024-07-01 02:47:21.606000128   9829.400240\n",
       "min              2024-01-01 00:01:00     10.380000\n",
       "25%              2024-03-31 14:52:45   9829.400000\n",
       "50%              2024-06-30 13:37:00   9829.400000\n",
       "75%              2024-09-30 05:46:45   9829.400000\n",
       "max              2024-12-30 21:37:00  36959.150000\n",
       "std                              NaN   7001.282356"
      ]
     },
     "execution_count": 283,
     "metadata": {},
     "output_type": "execute_result"
    }
   ],
   "source": [
    "df.describe()"
   ]
  },
  {
   "cell_type": "code",
   "execution_count": 284,
   "id": "c3dca6b2-2816-4456-8316-c0b495adf7c1",
   "metadata": {},
   "outputs": [
    {
     "data": {
      "text/plain": [
       "array(['Australia/Sydney', 'Europe/Berlin', 'Asia/Tokyo', 'UTC',\n",
       "       'US/Eastern'], dtype=object)"
      ]
     },
     "execution_count": 284,
     "metadata": {},
     "output_type": "execute_result"
    }
   ],
   "source": [
    "df['Time Zone'].unique()"
   ]
  },
  {
   "cell_type": "code",
   "execution_count": 286,
   "id": "b47a3580-1b3d-417b-a942-df79f7bcafe5",
   "metadata": {},
   "outputs": [],
   "source": [
    "df = df.drop(index=[9723, 9373])"
   ]
  },
  {
   "cell_type": "code",
   "execution_count": 287,
   "id": "d53082f4-3c8b-409e-813d-18899ca505ab",
   "metadata": {},
   "outputs": [],
   "source": [
    "df['DateTime_Localized'] = df.apply(lambda row: row['DateTime'].tz_localize(row['Time Zone']), axis=1)\n",
    "\n"
   ]
  },
  {
   "cell_type": "code",
   "execution_count": 288,
   "id": "61715692-8103-445a-9805-f31be793064a",
   "metadata": {},
   "outputs": [
    {
     "data": {
      "text/plain": [
       "Timestamp('2024-06-15 05:56:00')"
      ]
     },
     "execution_count": 288,
     "metadata": {},
     "output_type": "execute_result"
    }
   ],
   "source": [
    "df['DateTime'][0]"
   ]
  },
  {
   "cell_type": "code",
   "execution_count": 289,
   "id": "13bfe87a-cad3-4526-a25d-6af3e3e1e7c5",
   "metadata": {},
   "outputs": [
    {
     "data": {
      "text/plain": [
       "Timestamp('2024-06-15 05:56:00+1000', tz='Australia/Sydney')"
      ]
     },
     "execution_count": 289,
     "metadata": {},
     "output_type": "execute_result"
    }
   ],
   "source": [
    "df['DateTime_Localized'][0]"
   ]
  },
  {
   "cell_type": "code",
   "execution_count": 290,
   "id": "2b187a78-afc3-4985-8be1-5d9c635b5724",
   "metadata": {},
   "outputs": [
    {
     "data": {
      "text/plain": [
       "Timestamp('2024-09-30 05:36:00')"
      ]
     },
     "execution_count": 290,
     "metadata": {},
     "output_type": "execute_result"
    }
   ],
   "source": [
    "df['DateTime'][1]"
   ]
  },
  {
   "cell_type": "code",
   "execution_count": 291,
   "id": "30023a9e-93db-44ce-8950-ceedaed9f194",
   "metadata": {},
   "outputs": [
    {
     "data": {
      "text/plain": [
       "Timestamp('2024-09-30 05:36:00+0200', tz='Europe/Berlin')"
      ]
     },
     "execution_count": 291,
     "metadata": {},
     "output_type": "execute_result"
    }
   ],
   "source": [
    "df['DateTime_Localized'][1]"
   ]
  },
  {
   "cell_type": "code",
   "execution_count": 292,
   "id": "35b7f50a-fd0c-4462-8916-1e0ee3895283",
   "metadata": {},
   "outputs": [],
   "source": [
    "df['DateTime_UTC'] = df.apply(lambda row: row['DateTime_Localized'].tz_convert('UTC'), axis=1)\n"
   ]
  },
  {
   "cell_type": "code",
   "execution_count": 293,
   "id": "cdae839b-afa2-4d88-bdf3-2cc84638bc9c",
   "metadata": {},
   "outputs": [
    {
     "data": {
      "text/plain": [
       "Timestamp('2024-06-15 05:56:00+1000', tz='Australia/Sydney')"
      ]
     },
     "execution_count": 293,
     "metadata": {},
     "output_type": "execute_result"
    }
   ],
   "source": [
    "df['DateTime_Localized'][0]"
   ]
  },
  {
   "cell_type": "code",
   "execution_count": 294,
   "id": "a15a43ed-a435-4c75-b4b0-1e38d1a1480c",
   "metadata": {},
   "outputs": [
    {
     "data": {
      "text/plain": [
       "Timestamp('2024-06-14 19:56:00+0000', tz='UTC')"
      ]
     },
     "execution_count": 294,
     "metadata": {},
     "output_type": "execute_result"
    }
   ],
   "source": [
    "df['DateTime_UTC'][0]"
   ]
  },
  {
   "cell_type": "code",
   "execution_count": 295,
   "id": "c376ac90-f209-4c39-bec6-09902b7a1c65",
   "metadata": {},
   "outputs": [
    {
     "data": {
      "text/plain": [
       "Timestamp('2024-09-30 05:36:00+0200', tz='Europe/Berlin')"
      ]
     },
     "execution_count": 295,
     "metadata": {},
     "output_type": "execute_result"
    }
   ],
   "source": [
    "df['DateTime_Localized'][1]"
   ]
  },
  {
   "cell_type": "code",
   "execution_count": 296,
   "id": "e36bd8d0-d328-469f-87cf-bdaba643b11c",
   "metadata": {},
   "outputs": [
    {
     "data": {
      "text/plain": [
       "Timestamp('2024-09-30 03:36:00+0000', tz='UTC')"
      ]
     },
     "execution_count": 296,
     "metadata": {},
     "output_type": "execute_result"
    }
   ],
   "source": [
    "df['DateTime_UTC'][1]"
   ]
  },
  {
   "cell_type": "code",
   "execution_count": 297,
   "id": "5ede072d-3039-43d5-b0b6-ba7c67474f1d",
   "metadata": {},
   "outputs": [
    {
     "name": "stdout",
     "output_type": "stream",
     "text": [
      "<class 'pandas.core.frame.DataFrame'>\n",
      "Index: 9998 entries, 0 to 9999\n",
      "Data columns (total 7 columns):\n",
      " #   Column              Non-Null Count  Dtype              \n",
      "---  ------              --------------  -----              \n",
      " 0   DateTime            9998 non-null   datetime64[ns]     \n",
      " 1   Time Zone           9998 non-null   object             \n",
      " 2   Sales Amount        9998 non-null   float64            \n",
      " 3   Country             9998 non-null   object             \n",
      " 4   Sales Person        9998 non-null   object             \n",
      " 5   DateTime_Localized  9998 non-null   object             \n",
      " 6   DateTime_UTC        9998 non-null   datetime64[ns, UTC]\n",
      "dtypes: datetime64[ns, UTC](1), datetime64[ns](1), float64(1), object(4)\n",
      "memory usage: 882.9+ KB\n"
     ]
    }
   ],
   "source": [
    "df.info()"
   ]
  },
  {
   "cell_type": "code",
   "execution_count": 298,
   "id": "781e6766-9fe7-45b6-8bc4-53adc8be885f",
   "metadata": {},
   "outputs": [],
   "source": [
    "# Analysis / Validation"
   ]
  },
  {
   "cell_type": "code",
   "execution_count": 302,
   "id": "effbc8ef-cd20-4dbf-b0d0-8fc306535ae9",
   "metadata": {},
   "outputs": [
    {
     "data": {
      "text/plain": [
       "Country\n",
       "Australia         18548078.80\n",
       "Germany           19862156.50\n",
       "Japan             19638421.38\n",
       "United Kingdom    19945753.23\n",
       "United States     20289638.47\n",
       "Name: Sales Amount, dtype: float64"
      ]
     },
     "execution_count": 302,
     "metadata": {},
     "output_type": "execute_result"
    }
   ],
   "source": [
    "SalesByCountry = df.groupby('Country')['Sales Amount'].sum()\n",
    "SalesByCountry"
   ]
  },
  {
   "cell_type": "code",
   "execution_count": 303,
   "id": "c8593512-d85d-4192-aceb-50223118275d",
   "metadata": {},
   "outputs": [
    {
     "data": {
      "image/png": "[encoded data removed]",
      "text/plain": [
       "<Figure size 640x480 with 1 Axes>"
      ]
     },
     "metadata": {},
     "output_type": "display_data"
    }
   ],
   "source": [
    "SalesByCountry.plot(kind='bar');"
   ]
  },
  {
   "cell_type": "code",
   "execution_count": 304,
   "id": "91686cca-5be3-469b-b6b1-e0082079c821",
   "metadata": {},
   "outputs": [
    {
     "data": {
      "text/plain": [
       "Sales Person\n",
       "Alice      20216678.02\n",
       "Bob        19432012.45\n",
       "Charlie    18415351.28\n",
       "David      20147755.70\n",
       "Eve        20072250.93\n",
       "Name: Sales Amount, dtype: float64"
      ]
     },
     "execution_count": 304,
     "metadata": {},
     "output_type": "execute_result"
    }
   ],
   "source": [
    "SalesBySP = df.groupby('Sales Person')['Sales Amount'].sum()\n",
    "SalesBySP"
   ]
  },
  {
   "cell_type": "code",
   "execution_count": 305,
   "id": "54cfb863-334e-46bb-ae61-57a4b721d664",
   "metadata": {},
   "outputs": [
    {
     "data": {
      "text/plain": [
       "<Axes: xlabel='Sales Person'>"
      ]
     },
     "execution_count": 305,
     "metadata": {},
     "output_type": "execute_result"
    },
    {
     "data": {
      "image/png": "[encoded data removed]",
      "text/plain": [
       "<Figure size 640x480 with 1 Axes>"
      ]
     },
     "metadata": {},
     "output_type": "display_data"
    }
   ],
   "source": [
    "SalesBySP.plot(kind='bar')"
   ]
  },
  {
   "cell_type": "code",
   "execution_count": 307,
   "id": "aa1a2a87-d3d2-4577-8922-304ac2cfa89e",
   "metadata": {},
   "outputs": [],
   "source": [
    "df.to_parquet('s3://techcatalyst-transformed/SalesTransformed/tarek', partition_cols=['Country'],\n",
    "                  storage_options={\n",
    "                   'key' : AWS_ACCESS_KEY,\n",
    "                   'secret' : AWS_SECRET_KEY\n",
    "               })\n"
   ]
  },
  {
   "cell_type": "code",
   "execution_count": null,
   "id": "b90f8e6b-6ffa-46f6-813c-e1ae2e60c95f",
   "metadata": {},
   "outputs": [],
   "source": []
  }
 ],
 "metadata": {
  "kernelspec": {
   "display_name": "Python [conda env:base] *",
   "language": "python",
   "name": "conda-base-py"
  },
  "language_info": {
   "codemirror_mode": {
    "name": "ipython",
    "version": 3
   },
   "file_extension": ".py",
   "mimetype": "text/x-python",
   "name": "python",
   "nbconvert_exporter": "python",
   "pygments_lexer": "ipython3",
   "version": "3.9.16"
  }
 },
 "nbformat": 4,
 "nbformat_minor": 5
}
