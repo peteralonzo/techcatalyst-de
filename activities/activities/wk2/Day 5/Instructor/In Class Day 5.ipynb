{
 "cells": [
  {
   "cell_type": "code",
   "execution_count": 1,
   "id": "c5c18824-fa0a-49de-aed4-6e0a28e379f2",
   "metadata": {},
   "outputs": [],
   "source": [
    "import datetime as dt\n",
    "import pandas as pd\n",
    "import calendar"
   ]
  },
  {
   "cell_type": "code",
   "execution_count": 3,
   "id": "6c9e04cb-900a-4694-b9ed-7e1b31967064",
   "metadata": {},
   "outputs": [],
   "source": [
    "todaydate = dt.date.today()"
   ]
  },
  {
   "cell_type": "code",
   "execution_count": 4,
   "id": "dc9497b1-eb5e-43ce-bbe3-bbb6504cde74",
   "metadata": {},
   "outputs": [
    {
     "data": {
      "text/plain": [
       "datetime.date(2024, 6, 28)"
      ]
     },
     "execution_count": 4,
     "metadata": {},
     "output_type": "execute_result"
    }
   ],
   "source": [
    "todaydate"
   ]
  },
  {
   "cell_type": "code",
   "execution_count": 5,
   "id": "6df720e7-332c-44bf-ac9d-b2b4d87503cd",
   "metadata": {},
   "outputs": [
    {
     "name": "stdout",
     "output_type": "stream",
     "text": [
      "Variable          Type             Data/Info\n",
      "--------------------------------------------\n",
      "NamespaceMagics   MetaHasTraits    <class 'IPython.core.magi<...>mespace.NamespaceMagics'>\n",
      "dt                module           <module 'datetime' from '<...>b/python3.9/datetime.py'>\n",
      "get_ipython       function         <function get_ipython at 0x106a08670>\n",
      "json              module           <module 'json' from '/opt<...>hon3.9/json/__init__.py'>\n",
      "pd                module           <module 'pandas' from '/o<...>ages/pandas/__init__.py'>\n",
      "sys               module           <module 'sys' (built-in)>\n",
      "todaydate         date             2024-06-28\n"
     ]
    }
   ],
   "source": [
    "%whos"
   ]
  },
  {
   "cell_type": "code",
   "execution_count": 6,
   "id": "b829404d-4017-4ae2-b42a-a704a18bfa54",
   "metadata": {},
   "outputs": [
    {
     "data": {
      "text/plain": [
       "datetime.date"
      ]
     },
     "execution_count": 6,
     "metadata": {},
     "output_type": "execute_result"
    }
   ],
   "source": [
    "type(todaydate)"
   ]
  },
  {
   "cell_type": "code",
   "execution_count": 7,
   "id": "5e1345e6-7249-4ec5-ad41-20a68beabe57",
   "metadata": {},
   "outputs": [
    {
     "name": "stdout",
     "output_type": "stream",
     "text": [
      "2024-06-28\n"
     ]
    }
   ],
   "source": [
    "print(todaydate)"
   ]
  },
  {
   "cell_type": "code",
   "execution_count": 9,
   "id": "410b74a6-397b-40ba-8756-9a8ffcde2875",
   "metadata": {},
   "outputs": [],
   "source": [
    "datetimetoday = dt.datetime.now()"
   ]
  },
  {
   "cell_type": "code",
   "execution_count": 10,
   "id": "961e24e1-8777-42a9-a44e-171d123f9017",
   "metadata": {},
   "outputs": [
    {
     "data": {
      "text/plain": [
       "datetime.datetime"
      ]
     },
     "execution_count": 10,
     "metadata": {},
     "output_type": "execute_result"
    }
   ],
   "source": [
    "type(datetimetoday)"
   ]
  },
  {
   "cell_type": "code",
   "execution_count": 11,
   "id": "73bd0da7-587c-4047-9df0-aae68d4cf4a2",
   "metadata": {},
   "outputs": [
    {
     "name": "stdout",
     "output_type": "stream",
     "text": [
      "Variable          Type             Data/Info\n",
      "--------------------------------------------\n",
      "NamespaceMagics   MetaHasTraits    <class 'IPython.core.magi<...>mespace.NamespaceMagics'>\n",
      "datetimetoday     datetime         2024-06-28 17:20:47.882160\n",
      "dt                module           <module 'datetime' from '<...>b/python3.9/datetime.py'>\n",
      "get_ipython       function         <function get_ipython at 0x106a08670>\n",
      "json              module           <module 'json' from '/opt<...>hon3.9/json/__init__.py'>\n",
      "pd                module           <module 'pandas' from '/o<...>ages/pandas/__init__.py'>\n",
      "sys               module           <module 'sys' (built-in)>\n",
      "todaydate         date             2024-06-28\n"
     ]
    }
   ],
   "source": [
    "%whos"
   ]
  },
  {
   "cell_type": "code",
   "execution_count": 12,
   "id": "0e943d4e-a8ca-4d0c-9654-90823e743cc1",
   "metadata": {},
   "outputs": [
    {
     "name": "stdout",
     "output_type": "stream",
     "text": [
      "2024-06-28 17:20:47.882160\n"
     ]
    }
   ],
   "source": [
    "print(datetimetoday)"
   ]
  },
  {
   "cell_type": "code",
   "execution_count": 13,
   "id": "dded6003-5d36-4168-9cb4-d9605d2af7f8",
   "metadata": {},
   "outputs": [
    {
     "data": {
      "text/plain": [
       "datetime.datetime(2024, 6, 28, 17, 23, 32, 64994)"
      ]
     },
     "execution_count": 13,
     "metadata": {},
     "output_type": "execute_result"
    }
   ],
   "source": [
    "dt.datetime.now()"
   ]
  },
  {
   "cell_type": "code",
   "execution_count": 23,
   "id": "952da80c-f9f9-4225-8ac2-dcdfddc28664",
   "metadata": {},
   "outputs": [
    {
     "ename": "ValueError",
     "evalue": "month must be in 1..12",
     "output_type": "error",
     "traceback": [
      "\u001b[0;31m---------------------------------------------------------------------------\u001b[0m",
      "\u001b[0;31mValueError\u001b[0m                                Traceback (most recent call last)",
      "Cell \u001b[0;32mIn[23], line 1\u001b[0m\n\u001b[0;32m----> 1\u001b[0m \u001b[38;5;28mprint\u001b[39m(\u001b[43mdt\u001b[49m\u001b[38;5;241;43m.\u001b[39;49m\u001b[43mdatetime\u001b[49m\u001b[43m(\u001b[49m\u001b[38;5;241;43m12\u001b[39;49m\u001b[43m,\u001b[49m\u001b[43m \u001b[49m\u001b[38;5;241;43m31\u001b[39;49m\u001b[43m,\u001b[49m\u001b[43m \u001b[49m\u001b[38;5;241;43m2001\u001b[39;49m\u001b[43m)\u001b[49m)\n",
      "\u001b[0;31mValueError\u001b[0m: month must be in 1..12"
     ]
    }
   ],
   "source": [
    "print(dt.datetime(2000, 12, 31))"
   ]
  },
  {
   "cell_type": "code",
   "execution_count": 18,
   "id": "f3a60015-0e33-4148-bc20-e07ad1c4b219",
   "metadata": {},
   "outputs": [
    {
     "ename": "TypeError",
     "evalue": "an integer is required (got type str)",
     "output_type": "error",
     "traceback": [
      "\u001b[0;31m---------------------------------------------------------------------------\u001b[0m",
      "\u001b[0;31mTypeError\u001b[0m                                 Traceback (most recent call last)",
      "Cell \u001b[0;32mIn[18], line 1\u001b[0m\n\u001b[0;32m----> 1\u001b[0m \u001b[43mdt\u001b[49m\u001b[38;5;241;43m.\u001b[39;49m\u001b[43mdatetime\u001b[49m\u001b[43m(\u001b[49m\u001b[38;5;124;43m'\u001b[39;49m\u001b[38;5;124;43m2000-12-31\u001b[39;49m\u001b[38;5;124;43m'\u001b[39;49m\u001b[43m)\u001b[49m\n",
      "\u001b[0;31mTypeError\u001b[0m: an integer is required (got type str)"
     ]
    }
   ],
   "source": [
    "dt.datetime('2000-12-31')"
   ]
  },
  {
   "cell_type": "code",
   "execution_count": 20,
   "id": "72426e02-ff1e-4cc3-87b2-ed2292b61d1e",
   "metadata": {},
   "outputs": [
    {
     "name": "stdout",
     "output_type": "stream",
     "text": [
      "2001-12-31 00:00:00\n"
     ]
    }
   ],
   "source": [
    "print(pd.to_datetime('2001-12-31'))"
   ]
  },
  {
   "cell_type": "code",
   "execution_count": 21,
   "id": "9ef079f7-5ea9-4064-a466-4fd59802a2cf",
   "metadata": {},
   "outputs": [
    {
     "name": "stdout",
     "output_type": "stream",
     "text": [
      "2001-12-31 00:00:00\n"
     ]
    }
   ],
   "source": [
    "print(pd.to_datetime('2001/12/31'))"
   ]
  },
  {
   "cell_type": "code",
   "execution_count": 22,
   "id": "8e2b4769-86d3-4499-8f14-10cdd0be4b40",
   "metadata": {},
   "outputs": [
    {
     "name": "stdout",
     "output_type": "stream",
     "text": [
      "2001-12-31 00:00:00\n"
     ]
    }
   ],
   "source": [
    "print(pd.to_datetime('12-31-2001'))"
   ]
  },
  {
   "cell_type": "code",
   "execution_count": 24,
   "id": "371b1fe6-ff44-484b-8e4e-0ba1b534f331",
   "metadata": {},
   "outputs": [
    {
     "data": {
      "text/plain": [
       "Timestamp('2021-12-31 00:00:00')"
      ]
     },
     "execution_count": 24,
     "metadata": {},
     "output_type": "execute_result"
    }
   ],
   "source": [
    "pd.to_datetime('December 31, 2021')"
   ]
  },
  {
   "cell_type": "code",
   "execution_count": 76,
   "id": "3e3212a2-df36-498a-8384-6ba1f540a858",
   "metadata": {},
   "outputs": [
    {
     "data": {
      "text/plain": [
       "'JAN222024'"
      ]
     },
     "execution_count": 76,
     "metadata": {},
     "output_type": "execute_result"
    }
   ],
   "source": [
    "('' # add a blank\n",
    "     .join('Jan*22*2024' # join to concat the list items\n",
    "           .upper() # uppercase what is in the list\n",
    "           .split('*')) # split the text by \"*\" into a list\n",
    ")\n"
   ]
  },
  {
   "cell_type": "code",
   "execution_count": 65,
   "id": "217d29e7-9cb6-499d-8fc3-d4279c5ea04f",
   "metadata": {},
   "outputs": [
    {
     "data": {
      "text/plain": [
       "'Jan222024'"
      ]
     },
     "execution_count": 65,
     "metadata": {},
     "output_type": "execute_result"
    }
   ],
   "source": [
    "''.join('Jan*22*2024'.split('*'))"
   ]
  },
  {
   "cell_type": "code",
   "execution_count": 78,
   "id": "82f8d29c-8ca9-45a9-87b7-62d47340aca2",
   "metadata": {},
   "outputs": [
    {
     "data": {
      "text/plain": [
       "Timestamp('2024-01-22 00:00:00')"
      ]
     },
     "execution_count": 78,
     "metadata": {},
     "output_type": "execute_result"
    }
   ],
   "source": [
    "pd.to_datetime('Jan*22*2024', format='%b*%d*%Y')"
   ]
  },
  {
   "cell_type": "code",
   "execution_count": 26,
   "id": "7a3d21b6-e321-402e-a455-216b1a126d3f",
   "metadata": {},
   "outputs": [
    {
     "data": {
      "text/plain": [
       "Timestamp('2021-12-31 00:00:00')"
      ]
     },
     "execution_count": 26,
     "metadata": {},
     "output_type": "execute_result"
    }
   ],
   "source": [
    "pd.to_datetime('20211231')"
   ]
  },
  {
   "cell_type": "code",
   "execution_count": 35,
   "id": "5a9cf7bd-7913-484e-990e-6d6578a71c29",
   "metadata": {},
   "outputs": [
    {
     "name": "stdout",
     "output_type": "stream",
     "text": [
      "error\n"
     ]
    }
   ],
   "source": [
    "try:\n",
    "    pd.to_datetime('Saturday, January 1, 2022', format = '%A, %B %d, %y')\n",
    "except:\n",
    "    print('error')"
   ]
  },
  {
   "cell_type": "code",
   "execution_count": 56,
   "id": "b7f8c5b3-3d4a-4bd3-945f-fce90593c604",
   "metadata": {},
   "outputs": [
    {
     "name": "stdout",
     "output_type": "stream",
     "text": [
      "hello \\t world\n"
     ]
    }
   ],
   "source": [
    "print('hello \\\\t world')"
   ]
  },
  {
   "cell_type": "code",
   "execution_count": null,
   "id": "d2a6324b-69b4-42ad-8a3b-665f96b00ee6",
   "metadata": {},
   "outputs": [],
   "source": [
    "Jan*22*2024'"
   ]
  },
  {
   "cell_type": "code",
   "execution_count": 85,
   "id": "dc592c37-f154-45d7-877a-e703e7732dc1",
   "metadata": {},
   "outputs": [],
   "source": [
    "df = pd.read_csv('test.csv', \n",
    "                     parse_dates=['Date'],\n",
    "                     date_format='%b*%d*%Y' # assuming date is coming as JAN*31*2024\n",
    "                )"
   ]
  },
  {
   "cell_type": "code",
   "execution_count": 92,
   "id": "972bd314-548e-4ddd-8eab-16c504372074",
   "metadata": {},
   "outputs": [],
   "source": [
    "df = pd.DataFrame(pd.date_range(start='2021-01-01', end='2021-02-01'), columns=['Date'])"
   ]
  },
  {
   "cell_type": "code",
   "execution_count": 103,
   "id": "fb107263-4d56-443d-8453-9160db81ad29",
   "metadata": {},
   "outputs": [
    {
     "data": {
      "text/plain": [
       "'hell**** w****rld'"
      ]
     },
     "execution_count": 103,
     "metadata": {},
     "output_type": "execute_result"
    }
   ],
   "source": [
    "'hello world'.replace('o', '****')"
   ]
  },
  {
   "cell_type": "code",
   "execution_count": 94,
   "id": "6cf43c60-383c-4d19-9e90-bc436d94b09e",
   "metadata": {},
   "outputs": [
    {
     "name": "stdout",
     "output_type": "stream",
     "text": [
      "<class 'pandas.core.frame.DataFrame'>\n",
      "RangeIndex: 32 entries, 0 to 31\n",
      "Data columns (total 1 columns):\n",
      " #   Column  Non-Null Count  Dtype         \n",
      "---  ------  --------------  -----         \n",
      " 0   Date    32 non-null     datetime64[ns]\n",
      "dtypes: datetime64[ns](1)\n",
      "memory usage: 384.0 bytes\n"
     ]
    }
   ],
   "source": [
    "df.info()"
   ]
  },
  {
   "cell_type": "code",
   "execution_count": 101,
   "id": "24f78071-749f-48f7-8b49-0e99dccd8229",
   "metadata": {},
   "outputs": [],
   "source": [
    "df['day name'] = df['Date'].dt.day_name()\n",
    "df['month'] = df['Date'].dt.month\n",
    "df['month name'] = df['Date'].dt.month_name()\n",
    "df['quarter'] = df['Date'].dt.quarter\n",
    "df['is_quarter_start'] = df['Date'].dt.is_quarter_start\n",
    "df['days_in_month'] = df['Date'].dt.days_in_month\n",
    "df['is_leap_year'] = df['Date'].dt.is_leap_year\n",
    "df['is_month_start'] = df['Date'].dt.is_month_start\n",
    "df['is_month_end'] = df['Date'].dt.is_month_end\n",
    "df['is_year_start'] = df['Date'].dt.is_year_start"
   ]
  },
  {
   "cell_type": "code",
   "execution_count": 105,
   "id": "9a4a6f37-be8a-499d-b556-aa6b4904cb55",
   "metadata": {},
   "outputs": [
    {
     "data": {
      "text/plain": [
       "0         Frid***y\n",
       "1     S***turd***y\n",
       "2         Sund***y\n",
       "3         Mond***y\n",
       "4        Tuesd***y\n",
       "5      Wednesd***y\n",
       "6       Thursd***y\n",
       "7         Frid***y\n",
       "8     S***turd***y\n",
       "9         Sund***y\n",
       "10        Mond***y\n",
       "11       Tuesd***y\n",
       "12     Wednesd***y\n",
       "13      Thursd***y\n",
       "14        Frid***y\n",
       "15    S***turd***y\n",
       "16        Sund***y\n",
       "17        Mond***y\n",
       "18       Tuesd***y\n",
       "19     Wednesd***y\n",
       "20      Thursd***y\n",
       "21        Frid***y\n",
       "22    S***turd***y\n",
       "23        Sund***y\n",
       "24        Mond***y\n",
       "25       Tuesd***y\n",
       "26     Wednesd***y\n",
       "27      Thursd***y\n",
       "28        Frid***y\n",
       "29    S***turd***y\n",
       "30        Sund***y\n",
       "31        Mond***y\n",
       "Name: day name, dtype: object"
      ]
     },
     "execution_count": 105,
     "metadata": {},
     "output_type": "execute_result"
    }
   ],
   "source": [
    "df['day name'].str.replace('a', '***')"
   ]
  },
  {
   "cell_type": "code",
   "execution_count": 118,
   "id": "b7f7a6f8-f4fc-4e8b-b5a3-7682186c0bdf",
   "metadata": {},
   "outputs": [
    {
     "name": "stderr",
     "output_type": "stream",
     "text": [
      "/var/folders/48/j6k669vx63qd_68k2_502cl40000gn/T/ipykernel_21508/3604549807.py:1: UserWarning: Could not infer format, so each element will be parsed individually, falling back to `dateutil`. To ensure parsing is consistent and as-expected, please specify a format.\n",
      "  pd.to_datetime(['Something 2021', '2021 Jan', 'Jan 1, 2021', 'April 1, 2021', '12/31/2021'], errors='coerce')\n"
     ]
    },
    {
     "data": {
      "text/plain": [
       "DatetimeIndex(['NaT', '2021-01-01', '2021-01-01', '2021-04-01', '2021-12-31'], dtype='datetime64[ns]', freq=None)"
      ]
     },
     "execution_count": 118,
     "metadata": {},
     "output_type": "execute_result"
    }
   ],
   "source": [
    "pd.to_datetime(['Something 2021', '2021 Jan', 'Jan 1, 2021', 'April 1, 2021', '12/31/2021'], errors='coerce')"
   ]
  },
  {
   "cell_type": "code",
   "execution_count": 120,
   "id": "724c8d29-6a05-46df-a4d6-df79c28a1579",
   "metadata": {},
   "outputs": [],
   "source": [
    "import numpy as np"
   ]
  },
  {
   "cell_type": "code",
   "execution_count": 121,
   "id": "a5d0c158-8494-4593-86b0-32a9d87812e4",
   "metadata": {},
   "outputs": [
    {
     "data": {
      "text/html": [
       "<div>\n",
       "<style scoped>\n",
       "    .dataframe tbody tr th:only-of-type {\n",
       "        vertical-align: middle;\n",
       "    }\n",
       "\n",
       "    .dataframe tbody tr th {\n",
       "        vertical-align: top;\n",
       "    }\n",
       "\n",
       "    .dataframe thead th {\n",
       "        text-align: right;\n",
       "    }\n",
       "</style>\n",
       "<table border=\"1\" class=\"dataframe\">\n",
       "  <thead>\n",
       "    <tr style=\"text-align: right;\">\n",
       "      <th></th>\n",
       "      <th>missing types</th>\n",
       "    </tr>\n",
       "  </thead>\n",
       "  <tbody>\n",
       "    <tr>\n",
       "      <th>0</th>\n",
       "      <td>NaT</td>\n",
       "    </tr>\n",
       "    <tr>\n",
       "      <th>1</th>\n",
       "      <td>&lt;NA&gt;</td>\n",
       "    </tr>\n",
       "    <tr>\n",
       "      <th>2</th>\n",
       "      <td>NaN</td>\n",
       "    </tr>\n",
       "    <tr>\n",
       "      <th>3</th>\n",
       "      <td>None</td>\n",
       "    </tr>\n",
       "  </tbody>\n",
       "</table>\n",
       "</div>"
      ],
      "text/plain": [
       "  missing types\n",
       "0           NaT\n",
       "1          <NA>\n",
       "2           NaN\n",
       "3          None"
      ]
     },
     "execution_count": 121,
     "metadata": {},
     "output_type": "execute_result"
    }
   ],
   "source": [
    "pd.DataFrame({'missing types' : [pd.NaT, pd.NA, np.NaN, None]})"
   ]
  },
  {
   "cell_type": "code",
   "execution_count": 122,
   "id": "7bf32519-af0b-4cf4-b423-26994357412c",
   "metadata": {},
   "outputs": [],
   "source": [
    "hello = None"
   ]
  },
  {
   "cell_type": "code",
   "execution_count": 125,
   "id": "ef8a74d4-77bf-4472-b302-8a229e6831c9",
   "metadata": {},
   "outputs": [],
   "source": [
    "hello"
   ]
  },
  {
   "cell_type": "code",
   "execution_count": 134,
   "id": "555d99f3-6bd9-4505-8d37-13548765c3f8",
   "metadata": {},
   "outputs": [],
   "source": [
    "co2 = pd.read_csv('../datasets/co2_missing.csv', \n",
    "                 index_col='year',\n",
    "                 parse_dates=['year'])"
   ]
  },
  {
   "cell_type": "code",
   "execution_count": 142,
   "id": "3dd2e345-bbd6-470f-be5b-8a759a0e93e8",
   "metadata": {},
   "outputs": [],
   "source": [
    "mask = co2.isna()"
   ]
  },
  {
   "cell_type": "code",
   "execution_count": 146,
   "id": "3eaface0-37c8-47a9-856e-cbb77e5afa3e",
   "metadata": {},
   "outputs": [
    {
     "data": {
      "text/html": [
       "<div>\n",
       "<style scoped>\n",
       "    .dataframe tbody tr th:only-of-type {\n",
       "        vertical-align: middle;\n",
       "    }\n",
       "\n",
       "    .dataframe tbody tr th {\n",
       "        vertical-align: top;\n",
       "    }\n",
       "\n",
       "    .dataframe thead th {\n",
       "        text-align: right;\n",
       "    }\n",
       "</style>\n",
       "<table border=\"1\" class=\"dataframe\">\n",
       "  <thead>\n",
       "    <tr style=\"text-align: right;\">\n",
       "      <th></th>\n",
       "      <th>co2</th>\n",
       "    </tr>\n",
       "    <tr>\n",
       "      <th>year</th>\n",
       "      <th></th>\n",
       "    </tr>\n",
       "  </thead>\n",
       "  <tbody>\n",
       "    <tr>\n",
       "      <th>1750-01-01</th>\n",
       "      <td>False</td>\n",
       "    </tr>\n",
       "    <tr>\n",
       "      <th>1760-01-01</th>\n",
       "      <td>False</td>\n",
       "    </tr>\n",
       "    <tr>\n",
       "      <th>1770-01-01</th>\n",
       "      <td>False</td>\n",
       "    </tr>\n",
       "    <tr>\n",
       "      <th>1780-01-01</th>\n",
       "      <td>False</td>\n",
       "    </tr>\n",
       "    <tr>\n",
       "      <th>1790-01-01</th>\n",
       "      <td>False</td>\n",
       "    </tr>\n",
       "    <tr>\n",
       "      <th>...</th>\n",
       "      <td>...</td>\n",
       "    </tr>\n",
       "    <tr>\n",
       "      <th>2016-01-01</th>\n",
       "      <td>False</td>\n",
       "    </tr>\n",
       "    <tr>\n",
       "      <th>2017-01-01</th>\n",
       "      <td>False</td>\n",
       "    </tr>\n",
       "    <tr>\n",
       "      <th>2018-01-01</th>\n",
       "      <td>False</td>\n",
       "    </tr>\n",
       "    <tr>\n",
       "      <th>2019-01-01</th>\n",
       "      <td>False</td>\n",
       "    </tr>\n",
       "    <tr>\n",
       "      <th>2020-01-01</th>\n",
       "      <td>False</td>\n",
       "    </tr>\n",
       "  </tbody>\n",
       "</table>\n",
       "<p>226 rows × 1 columns</p>\n",
       "</div>"
      ],
      "text/plain": [
       "              co2\n",
       "year             \n",
       "1750-01-01  False\n",
       "1760-01-01  False\n",
       "1770-01-01  False\n",
       "1780-01-01  False\n",
       "1790-01-01  False\n",
       "...           ...\n",
       "2016-01-01  False\n",
       "2017-01-01  False\n",
       "2018-01-01  False\n",
       "2019-01-01  False\n",
       "2020-01-01  False\n",
       "\n",
       "[226 rows x 1 columns]"
      ]
     },
     "execution_count": 146,
     "metadata": {},
     "output_type": "execute_result"
    }
   ],
   "source": [
    "mask"
   ]
  },
  {
   "cell_type": "markdown",
   "id": "1520a661-ec29-41ea-a4c5-ca61abf87351",
   "metadata": {},
   "source": []
  },
  {
   "cell_type": "code",
   "execution_count": 140,
   "id": "89fd9e0f-2584-4240-9d5d-f11e3dfe09d7",
   "metadata": {},
   "outputs": [
    {
     "data": {
      "text/html": [
       "<div>\n",
       "<style scoped>\n",
       "    .dataframe tbody tr th:only-of-type {\n",
       "        vertical-align: middle;\n",
       "    }\n",
       "\n",
       "    .dataframe tbody tr th {\n",
       "        vertical-align: top;\n",
       "    }\n",
       "\n",
       "    .dataframe thead th {\n",
       "        text-align: right;\n",
       "    }\n",
       "</style>\n",
       "<table border=\"1\" class=\"dataframe\">\n",
       "  <thead>\n",
       "    <tr style=\"text-align: right;\">\n",
       "      <th></th>\n",
       "      <th>co2</th>\n",
       "    </tr>\n",
       "    <tr>\n",
       "      <th>year</th>\n",
       "      <th></th>\n",
       "    </tr>\n",
       "  </thead>\n",
       "  <tbody>\n",
       "    <tr>\n",
       "      <th>1985-01-01</th>\n",
       "      <td>NaN</td>\n",
       "    </tr>\n",
       "    <tr>\n",
       "      <th>1986-01-01</th>\n",
       "      <td>NaN</td>\n",
       "    </tr>\n",
       "    <tr>\n",
       "      <th>1987-01-01</th>\n",
       "      <td>NaN</td>\n",
       "    </tr>\n",
       "    <tr>\n",
       "      <th>1988-01-01</th>\n",
       "      <td>4.2953</td>\n",
       "    </tr>\n",
       "    <tr>\n",
       "      <th>1989-01-01</th>\n",
       "      <td>4.2782</td>\n",
       "    </tr>\n",
       "  </tbody>\n",
       "</table>\n",
       "</div>"
      ],
      "text/plain": [
       "               co2\n",
       "year              \n",
       "1985-01-01     NaN\n",
       "1986-01-01     NaN\n",
       "1987-01-01     NaN\n",
       "1988-01-01  4.2953\n",
       "1989-01-01  4.2782"
      ]
     },
     "execution_count": 140,
     "metadata": {},
     "output_type": "execute_result"
    }
   ],
   "source": [
    "co2[190:195]"
   ]
  },
  {
   "cell_type": "code",
   "execution_count": 144,
   "id": "51cd3355-edfa-4a68-9527-3a9a10138ff7",
   "metadata": {},
   "outputs": [
    {
     "data": {
      "text/html": [
       "<div>\n",
       "<style scoped>\n",
       "    .dataframe tbody tr th:only-of-type {\n",
       "        vertical-align: middle;\n",
       "    }\n",
       "\n",
       "    .dataframe tbody tr th {\n",
       "        vertical-align: top;\n",
       "    }\n",
       "\n",
       "    .dataframe thead th {\n",
       "        text-align: right;\n",
       "    }\n",
       "</style>\n",
       "<table border=\"1\" class=\"dataframe\">\n",
       "  <thead>\n",
       "    <tr style=\"text-align: right;\">\n",
       "      <th></th>\n",
       "      <th>co2</th>\n",
       "    </tr>\n",
       "    <tr>\n",
       "      <th>year</th>\n",
       "      <th></th>\n",
       "    </tr>\n",
       "  </thead>\n",
       "  <tbody>\n",
       "    <tr>\n",
       "      <th>1750-01-01</th>\n",
       "      <td>NaN</td>\n",
       "    </tr>\n",
       "    <tr>\n",
       "      <th>1760-01-01</th>\n",
       "      <td>NaN</td>\n",
       "    </tr>\n",
       "    <tr>\n",
       "      <th>1770-01-01</th>\n",
       "      <td>NaN</td>\n",
       "    </tr>\n",
       "    <tr>\n",
       "      <th>1780-01-01</th>\n",
       "      <td>NaN</td>\n",
       "    </tr>\n",
       "    <tr>\n",
       "      <th>1790-01-01</th>\n",
       "      <td>NaN</td>\n",
       "    </tr>\n",
       "    <tr>\n",
       "      <th>...</th>\n",
       "      <td>...</td>\n",
       "    </tr>\n",
       "    <tr>\n",
       "      <th>2016-01-01</th>\n",
       "      <td>NaN</td>\n",
       "    </tr>\n",
       "    <tr>\n",
       "      <th>2017-01-01</th>\n",
       "      <td>NaN</td>\n",
       "    </tr>\n",
       "    <tr>\n",
       "      <th>2018-01-01</th>\n",
       "      <td>NaN</td>\n",
       "    </tr>\n",
       "    <tr>\n",
       "      <th>2019-01-01</th>\n",
       "      <td>NaN</td>\n",
       "    </tr>\n",
       "    <tr>\n",
       "      <th>2020-01-01</th>\n",
       "      <td>NaN</td>\n",
       "    </tr>\n",
       "  </tbody>\n",
       "</table>\n",
       "<p>226 rows × 1 columns</p>\n",
       "</div>"
      ],
      "text/plain": [
       "            co2\n",
       "year           \n",
       "1750-01-01  NaN\n",
       "1760-01-01  NaN\n",
       "1770-01-01  NaN\n",
       "1780-01-01  NaN\n",
       "1790-01-01  NaN\n",
       "...         ...\n",
       "2016-01-01  NaN\n",
       "2017-01-01  NaN\n",
       "2018-01-01  NaN\n",
       "2019-01-01  NaN\n",
       "2020-01-01  NaN\n",
       "\n",
       "[226 rows x 1 columns]"
      ]
     },
     "execution_count": 144,
     "metadata": {},
     "output_type": "execute_result"
    }
   ],
   "source": [
    "co2[mask.index]"
   ]
  },
  {
   "cell_type": "code",
   "execution_count": 164,
   "id": "6b7ba75f-b88d-430d-8f69-b9fc79b6dd68",
   "metadata": {},
   "outputs": [],
   "source": [
    "new = pd.read_csv('missing.csv', \n",
    "                      date_format='%b*%d*%Y', \n",
    "                      index_col='Date',\n",
    "                        na_values={'<NO>', '?'})"
   ]
  },
  {
   "cell_type": "code",
   "execution_count": 165,
   "id": "8e87ff34-a051-4d95-9da1-cd8ed48897ef",
   "metadata": {},
   "outputs": [
    {
     "data": {
      "text/plain": [
       "Sales    9\n",
       "dtype: int64"
      ]
     },
     "execution_count": 165,
     "metadata": {},
     "output_type": "execute_result"
    }
   ],
   "source": [
    "new.isna().sum()"
   ]
  },
  {
   "cell_type": "code",
   "execution_count": 168,
   "id": "5e6a3e9f-bad9-4ecb-a6e7-5b13dcd8d327",
   "metadata": {},
   "outputs": [],
   "source": [
    "new.reset_index(inplace=True)"
   ]
  },
  {
   "cell_type": "code",
   "execution_count": 171,
   "id": "fad3a7e2-7154-4e9a-9de4-21da02356504",
   "metadata": {},
   "outputs": [
    {
     "name": "stdout",
     "output_type": "stream",
     "text": [
      "<class 'pandas.core.frame.DataFrame'>\n",
      "RangeIndex: 24 entries, 0 to 23\n",
      "Data columns (total 2 columns):\n",
      " #   Column  Non-Null Count  Dtype         \n",
      "---  ------  --------------  -----         \n",
      " 0   Date    24 non-null     datetime64[ns]\n",
      " 1   Sales   15 non-null     float64       \n",
      "dtypes: datetime64[ns](1), float64(1)\n",
      "memory usage: 512.0 bytes\n"
     ]
    }
   ],
   "source": [
    "new.info()"
   ]
  },
  {
   "cell_type": "code",
   "execution_count": 172,
   "id": "c537cd99-5188-4b78-b0a9-d51075395f61",
   "metadata": {},
   "outputs": [
    {
     "data": {
      "text/html": [
       "<div>\n",
       "<style scoped>\n",
       "    .dataframe tbody tr th:only-of-type {\n",
       "        vertical-align: middle;\n",
       "    }\n",
       "\n",
       "    .dataframe tbody tr th {\n",
       "        vertical-align: top;\n",
       "    }\n",
       "\n",
       "    .dataframe thead th {\n",
       "        text-align: right;\n",
       "    }\n",
       "</style>\n",
       "<table border=\"1\" class=\"dataframe\">\n",
       "  <thead>\n",
       "    <tr style=\"text-align: right;\">\n",
       "      <th></th>\n",
       "      <th>Date</th>\n",
       "      <th>Sales</th>\n",
       "    </tr>\n",
       "  </thead>\n",
       "  <tbody>\n",
       "    <tr>\n",
       "      <th>0</th>\n",
       "      <td>2022-01-31</td>\n",
       "      <td>NaN</td>\n",
       "    </tr>\n",
       "    <tr>\n",
       "      <th>1</th>\n",
       "      <td>2023-01-31</td>\n",
       "      <td>NaN</td>\n",
       "    </tr>\n",
       "    <tr>\n",
       "      <th>2</th>\n",
       "      <td>2024-01-31</td>\n",
       "      <td>NaN</td>\n",
       "    </tr>\n",
       "    <tr>\n",
       "      <th>3</th>\n",
       "      <td>2025-01-31</td>\n",
       "      <td>NaN</td>\n",
       "    </tr>\n",
       "    <tr>\n",
       "      <th>4</th>\n",
       "      <td>2026-01-31</td>\n",
       "      <td>NaN</td>\n",
       "    </tr>\n",
       "    <tr>\n",
       "      <th>5</th>\n",
       "      <td>2027-01-31</td>\n",
       "      <td>NaN</td>\n",
       "    </tr>\n",
       "    <tr>\n",
       "      <th>6</th>\n",
       "      <td>2028-01-31</td>\n",
       "      <td>NaN</td>\n",
       "    </tr>\n",
       "    <tr>\n",
       "      <th>7</th>\n",
       "      <td>2029-01-31</td>\n",
       "      <td>NaN</td>\n",
       "    </tr>\n",
       "    <tr>\n",
       "      <th>8</th>\n",
       "      <td>2030-01-31</td>\n",
       "      <td>NaN</td>\n",
       "    </tr>\n",
       "    <tr>\n",
       "      <th>9</th>\n",
       "      <td>2031-01-31</td>\n",
       "      <td>3981.0</td>\n",
       "    </tr>\n",
       "    <tr>\n",
       "      <th>10</th>\n",
       "      <td>2032-01-31</td>\n",
       "      <td>6082.0</td>\n",
       "    </tr>\n",
       "    <tr>\n",
       "      <th>11</th>\n",
       "      <td>2033-01-31</td>\n",
       "      <td>2944.0</td>\n",
       "    </tr>\n",
       "    <tr>\n",
       "      <th>12</th>\n",
       "      <td>2034-01-31</td>\n",
       "      <td>7300.0</td>\n",
       "    </tr>\n",
       "    <tr>\n",
       "      <th>13</th>\n",
       "      <td>2035-01-31</td>\n",
       "      <td>2588.0</td>\n",
       "    </tr>\n",
       "    <tr>\n",
       "      <th>14</th>\n",
       "      <td>2036-01-31</td>\n",
       "      <td>8054.0</td>\n",
       "    </tr>\n",
       "    <tr>\n",
       "      <th>15</th>\n",
       "      <td>2037-01-31</td>\n",
       "      <td>4598.0</td>\n",
       "    </tr>\n",
       "    <tr>\n",
       "      <th>16</th>\n",
       "      <td>2038-01-31</td>\n",
       "      <td>4449.0</td>\n",
       "    </tr>\n",
       "    <tr>\n",
       "      <th>17</th>\n",
       "      <td>2039-01-31</td>\n",
       "      <td>6088.0</td>\n",
       "    </tr>\n",
       "    <tr>\n",
       "      <th>18</th>\n",
       "      <td>2040-01-31</td>\n",
       "      <td>3697.0</td>\n",
       "    </tr>\n",
       "    <tr>\n",
       "      <th>19</th>\n",
       "      <td>2041-01-31</td>\n",
       "      <td>5673.0</td>\n",
       "    </tr>\n",
       "    <tr>\n",
       "      <th>20</th>\n",
       "      <td>2042-01-31</td>\n",
       "      <td>7195.0</td>\n",
       "    </tr>\n",
       "    <tr>\n",
       "      <th>21</th>\n",
       "      <td>2043-01-31</td>\n",
       "      <td>7185.0</td>\n",
       "    </tr>\n",
       "    <tr>\n",
       "      <th>22</th>\n",
       "      <td>2044-01-31</td>\n",
       "      <td>6931.0</td>\n",
       "    </tr>\n",
       "    <tr>\n",
       "      <th>23</th>\n",
       "      <td>2045-01-31</td>\n",
       "      <td>5757.0</td>\n",
       "    </tr>\n",
       "  </tbody>\n",
       "</table>\n",
       "</div>"
      ],
      "text/plain": [
       "         Date   Sales\n",
       "0  2022-01-31     NaN\n",
       "1  2023-01-31     NaN\n",
       "2  2024-01-31     NaN\n",
       "3  2025-01-31     NaN\n",
       "4  2026-01-31     NaN\n",
       "5  2027-01-31     NaN\n",
       "6  2028-01-31     NaN\n",
       "7  2029-01-31     NaN\n",
       "8  2030-01-31     NaN\n",
       "9  2031-01-31  3981.0\n",
       "10 2032-01-31  6082.0\n",
       "11 2033-01-31  2944.0\n",
       "12 2034-01-31  7300.0\n",
       "13 2035-01-31  2588.0\n",
       "14 2036-01-31  8054.0\n",
       "15 2037-01-31  4598.0\n",
       "16 2038-01-31  4449.0\n",
       "17 2039-01-31  6088.0\n",
       "18 2040-01-31  3697.0\n",
       "19 2041-01-31  5673.0\n",
       "20 2042-01-31  7195.0\n",
       "21 2043-01-31  7185.0\n",
       "22 2044-01-31  6931.0\n",
       "23 2045-01-31  5757.0"
      ]
     },
     "execution_count": 172,
     "metadata": {},
     "output_type": "execute_result"
    }
   ],
   "source": [
    "new"
   ]
  },
  {
   "cell_type": "code",
   "execution_count": 173,
   "id": "849621a4-7219-4a58-94a8-e9536752ef77",
   "metadata": {},
   "outputs": [],
   "source": [
    "new.to_csv('test1.csv', index=False)\n",
    "new.to_parquet('test1.parquet', index=False)"
   ]
  },
  {
   "cell_type": "code",
   "execution_count": 186,
   "id": "dd97f576-05da-4e36-a165-75979ad9200d",
   "metadata": {},
   "outputs": [],
   "source": [
    "new.set_index('Date', inplace=True)"
   ]
  },
  {
   "cell_type": "code",
   "execution_count": 188,
   "id": "68e54478-3ddd-4f31-be51-0d5fd0e013be",
   "metadata": {},
   "outputs": [
    {
     "data": {
      "text/html": [
       "<div>\n",
       "<style scoped>\n",
       "    .dataframe tbody tr th:only-of-type {\n",
       "        vertical-align: middle;\n",
       "    }\n",
       "\n",
       "    .dataframe tbody tr th {\n",
       "        vertical-align: top;\n",
       "    }\n",
       "\n",
       "    .dataframe thead th {\n",
       "        text-align: right;\n",
       "    }\n",
       "</style>\n",
       "<table border=\"1\" class=\"dataframe\">\n",
       "  <thead>\n",
       "    <tr style=\"text-align: right;\">\n",
       "      <th></th>\n",
       "      <th>Sales</th>\n",
       "    </tr>\n",
       "    <tr>\n",
       "      <th>Date</th>\n",
       "      <th></th>\n",
       "    </tr>\n",
       "  </thead>\n",
       "  <tbody>\n",
       "    <tr>\n",
       "      <th>2022-01-31</th>\n",
       "      <td>NaN</td>\n",
       "    </tr>\n",
       "    <tr>\n",
       "      <th>2023-01-31</th>\n",
       "      <td>NaN</td>\n",
       "    </tr>\n",
       "    <tr>\n",
       "      <th>2024-01-31</th>\n",
       "      <td>NaN</td>\n",
       "    </tr>\n",
       "    <tr>\n",
       "      <th>2025-01-31</th>\n",
       "      <td>NaN</td>\n",
       "    </tr>\n",
       "    <tr>\n",
       "      <th>2026-01-31</th>\n",
       "      <td>NaN</td>\n",
       "    </tr>\n",
       "  </tbody>\n",
       "</table>\n",
       "</div>"
      ],
      "text/plain": [
       "            Sales\n",
       "Date             \n",
       "2022-01-31    NaN\n",
       "2023-01-31    NaN\n",
       "2024-01-31    NaN\n",
       "2025-01-31    NaN\n",
       "2026-01-31    NaN"
      ]
     },
     "execution_count": 188,
     "metadata": {},
     "output_type": "execute_result"
    }
   ],
   "source": [
    "new.head()"
   ]
  },
  {
   "cell_type": "code",
   "execution_count": 197,
   "id": "3ed09b02-f517-410a-b9eb-25db1c007921",
   "metadata": {},
   "outputs": [
    {
     "data": {
      "text/html": [
       "<div>\n",
       "<style scoped>\n",
       "    .dataframe tbody tr th:only-of-type {\n",
       "        vertical-align: middle;\n",
       "    }\n",
       "\n",
       "    .dataframe tbody tr th {\n",
       "        vertical-align: top;\n",
       "    }\n",
       "\n",
       "    .dataframe thead th {\n",
       "        text-align: right;\n",
       "    }\n",
       "</style>\n",
       "<table border=\"1\" class=\"dataframe\">\n",
       "  <thead>\n",
       "    <tr style=\"text-align: right;\">\n",
       "      <th></th>\n",
       "      <th>Sales</th>\n",
       "    </tr>\n",
       "    <tr>\n",
       "      <th>Date</th>\n",
       "      <th></th>\n",
       "    </tr>\n",
       "  </thead>\n",
       "  <tbody>\n",
       "    <tr>\n",
       "      <th>2022-01-31</th>\n",
       "      <td>NaN</td>\n",
       "    </tr>\n",
       "    <tr>\n",
       "      <th>2023-01-31</th>\n",
       "      <td>NaN</td>\n",
       "    </tr>\n",
       "    <tr>\n",
       "      <th>2024-01-31</th>\n",
       "      <td>NaN</td>\n",
       "    </tr>\n",
       "    <tr>\n",
       "      <th>2025-01-31</th>\n",
       "      <td>NaN</td>\n",
       "    </tr>\n",
       "    <tr>\n",
       "      <th>2026-01-31</th>\n",
       "      <td>NaN</td>\n",
       "    </tr>\n",
       "    <tr>\n",
       "      <th>2027-01-31</th>\n",
       "      <td>NaN</td>\n",
       "    </tr>\n",
       "    <tr>\n",
       "      <th>2028-01-31</th>\n",
       "      <td>NaN</td>\n",
       "    </tr>\n",
       "    <tr>\n",
       "      <th>2029-01-31</th>\n",
       "      <td>NaN</td>\n",
       "    </tr>\n",
       "    <tr>\n",
       "      <th>2030-01-31</th>\n",
       "      <td>NaN</td>\n",
       "    </tr>\n",
       "    <tr>\n",
       "      <th>2031-01-31</th>\n",
       "      <td>3981.0</td>\n",
       "    </tr>\n",
       "    <tr>\n",
       "      <th>2032-01-31</th>\n",
       "      <td>6082.0</td>\n",
       "    </tr>\n",
       "    <tr>\n",
       "      <th>2033-01-31</th>\n",
       "      <td>2944.0</td>\n",
       "    </tr>\n",
       "    <tr>\n",
       "      <th>2034-01-31</th>\n",
       "      <td>7300.0</td>\n",
       "    </tr>\n",
       "    <tr>\n",
       "      <th>2035-01-31</th>\n",
       "      <td>2588.0</td>\n",
       "    </tr>\n",
       "    <tr>\n",
       "      <th>2036-01-31</th>\n",
       "      <td>8054.0</td>\n",
       "    </tr>\n",
       "    <tr>\n",
       "      <th>2037-01-31</th>\n",
       "      <td>4598.0</td>\n",
       "    </tr>\n",
       "    <tr>\n",
       "      <th>2038-01-31</th>\n",
       "      <td>4449.0</td>\n",
       "    </tr>\n",
       "    <tr>\n",
       "      <th>2039-01-31</th>\n",
       "      <td>6088.0</td>\n",
       "    </tr>\n",
       "    <tr>\n",
       "      <th>2040-01-31</th>\n",
       "      <td>3697.0</td>\n",
       "    </tr>\n",
       "    <tr>\n",
       "      <th>2041-01-31</th>\n",
       "      <td>5673.0</td>\n",
       "    </tr>\n",
       "    <tr>\n",
       "      <th>2042-01-31</th>\n",
       "      <td>7195.0</td>\n",
       "    </tr>\n",
       "    <tr>\n",
       "      <th>2043-01-31</th>\n",
       "      <td>7185.0</td>\n",
       "    </tr>\n",
       "    <tr>\n",
       "      <th>2044-01-31</th>\n",
       "      <td>6931.0</td>\n",
       "    </tr>\n",
       "    <tr>\n",
       "      <th>2045-01-31</th>\n",
       "      <td>5757.0</td>\n",
       "    </tr>\n",
       "  </tbody>\n",
       "</table>\n",
       "</div>"
      ],
      "text/plain": [
       "             Sales\n",
       "Date              \n",
       "2022-01-31     NaN\n",
       "2023-01-31     NaN\n",
       "2024-01-31     NaN\n",
       "2025-01-31     NaN\n",
       "2026-01-31     NaN\n",
       "2027-01-31     NaN\n",
       "2028-01-31     NaN\n",
       "2029-01-31     NaN\n",
       "2030-01-31     NaN\n",
       "2031-01-31  3981.0\n",
       "2032-01-31  6082.0\n",
       "2033-01-31  2944.0\n",
       "2034-01-31  7300.0\n",
       "2035-01-31  2588.0\n",
       "2036-01-31  8054.0\n",
       "2037-01-31  4598.0\n",
       "2038-01-31  4449.0\n",
       "2039-01-31  6088.0\n",
       "2040-01-31  3697.0\n",
       "2041-01-31  5673.0\n",
       "2042-01-31  7195.0\n",
       "2043-01-31  7185.0\n",
       "2044-01-31  6931.0\n",
       "2045-01-31  5757.0"
      ]
     },
     "execution_count": 197,
     "metadata": {},
     "output_type": "execute_result"
    }
   ],
   "source": [
    "new"
   ]
  },
  {
   "cell_type": "code",
   "execution_count": 198,
   "id": "688dee37-f91d-4b58-8abb-15d9a5ee42b1",
   "metadata": {},
   "outputs": [],
   "source": [
    "new.to_csv('test1.csv')\n"
   ]
  },
  {
   "cell_type": "code",
   "execution_count": 194,
   "id": "921658e1-4042-4586-8d74-223f59a27b82",
   "metadata": {},
   "outputs": [],
   "source": [
    "new.to_parquet('test1.parquet')"
   ]
  },
  {
   "cell_type": "code",
   "execution_count": 199,
   "id": "8ff556e8-aed3-4d7f-9e3c-68f92b6a5d42",
   "metadata": {},
   "outputs": [],
   "source": [
    "new_csv_read = pd.read_csv('test1.csv')"
   ]
  },
  {
   "cell_type": "code",
   "execution_count": 178,
   "id": "1504c59f-acdf-40bc-85b3-964ae74d5a30",
   "metadata": {},
   "outputs": [
    {
     "name": "stdout",
     "output_type": "stream",
     "text": [
      "<class 'pandas.core.frame.DataFrame'>\n",
      "RangeIndex: 24 entries, 0 to 23\n",
      "Data columns (total 2 columns):\n",
      " #   Column  Non-Null Count  Dtype  \n",
      "---  ------  --------------  -----  \n",
      " 0   Date    24 non-null     object \n",
      " 1   Sales   15 non-null     float64\n",
      "dtypes: float64(1), object(1)\n",
      "memory usage: 512.0+ bytes\n"
     ]
    }
   ],
   "source": [
    "new_csv_read.info()"
   ]
  },
  {
   "cell_type": "code",
   "execution_count": 195,
   "id": "0ab9203f-8d20-4f1b-90db-9a6928dfe893",
   "metadata": {},
   "outputs": [],
   "source": [
    "new_parquet_read = pd.read_parquet('test1.parquet')"
   ]
  },
  {
   "cell_type": "code",
   "execution_count": 196,
   "id": "61d6d900-3cb5-4eb8-a6f1-0a142e099b98",
   "metadata": {},
   "outputs": [
    {
     "data": {
      "text/html": [
       "<div>\n",
       "<style scoped>\n",
       "    .dataframe tbody tr th:only-of-type {\n",
       "        vertical-align: middle;\n",
       "    }\n",
       "\n",
       "    .dataframe tbody tr th {\n",
       "        vertical-align: top;\n",
       "    }\n",
       "\n",
       "    .dataframe thead th {\n",
       "        text-align: right;\n",
       "    }\n",
       "</style>\n",
       "<table border=\"1\" class=\"dataframe\">\n",
       "  <thead>\n",
       "    <tr style=\"text-align: right;\">\n",
       "      <th></th>\n",
       "      <th>Sales</th>\n",
       "    </tr>\n",
       "    <tr>\n",
       "      <th>Date</th>\n",
       "      <th></th>\n",
       "    </tr>\n",
       "  </thead>\n",
       "  <tbody>\n",
       "    <tr>\n",
       "      <th>2022-01-31</th>\n",
       "      <td>NaN</td>\n",
       "    </tr>\n",
       "    <tr>\n",
       "      <th>2023-01-31</th>\n",
       "      <td>NaN</td>\n",
       "    </tr>\n",
       "    <tr>\n",
       "      <th>2024-01-31</th>\n",
       "      <td>NaN</td>\n",
       "    </tr>\n",
       "    <tr>\n",
       "      <th>2025-01-31</th>\n",
       "      <td>NaN</td>\n",
       "    </tr>\n",
       "    <tr>\n",
       "      <th>2026-01-31</th>\n",
       "      <td>NaN</td>\n",
       "    </tr>\n",
       "  </tbody>\n",
       "</table>\n",
       "</div>"
      ],
      "text/plain": [
       "            Sales\n",
       "Date             \n",
       "2022-01-31    NaN\n",
       "2023-01-31    NaN\n",
       "2024-01-31    NaN\n",
       "2025-01-31    NaN\n",
       "2026-01-31    NaN"
      ]
     },
     "execution_count": 196,
     "metadata": {},
     "output_type": "execute_result"
    }
   ],
   "source": [
    "new_parquet_read.head()"
   ]
  },
  {
   "cell_type": "code",
   "execution_count": 200,
   "id": "6e6d4e39-6075-473c-a5df-c3ce70084c33",
   "metadata": {},
   "outputs": [
    {
     "data": {
      "text/html": [
       "<div>\n",
       "<style scoped>\n",
       "    .dataframe tbody tr th:only-of-type {\n",
       "        vertical-align: middle;\n",
       "    }\n",
       "\n",
       "    .dataframe tbody tr th {\n",
       "        vertical-align: top;\n",
       "    }\n",
       "\n",
       "    .dataframe thead th {\n",
       "        text-align: right;\n",
       "    }\n",
       "</style>\n",
       "<table border=\"1\" class=\"dataframe\">\n",
       "  <thead>\n",
       "    <tr style=\"text-align: right;\">\n",
       "      <th></th>\n",
       "      <th>Date</th>\n",
       "      <th>Sales</th>\n",
       "    </tr>\n",
       "  </thead>\n",
       "  <tbody>\n",
       "    <tr>\n",
       "      <th>0</th>\n",
       "      <td>2022-01-31</td>\n",
       "      <td>NaN</td>\n",
       "    </tr>\n",
       "    <tr>\n",
       "      <th>1</th>\n",
       "      <td>2023-01-31</td>\n",
       "      <td>NaN</td>\n",
       "    </tr>\n",
       "    <tr>\n",
       "      <th>2</th>\n",
       "      <td>2024-01-31</td>\n",
       "      <td>NaN</td>\n",
       "    </tr>\n",
       "    <tr>\n",
       "      <th>3</th>\n",
       "      <td>2025-01-31</td>\n",
       "      <td>NaN</td>\n",
       "    </tr>\n",
       "    <tr>\n",
       "      <th>4</th>\n",
       "      <td>2026-01-31</td>\n",
       "      <td>NaN</td>\n",
       "    </tr>\n",
       "  </tbody>\n",
       "</table>\n",
       "</div>"
      ],
      "text/plain": [
       "         Date  Sales\n",
       "0  2022-01-31    NaN\n",
       "1  2023-01-31    NaN\n",
       "2  2024-01-31    NaN\n",
       "3  2025-01-31    NaN\n",
       "4  2026-01-31    NaN"
      ]
     },
     "execution_count": 200,
     "metadata": {},
     "output_type": "execute_result"
    }
   ],
   "source": [
    "new_csv_read.head()"
   ]
  },
  {
   "cell_type": "code",
   "execution_count": 192,
   "id": "adde1f7f-1e51-46d4-a7aa-5697ae240f66",
   "metadata": {},
   "outputs": [
    {
     "name": "stdout",
     "output_type": "stream",
     "text": [
      "<class 'pandas.core.frame.DataFrame'>\n",
      "RangeIndex: 24 entries, 0 to 23\n",
      "Data columns (total 1 columns):\n",
      " #   Column  Non-Null Count  Dtype  \n",
      "---  ------  --------------  -----  \n",
      " 0   Sales   15 non-null     float64\n",
      "dtypes: float64(1)\n",
      "memory usage: 320.0 bytes\n"
     ]
    }
   ],
   "source": [
    "new_parquet_read.info()"
   ]
  },
  {
   "cell_type": "code",
   "execution_count": 219,
   "id": "5db0685b-04ff-497f-9e7a-b3f93611b9bf",
   "metadata": {},
   "outputs": [
    {
     "data": {
      "text/plain": [
       "1719586207.032877"
      ]
     },
     "execution_count": 219,
     "metadata": {},
     "output_type": "execute_result"
    }
   ],
   "source": [
    "time.time()"
   ]
  },
  {
   "cell_type": "code",
   "execution_count": 222,
   "id": "470a6ba4-9dd8-494d-bcc9-9f3e983053ab",
   "metadata": {},
   "outputs": [
    {
     "data": {
      "text/plain": [
       "datetime.datetime(2024, 6, 28, 18, 50, 32, 48854)"
      ]
     },
     "execution_count": 222,
     "metadata": {},
     "output_type": "execute_result"
    }
   ],
   "source": [
    "dt.datetime.now()"
   ]
  },
  {
   "cell_type": "code",
   "execution_count": 201,
   "id": "f9b75303-f388-4e93-af85-abc424280e4e",
   "metadata": {},
   "outputs": [],
   "source": [
    "import time"
   ]
  },
  {
   "cell_type": "code",
   "execution_count": 239,
   "id": "8b4a69b6-2be5-4f46-93b0-c00daf84398f",
   "metadata": {},
   "outputs": [],
   "source": [
    "t = pd.to_datetime(dt.datetime.now())"
   ]
  },
  {
   "cell_type": "code",
   "execution_count": 224,
   "id": "2d334e2e-0619-4026-96e7-0b2dac9c589a",
   "metadata": {},
   "outputs": [
    {
     "name": "stdout",
     "output_type": "stream",
     "text": [
      "2024-06-28 18:50:39.828934\n"
     ]
    }
   ],
   "source": [
    "print(t)"
   ]
  },
  {
   "cell_type": "code",
   "execution_count": 209,
   "id": "1b28ace4-d7be-45e9-b1c0-ba29b0178241",
   "metadata": {},
   "outputs": [],
   "source": [
    "import datetime as dt"
   ]
  },
  {
   "cell_type": "code",
   "execution_count": 211,
   "id": "5ec533a1-4c69-46da-8a47-33286b29d87b",
   "metadata": {},
   "outputs": [
    {
     "name": "stdout",
     "output_type": "stream",
     "text": [
      "2024-06-28 18:45:24.157665\n"
     ]
    }
   ],
   "source": [
    "print(dt.datetime.now())"
   ]
  },
  {
   "cell_type": "code",
   "execution_count": 249,
   "id": "a3480e93-5062-440b-b834-1eebd50b2d33",
   "metadata": {},
   "outputs": [
    {
     "data": {
      "text/plain": [
       "Timestamp('2024-06-28 18:55:40.590971-0400', tz='US/Eastern')"
      ]
     },
     "execution_count": 249,
     "metadata": {},
     "output_type": "execute_result"
    }
   ],
   "source": [
    "t.tz_localize('US/Eastern')\n"
   ]
  },
  {
   "cell_type": "code",
   "execution_count": 240,
   "id": "a0394f2d-cb8d-443c-a475-cda56fd62fff",
   "metadata": {},
   "outputs": [
    {
     "data": {
      "text/plain": [
       "Timestamp('2024-06-28 18:55:40.590971')"
      ]
     },
     "execution_count": 240,
     "metadata": {},
     "output_type": "execute_result"
    }
   ],
   "source": []
  },
  {
   "cell_type": "code",
   "execution_count": 250,
   "id": "e4ebd981-b8e4-4940-a589-d2599f812abc",
   "metadata": {},
   "outputs": [
    {
     "data": {
      "text/plain": [
       "DatetimeIndex(['2021-01-01', '2021-01-02', '2021-01-03', '2021-01-04',\n",
       "               '2021-01-05', '2021-01-06', '2021-01-07', '2021-01-08',\n",
       "               '2021-01-09', '2021-01-10'],\n",
       "              dtype='datetime64[ns]', freq='D')"
      ]
     },
     "execution_count": 250,
     "metadata": {},
     "output_type": "execute_result"
    }
   ],
   "source": [
    "pd.date_range(start='1/1/2021', periods=10)"
   ]
  },
  {
   "cell_type": "code",
   "execution_count": 251,
   "id": "07085dc0-e424-463c-9a48-9db81457e867",
   "metadata": {},
   "outputs": [
    {
     "data": {
      "text/html": [
       "<div>\n",
       "<style scoped>\n",
       "    .dataframe tbody tr th:only-of-type {\n",
       "        vertical-align: middle;\n",
       "    }\n",
       "\n",
       "    .dataframe tbody tr th {\n",
       "        vertical-align: top;\n",
       "    }\n",
       "\n",
       "    .dataframe thead th {\n",
       "        text-align: right;\n",
       "    }\n",
       "</style>\n",
       "<table border=\"1\" class=\"dataframe\">\n",
       "  <thead>\n",
       "    <tr style=\"text-align: right;\">\n",
       "      <th></th>\n",
       "      <th>Sales</th>\n",
       "    </tr>\n",
       "    <tr>\n",
       "      <th>Date</th>\n",
       "      <th></th>\n",
       "    </tr>\n",
       "  </thead>\n",
       "  <tbody>\n",
       "    <tr>\n",
       "      <th>2022-01-31</th>\n",
       "      <td>NaN</td>\n",
       "    </tr>\n",
       "    <tr>\n",
       "      <th>2023-01-31</th>\n",
       "      <td>NaN</td>\n",
       "    </tr>\n",
       "    <tr>\n",
       "      <th>2024-01-31</th>\n",
       "      <td>NaN</td>\n",
       "    </tr>\n",
       "    <tr>\n",
       "      <th>2025-01-31</th>\n",
       "      <td>NaN</td>\n",
       "    </tr>\n",
       "    <tr>\n",
       "      <th>2026-01-31</th>\n",
       "      <td>NaN</td>\n",
       "    </tr>\n",
       "  </tbody>\n",
       "</table>\n",
       "</div>"
      ],
      "text/plain": [
       "            Sales\n",
       "Date             \n",
       "2022-01-31    NaN\n",
       "2023-01-31    NaN\n",
       "2024-01-31    NaN\n",
       "2025-01-31    NaN\n",
       "2026-01-31    NaN"
      ]
     },
     "execution_count": 251,
     "metadata": {},
     "output_type": "execute_result"
    }
   ],
   "source": [
    "new_parquet_read.head()"
   ]
  },
  {
   "cell_type": "code",
   "execution_count": 252,
   "id": "08505421-0b9e-4b68-8ea3-38ba42810de3",
   "metadata": {},
   "outputs": [
    {
     "name": "stdout",
     "output_type": "stream",
     "text": [
      "<class 'pandas.core.frame.DataFrame'>\n",
      "DatetimeIndex: 24 entries, 2022-01-31 to 2045-01-31\n",
      "Data columns (total 1 columns):\n",
      " #   Column  Non-Null Count  Dtype  \n",
      "---  ------  --------------  -----  \n",
      " 0   Sales   15 non-null     float64\n",
      "dtypes: float64(1)\n",
      "memory usage: 384.0 bytes\n"
     ]
    }
   ],
   "source": [
    "new_parquet_read.info()"
   ]
  },
  {
   "cell_type": "code",
   "execution_count": 253,
   "id": "93961b5c-17c8-431e-a42d-f4253e82425d",
   "metadata": {},
   "outputs": [
    {
     "data": {
      "text/plain": [
       "DatetimeIndex(['2022-01-31', '2023-01-31', '2024-01-31', '2025-01-31',\n",
       "               '2026-01-31', '2027-01-31', '2028-01-31', '2029-01-31',\n",
       "               '2030-01-31', '2031-01-31', '2032-01-31', '2033-01-31',\n",
       "               '2034-01-31', '2035-01-31', '2036-01-31', '2037-01-31',\n",
       "               '2038-01-31', '2039-01-31', '2040-01-31', '2041-01-31',\n",
       "               '2042-01-31', '2043-01-31', '2044-01-31', '2045-01-31'],\n",
       "              dtype='datetime64[ns]', name='Date', freq=None)"
      ]
     },
     "execution_count": 253,
     "metadata": {},
     "output_type": "execute_result"
    }
   ],
   "source": [
    "new_parquet_read.index"
   ]
  },
  {
   "cell_type": "code",
   "execution_count": 254,
   "id": "2083e5e4-5b47-479a-b3c9-75130400d080",
   "metadata": {},
   "outputs": [],
   "source": [
    "new_parquet_read.reset_index(inplace=True)"
   ]
  },
  {
   "cell_type": "code",
   "execution_count": 258,
   "id": "1eac31e2-feb4-46df-bfcf-0653fa151e3f",
   "metadata": {},
   "outputs": [],
   "source": [
    "new_parquet_read['Date'] = new_parquet_read['Date'].dt.tz_localize('US/Eastern')"
   ]
  },
  {
   "cell_type": "code",
   "execution_count": 259,
   "id": "0dbe9ed2-def1-48cd-9ba5-cdeee07ddf41",
   "metadata": {},
   "outputs": [
    {
     "name": "stdout",
     "output_type": "stream",
     "text": [
      "<class 'pandas.core.frame.DataFrame'>\n",
      "RangeIndex: 24 entries, 0 to 23\n",
      "Data columns (total 2 columns):\n",
      " #   Column  Non-Null Count  Dtype                     \n",
      "---  ------  --------------  -----                     \n",
      " 0   Date    24 non-null     datetime64[ns, US/Eastern]\n",
      " 1   Sales   15 non-null     float64                   \n",
      "dtypes: datetime64[ns, US/Eastern](1), float64(1)\n",
      "memory usage: 512.0 bytes\n"
     ]
    }
   ],
   "source": [
    "new_parquet_read.info()"
   ]
  },
  {
   "cell_type": "code",
   "execution_count": 260,
   "id": "08a4c2c1-c031-417c-97ae-d3ee4dcba747",
   "metadata": {},
   "outputs": [],
   "source": [
    "new_parquet_read.to_parquet('new_test_tz.parquet')"
   ]
  },
  {
   "cell_type": "code",
   "execution_count": 261,
   "id": "9053c68e-3d2b-4228-b36d-4499f9cf4f91",
   "metadata": {},
   "outputs": [],
   "source": [
    "reading_tz = pd.read_parquet('new_test_tz.parquet')"
   ]
  },
  {
   "cell_type": "code",
   "execution_count": 262,
   "id": "4fd52f84-ff3a-4014-bfa4-f64901ab1508",
   "metadata": {},
   "outputs": [
    {
     "data": {
      "text/html": [
       "<div>\n",
       "<style scoped>\n",
       "    .dataframe tbody tr th:only-of-type {\n",
       "        vertical-align: middle;\n",
       "    }\n",
       "\n",
       "    .dataframe tbody tr th {\n",
       "        vertical-align: top;\n",
       "    }\n",
       "\n",
       "    .dataframe thead th {\n",
       "        text-align: right;\n",
       "    }\n",
       "</style>\n",
       "<table border=\"1\" class=\"dataframe\">\n",
       "  <thead>\n",
       "    <tr style=\"text-align: right;\">\n",
       "      <th></th>\n",
       "      <th>Date</th>\n",
       "      <th>Sales</th>\n",
       "    </tr>\n",
       "  </thead>\n",
       "  <tbody>\n",
       "    <tr>\n",
       "      <th>0</th>\n",
       "      <td>2022-01-31 00:00:00-05:00</td>\n",
       "      <td>NaN</td>\n",
       "    </tr>\n",
       "    <tr>\n",
       "      <th>1</th>\n",
       "      <td>2023-01-31 00:00:00-05:00</td>\n",
       "      <td>NaN</td>\n",
       "    </tr>\n",
       "    <tr>\n",
       "      <th>2</th>\n",
       "      <td>2024-01-31 00:00:00-05:00</td>\n",
       "      <td>NaN</td>\n",
       "    </tr>\n",
       "    <tr>\n",
       "      <th>3</th>\n",
       "      <td>2025-01-31 00:00:00-05:00</td>\n",
       "      <td>NaN</td>\n",
       "    </tr>\n",
       "    <tr>\n",
       "      <th>4</th>\n",
       "      <td>2026-01-31 00:00:00-05:00</td>\n",
       "      <td>NaN</td>\n",
       "    </tr>\n",
       "  </tbody>\n",
       "</table>\n",
       "</div>"
      ],
      "text/plain": [
       "                       Date  Sales\n",
       "0 2022-01-31 00:00:00-05:00    NaN\n",
       "1 2023-01-31 00:00:00-05:00    NaN\n",
       "2 2024-01-31 00:00:00-05:00    NaN\n",
       "3 2025-01-31 00:00:00-05:00    NaN\n",
       "4 2026-01-31 00:00:00-05:00    NaN"
      ]
     },
     "execution_count": 262,
     "metadata": {},
     "output_type": "execute_result"
    }
   ],
   "source": [
    "reading_tz.head()"
   ]
  },
  {
   "cell_type": "code",
   "execution_count": 263,
   "id": "f7e29917-8669-44a4-bf48-787fa911a355",
   "metadata": {},
   "outputs": [
    {
     "name": "stdout",
     "output_type": "stream",
     "text": [
      "<class 'pandas.core.frame.DataFrame'>\n",
      "RangeIndex: 24 entries, 0 to 23\n",
      "Data columns (total 2 columns):\n",
      " #   Column  Non-Null Count  Dtype                     \n",
      "---  ------  --------------  -----                     \n",
      " 0   Date    24 non-null     datetime64[ns, US/Eastern]\n",
      " 1   Sales   15 non-null     float64                   \n",
      "dtypes: datetime64[ns, US/Eastern](1), float64(1)\n",
      "memory usage: 512.0 bytes\n"
     ]
    }
   ],
   "source": [
    "reading_tz.info()"
   ]
  },
  {
   "cell_type": "code",
   "execution_count": 264,
   "id": "c0dbb505-6a52-4695-814a-c41694bcb369",
   "metadata": {},
   "outputs": [],
   "source": [
    "import pandas as pd\n",
    "from pandas.tseries.holiday import AbstractHolidayCalendar, Holiday\n",
    "from pandas.tseries.offsets import CustomBusinessDay"
   ]
  },
  {
   "cell_type": "code",
   "execution_count": null,
   "id": "39b38c42-2ef6-4114-9872-be116fb25151",
   "metadata": {},
   "outputs": [],
   "source": []
  },
  {
   "cell_type": "code",
   "execution_count": null,
   "id": "5ccce8bc-3de4-4730-98fc-b0123f3f2e96",
   "metadata": {},
   "outputs": [],
   "source": []
  }
 ],
 "metadata": {
  "kernelspec": {
   "display_name": "Python [conda env:base] *",
   "language": "python",
   "name": "conda-base-py"
  },
  "language_info": {
   "codemirror_mode": {
    "name": "ipython",
    "version": 3
   },
   "file_extension": ".py",
   "mimetype": "text/x-python",
   "name": "python",
   "nbconvert_exporter": "python",
   "pygments_lexer": "ipython3",
   "version": "3.9.16"
  }
 },
 "nbformat": 4,
 "nbformat_minor": 5
}
