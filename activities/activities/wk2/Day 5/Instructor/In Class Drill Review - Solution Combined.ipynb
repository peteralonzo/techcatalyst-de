{
 "cells": [
  {
   "cell_type": "markdown",
   "id": "bd5252c6-ed6e-4a83-a0ae-2b62dfc547cf",
   "metadata": {},
   "source": [
    "<center><img src=\"https://upload.wikimedia.org/wikipedia/en/thumb/0/0b/The_Hartford_Financial_Services_Group_logo.svg/1920px-The_Hartford_Financial_Services_Group_logo.svg.png\" style=\"width:200px; height:200px;\"></center>"
   ]
  },
  {
   "cell_type": "markdown",
   "id": "ff179665-4781-4c3f-9eb1-eae16b3f1562",
   "metadata": {},
   "source": [
    "# 1. Data Cleaning"
   ]
  },
  {
   "cell_type": "code",
   "execution_count": null,
   "id": "bf3c8fd7-b8eb-460f-a475-1696404e7094",
   "metadata": {},
   "outputs": [],
   "source": [
    "# Import Libraries\n",
    "import pandas as pd\n",
    "from pathlib import Path"
   ]
  },
  {
   "cell_type": "code",
   "execution_count": null,
   "id": "32ef22d7-fa3f-4f06-a0c4-3d787b270e0c",
   "metadata": {},
   "outputs": [],
   "source": [
    "csv_path = Path('05-Stu_Data_Cleaning/Resources/stock_data.csv')"
   ]
  },
  {
   "cell_type": "markdown",
   "id": "687cb2e2-39c6-43c9-9bf1-db53faf9e94c",
   "metadata": {},
   "source": [
    "### Load CSV data into Pandas using read_csv"
   ]
  },
  {
   "cell_type": "code",
   "execution_count": null,
   "id": "c2349dbe-1903-4441-8a1e-ae25a3239d26",
   "metadata": {},
   "outputs": [],
   "source": [
    "csv_data = pd.read_csv(csv_path)"
   ]
  },
  {
   "cell_type": "markdown",
   "id": "5acea4e5-2605-4028-8208-66c9bae8ad52",
   "metadata": {},
   "source": [
    "### Identify the number of rows and columns (shape) in the DataFrame."
   ]
  },
  {
   "cell_type": "code",
   "execution_count": null,
   "id": "28dd5c83-e25a-4146-8c7f-bfeaab4844b2",
   "metadata": {},
   "outputs": [],
   "source": [
    "csv_data.shape"
   ]
  },
  {
   "cell_type": "code",
   "execution_count": null,
   "id": "f4c43775-a21d-4f7f-9435-0df5f3e0bc4d",
   "metadata": {},
   "outputs": [],
   "source": [
    "nrow = csv_data.shape[0]\n",
    "ncols = csv_data.shape[1]\n",
    "\n",
    "print(f\"Number of Rows: {nrow}\")\n",
    "print(f\"Number of Columns: {ncols}\")"
   ]
  },
  {
   "cell_type": "markdown",
   "id": "33ff896f-5907-4cbe-b3cc-1f375deef0b7",
   "metadata": {},
   "source": [
    "### Generate a sample of the data to visually ensure data has been loaded in correctly."
   ]
  },
  {
   "cell_type": "code",
   "execution_count": null,
   "id": "4bc5bd10-1ac9-4e63-b3a4-9e1b8c36cac1",
   "metadata": {},
   "outputs": [],
   "source": [
    "csv_data.head()"
   ]
  },
  {
   "cell_type": "code",
   "execution_count": null,
   "id": "c4cdf986-acca-4c3f-a426-3134745c7804",
   "metadata": {},
   "outputs": [],
   "source": [
    "csv_data.sample(5)"
   ]
  },
  {
   "cell_type": "markdown",
   "id": "ecb1d599-39e9-4155-8bc7-9111da06981a",
   "metadata": {},
   "source": [
    "### Identify the number of records in the DataFrame, and compare it with the number of rows in the original file."
   ]
  },
  {
   "cell_type": "code",
   "execution_count": null,
   "id": "5b25ee9c-ce9a-45d1-b801-5dc5a691e1fc",
   "metadata": {},
   "outputs": [],
   "source": [
    "csv_data.count()"
   ]
  },
  {
   "cell_type": "code",
   "execution_count": null,
   "id": "bd31a213-39d1-47ee-aa57-3f2ce88a6107",
   "metadata": {},
   "outputs": [],
   "source": [
    "csv_data.info()"
   ]
  },
  {
   "cell_type": "markdown",
   "id": "98bfacd5-a4b9-460e-a022-b5e230d81f64",
   "metadata": {},
   "source": [
    "### Identify nulls records"
   ]
  },
  {
   "cell_type": "code",
   "execution_count": null,
   "id": "c24506a2-6f48-4b1f-b5e2-12919ded020b",
   "metadata": {},
   "outputs": [],
   "source": [
    "csv_data.isnull().sum()"
   ]
  },
  {
   "cell_type": "code",
   "execution_count": null,
   "id": "908e3f6f-b484-460c-b4dc-f309f25c62fe",
   "metadata": {},
   "outputs": [],
   "source": [
    "csv_data.isnull().sum().sum()"
   ]
  },
  {
   "cell_type": "code",
   "execution_count": null,
   "id": "408869b8-9c9b-4055-8fb8-970625610999",
   "metadata": {},
   "outputs": [],
   "source": [
    "csv_data.isnull().mean() * 100"
   ]
  },
  {
   "cell_type": "code",
   "execution_count": null,
   "id": "4e872687-8a66-4137-95b6-79f74569d503",
   "metadata": {},
   "outputs": [],
   "source": [
    "# example\n",
    "(12/504) * 100"
   ]
  },
  {
   "cell_type": "markdown",
   "id": "13f877bf-c0c7-43db-8591-ec6b6897c702",
   "metadata": {},
   "source": [
    "### Drop Bull Records"
   ]
  },
  {
   "cell_type": "code",
   "execution_count": null,
   "id": "42a772a0-ef53-46bb-9b36-6f1d193c83c7",
   "metadata": {},
   "outputs": [],
   "source": [
    "# the two options produce the same results \n",
    "csv_data.dropna(inplace=True)\n",
    "\n",
    "# csv_data = csv_data.dropna()"
   ]
  },
  {
   "cell_type": "markdown",
   "id": "3cd01f7e-0853-49cc-b312-73a4ef3ce31e",
   "metadata": {},
   "source": [
    "### Validate nulklks have been dropped"
   ]
  },
  {
   "cell_type": "code",
   "execution_count": null,
   "id": "814c03f0-f095-444f-94c7-4fec09062a85",
   "metadata": {},
   "outputs": [],
   "source": [
    "csv_data.isnull().sum()"
   ]
  },
  {
   "cell_type": "code",
   "execution_count": null,
   "id": "4acc2d9f-0ff7-47be-929d-8a75f7aa5d44",
   "metadata": {},
   "outputs": [],
   "source": [
    "csv_data.isnull().sum().sum()"
   ]
  },
  {
   "cell_type": "markdown",
   "id": "385b169c-e2ad-46e2-83dd-e6f42a56e72e",
   "metadata": {},
   "source": [
    "### Default null `ebitda` values to 0. Then, validate no records are null for ebitda."
   ]
  },
  {
   "cell_type": "code",
   "execution_count": null,
   "id": "294709e9-d488-49e3-a2e9-feddcd879686",
   "metadata": {},
   "outputs": [],
   "source": [
    "csv_data['ebitda'] = csv_data['ebitda'].fillna(0)\n",
    "csv_data['ebitda'].isnull().sum()"
   ]
  },
  {
   "cell_type": "markdown",
   "id": "5c98395a-768a-4b90-8070-274f56db45e7",
   "metadata": {},
   "source": [
    "### Drop Duplicates"
   ]
  },
  {
   "cell_type": "code",
   "execution_count": null,
   "id": "7e13c073-7144-4ffb-863f-fd0f6da0f14c",
   "metadata": {},
   "outputs": [],
   "source": [
    "# the two options produce the same results\n",
    "csv_data.drop_duplicates(inplace=True)\n",
    "\n",
    "# csv_data = csv_data.drop_duplicates()"
   ]
  },
  {
   "cell_type": "code",
   "execution_count": null,
   "id": "a4d496bb-2876-4520-a5ae-c6a529637316",
   "metadata": {},
   "outputs": [],
   "source": [
    "csv_data.shape"
   ]
  },
  {
   "cell_type": "markdown",
   "id": "1de5c24a-7d58-493a-92af-cb67fba23d98",
   "metadata": {},
   "source": [
    "### Sample `price` field"
   ]
  },
  {
   "cell_type": "code",
   "execution_count": null,
   "id": "88b72888-1ea3-45e3-a0cf-81ec9f7bc1c4",
   "metadata": {},
   "outputs": [],
   "source": [
    "csv_data['price'].sample(5)"
   ]
  },
  {
   "cell_type": "code",
   "execution_count": null,
   "id": "05483062-2f85-4c5f-9f04-81ac76ca1227",
   "metadata": {},
   "outputs": [],
   "source": [
    "csv_data['price'].head()"
   ]
  },
  {
   "cell_type": "markdown",
   "id": "640119ab-a4a8-42d3-99e7-593b956cdfa2",
   "metadata": {},
   "source": [
    "### Clean price Series by replacing $"
   ]
  },
  {
   "cell_type": "code",
   "execution_count": null,
   "id": "b1fc9561-e355-4e65-9b38-63c31114ec77",
   "metadata": {},
   "outputs": [],
   "source": [
    "csv_data['price'] = csv_data['price'].str.replace('$', '')\n",
    "csv_data['price']"
   ]
  },
  {
   "cell_type": "markdown",
   "id": "79dc414f-ac8b-4913-98c8-9ea84706115e",
   "metadata": {},
   "source": [
    "### Confirm data type of `price`"
   ]
  },
  {
   "cell_type": "code",
   "execution_count": null,
   "id": "cbb3836e-6742-4904-a4b3-0629c906d5d4",
   "metadata": {},
   "outputs": [],
   "source": [
    "csv_data['price'].dtype"
   ]
  },
  {
   "cell_type": "markdown",
   "id": "fbd25ad2-2499-458e-9249-bdb125cf0ce3",
   "metadata": {},
   "source": [
    "### Cast price Series as float"
   ]
  },
  {
   "cell_type": "code",
   "execution_count": null,
   "id": "90dc1ef7-cce0-4f65-8b8d-7717a28e1fb0",
   "metadata": {},
   "outputs": [],
   "source": [
    "csv_data['price'] = csv_data['price'].astype('float')\n",
    "csv_data['price'].dtype"
   ]
  },
  {
   "cell_type": "code",
   "execution_count": null,
   "id": "70cfe208-7bcf-4202-acff-5ac048bb1770",
   "metadata": {},
   "outputs": [],
   "source": [
    "csv_data.info()"
   ]
  },
  {
   "cell_type": "code",
   "execution_count": null,
   "id": "1c3dea69-7203-4f78-832e-b3ce137788df",
   "metadata": {},
   "outputs": [],
   "source": [
    "csv_data.head()"
   ]
  },
  {
   "cell_type": "markdown",
   "id": "6ec9acfc-b1d7-4260-a600-a09ef249c198",
   "metadata": {},
   "source": [
    "### List Sectors in the Dataset"
   ]
  },
  {
   "cell_type": "code",
   "execution_count": null,
   "id": "92dc3246-93d7-4872-8368-2c1efdbde407",
   "metadata": {},
   "outputs": [],
   "source": [
    "csv_data['sector'].unique()"
   ]
  },
  {
   "cell_type": "code",
   "execution_count": null,
   "id": "ad0b48f0-491c-4d43-8fe8-9a7c7fb35bbc",
   "metadata": {},
   "outputs": [],
   "source": [
    "csv_data['sector'].value_counts()"
   ]
  },
  {
   "cell_type": "code",
   "execution_count": null,
   "id": "ba02ca3e-dde9-4b29-84e6-f83fd4598c4a",
   "metadata": {},
   "outputs": [],
   "source": [
    "csv_data['sector'].value_counts(normalize=True)"
   ]
  },
  {
   "cell_type": "code",
   "execution_count": null,
   "id": "2c58b460-b0cd-4b6f-ba01-925e0cbe552d",
   "metadata": {},
   "outputs": [],
   "source": [
    "csv_data['sector'].value_counts().plot(kind='bar')"
   ]
  },
  {
   "cell_type": "markdown",
   "id": "b8b92e55-b707-4b9c-afab-86c4bf688563",
   "metadata": {},
   "source": [
    "### What is the average, min, and max earning per share by sector"
   ]
  },
  {
   "cell_type": "code",
   "execution_count": null,
   "id": "46ce66a4-cfd1-44a6-8edb-9e4636176e78",
   "metadata": {},
   "outputs": [],
   "source": [
    "csv_data['earnings_per_share'] = csv_data['earnings_per_share'].str.replace('$', '').astype('float')"
   ]
  },
  {
   "cell_type": "code",
   "execution_count": null,
   "id": "50fca31f-f3f7-463e-9fef-45165561731a",
   "metadata": {},
   "outputs": [],
   "source": [
    "csv_data.groupby(by='sector').agg({\n",
    "    'earnings_per_share': ['mean', 'min', 'max']\n",
    "})"
   ]
  },
  {
   "cell_type": "code",
   "execution_count": null,
   "id": "00eeeb88-c6c3-46f9-9081-380ee07a2310",
   "metadata": {},
   "outputs": [],
   "source": [
    "csv_data.groupby(by='sector').agg({\n",
    "    'earnings_per_share': ['mean', 'min', 'max']\n",
    "}).to_csv('stock_analysis.csv')"
   ]
  },
  {
   "cell_type": "code",
   "execution_count": null,
   "id": "d7489c1c-1c19-4fe1-ac21-9f1a424e8577",
   "metadata": {},
   "outputs": [],
   "source": [
    "csv_data_summary = csv_data.groupby(by='sector').agg({\n",
    "    'earnings_per_share': ['mean', 'min', 'max']\n",
    "})"
   ]
  },
  {
   "cell_type": "code",
   "execution_count": null,
   "id": "1e37bfc3-d061-443a-963c-deca856be5c6",
   "metadata": {},
   "outputs": [],
   "source": [
    "csv_data_summary.to_csv('stock_analysis.csv')"
   ]
  },
  {
   "cell_type": "code",
   "execution_count": null,
   "id": "15d6dd3a-5d8a-42e8-a285-30408e8f7d89",
   "metadata": {},
   "outputs": [],
   "source": [
    "csv_data_summary.to_excel('stock_analysis.xlsx')"
   ]
  },
  {
   "cell_type": "markdown",
   "id": "43e45a9b-d0ed-46ee-a2af-80bb366930c3",
   "metadata": {},
   "source": [
    "# 2. Crowd Funding Clean"
   ]
  },
  {
   "cell_type": "code",
   "execution_count": null,
   "id": "163df658-52b0-45d5-a642-f6ff842555d0",
   "metadata": {},
   "outputs": [],
   "source": [
    "import pandas as pd\n",
    "from pathlib import Path"
   ]
  },
  {
   "cell_type": "code",
   "execution_count": null,
   "id": "1e7284d2-5b44-427e-a7de-a7062a11355a",
   "metadata": {},
   "outputs": [],
   "source": [
    "# The path to our CSV file\n",
    "file_path = Path(\"06-Stu_CleaningCrowdfunding/Unsolved/Resources/CrowdfundingData.csv\")\n",
    "\n",
    "# Read our Crowdfunding data into pandas\n",
    "df = pd.read_csv(file_path)\n",
    "df.head()"
   ]
  },
  {
   "cell_type": "code",
   "execution_count": null,
   "id": "5e20696c-0c7a-4289-b8ed-25a5c0fd48e1",
   "metadata": {},
   "outputs": [],
   "source": [
    "df.shape"
   ]
  },
  {
   "cell_type": "code",
   "execution_count": null,
   "id": "94933afc-d095-41ba-919c-0b8adf986baa",
   "metadata": {},
   "outputs": [],
   "source": [
    "# Get a list of all of our columns for easy reference\n",
    "df.columns"
   ]
  },
  {
   "cell_type": "code",
   "execution_count": null,
   "id": "a15537fe-fee7-4b74-a4f5-0aad48cc9903",
   "metadata": {},
   "outputs": [],
   "source": [
    "# Extract \"name\", \"goal\", \"pledged\", \"outcome\", \"country\", \"staff_pick\",\n",
    "# \"backers_count\", and \"spotlight\"\n",
    "reduced_crowdfunding_df = df.loc[:, [\"name\", \"goal\", \"pledged\",\n",
    "                                    \"outcome\", \"country\", \"staff_pick\", \"backers_count\", \"spotlight\"]]\n",
    "reduced_crowdfunding_df"
   ]
  },
  {
   "cell_type": "code",
   "execution_count": null,
   "id": "03866023-e77b-4bac-a441-a12bd0cb245f",
   "metadata": {},
   "outputs": [],
   "source": [
    "cols = [\"name\", \"goal\", \"pledged\", \"outcome\", \"country\", \"staff_pick\", \"backers_count\", \"spotlight\"]\n",
    "\n",
    "reduced_crowdfunding_df = df[cols]\n",
    "\n",
    "reduced_crowdfunding_df"
   ]
  },
  {
   "cell_type": "code",
   "execution_count": null,
   "id": "490f1b3b-700d-4929-8d00-29b55a58138c",
   "metadata": {},
   "outputs": [],
   "source": [
    "# Remove projects that made no money at all\n",
    "reduced_crowdfunding_df = reduced_crowdfunding_df.loc[(\n",
    "    reduced_crowdfunding_df[\"pledged\"] > 0)]\n",
    "\n",
    "\n",
    "reduced_crowdfunding_df.head()"
   ]
  },
  {
   "cell_type": "code",
   "execution_count": null,
   "id": "6f111c63-b981-4edd-80c6-2c8a93a403d6",
   "metadata": {},
   "outputs": [],
   "source": [
    "reduced_crowdfunding_df.shape"
   ]
  },
  {
   "cell_type": "code",
   "execution_count": null,
   "id": "909ef146-8510-4972-80f2-ea970709941f",
   "metadata": {},
   "outputs": [],
   "source": [
    "# Remove projects that made no money at all\n",
    "reduced_crowdfunding_df = reduced_crowdfunding_df[(\n",
    "    reduced_crowdfunding_df[\"pledged\"] > 0)]\n",
    "\n",
    "\n",
    "reduced_crowdfunding_df.head()"
   ]
  },
  {
   "cell_type": "code",
   "execution_count": null,
   "id": "b169eabb-e724-4a6e-bfce-b03b9809284e",
   "metadata": {},
   "outputs": [],
   "source": [
    "reduced_crowdfunding_df.shape"
   ]
  },
  {
   "cell_type": "code",
   "execution_count": null,
   "id": "92bfb32d-b367-4594-b799-61124f81dba2",
   "metadata": {},
   "outputs": [],
   "source": [
    "# Collect only those projects that were hosted in the US.\n",
    "\n",
    "# Create a list of the columns\n",
    "cols = [\n",
    "    \"name\", \"goal\", \"pledged\", \"outcome\", \n",
    "    \"country\", \"staff_pick\", \"backers_count\", \"spotlight\"]\n",
    "\n",
    "#  Create a new df for \"US\" with the columns. \n",
    "\n",
    "hosted_in_us_df = reduced_crowdfunding_df.loc[reduced_crowdfunding_df[\"country\"] == \"US\",  cols]\n",
    "\n",
    "hosted_in_us_df.head()"
   ]
  },
  {
   "cell_type": "code",
   "execution_count": null,
   "id": "d6e000cf-dce6-4393-bbc5-11dcf688da38",
   "metadata": {},
   "outputs": [],
   "source": [
    "# Create a new column that finds the average amount pledged to a project\n",
    "average_donation = hosted_in_us_df['pledged'] / hosted_in_us_df['backers_count']\n",
    "average_donation"
   ]
  },
  {
   "cell_type": "code",
   "execution_count": null,
   "id": "05ddd488-f222-48b2-a24e-be0fb075ace0",
   "metadata": {},
   "outputs": [],
   "source": [
    "# Create a new column that finds the average amount pledged to a project\n",
    "hosted_in_us_df[\"average_donation\"] = hosted_in_us_df['pledged'] / \\\n",
    "    hosted_in_us_df['backers_count']"
   ]
  },
  {
   "cell_type": "code",
   "execution_count": null,
   "id": "c7592220-ddfd-4cb2-a974-8cbd3606aaf1",
   "metadata": {},
   "outputs": [],
   "source": [
    "hosted_in_us_df[\"average_donation\"] = hosted_in_us_df[\"average_donation\"].astype(float).map(\n",
    "    \"${:,.2f}\".format)\n",
    "hosted_in_us_df[\"goal\"] = hosted_in_us_df[\"goal\"].astype(float).map(\"${:,.2f}\".format)\n",
    "hosted_in_us_df[\"pledged\"] = hosted_in_us_df[\"pledged\"].astype(float).map(\"${:,.2f}\".format)"
   ]
  },
  {
   "cell_type": "code",
   "execution_count": null,
   "id": "9dcfe8b1-b97b-4294-b78a-9c03b3ff2906",
   "metadata": {},
   "outputs": [],
   "source": [
    "hosted_in_us_df.head()"
   ]
  },
  {
   "cell_type": "code",
   "execution_count": null,
   "id": "62fad814-977c-40a5-aa7b-0ee73c03473c",
   "metadata": {},
   "outputs": [],
   "source": [
    "# Calculate the total number of backers for all US projects\n",
    "hosted_in_us_df[\"backers_count\"].sum()"
   ]
  },
  {
   "cell_type": "code",
   "execution_count": null,
   "id": "fbb4f785-d7b8-42d4-a00a-a5edcce4f668",
   "metadata": {},
   "outputs": [],
   "source": [
    "# Calculate the average number of backers for all US projects\n",
    "hosted_in_us_df[\"backers_count\"].mean()"
   ]
  },
  {
   "cell_type": "code",
   "execution_count": null,
   "id": "22d697fd-f9aa-463a-86b9-f45497c84b12",
   "metadata": {},
   "outputs": [],
   "source": [
    "# Collect only those US campaigns that have been picked as a \"Staff Pick\"\n",
    "picked_by_staff_df = hosted_in_us_df.loc[hosted_in_us_df[\"staff_pick\"] == True]\n",
    "picked_by_staff_df.head()"
   ]
  },
  {
   "cell_type": "code",
   "execution_count": null,
   "id": "01aec19f-1d01-4b15-81af-f0b8c83f6e23",
   "metadata": {},
   "outputs": [],
   "source": [
    "# Group by the outcome of the campaigns and see if staff picks matter (Seems to matter quite a bit)\n",
    "\n",
    "outcome_groups = picked_by_staff_df.groupby(\"outcome\")\n",
    "outcome_groups[\"name\"].count()"
   ]
  },
  {
   "cell_type": "code",
   "execution_count": null,
   "id": "33021bc2-3d1b-4297-9136-dd69542f62c8",
   "metadata": {},
   "outputs": [],
   "source": [
    "picked_by_staff_df['outcome'].value_counts()"
   ]
  },
  {
   "cell_type": "markdown",
   "id": "50ac1987-829b-4bd0-b9a6-1f6f742e1f50",
   "metadata": {},
   "source": [
    "# 3. Group Dynamics"
   ]
  },
  {
   "cell_type": "code",
   "execution_count": null,
   "id": "f37766f4-aa70-4ee5-bf2f-146fa6421700",
   "metadata": {},
   "outputs": [],
   "source": [
    "# Import Libraries\n",
    "import pandas as pd\n",
    "from pathlib import Path"
   ]
  },
  {
   "cell_type": "markdown",
   "id": "9cfabef1-5685-4b37-8285-6686dc7e9ff8",
   "metadata": {},
   "source": [
    "### Load CSV data into Pandas using read_csv, as well as arguments index_col, parse_dates, and infer_datetime_format"
   ]
  },
  {
   "cell_type": "code",
   "execution_count": null,
   "id": "351ffe1e-11d8-4adb-9845-898badf5b574",
   "metadata": {},
   "outputs": [],
   "source": [
    "# Read in CSV file\n",
    "csv_path = Path(\"06-Stu_Groupby//Resources/crypto_data.csv\")\n",
    "crypto_data = pd.read_csv(csv_path, index_col='data_date', parse_dates=True, infer_datetime_format=True)\n",
    "crypto_data.head()"
   ]
  },
  {
   "cell_type": "code",
   "execution_count": null,
   "id": "f116c2ba-a592-42b8-a9b3-eac364cb0198",
   "metadata": {},
   "outputs": [],
   "source": [
    "crypto_data = pd.read_csv(csv_path, index_col='data_date', parse_dates=True)\n",
    "crypto_data.head()"
   ]
  },
  {
   "cell_type": "code",
   "execution_count": null,
   "id": "6a2f22d3-acdc-4efb-aa1b-63bc1fa4a2fe",
   "metadata": {},
   "outputs": [],
   "source": [
    "crypto_data = pd.read_csv(csv_path, index_col='data_date', parse_dates=['data_date'])\n",
    "crypto_data.head()"
   ]
  },
  {
   "cell_type": "markdown",
   "id": "08d3f52e-3a29-4936-9018-41aa9435c6ba",
   "metadata": {},
   "source": [
    "### Clean data"
   ]
  },
  {
   "cell_type": "code",
   "execution_count": null,
   "id": "95e83e8f-def7-449b-9071-e1fd2abc831e",
   "metadata": {},
   "outputs": [],
   "source": [
    "# Drop extraneous columns\n",
    "# using inplace=True\n",
    "crypto_data.drop(columns=['data_time','timestamp'], inplace=True)\n",
    "crypto_data.dropna(inplace=True)\n",
    "\n",
    "# overwriting manually \n",
    "# crypto_data = crypto_data.drop(columns=['data_time','timestamp'])\n",
    "# crypto_data = crypto_data.dropna()\n",
    "crypto_data.head()"
   ]
  },
  {
   "cell_type": "markdown",
   "id": "a053bb46-ad68-4d54-a999-28461c533404",
   "metadata": {},
   "source": [
    "### Group data by cryptocurrency and plot on the same chart¶"
   ]
  },
  {
   "cell_type": "code",
   "execution_count": null,
   "id": "6ce77519-85cb-4af6-b9ed-1ec1e81105bd",
   "metadata": {},
   "outputs": [],
   "source": [
    "crypto_data.groupby('cryptocurrency')['data_priceUsd'].plot(legend=True)"
   ]
  },
  {
   "cell_type": "code",
   "execution_count": null,
   "id": "3c45ea4d-5e31-4e3d-bd10-04913f6cf75e",
   "metadata": {},
   "outputs": [],
   "source": [
    "crypto_data_plot = crypto_data.groupby('cryptocurrency')['data_priceUsd'].plot(legend=True);"
   ]
  },
  {
   "cell_type": "code",
   "execution_count": null,
   "id": "8f193001-4684-4328-84b6-b7417e3e7065",
   "metadata": {},
   "outputs": [],
   "source": [
    "crypto_by_type = crypto_data.groupby('cryptocurrency')['data_priceUsd']"
   ]
  },
  {
   "cell_type": "code",
   "execution_count": null,
   "id": "44b76b31-a40c-4213-987c-3ca7d17817c4",
   "metadata": {},
   "outputs": [],
   "source": [
    "crypto_by_type.plot(legend=True, figsize=(12,6));"
   ]
  },
  {
   "cell_type": "code",
   "execution_count": null,
   "id": "823b9b07-3a17-4514-8fec-1b93b99b1c7a",
   "metadata": {},
   "outputs": [],
   "source": [
    "crypto_by_type.plot(legend=True, figsize=(12,6), title='Crypto Currency Performance', xlabel='Date', ylabel='Price USD');"
   ]
  },
  {
   "cell_type": "code",
   "execution_count": null,
   "id": "68d55b9e-234d-4b38-bb02-7cf3e6eb9a0f",
   "metadata": {},
   "outputs": [],
   "source": [
    "crypto_by_type.plot(legend=True, figsize=(12,6), title='Crypto Currency Performance', xlabel='Date', ylabel='Price USD', style='--');"
   ]
  },
  {
   "cell_type": "code",
   "execution_count": null,
   "id": "b836677d-5720-4ae8-bf3a-81aecd5b41f7",
   "metadata": {},
   "outputs": [],
   "source": [
    "import matplotlib.pyplot as plt\n",
    "\n",
    "# list of available styles can be found here https://matplotlib.org/stable/gallery/style_sheets/style_sheets_reference.html\n",
    "\n",
    "plt.style.use('ggplot')\n",
    "\n",
    "crypto_by_type.plot(legend=True, figsize=(12,6), title='Crypto Currency Performance', xlabel='Date', ylabel='Price USD', style='-');\n"
   ]
  },
  {
   "cell_type": "markdown",
   "id": "fe831edf-72cf-47a5-bc1d-653c1e6d8bcf",
   "metadata": {},
   "source": [
    "### Calculate average price across two years for each cryptocurrency"
   ]
  },
  {
   "cell_type": "code",
   "execution_count": null,
   "id": "8ada621e-918f-4fae-9fa3-0b0cd26d6ae0",
   "metadata": {},
   "outputs": [],
   "source": [
    "crypto_data.index"
   ]
  },
  {
   "cell_type": "code",
   "execution_count": null,
   "id": "c1d78bb2-b0a9-4957-954c-801992b26491",
   "metadata": {},
   "outputs": [],
   "source": [
    "crypto_data.index.year"
   ]
  },
  {
   "cell_type": "code",
   "execution_count": null,
   "id": "c48d48f2-5aad-4d51-8526-4a58f8f23280",
   "metadata": {},
   "outputs": [],
   "source": [
    "crypto_data.index.year.unique()"
   ]
  },
  {
   "cell_type": "code",
   "execution_count": null,
   "id": "ec30c886-ce60-41c9-9e29-8ff6805a6990",
   "metadata": {},
   "outputs": [],
   "source": [
    "# Determine average price across two years\n",
    "crypto_data_avg = crypto_data.groupby('cryptocurrency')['data_priceUsd'].mean()\n",
    "crypto_data_avg"
   ]
  },
  {
   "cell_type": "markdown",
   "id": "bac8c62d-6cdb-45b2-8e39-ed8c028d6744",
   "metadata": {},
   "source": [
    "### Calculate max price across two years for each cryptocurrency"
   ]
  },
  {
   "cell_type": "code",
   "execution_count": null,
   "id": "d5e6bca9-937d-4b60-8c67-9a77de92e677",
   "metadata": {},
   "outputs": [],
   "source": [
    "crypto_data_max = crypto_data.groupby('cryptocurrency')['data_priceUsd'].max()\n",
    "crypto_data_max"
   ]
  },
  {
   "cell_type": "markdown",
   "id": "8b41b3fb-0dfa-46b9-9fb6-67216bbdf4a6",
   "metadata": {},
   "source": [
    "### Calculate min price across two years for each cryptocurrency"
   ]
  },
  {
   "cell_type": "code",
   "execution_count": null,
   "id": "35d1f071-12ca-4b99-a73d-27b12ae67e91",
   "metadata": {},
   "outputs": [],
   "source": [
    "crypto_data_min = crypto_data.groupby('cryptocurrency')['data_priceUsd'].min()\n",
    "crypto_data_min"
   ]
  },
  {
   "cell_type": "markdown",
   "id": "3772645e-d0b0-4b43-8639-9e490add82ef",
   "metadata": {},
   "source": [
    "# 4. Search for The Worst"
   ]
  },
  {
   "cell_type": "code",
   "execution_count": null,
   "id": "5c760363-b8d4-451a-b3f0-1d3f5b45d3ab",
   "metadata": {},
   "outputs": [],
   "source": [
    "# Import Dependencies\n",
    "import pandas as pd"
   ]
  },
  {
   "cell_type": "code",
   "execution_count": null,
   "id": "03c0cda4-6441-4ac9-8489-7f3dfc63a5a9",
   "metadata": {},
   "outputs": [],
   "source": [
    "# Create reference to CSV file\n",
    "csv_path = \"09-Stu_SearchForTheWorst/Unsolved/Resources/SFO_Airport_Utility_Consumption.csv\"\n",
    "\n",
    "# Import the CSV into a pandas DataFrame\n",
    "consumption_df = pd.read_csv(csv_path)\n",
    "consumption_df"
   ]
  },
  {
   "cell_type": "code",
   "execution_count": null,
   "id": "9c47d090-f41e-4e81-a6ff-bf52d8d81ea4",
   "metadata": {},
   "outputs": [],
   "source": [
    "# Collect a list of all the unique values in \"Utility\"\n",
    "consumption_df[\"Utility\"].unique()"
   ]
  },
  {
   "cell_type": "code",
   "execution_count": null,
   "id": "7b3df712-9537-4a8c-bac1-96914742532d",
   "metadata": {},
   "outputs": [],
   "source": [
    "# Looking only at Electricity Consumption with \"Tenant\" owner\n",
    "electricity_df = consumption_df.loc[(consumption_df[\"Utility\"] == \"Electricity\") &\n",
    "                                    (consumption_df[\"Owner\"] == \"Tenant\"), :]\n",
    "electricity_df.head()"
   ]
  },
  {
   "cell_type": "code",
   "execution_count": null,
   "id": "b3801eae-d71f-4609-ab6c-fbfcc376950c",
   "metadata": {},
   "outputs": [],
   "source": [
    "# Sort the DataFrame by the values in the \"Usage\" column to find the worst day\n",
    "electricity_df = electricity_df.sort_values(\"Usage\", ascending=False)\n",
    "\n",
    "# Reset the index so that the index is now based on the sorting locations\n",
    "electricity_df = electricity_df.reset_index(drop=True)\n",
    "\n",
    "electricity_df.head()"
   ]
  },
  {
   "cell_type": "code",
   "execution_count": null,
   "id": "3fd8beb2-0b2c-44d3-a785-58992b6cea84",
   "metadata": {},
   "outputs": [],
   "source": [
    "# Save all of the information collected on the worst day\n",
    "worst_day = electricity_df.loc[0, :]\n",
    "worst_day"
   ]
  },
  {
   "cell_type": "markdown",
   "id": "97aaf009-fa76-467a-8bc1-6c37b6743be0",
   "metadata": {},
   "source": [
    "# 5. Comic Books CSV"
   ]
  },
  {
   "cell_type": "code",
   "execution_count": null,
   "id": "51b7b72c-0723-4966-b5fd-ab5b1554a54d",
   "metadata": {},
   "outputs": [],
   "source": [
    "# Import Dependencies\n",
    "import pandas as pd"
   ]
  },
  {
   "cell_type": "code",
   "execution_count": null,
   "id": "c6a10de2-e78d-47b4-be8c-a1b7ba1d9ea1",
   "metadata": {},
   "outputs": [],
   "source": [
    "# Make a reference to the comic_books_expanded.csv file path\n",
    "csv_path = \"10-Stu_ComicBooksCSV/Unsolved/Resources/comic_books_expanded.csv\"\n",
    "\n",
    "# Import the comic_books_expanded.csv file as a DataFrame\n",
    "books_df = pd.read_csv(csv_path, encoding=\"utf-8\")\n",
    "# Check the special characters imported correctly\n",
    "books_df.tail()"
   ]
  },
  {
   "cell_type": "code",
   "execution_count": null,
   "id": "4af0a7d2-8dcf-462a-bb98-7dfb52b960c1",
   "metadata": {},
   "outputs": [],
   "source": [
    "# Remove unecessary columns from the DataFrame and save the new DataFrame\n",
    "# Only keep: \"ISBN\", \"Title\", \"Other titles\", \"Name\", \"All names\", \n",
    "# \"Country of publication\", \"Place of publication\", \"Publisher\", \"Date of publication\"\n",
    "reduced_df = books_df[[\"ISBN\", \"Title\", \"Other titles\", \"Name\", \"All names\", \n",
    "                       \"Country of publication\", \"Place of publication\", \n",
    "                       \"Publisher\", \"Date of publication\"]]\n",
    "reduced_df.head()"
   ]
  },
  {
   "cell_type": "code",
   "execution_count": null,
   "id": "3d1414f2-323d-4edd-a594-7a4b0bdad327",
   "metadata": {},
   "outputs": [],
   "source": [
    "# Rename the headers to be more explanatory\n",
    "renamed_df = reduced_df.rename(columns={\"Other titles\": \"Other Titles\",\n",
    "                                        \"Name\": \"Author\",\n",
    "                                        \"All names\": \"All Names\",\n",
    "                                        \"Country of publication\": \"Country of Publication\",\n",
    "                                        \"Place of publication\": \"Place of Publication\",\n",
    "                                        \"Date of publication\": \"Publication Year\", })\n",
    "renamed_df.head()"
   ]
  },
  {
   "cell_type": "code",
   "execution_count": null,
   "id": "abea1524-bcc2-4d2d-b49b-a87e6e4cb021",
   "metadata": {},
   "outputs": [],
   "source": [
    "reduced_df.columns"
   ]
  },
  {
   "cell_type": "code",
   "execution_count": null,
   "id": "cb8d592f-b894-4206-94cc-377430b811bf",
   "metadata": {},
   "outputs": [],
   "source": [
    "cols = ['ISBN', 'Title', 'Other titles', 'Name', 'All names',\n",
    "       'Country of publication', 'Place of publication', 'Publisher',\n",
    "       'Date of publication']\n",
    "\n",
    "reduced_df.columns = cols"
   ]
  },
  {
   "cell_type": "code",
   "execution_count": null,
   "id": "ae6e4df5-45e8-4b9c-abf3-47ee67143332",
   "metadata": {},
   "outputs": [],
   "source": [
    "# Push the remade DataFrame to a new CSV file\n",
    "renamed_df.to_csv(\"10-Stu_ComicBooksCSV/Unsolved/Output/books_clean.csv\",\n",
    "                  encoding=\"utf-8\", index=False, header=True)"
   ]
  },
  {
   "cell_type": "markdown",
   "id": "4dd64f3e-a1cf-4e71-95f5-030c4f37d596",
   "metadata": {},
   "source": [
    "# 6. Comic Books Summary"
   ]
  },
  {
   "cell_type": "code",
   "execution_count": null,
   "id": "36310465-932f-4956-9ead-b329c3e7b318",
   "metadata": {},
   "outputs": [],
   "source": [
    "# Import Dependencies\n",
    "import pandas as pd\n",
    "\n",
    "# File to Load\n",
    "comics_path = \"11-Stu_ComicBooksSummary/Unsolved/Resources/books_clean.csv\"\n",
    "\n",
    "# Read the modified Comic Books csv and store into Pandas DataFrame\n",
    "comics_df = pd.read_csv(comics_path, encoding=\"utf-8\")\n",
    "comics_df.head()"
   ]
  },
  {
   "cell_type": "code",
   "execution_count": null,
   "id": "1116549e-7976-44e1-97d2-8c5e9f613e64",
   "metadata": {},
   "outputs": [],
   "source": [
    "# Calculate the number of unique authors in the DataFrame\n",
    "author_count = len(comics_df[\"Author\"].unique())\n",
    "\n",
    "# Calculate the number of unique publication countries in the DataFrame\n",
    "country_count = len(comics_df[\"Country of Publication\"].unique())\n",
    "\n",
    "# Calculate the earliest/latest year a book was published\n",
    "earliest_year = comics_df[\"Publication Year\"].min()\n",
    "latest_year = comics_df[\"Publication Year\"].max()"
   ]
  },
  {
   "cell_type": "code",
   "execution_count": null,
   "id": "04f8102b-a3b3-4461-b08a-1958e8e7c6ad",
   "metadata": {},
   "outputs": [],
   "source": [
    "# Place all of the data found into a summary DataFrame\n",
    "summary_df = pd.DataFrame({\"Total Unique Authors\": [author_count],\n",
    "                              \"Total Unique Publication Countries\": country_count,\n",
    "                              \"Earliest Year\": earliest_year,\n",
    "                              \"Latest Year\": latest_year})\n",
    "summary_df"
   ]
  },
  {
   "cell_type": "markdown",
   "id": "ac1f4d18-532f-4c18-98b9-0c05072c6cbf",
   "metadata": {},
   "source": [
    "# 7. Mastering Concatenation"
   ]
  },
  {
   "cell_type": "code",
   "execution_count": null,
   "id": "623e4182-dbf9-40a6-a1ae-664de0a23824",
   "metadata": {},
   "outputs": [],
   "source": [
    "import pandas as pd\n",
    "from pathlib import Path, PurePath\n",
    "\n",
    "directory = Path('13-Stu_Concat_Dataframes/Resources/')\n",
    "\n",
    "\n",
    "\n",
    "fin_leaders_america_path = directory / 'fin_leaders_america.csv'\n",
    "investors_leadership_path = directory / 'invstrs_leadership.csv'\n",
    "fin_leaders_mem_path = directory / 'fin_leaders_members.csv'\n",
    "investors_leadership_mem_path = directory / 'invstrs_leadership_members.csv'\n",
    "\n",
    "fin_leaders_dues = pd.read_csv(fin_leaders_america_path)\n",
    "investors_leadership_dues = pd.read_csv(investors_leadership_path)\n",
    "fin_leaders_mbr_status = pd.read_csv(fin_leaders_mem_path)\n",
    "investors_leadership_mbr_status = pd.read_csv(investors_leadership_mem_path)"
   ]
  },
  {
   "cell_type": "markdown",
   "id": "95e4943e-1f15-4de6-9600-8b157921864d",
   "metadata": {},
   "source": [
    "### Concat dues data using rows axis and inner join¶"
   ]
  },
  {
   "cell_type": "code",
   "execution_count": null,
   "id": "4eede65d-3148-46b1-8d2f-f17b0103110b",
   "metadata": {},
   "outputs": [],
   "source": [
    "combined_dues = pd.concat([fin_leaders_dues,investors_leadership_dues], axis='rows', join='inner')\n",
    "combined_dues"
   ]
  },
  {
   "cell_type": "code",
   "execution_count": null,
   "id": "e96fda3f-e5f5-44ef-adba-f56f0722d751",
   "metadata": {},
   "outputs": [],
   "source": [
    "combined_dues = pd.concat([fin_leaders_dues,investors_leadership_dues], axis=0, join='inner')\n",
    "combined_dues"
   ]
  },
  {
   "cell_type": "markdown",
   "id": "1a385ad3-2f92-4839-a1e7-18a98a0889f4",
   "metadata": {},
   "source": [
    "### Concat member data using rows axis and inner join"
   ]
  },
  {
   "cell_type": "code",
   "execution_count": null,
   "id": "784dca4e-bf1f-44a2-bea5-85792fe68a27",
   "metadata": {},
   "outputs": [],
   "source": [
    "combined_members = pd.concat([fin_leaders_mbr_status,investors_leadership_mbr_status], axis='rows', join='inner')\n",
    "combined_members"
   ]
  },
  {
   "cell_type": "markdown",
   "id": "89316a40-5978-4607-bae9-69a3d12f9a53",
   "metadata": {},
   "source": [
    "### Concat dues and member data using columns axis and inner join"
   ]
  },
  {
   "cell_type": "code",
   "execution_count": null,
   "id": "a47422a9-270b-415d-b27a-5794de2e188e",
   "metadata": {},
   "outputs": [],
   "source": [
    "dues_member_status = pd.concat([combined_dues.drop_duplicates(),combined_members.drop_duplicates()], axis='columns', join='inner')\n",
    "dues_member_status"
   ]
  },
  {
   "cell_type": "code",
   "execution_count": null,
   "id": "2cfa611e-11fe-4841-8a7a-3cbd0ffcb419",
   "metadata": {},
   "outputs": [],
   "source": []
  }
 ],
 "metadata": {
  "kernelspec": {
   "display_name": "Python [conda env:base] *",
   "language": "python",
   "name": "conda-base-py"
  },
  "language_info": {
   "codemirror_mode": {
    "name": "ipython",
    "version": 3
   },
   "file_extension": ".py",
   "mimetype": "text/x-python",
   "name": "python",
   "nbconvert_exporter": "python",
   "pygments_lexer": "ipython3",
   "version": "3.9.16"
  }
 },
 "nbformat": 4,
 "nbformat_minor": 5
}
