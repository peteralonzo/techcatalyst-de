{
 "cells": [
  {
   "cell_type": "markdown",
   "id": "84aa06b0-55d0-4319-b92b-f73547115291",
   "metadata": {},
   "source": [
    "## Prepare"
   ]
  },
  {
   "cell_type": "code",
   "execution_count": 1,
   "id": "d533d81f-a2c4-4cc7-afff-5eb90552e6d3",
   "metadata": {},
   "outputs": [],
   "source": [
    "import pandas as pd\n",
    "\n",
    "import configparser\n",
    "config = configparser.ConfigParser()\n",
    "\n",
    "config.read('aws.cfg')\n",
    "AWS_ACCESS_KEY = config['AWS']['aws_access_key']\n",
    "AWS_SECRET_KEY = config['AWS']['aws_secret_key']"
   ]
  },
  {
   "cell_type": "markdown",
   "id": "f1f5ef16-c7ed-4841-a52c-b1f295240dba",
   "metadata": {},
   "source": [
    "## Extract Data"
   ]
  },
  {
   "cell_type": "code",
   "execution_count": 10,
   "id": "cea941a6-931c-4aae-9fea-419cc039094d",
   "metadata": {},
   "outputs": [],
   "source": [
    "# Read the CSV file \n",
    "source= 's3://techcatalyst-raw/SalesRaw/sales_data.csv'\n",
    "df = pd.read_csv(source, storage_options={\n",
    "                   'key' : AWS_ACCESS_KEY,\n",
    "                   'secret' : AWS_SECRET_KEY\n",
    "               })"
   ]
  },
  {
   "cell_type": "code",
   "execution_count": 11,
   "id": "d49c9c1d-038d-47f7-b578-79eb5f93a7f5",
   "metadata": {},
   "outputs": [
    {
     "data": {
      "text/html": [
       "<div>\n",
       "<style scoped>\n",
       "    .dataframe tbody tr th:only-of-type {\n",
       "        vertical-align: middle;\n",
       "    }\n",
       "\n",
       "    .dataframe tbody tr th {\n",
       "        vertical-align: top;\n",
       "    }\n",
       "\n",
       "    .dataframe thead th {\n",
       "        text-align: right;\n",
       "    }\n",
       "</style>\n",
       "<table border=\"1\" class=\"dataframe\">\n",
       "  <thead>\n",
       "    <tr style=\"text-align: right;\">\n",
       "      <th></th>\n",
       "      <th>DateTime</th>\n",
       "      <th>Time Zone</th>\n",
       "      <th>Sales Amount</th>\n",
       "      <th>Country</th>\n",
       "      <th>Sales Person</th>\n",
       "    </tr>\n",
       "  </thead>\n",
       "  <tbody>\n",
       "    <tr>\n",
       "      <th>0</th>\n",
       "      <td>2024-06-15 05:56:00</td>\n",
       "      <td>Australia/Sydney</td>\n",
       "      <td>NaN</td>\n",
       "      <td>Australia</td>\n",
       "      <td>David</td>\n",
       "    </tr>\n",
       "    <tr>\n",
       "      <th>1</th>\n",
       "      <td>2024-09-30 05:36:00</td>\n",
       "      <td>Europe/Berlin</td>\n",
       "      <td>23882.74</td>\n",
       "      <td>Germany</td>\n",
       "      <td>Alice</td>\n",
       "    </tr>\n",
       "    <tr>\n",
       "      <th>2</th>\n",
       "      <td>2024-02-01 15:04:00</td>\n",
       "      <td>Australia/Sydney</td>\n",
       "      <td>NaN</td>\n",
       "      <td>Australia</td>\n",
       "      <td>Eve</td>\n",
       "    </tr>\n",
       "    <tr>\n",
       "      <th>3</th>\n",
       "      <td>2024-04-24 05:12:00</td>\n",
       "      <td>Australia/Sydney</td>\n",
       "      <td>20945.38</td>\n",
       "      <td>Australia</td>\n",
       "      <td>Alice</td>\n",
       "    </tr>\n",
       "    <tr>\n",
       "      <th>4</th>\n",
       "      <td>2024-07-11 00:33:00</td>\n",
       "      <td>Europe/Berlin</td>\n",
       "      <td>NaN</td>\n",
       "      <td>Germany</td>\n",
       "      <td>David</td>\n",
       "    </tr>\n",
       "  </tbody>\n",
       "</table>\n",
       "</div>"
      ],
      "text/plain": [
       "              DateTime         Time Zone Sales Amount    Country Sales Person\n",
       "0  2024-06-15 05:56:00  Australia/Sydney          NaN  Australia        David\n",
       "1  2024-09-30 05:36:00     Europe/Berlin     23882.74    Germany        Alice\n",
       "2  2024-02-01 15:04:00  Australia/Sydney          NaN  Australia          Eve\n",
       "3  2024-04-24 05:12:00  Australia/Sydney     20945.38  Australia        Alice\n",
       "4  2024-07-11 00:33:00     Europe/Berlin          NaN    Germany        David"
      ]
     },
     "execution_count": 11,
     "metadata": {},
     "output_type": "execute_result"
    }
   ],
   "source": [
    "df.head()"
   ]
  },
  {
   "cell_type": "code",
   "execution_count": 12,
   "id": "ac1f103f-f4c8-4e6f-bfb0-0721af154e11",
   "metadata": {},
   "outputs": [
    {
     "data": {
      "text/html": [
       "<div>\n",
       "<style scoped>\n",
       "    .dataframe tbody tr th:only-of-type {\n",
       "        vertical-align: middle;\n",
       "    }\n",
       "\n",
       "    .dataframe tbody tr th {\n",
       "        vertical-align: top;\n",
       "    }\n",
       "\n",
       "    .dataframe thead th {\n",
       "        text-align: right;\n",
       "    }\n",
       "</style>\n",
       "<table border=\"1\" class=\"dataframe\">\n",
       "  <thead>\n",
       "    <tr style=\"text-align: right;\">\n",
       "      <th></th>\n",
       "      <th>DateTime</th>\n",
       "      <th>Time Zone</th>\n",
       "      <th>Sales Amount</th>\n",
       "      <th>Country</th>\n",
       "      <th>Sales Person</th>\n",
       "    </tr>\n",
       "  </thead>\n",
       "  <tbody>\n",
       "    <tr>\n",
       "      <th>count</th>\n",
       "      <td>10000</td>\n",
       "      <td>10000</td>\n",
       "      <td>5951</td>\n",
       "      <td>10000</td>\n",
       "      <td>10000</td>\n",
       "    </tr>\n",
       "    <tr>\n",
       "      <th>unique</th>\n",
       "      <td>9913</td>\n",
       "      <td>5</td>\n",
       "      <td>3905</td>\n",
       "      <td>5</td>\n",
       "      <td>5</td>\n",
       "    </tr>\n",
       "    <tr>\n",
       "      <th>top</th>\n",
       "      <td>2024-01-26 13:39:00</td>\n",
       "      <td>UTC</td>\n",
       "      <td>?</td>\n",
       "      <td>United Kingdom</td>\n",
       "      <td>Eve</td>\n",
       "    </tr>\n",
       "    <tr>\n",
       "      <th>freq</th>\n",
       "      <td>3</td>\n",
       "      <td>2046</td>\n",
       "      <td>2025</td>\n",
       "      <td>2046</td>\n",
       "      <td>2041</td>\n",
       "    </tr>\n",
       "  </tbody>\n",
       "</table>\n",
       "</div>"
      ],
      "text/plain": [
       "                   DateTime Time Zone Sales Amount         Country  \\\n",
       "count                 10000     10000         5951           10000   \n",
       "unique                 9913         5         3905               5   \n",
       "top     2024-01-26 13:39:00       UTC            ?  United Kingdom   \n",
       "freq                      3      2046         2025            2046   \n",
       "\n",
       "       Sales Person  \n",
       "count         10000  \n",
       "unique            5  \n",
       "top             Eve  \n",
       "freq           2041  "
      ]
     },
     "execution_count": 12,
     "metadata": {},
     "output_type": "execute_result"
    }
   ],
   "source": [
    "df.describe(include='all')"
   ]
  },
  {
   "cell_type": "code",
   "execution_count": 13,
   "id": "f4442ce2-4ce1-4774-8206-7537494e56dc",
   "metadata": {},
   "outputs": [
    {
     "name": "stdout",
     "output_type": "stream",
     "text": [
      "<class 'pandas.core.frame.DataFrame'>\n",
      "RangeIndex: 10000 entries, 0 to 9999\n",
      "Data columns (total 5 columns):\n",
      " #   Column        Non-Null Count  Dtype \n",
      "---  ------        --------------  ----- \n",
      " 0   DateTime      10000 non-null  object\n",
      " 1   Time Zone     10000 non-null  object\n",
      " 2   Sales Amount  5951 non-null   object\n",
      " 3   Country       10000 non-null  object\n",
      " 4   Sales Person  10000 non-null  object\n",
      "dtypes: object(5)\n",
      "memory usage: 390.8+ KB\n"
     ]
    }
   ],
   "source": [
    "df.info()"
   ]
  },
  {
   "cell_type": "markdown",
   "id": "35ac0270-335d-4248-a89a-f54c4cb2fda6",
   "metadata": {},
   "source": [
    "## Extract and Transform"
   ]
  },
  {
   "cell_type": "code",
   "execution_count": 14,
   "id": "450b05bc-772e-4759-a671-766b55942837",
   "metadata": {},
   "outputs": [],
   "source": [
    "# Read the file agian, but now by better identifying the potential NA values, also Parse the DateTime. Do it in one step while reading the file\n",
    "df = pd.read_csv(source, storage_options={\n",
    "                   'key' : AWS_ACCESS_KEY,\n",
    "                   'secret' : AWS_SECRET_KEY\n",
    "               }, parse_dates=['DateTime'], na_values=['?', 'None', ''])"
   ]
  },
  {
   "cell_type": "code",
   "execution_count": 15,
   "id": "6c5985e9-65cd-4671-bd69-63a28b4355c6",
   "metadata": {},
   "outputs": [
    {
     "data": {
      "text/html": [
       "<div>\n",
       "<style scoped>\n",
       "    .dataframe tbody tr th:only-of-type {\n",
       "        vertical-align: middle;\n",
       "    }\n",
       "\n",
       "    .dataframe tbody tr th {\n",
       "        vertical-align: top;\n",
       "    }\n",
       "\n",
       "    .dataframe thead th {\n",
       "        text-align: right;\n",
       "    }\n",
       "</style>\n",
       "<table border=\"1\" class=\"dataframe\">\n",
       "  <thead>\n",
       "    <tr style=\"text-align: right;\">\n",
       "      <th></th>\n",
       "      <th>DateTime</th>\n",
       "      <th>Time Zone</th>\n",
       "      <th>Sales Amount</th>\n",
       "      <th>Country</th>\n",
       "      <th>Sales Person</th>\n",
       "    </tr>\n",
       "  </thead>\n",
       "  <tbody>\n",
       "    <tr>\n",
       "      <th>0</th>\n",
       "      <td>2024-06-15 05:56:00</td>\n",
       "      <td>Australia/Sydney</td>\n",
       "      <td>NaN</td>\n",
       "      <td>Australia</td>\n",
       "      <td>David</td>\n",
       "    </tr>\n",
       "    <tr>\n",
       "      <th>1</th>\n",
       "      <td>2024-09-30 05:36:00</td>\n",
       "      <td>Europe/Berlin</td>\n",
       "      <td>23882.74</td>\n",
       "      <td>Germany</td>\n",
       "      <td>Alice</td>\n",
       "    </tr>\n",
       "    <tr>\n",
       "      <th>2</th>\n",
       "      <td>2024-02-01 15:04:00</td>\n",
       "      <td>Australia/Sydney</td>\n",
       "      <td>NaN</td>\n",
       "      <td>Australia</td>\n",
       "      <td>Eve</td>\n",
       "    </tr>\n",
       "    <tr>\n",
       "      <th>3</th>\n",
       "      <td>2024-04-24 05:12:00</td>\n",
       "      <td>Australia/Sydney</td>\n",
       "      <td>20945.38</td>\n",
       "      <td>Australia</td>\n",
       "      <td>Alice</td>\n",
       "    </tr>\n",
       "    <tr>\n",
       "      <th>4</th>\n",
       "      <td>2024-07-11 00:33:00</td>\n",
       "      <td>Europe/Berlin</td>\n",
       "      <td>NaN</td>\n",
       "      <td>Germany</td>\n",
       "      <td>David</td>\n",
       "    </tr>\n",
       "  </tbody>\n",
       "</table>\n",
       "</div>"
      ],
      "text/plain": [
       "             DateTime         Time Zone  Sales Amount    Country Sales Person\n",
       "0 2024-06-15 05:56:00  Australia/Sydney           NaN  Australia        David\n",
       "1 2024-09-30 05:36:00     Europe/Berlin      23882.74    Germany        Alice\n",
       "2 2024-02-01 15:04:00  Australia/Sydney           NaN  Australia          Eve\n",
       "3 2024-04-24 05:12:00  Australia/Sydney      20945.38  Australia        Alice\n",
       "4 2024-07-11 00:33:00     Europe/Berlin           NaN    Germany        David"
      ]
     },
     "execution_count": 15,
     "metadata": {},
     "output_type": "execute_result"
    }
   ],
   "source": [
    "df.head()"
   ]
  },
  {
   "cell_type": "code",
   "execution_count": 16,
   "id": "414b8061-930f-488b-871b-861e2dda7660",
   "metadata": {},
   "outputs": [
    {
     "name": "stdout",
     "output_type": "stream",
     "text": [
      "<class 'pandas.core.frame.DataFrame'>\n",
      "RangeIndex: 10000 entries, 0 to 9999\n",
      "Data columns (total 5 columns):\n",
      " #   Column        Non-Null Count  Dtype         \n",
      "---  ------        --------------  -----         \n",
      " 0   DateTime      10000 non-null  datetime64[ns]\n",
      " 1   Time Zone     10000 non-null  object        \n",
      " 2   Sales Amount  3926 non-null   float64       \n",
      " 3   Country       10000 non-null  object        \n",
      " 4   Sales Person  10000 non-null  object        \n",
      "dtypes: datetime64[ns](1), float64(1), object(3)\n",
      "memory usage: 390.8+ KB\n"
     ]
    }
   ],
   "source": [
    "df.info()"
   ]
  },
  {
   "cell_type": "code",
   "execution_count": 17,
   "id": "36ee0126-c240-479b-940c-3dbe235b770a",
   "metadata": {},
   "outputs": [
    {
     "data": {
      "text/html": [
       "<div>\n",
       "<style scoped>\n",
       "    .dataframe tbody tr th:only-of-type {\n",
       "        vertical-align: middle;\n",
       "    }\n",
       "\n",
       "    .dataframe tbody tr th {\n",
       "        vertical-align: top;\n",
       "    }\n",
       "\n",
       "    .dataframe thead th {\n",
       "        text-align: right;\n",
       "    }\n",
       "</style>\n",
       "<table border=\"1\" class=\"dataframe\">\n",
       "  <thead>\n",
       "    <tr style=\"text-align: right;\">\n",
       "      <th></th>\n",
       "      <th>DateTime</th>\n",
       "      <th>Sales Amount</th>\n",
       "    </tr>\n",
       "  </thead>\n",
       "  <tbody>\n",
       "    <tr>\n",
       "      <th>count</th>\n",
       "      <td>10000</td>\n",
       "      <td>3926.000000</td>\n",
       "    </tr>\n",
       "    <tr>\n",
       "      <th>mean</th>\n",
       "      <td>2024-07-01 02:47:21.606000128</td>\n",
       "      <td>15572.928839</td>\n",
       "    </tr>\n",
       "    <tr>\n",
       "      <th>min</th>\n",
       "      <td>2024-01-01 00:01:00</td>\n",
       "      <td>10.380000</td>\n",
       "    </tr>\n",
       "    <tr>\n",
       "      <th>25%</th>\n",
       "      <td>2024-03-31 14:52:45</td>\n",
       "      <td>514.525000</td>\n",
       "    </tr>\n",
       "    <tr>\n",
       "      <th>50%</th>\n",
       "      <td>2024-06-30 13:37:00</td>\n",
       "      <td>10891.170000</td>\n",
       "    </tr>\n",
       "    <tr>\n",
       "      <th>75%</th>\n",
       "      <td>2024-09-30 05:46:45</td>\n",
       "      <td>30655.217500</td>\n",
       "    </tr>\n",
       "    <tr>\n",
       "      <th>max</th>\n",
       "      <td>2024-12-30 21:37:00</td>\n",
       "      <td>49996.820000</td>\n",
       "    </tr>\n",
       "    <tr>\n",
       "      <th>std</th>\n",
       "      <td>NaN</td>\n",
       "      <td>16922.555911</td>\n",
       "    </tr>\n",
       "  </tbody>\n",
       "</table>\n",
       "</div>"
      ],
      "text/plain": [
       "                            DateTime  Sales Amount\n",
       "count                          10000   3926.000000\n",
       "mean   2024-07-01 02:47:21.606000128  15572.928839\n",
       "min              2024-01-01 00:01:00     10.380000\n",
       "25%              2024-03-31 14:52:45    514.525000\n",
       "50%              2024-06-30 13:37:00  10891.170000\n",
       "75%              2024-09-30 05:46:45  30655.217500\n",
       "max              2024-12-30 21:37:00  49996.820000\n",
       "std                              NaN  16922.555911"
      ]
     },
     "execution_count": 17,
     "metadata": {},
     "output_type": "execute_result"
    }
   ],
   "source": [
    "df.describe()"
   ]
  },
  {
   "cell_type": "code",
   "execution_count": 86,
   "id": "4137f883-d579-4846-8362-27d58ba603ff",
   "metadata": {},
   "outputs": [
    {
     "data": {
      "text/html": [
       "<div>\n",
       "<style scoped>\n",
       "    .dataframe tbody tr th:only-of-type {\n",
       "        vertical-align: middle;\n",
       "    }\n",
       "\n",
       "    .dataframe tbody tr th {\n",
       "        vertical-align: top;\n",
       "    }\n",
       "\n",
       "    .dataframe thead th {\n",
       "        text-align: right;\n",
       "    }\n",
       "</style>\n",
       "<table border=\"1\" class=\"dataframe\">\n",
       "  <thead>\n",
       "    <tr style=\"text-align: right;\">\n",
       "      <th></th>\n",
       "      <th>DateTime</th>\n",
       "      <th>Time Zone</th>\n",
       "      <th>Sales Amount</th>\n",
       "      <th>Country</th>\n",
       "      <th>Sales Person</th>\n",
       "      <th>DateTime_Localized</th>\n",
       "      <th>DateTime_UTC</th>\n",
       "    </tr>\n",
       "  </thead>\n",
       "  <tbody>\n",
       "    <tr>\n",
       "      <th>0</th>\n",
       "      <td>2024-06-15 05:56:00</td>\n",
       "      <td>Australia/Sydney</td>\n",
       "      <td>9829.40</td>\n",
       "      <td>Australia</td>\n",
       "      <td>David</td>\n",
       "      <td>2024-06-15 05:56:00+10:00</td>\n",
       "      <td>2024-06-14 19:56:00+00:00</td>\n",
       "    </tr>\n",
       "    <tr>\n",
       "      <th>1</th>\n",
       "      <td>2024-09-30 05:36:00</td>\n",
       "      <td>Europe/Berlin</td>\n",
       "      <td>23882.74</td>\n",
       "      <td>Germany</td>\n",
       "      <td>Alice</td>\n",
       "      <td>2024-09-30 05:36:00+02:00</td>\n",
       "      <td>2024-09-30 03:36:00+00:00</td>\n",
       "    </tr>\n",
       "    <tr>\n",
       "      <th>2</th>\n",
       "      <td>2024-02-01 15:04:00</td>\n",
       "      <td>Australia/Sydney</td>\n",
       "      <td>9829.40</td>\n",
       "      <td>Australia</td>\n",
       "      <td>Eve</td>\n",
       "      <td>2024-02-01 15:04:00+11:00</td>\n",
       "      <td>2024-02-01 04:04:00+00:00</td>\n",
       "    </tr>\n",
       "    <tr>\n",
       "      <th>3</th>\n",
       "      <td>2024-04-24 05:12:00</td>\n",
       "      <td>Australia/Sydney</td>\n",
       "      <td>20945.38</td>\n",
       "      <td>Australia</td>\n",
       "      <td>Alice</td>\n",
       "      <td>2024-04-24 05:12:00+10:00</td>\n",
       "      <td>2024-04-23 19:12:00+00:00</td>\n",
       "    </tr>\n",
       "    <tr>\n",
       "      <th>4</th>\n",
       "      <td>2024-07-11 00:33:00</td>\n",
       "      <td>Europe/Berlin</td>\n",
       "      <td>9829.40</td>\n",
       "      <td>Germany</td>\n",
       "      <td>David</td>\n",
       "      <td>2024-07-11 00:33:00+02:00</td>\n",
       "      <td>2024-07-10 22:33:00+00:00</td>\n",
       "    </tr>\n",
       "    <tr>\n",
       "      <th>...</th>\n",
       "      <td>...</td>\n",
       "      <td>...</td>\n",
       "      <td>...</td>\n",
       "      <td>...</td>\n",
       "      <td>...</td>\n",
       "      <td>...</td>\n",
       "      <td>...</td>\n",
       "    </tr>\n",
       "    <tr>\n",
       "      <th>9995</th>\n",
       "      <td>2024-11-18 14:35:00</td>\n",
       "      <td>Europe/Berlin</td>\n",
       "      <td>9829.40</td>\n",
       "      <td>Germany</td>\n",
       "      <td>Bob</td>\n",
       "      <td>2024-11-18 14:35:00+01:00</td>\n",
       "      <td>2024-11-18 13:35:00+00:00</td>\n",
       "    </tr>\n",
       "    <tr>\n",
       "      <th>9996</th>\n",
       "      <td>2024-05-04 10:13:00</td>\n",
       "      <td>Asia/Tokyo</td>\n",
       "      <td>287.35</td>\n",
       "      <td>Japan</td>\n",
       "      <td>Bob</td>\n",
       "      <td>2024-05-04 10:13:00+09:00</td>\n",
       "      <td>2024-05-04 01:13:00+00:00</td>\n",
       "    </tr>\n",
       "    <tr>\n",
       "      <th>9997</th>\n",
       "      <td>2024-03-07 03:51:00</td>\n",
       "      <td>Australia/Sydney</td>\n",
       "      <td>9829.40</td>\n",
       "      <td>Australia</td>\n",
       "      <td>Bob</td>\n",
       "      <td>2024-03-07 03:51:00+11:00</td>\n",
       "      <td>2024-03-06 16:51:00+00:00</td>\n",
       "    </tr>\n",
       "    <tr>\n",
       "      <th>9998</th>\n",
       "      <td>2024-10-26 04:30:00</td>\n",
       "      <td>Australia/Sydney</td>\n",
       "      <td>175.50</td>\n",
       "      <td>Australia</td>\n",
       "      <td>Eve</td>\n",
       "      <td>2024-10-26 04:30:00+11:00</td>\n",
       "      <td>2024-10-25 17:30:00+00:00</td>\n",
       "    </tr>\n",
       "    <tr>\n",
       "      <th>9999</th>\n",
       "      <td>2024-08-19 05:29:00</td>\n",
       "      <td>Asia/Tokyo</td>\n",
       "      <td>9829.40</td>\n",
       "      <td>Japan</td>\n",
       "      <td>David</td>\n",
       "      <td>2024-08-19 05:29:00+09:00</td>\n",
       "      <td>2024-08-18 20:29:00+00:00</td>\n",
       "    </tr>\n",
       "  </tbody>\n",
       "</table>\n",
       "<p>9998 rows × 7 columns</p>\n",
       "</div>"
      ],
      "text/plain": [
       "                DateTime         Time Zone  Sales Amount    Country  \\\n",
       "0    2024-06-15 05:56:00  Australia/Sydney       9829.40  Australia   \n",
       "1    2024-09-30 05:36:00     Europe/Berlin      23882.74    Germany   \n",
       "2    2024-02-01 15:04:00  Australia/Sydney       9829.40  Australia   \n",
       "3    2024-04-24 05:12:00  Australia/Sydney      20945.38  Australia   \n",
       "4    2024-07-11 00:33:00     Europe/Berlin       9829.40    Germany   \n",
       "...                  ...               ...           ...        ...   \n",
       "9995 2024-11-18 14:35:00     Europe/Berlin       9829.40    Germany   \n",
       "9996 2024-05-04 10:13:00        Asia/Tokyo        287.35      Japan   \n",
       "9997 2024-03-07 03:51:00  Australia/Sydney       9829.40  Australia   \n",
       "9998 2024-10-26 04:30:00  Australia/Sydney        175.50  Australia   \n",
       "9999 2024-08-19 05:29:00        Asia/Tokyo       9829.40      Japan   \n",
       "\n",
       "     Sales Person         DateTime_Localized              DateTime_UTC  \n",
       "0           David  2024-06-15 05:56:00+10:00 2024-06-14 19:56:00+00:00  \n",
       "1           Alice  2024-09-30 05:36:00+02:00 2024-09-30 03:36:00+00:00  \n",
       "2             Eve  2024-02-01 15:04:00+11:00 2024-02-01 04:04:00+00:00  \n",
       "3           Alice  2024-04-24 05:12:00+10:00 2024-04-23 19:12:00+00:00  \n",
       "4           David  2024-07-11 00:33:00+02:00 2024-07-10 22:33:00+00:00  \n",
       "...           ...                        ...                       ...  \n",
       "9995          Bob  2024-11-18 14:35:00+01:00 2024-11-18 13:35:00+00:00  \n",
       "9996          Bob  2024-05-04 10:13:00+09:00 2024-05-04 01:13:00+00:00  \n",
       "9997          Bob  2024-03-07 03:51:00+11:00 2024-03-06 16:51:00+00:00  \n",
       "9998          Eve  2024-10-26 04:30:00+11:00 2024-10-25 17:30:00+00:00  \n",
       "9999        David  2024-08-19 05:29:00+09:00 2024-08-18 20:29:00+00:00  \n",
       "\n",
       "[9998 rows x 7 columns]"
      ]
     },
     "execution_count": 86,
     "metadata": {},
     "output_type": "execute_result"
    }
   ],
   "source": [
    "# Remove outlier values in Sales. Later you will learn how to statistically determine outliers. For now, an SME told you the threshold is 37,000\n",
    "threshold = 37000\n",
    "\n",
    "# now replace the outlier values with pd.NA\n",
    "#df.loc[df['Sales Amount'] > threshold, 'Sales Amount'] = pd.NA\n",
    "df['Sales Amount'] = df['Sales Amount'].apply(lambda x: pd.NA if x > threshold else x)\n",
    "df\n",
    "# Your code"
   ]
  },
  {
   "cell_type": "code",
   "execution_count": 27,
   "id": "7d877b31-09fc-4a6a-8b7f-cf6f9156a967",
   "metadata": {},
   "outputs": [
    {
     "name": "stdout",
     "output_type": "stream",
     "text": [
      "<class 'pandas.core.frame.DataFrame'>\n",
      "RangeIndex: 10000 entries, 0 to 9999\n",
      "Data columns (total 5 columns):\n",
      " #   Column        Non-Null Count  Dtype         \n",
      "---  ------        --------------  -----         \n",
      " 0   DateTime      10000 non-null  datetime64[ns]\n",
      " 1   Time Zone     10000 non-null  object        \n",
      " 2   Sales Amount  3252 non-null   object        \n",
      " 3   Country       10000 non-null  object        \n",
      " 4   Sales Person  10000 non-null  object        \n",
      "dtypes: datetime64[ns](1), object(4)\n",
      "memory usage: 390.8+ KB\n"
     ]
    }
   ],
   "source": [
    "df.info()"
   ]
  },
  {
   "cell_type": "code",
   "execution_count": 28,
   "id": "5e2b1550-c4c7-4cf4-87d6-3465e3ce53ea",
   "metadata": {},
   "outputs": [
    {
     "data": {
      "text/plain": [
       "9829.400738007385"
      ]
     },
     "execution_count": 28,
     "metadata": {},
     "output_type": "execute_result"
    }
   ],
   "source": [
    "# Replace all null values with the overall mean \n",
    "average = df['Sales Amount'].mean()\n",
    "average"
   ]
  },
  {
   "cell_type": "code",
   "execution_count": 31,
   "id": "98423ecb-3d72-4329-8d5b-e9bf31085e33",
   "metadata": {},
   "outputs": [],
   "source": [
    "# Now fill all NA values with that mean\n",
    "# Your code here\n",
    "df['Sales Amount'].fillna(df['Sales Amount'].mean(), inplace=True)"
   ]
  },
  {
   "cell_type": "code",
   "execution_count": 32,
   "id": "ff962ca3-8d4e-4aff-9f7c-b3f0c0812213",
   "metadata": {},
   "outputs": [
    {
     "data": {
      "text/html": [
       "<div>\n",
       "<style scoped>\n",
       "    .dataframe tbody tr th:only-of-type {\n",
       "        vertical-align: middle;\n",
       "    }\n",
       "\n",
       "    .dataframe tbody tr th {\n",
       "        vertical-align: top;\n",
       "    }\n",
       "\n",
       "    .dataframe thead th {\n",
       "        text-align: right;\n",
       "    }\n",
       "</style>\n",
       "<table border=\"1\" class=\"dataframe\">\n",
       "  <thead>\n",
       "    <tr style=\"text-align: right;\">\n",
       "      <th></th>\n",
       "      <th>DateTime</th>\n",
       "      <th>Time Zone</th>\n",
       "      <th>Sales Amount</th>\n",
       "      <th>Country</th>\n",
       "      <th>Sales Person</th>\n",
       "    </tr>\n",
       "  </thead>\n",
       "  <tbody>\n",
       "    <tr>\n",
       "      <th>0</th>\n",
       "      <td>2024-06-15 05:56:00</td>\n",
       "      <td>Australia/Sydney</td>\n",
       "      <td>9829.400738</td>\n",
       "      <td>Australia</td>\n",
       "      <td>David</td>\n",
       "    </tr>\n",
       "    <tr>\n",
       "      <th>1</th>\n",
       "      <td>2024-09-30 05:36:00</td>\n",
       "      <td>Europe/Berlin</td>\n",
       "      <td>23882.740000</td>\n",
       "      <td>Germany</td>\n",
       "      <td>Alice</td>\n",
       "    </tr>\n",
       "    <tr>\n",
       "      <th>2</th>\n",
       "      <td>2024-02-01 15:04:00</td>\n",
       "      <td>Australia/Sydney</td>\n",
       "      <td>9829.400738</td>\n",
       "      <td>Australia</td>\n",
       "      <td>Eve</td>\n",
       "    </tr>\n",
       "    <tr>\n",
       "      <th>3</th>\n",
       "      <td>2024-04-24 05:12:00</td>\n",
       "      <td>Australia/Sydney</td>\n",
       "      <td>20945.380000</td>\n",
       "      <td>Australia</td>\n",
       "      <td>Alice</td>\n",
       "    </tr>\n",
       "    <tr>\n",
       "      <th>4</th>\n",
       "      <td>2024-07-11 00:33:00</td>\n",
       "      <td>Europe/Berlin</td>\n",
       "      <td>9829.400738</td>\n",
       "      <td>Germany</td>\n",
       "      <td>David</td>\n",
       "    </tr>\n",
       "  </tbody>\n",
       "</table>\n",
       "</div>"
      ],
      "text/plain": [
       "             DateTime         Time Zone  Sales Amount    Country Sales Person\n",
       "0 2024-06-15 05:56:00  Australia/Sydney   9829.400738  Australia        David\n",
       "1 2024-09-30 05:36:00     Europe/Berlin  23882.740000    Germany        Alice\n",
       "2 2024-02-01 15:04:00  Australia/Sydney   9829.400738  Australia          Eve\n",
       "3 2024-04-24 05:12:00  Australia/Sydney  20945.380000  Australia        Alice\n",
       "4 2024-07-11 00:33:00     Europe/Berlin   9829.400738    Germany        David"
      ]
     },
     "execution_count": 32,
     "metadata": {},
     "output_type": "execute_result"
    }
   ],
   "source": [
    "df.head()"
   ]
  },
  {
   "cell_type": "code",
   "execution_count": 34,
   "id": "aeb75371-6280-4bd7-b3f3-f1996a9c8935",
   "metadata": {},
   "outputs": [
    {
     "data": {
      "text/html": [
       "<div>\n",
       "<style scoped>\n",
       "    .dataframe tbody tr th:only-of-type {\n",
       "        vertical-align: middle;\n",
       "    }\n",
       "\n",
       "    .dataframe tbody tr th {\n",
       "        vertical-align: top;\n",
       "    }\n",
       "\n",
       "    .dataframe thead th {\n",
       "        text-align: right;\n",
       "    }\n",
       "</style>\n",
       "<table border=\"1\" class=\"dataframe\">\n",
       "  <thead>\n",
       "    <tr style=\"text-align: right;\">\n",
       "      <th></th>\n",
       "      <th>DateTime</th>\n",
       "      <th>Time Zone</th>\n",
       "      <th>Sales Amount</th>\n",
       "      <th>Country</th>\n",
       "      <th>Sales Person</th>\n",
       "    </tr>\n",
       "  </thead>\n",
       "  <tbody>\n",
       "    <tr>\n",
       "      <th>0</th>\n",
       "      <td>2024-06-15 05:56:00</td>\n",
       "      <td>Australia/Sydney</td>\n",
       "      <td>9829.40</td>\n",
       "      <td>Australia</td>\n",
       "      <td>David</td>\n",
       "    </tr>\n",
       "    <tr>\n",
       "      <th>1</th>\n",
       "      <td>2024-09-30 05:36:00</td>\n",
       "      <td>Europe/Berlin</td>\n",
       "      <td>23882.74</td>\n",
       "      <td>Germany</td>\n",
       "      <td>Alice</td>\n",
       "    </tr>\n",
       "    <tr>\n",
       "      <th>2</th>\n",
       "      <td>2024-02-01 15:04:00</td>\n",
       "      <td>Australia/Sydney</td>\n",
       "      <td>9829.40</td>\n",
       "      <td>Australia</td>\n",
       "      <td>Eve</td>\n",
       "    </tr>\n",
       "    <tr>\n",
       "      <th>3</th>\n",
       "      <td>2024-04-24 05:12:00</td>\n",
       "      <td>Australia/Sydney</td>\n",
       "      <td>20945.38</td>\n",
       "      <td>Australia</td>\n",
       "      <td>Alice</td>\n",
       "    </tr>\n",
       "    <tr>\n",
       "      <th>4</th>\n",
       "      <td>2024-07-11 00:33:00</td>\n",
       "      <td>Europe/Berlin</td>\n",
       "      <td>9829.40</td>\n",
       "      <td>Germany</td>\n",
       "      <td>David</td>\n",
       "    </tr>\n",
       "  </tbody>\n",
       "</table>\n",
       "</div>"
      ],
      "text/plain": [
       "             DateTime         Time Zone  Sales Amount    Country Sales Person\n",
       "0 2024-06-15 05:56:00  Australia/Sydney       9829.40  Australia        David\n",
       "1 2024-09-30 05:36:00     Europe/Berlin      23882.74    Germany        Alice\n",
       "2 2024-02-01 15:04:00  Australia/Sydney       9829.40  Australia          Eve\n",
       "3 2024-04-24 05:12:00  Australia/Sydney      20945.38  Australia        Alice\n",
       "4 2024-07-11 00:33:00     Europe/Berlin       9829.40    Germany        David"
      ]
     },
     "execution_count": 34,
     "metadata": {},
     "output_type": "execute_result"
    }
   ],
   "source": [
    "# You will need to round the Sale AMount now to 2 decimal places \n",
    "\n",
    "# Your code here \n",
    "df['Sales Amount'] = df['Sales Amount'].round(2)\n",
    "df.head()"
   ]
  },
  {
   "cell_type": "code",
   "execution_count": 35,
   "id": "786e6b61-aa3c-4c50-9d7e-829fa98f5d47",
   "metadata": {},
   "outputs": [
    {
     "name": "stdout",
     "output_type": "stream",
     "text": [
      "<class 'pandas.core.frame.DataFrame'>\n",
      "RangeIndex: 10000 entries, 0 to 9999\n",
      "Data columns (total 5 columns):\n",
      " #   Column        Non-Null Count  Dtype         \n",
      "---  ------        --------------  -----         \n",
      " 0   DateTime      10000 non-null  datetime64[ns]\n",
      " 1   Time Zone     10000 non-null  object        \n",
      " 2   Sales Amount  10000 non-null  float64       \n",
      " 3   Country       10000 non-null  object        \n",
      " 4   Sales Person  10000 non-null  object        \n",
      "dtypes: datetime64[ns](1), float64(1), object(3)\n",
      "memory usage: 390.8+ KB\n"
     ]
    }
   ],
   "source": [
    "df.info()"
   ]
  },
  {
   "cell_type": "code",
   "execution_count": 36,
   "id": "d5ca4b34-7584-41c4-95f8-500922399419",
   "metadata": {},
   "outputs": [
    {
     "data": {
      "text/html": [
       "<div>\n",
       "<style scoped>\n",
       "    .dataframe tbody tr th:only-of-type {\n",
       "        vertical-align: middle;\n",
       "    }\n",
       "\n",
       "    .dataframe tbody tr th {\n",
       "        vertical-align: top;\n",
       "    }\n",
       "\n",
       "    .dataframe thead th {\n",
       "        text-align: right;\n",
       "    }\n",
       "</style>\n",
       "<table border=\"1\" class=\"dataframe\">\n",
       "  <thead>\n",
       "    <tr style=\"text-align: right;\">\n",
       "      <th></th>\n",
       "      <th>DateTime</th>\n",
       "      <th>Sales Amount</th>\n",
       "    </tr>\n",
       "  </thead>\n",
       "  <tbody>\n",
       "    <tr>\n",
       "      <th>count</th>\n",
       "      <td>10000</td>\n",
       "      <td>10000.000000</td>\n",
       "    </tr>\n",
       "    <tr>\n",
       "      <th>mean</th>\n",
       "      <td>2024-07-01 02:47:21.606000128</td>\n",
       "      <td>9829.400240</td>\n",
       "    </tr>\n",
       "    <tr>\n",
       "      <th>min</th>\n",
       "      <td>2024-01-01 00:01:00</td>\n",
       "      <td>10.380000</td>\n",
       "    </tr>\n",
       "    <tr>\n",
       "      <th>25%</th>\n",
       "      <td>2024-03-31 14:52:45</td>\n",
       "      <td>9829.400000</td>\n",
       "    </tr>\n",
       "    <tr>\n",
       "      <th>50%</th>\n",
       "      <td>2024-06-30 13:37:00</td>\n",
       "      <td>9829.400000</td>\n",
       "    </tr>\n",
       "    <tr>\n",
       "      <th>75%</th>\n",
       "      <td>2024-09-30 05:46:45</td>\n",
       "      <td>9829.400000</td>\n",
       "    </tr>\n",
       "    <tr>\n",
       "      <th>max</th>\n",
       "      <td>2024-12-30 21:37:00</td>\n",
       "      <td>36959.150000</td>\n",
       "    </tr>\n",
       "    <tr>\n",
       "      <th>std</th>\n",
       "      <td>NaN</td>\n",
       "      <td>7001.282356</td>\n",
       "    </tr>\n",
       "  </tbody>\n",
       "</table>\n",
       "</div>"
      ],
      "text/plain": [
       "                            DateTime  Sales Amount\n",
       "count                          10000  10000.000000\n",
       "mean   2024-07-01 02:47:21.606000128   9829.400240\n",
       "min              2024-01-01 00:01:00     10.380000\n",
       "25%              2024-03-31 14:52:45   9829.400000\n",
       "50%              2024-06-30 13:37:00   9829.400000\n",
       "75%              2024-09-30 05:46:45   9829.400000\n",
       "max              2024-12-30 21:37:00  36959.150000\n",
       "std                              NaN   7001.282356"
      ]
     },
     "execution_count": 36,
     "metadata": {},
     "output_type": "execute_result"
    }
   ],
   "source": [
    "df.describe()"
   ]
  },
  {
   "cell_type": "code",
   "execution_count": 37,
   "id": "c3dca6b2-2816-4456-8316-c0b495adf7c1",
   "metadata": {},
   "outputs": [
    {
     "data": {
      "text/plain": [
       "array(['Australia/Sydney', 'Europe/Berlin', 'Asia/Tokyo', 'UTC',\n",
       "       'US/Eastern'], dtype=object)"
      ]
     },
     "execution_count": 37,
     "metadata": {},
     "output_type": "execute_result"
    }
   ],
   "source": [
    "df['Time Zone'].unique()"
   ]
  },
  {
   "cell_type": "code",
   "execution_count": 42,
   "id": "b47a3580-1b3d-417b-a942-df79f7bcafe5",
   "metadata": {},
   "outputs": [],
   "source": [
    "# you will need to drop two rows have will cause an issue. They have been identified as index 9723 and index 9373\n",
    "\n",
    "# df = df.drop(index=[9723, 9373])"
   ]
  },
  {
   "cell_type": "code",
   "execution_count": 65,
   "id": "d53082f4-3c8b-409e-813d-18899ca505ab",
   "metadata": {},
   "outputs": [
    {
     "data": {
      "text/html": [
       "<div>\n",
       "<style scoped>\n",
       "    .dataframe tbody tr th:only-of-type {\n",
       "        vertical-align: middle;\n",
       "    }\n",
       "\n",
       "    .dataframe tbody tr th {\n",
       "        vertical-align: top;\n",
       "    }\n",
       "\n",
       "    .dataframe thead th {\n",
       "        text-align: right;\n",
       "    }\n",
       "</style>\n",
       "<table border=\"1\" class=\"dataframe\">\n",
       "  <thead>\n",
       "    <tr style=\"text-align: right;\">\n",
       "      <th></th>\n",
       "      <th>DateTime</th>\n",
       "      <th>Time Zone</th>\n",
       "      <th>Sales Amount</th>\n",
       "      <th>Country</th>\n",
       "      <th>Sales Person</th>\n",
       "      <th>DateTime_Localized</th>\n",
       "      <th>DateTime_UTC</th>\n",
       "    </tr>\n",
       "  </thead>\n",
       "  <tbody>\n",
       "    <tr>\n",
       "      <th>0</th>\n",
       "      <td>2024-06-15 05:56:00</td>\n",
       "      <td>Australia/Sydney</td>\n",
       "      <td>9829.40</td>\n",
       "      <td>Australia</td>\n",
       "      <td>David</td>\n",
       "      <td>2024-06-15 05:56:00+10:00</td>\n",
       "      <td>2024-06-15 05:56:00+00:00</td>\n",
       "    </tr>\n",
       "    <tr>\n",
       "      <th>1</th>\n",
       "      <td>2024-09-30 05:36:00</td>\n",
       "      <td>Europe/Berlin</td>\n",
       "      <td>23882.74</td>\n",
       "      <td>Germany</td>\n",
       "      <td>Alice</td>\n",
       "      <td>2024-09-30 05:36:00+02:00</td>\n",
       "      <td>2024-09-30 05:36:00+00:00</td>\n",
       "    </tr>\n",
       "    <tr>\n",
       "      <th>2</th>\n",
       "      <td>2024-02-01 15:04:00</td>\n",
       "      <td>Australia/Sydney</td>\n",
       "      <td>9829.40</td>\n",
       "      <td>Australia</td>\n",
       "      <td>Eve</td>\n",
       "      <td>2024-02-01 15:04:00+11:00</td>\n",
       "      <td>2024-02-01 15:04:00+00:00</td>\n",
       "    </tr>\n",
       "    <tr>\n",
       "      <th>3</th>\n",
       "      <td>2024-04-24 05:12:00</td>\n",
       "      <td>Australia/Sydney</td>\n",
       "      <td>20945.38</td>\n",
       "      <td>Australia</td>\n",
       "      <td>Alice</td>\n",
       "      <td>2024-04-24 05:12:00+10:00</td>\n",
       "      <td>2024-04-24 05:12:00+00:00</td>\n",
       "    </tr>\n",
       "    <tr>\n",
       "      <th>4</th>\n",
       "      <td>2024-07-11 00:33:00</td>\n",
       "      <td>Europe/Berlin</td>\n",
       "      <td>9829.40</td>\n",
       "      <td>Germany</td>\n",
       "      <td>David</td>\n",
       "      <td>2024-07-11 00:33:00+02:00</td>\n",
       "      <td>2024-07-11 00:33:00+00:00</td>\n",
       "    </tr>\n",
       "  </tbody>\n",
       "</table>\n",
       "</div>"
      ],
      "text/plain": [
       "             DateTime         Time Zone  Sales Amount    Country Sales Person  \\\n",
       "0 2024-06-15 05:56:00  Australia/Sydney       9829.40  Australia        David   \n",
       "1 2024-09-30 05:36:00     Europe/Berlin      23882.74    Germany        Alice   \n",
       "2 2024-02-01 15:04:00  Australia/Sydney       9829.40  Australia          Eve   \n",
       "3 2024-04-24 05:12:00  Australia/Sydney      20945.38  Australia        Alice   \n",
       "4 2024-07-11 00:33:00     Europe/Berlin       9829.40    Germany        David   \n",
       "\n",
       "          DateTime_Localized              DateTime_UTC  \n",
       "0  2024-06-15 05:56:00+10:00 2024-06-15 05:56:00+00:00  \n",
       "1  2024-09-30 05:36:00+02:00 2024-09-30 05:36:00+00:00  \n",
       "2  2024-02-01 15:04:00+11:00 2024-02-01 15:04:00+00:00  \n",
       "3  2024-04-24 05:12:00+10:00 2024-04-24 05:12:00+00:00  \n",
       "4  2024-07-11 00:33:00+02:00 2024-07-11 00:33:00+00:00  "
      ]
     },
     "execution_count": 65,
     "metadata": {},
     "output_type": "execute_result"
    }
   ],
   "source": [
    "# Localize each DateTime with the corresponding Time Zone.\n",
    "# Hint, you can use df.apply and Lambda function\n",
    "import datetime as dt\n",
    "df['DateTime_Localized'] = df.apply(lambda row: row['DateTime'].tz_localize(row['Time Zone']), axis=1)\n",
    "df.head()"
   ]
  },
  {
   "cell_type": "markdown",
   "id": "5a5b19b0-7d9e-427e-8aeb-4df4a3e2ee94",
   "metadata": {},
   "source": [
    "### Testing/Validation"
   ]
  },
  {
   "cell_type": "code",
   "execution_count": 66,
   "id": "61715692-8103-445a-9805-f31be793064a",
   "metadata": {},
   "outputs": [
    {
     "data": {
      "text/plain": [
       "Timestamp('2024-06-15 05:56:00')"
      ]
     },
     "execution_count": 66,
     "metadata": {},
     "output_type": "execute_result"
    }
   ],
   "source": [
    "df['DateTime'][0]"
   ]
  },
  {
   "cell_type": "code",
   "execution_count": 67,
   "id": "13bfe87a-cad3-4526-a25d-6af3e3e1e7c5",
   "metadata": {},
   "outputs": [
    {
     "data": {
      "text/plain": [
       "Timestamp('2024-06-15 05:56:00+1000', tz='Australia/Sydney')"
      ]
     },
     "execution_count": 67,
     "metadata": {},
     "output_type": "execute_result"
    }
   ],
   "source": [
    "df['DateTime_Localized'][0]"
   ]
  },
  {
   "cell_type": "code",
   "execution_count": 69,
   "id": "2b187a78-afc3-4985-8be1-5d9c635b5724",
   "metadata": {},
   "outputs": [
    {
     "data": {
      "text/plain": [
       "Timestamp('2024-09-30 05:36:00')"
      ]
     },
     "execution_count": 69,
     "metadata": {},
     "output_type": "execute_result"
    }
   ],
   "source": [
    "df['DateTime'][1]"
   ]
  },
  {
   "cell_type": "code",
   "execution_count": 70,
   "id": "30023a9e-93db-44ce-8950-ceedaed9f194",
   "metadata": {},
   "outputs": [
    {
     "data": {
      "text/plain": [
       "Timestamp('2024-09-30 05:36:00+0200', tz='Europe/Berlin')"
      ]
     },
     "execution_count": 70,
     "metadata": {},
     "output_type": "execute_result"
    }
   ],
   "source": [
    "df['DateTime_Localized'][1]"
   ]
  },
  {
   "cell_type": "code",
   "execution_count": 71,
   "id": "35b7f50a-fd0c-4462-8916-1e0ee3895283",
   "metadata": {},
   "outputs": [
    {
     "data": {
      "text/html": [
       "<div>\n",
       "<style scoped>\n",
       "    .dataframe tbody tr th:only-of-type {\n",
       "        vertical-align: middle;\n",
       "    }\n",
       "\n",
       "    .dataframe tbody tr th {\n",
       "        vertical-align: top;\n",
       "    }\n",
       "\n",
       "    .dataframe thead th {\n",
       "        text-align: right;\n",
       "    }\n",
       "</style>\n",
       "<table border=\"1\" class=\"dataframe\">\n",
       "  <thead>\n",
       "    <tr style=\"text-align: right;\">\n",
       "      <th></th>\n",
       "      <th>DateTime</th>\n",
       "      <th>Time Zone</th>\n",
       "      <th>Sales Amount</th>\n",
       "      <th>Country</th>\n",
       "      <th>Sales Person</th>\n",
       "      <th>DateTime_Localized</th>\n",
       "      <th>DateTime_UTC</th>\n",
       "    </tr>\n",
       "  </thead>\n",
       "  <tbody>\n",
       "    <tr>\n",
       "      <th>0</th>\n",
       "      <td>2024-06-15 05:56:00</td>\n",
       "      <td>Australia/Sydney</td>\n",
       "      <td>9829.40</td>\n",
       "      <td>Australia</td>\n",
       "      <td>David</td>\n",
       "      <td>2024-06-15 05:56:00+10:00</td>\n",
       "      <td>2024-06-14 19:56:00+00:00</td>\n",
       "    </tr>\n",
       "    <tr>\n",
       "      <th>1</th>\n",
       "      <td>2024-09-30 05:36:00</td>\n",
       "      <td>Europe/Berlin</td>\n",
       "      <td>23882.74</td>\n",
       "      <td>Germany</td>\n",
       "      <td>Alice</td>\n",
       "      <td>2024-09-30 05:36:00+02:00</td>\n",
       "      <td>2024-09-30 03:36:00+00:00</td>\n",
       "    </tr>\n",
       "    <tr>\n",
       "      <th>2</th>\n",
       "      <td>2024-02-01 15:04:00</td>\n",
       "      <td>Australia/Sydney</td>\n",
       "      <td>9829.40</td>\n",
       "      <td>Australia</td>\n",
       "      <td>Eve</td>\n",
       "      <td>2024-02-01 15:04:00+11:00</td>\n",
       "      <td>2024-02-01 04:04:00+00:00</td>\n",
       "    </tr>\n",
       "    <tr>\n",
       "      <th>3</th>\n",
       "      <td>2024-04-24 05:12:00</td>\n",
       "      <td>Australia/Sydney</td>\n",
       "      <td>20945.38</td>\n",
       "      <td>Australia</td>\n",
       "      <td>Alice</td>\n",
       "      <td>2024-04-24 05:12:00+10:00</td>\n",
       "      <td>2024-04-23 19:12:00+00:00</td>\n",
       "    </tr>\n",
       "    <tr>\n",
       "      <th>4</th>\n",
       "      <td>2024-07-11 00:33:00</td>\n",
       "      <td>Europe/Berlin</td>\n",
       "      <td>9829.40</td>\n",
       "      <td>Germany</td>\n",
       "      <td>David</td>\n",
       "      <td>2024-07-11 00:33:00+02:00</td>\n",
       "      <td>2024-07-10 22:33:00+00:00</td>\n",
       "    </tr>\n",
       "  </tbody>\n",
       "</table>\n",
       "</div>"
      ],
      "text/plain": [
       "             DateTime         Time Zone  Sales Amount    Country Sales Person  \\\n",
       "0 2024-06-15 05:56:00  Australia/Sydney       9829.40  Australia        David   \n",
       "1 2024-09-30 05:36:00     Europe/Berlin      23882.74    Germany        Alice   \n",
       "2 2024-02-01 15:04:00  Australia/Sydney       9829.40  Australia          Eve   \n",
       "3 2024-04-24 05:12:00  Australia/Sydney      20945.38  Australia        Alice   \n",
       "4 2024-07-11 00:33:00     Europe/Berlin       9829.40    Germany        David   \n",
       "\n",
       "          DateTime_Localized              DateTime_UTC  \n",
       "0  2024-06-15 05:56:00+10:00 2024-06-14 19:56:00+00:00  \n",
       "1  2024-09-30 05:36:00+02:00 2024-09-30 03:36:00+00:00  \n",
       "2  2024-02-01 15:04:00+11:00 2024-02-01 04:04:00+00:00  \n",
       "3  2024-04-24 05:12:00+10:00 2024-04-23 19:12:00+00:00  \n",
       "4  2024-07-11 00:33:00+02:00 2024-07-10 22:33:00+00:00  "
      ]
     },
     "execution_count": 71,
     "metadata": {},
     "output_type": "execute_result"
    }
   ],
   "source": [
    "# Now, that you have localized, convert each DateTime_Localized to UTC Format\n",
    "# Hint, think about using df.apply and a lambda function\n",
    "\n",
    "df['DateTime_UTC'] = df.apply(lambda row: row['DateTime_Localized'].tz_convert('UTC'), axis=1)\n",
    "df.head()"
   ]
  },
  {
   "cell_type": "markdown",
   "id": "73287393-54fe-4b19-8b0c-d40171fa6e29",
   "metadata": {},
   "source": [
    "### Testing/ Validation"
   ]
  },
  {
   "cell_type": "code",
   "execution_count": 72,
   "id": "cdae839b-afa2-4d88-bdf3-2cc84638bc9c",
   "metadata": {},
   "outputs": [
    {
     "data": {
      "text/plain": [
       "Timestamp('2024-06-15 05:56:00+1000', tz='Australia/Sydney')"
      ]
     },
     "execution_count": 72,
     "metadata": {},
     "output_type": "execute_result"
    }
   ],
   "source": [
    "df['DateTime_Localized'][0]"
   ]
  },
  {
   "cell_type": "code",
   "execution_count": 73,
   "id": "a15a43ed-a435-4c75-b4b0-1e38d1a1480c",
   "metadata": {},
   "outputs": [
    {
     "data": {
      "text/plain": [
       "Timestamp('2024-06-14 19:56:00+0000', tz='UTC')"
      ]
     },
     "execution_count": 73,
     "metadata": {},
     "output_type": "execute_result"
    }
   ],
   "source": [
    "df['DateTime_UTC'][0]"
   ]
  },
  {
   "cell_type": "code",
   "execution_count": 74,
   "id": "c376ac90-f209-4c39-bec6-09902b7a1c65",
   "metadata": {},
   "outputs": [
    {
     "data": {
      "text/plain": [
       "Timestamp('2024-09-30 05:36:00+0200', tz='Europe/Berlin')"
      ]
     },
     "execution_count": 74,
     "metadata": {},
     "output_type": "execute_result"
    }
   ],
   "source": [
    "df['DateTime_Localized'][1]"
   ]
  },
  {
   "cell_type": "code",
   "execution_count": 75,
   "id": "e36bd8d0-d328-469f-87cf-bdaba643b11c",
   "metadata": {},
   "outputs": [
    {
     "data": {
      "text/plain": [
       "Timestamp('2024-09-30 03:36:00+0000', tz='UTC')"
      ]
     },
     "execution_count": 75,
     "metadata": {},
     "output_type": "execute_result"
    }
   ],
   "source": [
    "df['DateTime_UTC'][1]"
   ]
  },
  {
   "cell_type": "code",
   "execution_count": 76,
   "id": "5ede072d-3039-43d5-b0b6-ba7c67474f1d",
   "metadata": {},
   "outputs": [
    {
     "name": "stdout",
     "output_type": "stream",
     "text": [
      "<class 'pandas.core.frame.DataFrame'>\n",
      "Index: 9998 entries, 0 to 9999\n",
      "Data columns (total 7 columns):\n",
      " #   Column              Non-Null Count  Dtype              \n",
      "---  ------              --------------  -----              \n",
      " 0   DateTime            9998 non-null   datetime64[ns]     \n",
      " 1   Time Zone           9998 non-null   object             \n",
      " 2   Sales Amount        9998 non-null   float64            \n",
      " 3   Country             9998 non-null   object             \n",
      " 4   Sales Person        9998 non-null   object             \n",
      " 5   DateTime_Localized  9998 non-null   object             \n",
      " 6   DateTime_UTC        9998 non-null   datetime64[ns, UTC]\n",
      "dtypes: datetime64[ns, UTC](1), datetime64[ns](1), float64(1), object(4)\n",
      "memory usage: 882.9+ KB\n"
     ]
    }
   ],
   "source": [
    "df.info()"
   ]
  },
  {
   "cell_type": "markdown",
   "id": "b5c58f39-fa4c-4090-93d3-a8f730663b8a",
   "metadata": {},
   "source": [
    "### Analysis / Validation"
   ]
  },
  {
   "cell_type": "code",
   "execution_count": 77,
   "id": "effbc8ef-cd20-4dbf-b0d0-8fc306535ae9",
   "metadata": {},
   "outputs": [
    {
     "data": {
      "text/plain": [
       "Country\n",
       "Australia         18548078.80\n",
       "Germany           19862156.50\n",
       "Japan             19638421.38\n",
       "United Kingdom    19945753.23\n",
       "United States     20289638.47\n",
       "Name: Sales Amount, dtype: float64"
      ]
     },
     "execution_count": 77,
     "metadata": {},
     "output_type": "execute_result"
    }
   ],
   "source": [
    "SalesByCountry = df.groupby('Country')['Sales Amount'].sum()\n",
    "SalesByCountry"
   ]
  },
  {
   "cell_type": "code",
   "execution_count": 79,
   "id": "c8593512-d85d-4192-aceb-50223118275d",
   "metadata": {},
   "outputs": [
    {
     "ename": "ModuleNotFoundError",
     "evalue": "No module named 'matplotlib'",
     "output_type": "error",
     "traceback": [
      "\u001b[0;31m---------------------------------------------------------------------------\u001b[0m",
      "\u001b[0;31mModuleNotFoundError\u001b[0m                       Traceback (most recent call last)",
      "Cell \u001b[0;32mIn[79], line 1\u001b[0m\n\u001b[0;32m----> 1\u001b[0m \u001b[38;5;28;01mimport\u001b[39;00m \u001b[38;5;21;01mmatplotlib\u001b[39;00m\n\u001b[1;32m      2\u001b[0m SalesByCountry\u001b[38;5;241m.\u001b[39mplot(kind\u001b[38;5;241m=\u001b[39m\u001b[38;5;124m'\u001b[39m\u001b[38;5;124mbar\u001b[39m\u001b[38;5;124m'\u001b[39m)\n",
      "\u001b[0;31mModuleNotFoundError\u001b[0m: No module named 'matplotlib'"
     ]
    }
   ],
   "source": [
    "import matplotlib\n",
    "SalesByCountry.plot(kind='bar');"
   ]
  },
  {
   "cell_type": "code",
   "execution_count": 80,
   "id": "91686cca-5be3-469b-b6b1-e0082079c821",
   "metadata": {},
   "outputs": [
    {
     "data": {
      "text/plain": [
       "Sales Person\n",
       "Alice      20216678.02\n",
       "Bob        19432012.45\n",
       "Charlie    18415351.28\n",
       "David      20147755.70\n",
       "Eve        20072250.93\n",
       "Name: Sales Amount, dtype: float64"
      ]
     },
     "execution_count": 80,
     "metadata": {},
     "output_type": "execute_result"
    }
   ],
   "source": [
    "SalesBySP = df.groupby('Sales Person')['Sales Amount'].sum()\n",
    "SalesBySP"
   ]
  },
  {
   "cell_type": "code",
   "execution_count": 81,
   "id": "54cfb863-334e-46bb-ae61-57a4b721d664",
   "metadata": {},
   "outputs": [
    {
     "ename": "ImportError",
     "evalue": "matplotlib is required for plotting when the default backend \"matplotlib\" is selected.",
     "output_type": "error",
     "traceback": [
      "\u001b[0;31m---------------------------------------------------------------------------\u001b[0m",
      "\u001b[0;31mImportError\u001b[0m                               Traceback (most recent call last)",
      "Cell \u001b[0;32mIn[81], line 1\u001b[0m\n\u001b[0;32m----> 1\u001b[0m SalesBySP\u001b[38;5;241m.\u001b[39mplot(kind\u001b[38;5;241m=\u001b[39m\u001b[38;5;124m'\u001b[39m\u001b[38;5;124mbar\u001b[39m\u001b[38;5;124m'\u001b[39m)\n",
      "File \u001b[0;32m~/miniconda3/envs/notebook_env/lib/python3.11/site-packages/pandas/plotting/_core.py:947\u001b[0m, in \u001b[0;36mPlotAccessor.__call__\u001b[0;34m(self, *args, **kwargs)\u001b[0m\n\u001b[1;32m    946\u001b[0m \u001b[38;5;28;01mdef\u001b[39;00m \u001b[38;5;21m__call__\u001b[39m(\u001b[38;5;28mself\u001b[39m, \u001b[38;5;241m*\u001b[39margs, \u001b[38;5;241m*\u001b[39m\u001b[38;5;241m*\u001b[39mkwargs):\n\u001b[0;32m--> 947\u001b[0m     plot_backend \u001b[38;5;241m=\u001b[39m _get_plot_backend(kwargs\u001b[38;5;241m.\u001b[39mpop(\u001b[38;5;124m\"\u001b[39m\u001b[38;5;124mbackend\u001b[39m\u001b[38;5;124m\"\u001b[39m, \u001b[38;5;28;01mNone\u001b[39;00m))\n\u001b[1;32m    949\u001b[0m     x, y, kind, kwargs \u001b[38;5;241m=\u001b[39m \u001b[38;5;28mself\u001b[39m\u001b[38;5;241m.\u001b[39m_get_call_args(\n\u001b[1;32m    950\u001b[0m         plot_backend\u001b[38;5;241m.\u001b[39m\u001b[38;5;18m__name__\u001b[39m, \u001b[38;5;28mself\u001b[39m\u001b[38;5;241m.\u001b[39m_parent, args, kwargs\n\u001b[1;32m    951\u001b[0m     )\n\u001b[1;32m    953\u001b[0m     kind \u001b[38;5;241m=\u001b[39m \u001b[38;5;28mself\u001b[39m\u001b[38;5;241m.\u001b[39m_kind_aliases\u001b[38;5;241m.\u001b[39mget(kind, kind)\n",
      "File \u001b[0;32m~/miniconda3/envs/notebook_env/lib/python3.11/site-packages/pandas/plotting/_core.py:1944\u001b[0m, in \u001b[0;36m_get_plot_backend\u001b[0;34m(backend)\u001b[0m\n\u001b[1;32m   1941\u001b[0m \u001b[38;5;28;01mif\u001b[39;00m backend_str \u001b[38;5;129;01min\u001b[39;00m _backends:\n\u001b[1;32m   1942\u001b[0m     \u001b[38;5;28;01mreturn\u001b[39;00m _backends[backend_str]\n\u001b[0;32m-> 1944\u001b[0m module \u001b[38;5;241m=\u001b[39m _load_backend(backend_str)\n\u001b[1;32m   1945\u001b[0m _backends[backend_str] \u001b[38;5;241m=\u001b[39m module\n\u001b[1;32m   1946\u001b[0m \u001b[38;5;28;01mreturn\u001b[39;00m module\n",
      "File \u001b[0;32m~/miniconda3/envs/notebook_env/lib/python3.11/site-packages/pandas/plotting/_core.py:1874\u001b[0m, in \u001b[0;36m_load_backend\u001b[0;34m(backend)\u001b[0m\n\u001b[1;32m   1872\u001b[0m         module \u001b[38;5;241m=\u001b[39m importlib\u001b[38;5;241m.\u001b[39mimport_module(\u001b[38;5;124m\"\u001b[39m\u001b[38;5;124mpandas.plotting._matplotlib\u001b[39m\u001b[38;5;124m\"\u001b[39m)\n\u001b[1;32m   1873\u001b[0m     \u001b[38;5;28;01mexcept\u001b[39;00m \u001b[38;5;167;01mImportError\u001b[39;00m:\n\u001b[0;32m-> 1874\u001b[0m         \u001b[38;5;28;01mraise\u001b[39;00m \u001b[38;5;167;01mImportError\u001b[39;00m(\n\u001b[1;32m   1875\u001b[0m             \u001b[38;5;124m\"\u001b[39m\u001b[38;5;124mmatplotlib is required for plotting when the \u001b[39m\u001b[38;5;124m\"\u001b[39m\n\u001b[1;32m   1876\u001b[0m             \u001b[38;5;124m'\u001b[39m\u001b[38;5;124mdefault backend \u001b[39m\u001b[38;5;124m\"\u001b[39m\u001b[38;5;124mmatplotlib\u001b[39m\u001b[38;5;124m\"\u001b[39m\u001b[38;5;124m is selected.\u001b[39m\u001b[38;5;124m'\u001b[39m\n\u001b[1;32m   1877\u001b[0m         ) \u001b[38;5;28;01mfrom\u001b[39;00m \u001b[38;5;28;01mNone\u001b[39;00m\n\u001b[1;32m   1878\u001b[0m     \u001b[38;5;28;01mreturn\u001b[39;00m module\n\u001b[1;32m   1880\u001b[0m found_backend \u001b[38;5;241m=\u001b[39m \u001b[38;5;28;01mFalse\u001b[39;00m\n",
      "\u001b[0;31mImportError\u001b[0m: matplotlib is required for plotting when the default backend \"matplotlib\" is selected."
     ]
    }
   ],
   "source": [
    "SalesBySP.plot(kind='bar')"
   ]
  },
  {
   "cell_type": "markdown",
   "id": "bd3d1b56-ee09-4ace-b3ad-8f1b2515286e",
   "metadata": {},
   "source": [
    "## Load"
   ]
  },
  {
   "cell_type": "code",
   "execution_count": 85,
   "id": "aa1a2a87-d3d2-4577-8922-304ac2cfa89e",
   "metadata": {},
   "outputs": [],
   "source": [
    "dest = 's3://techcatalyst-transformed/SalesTransformed/peter'\n",
    "for country, partitioned_df in df.groupby('Country'):\n",
    "    partitioned_df.to_csv(f'{dest}/{country}.csv', storage_options={\n",
    "                   'key' : AWS_ACCESS_KEY,\n",
    "                   'secret' : AWS_SECRET_KEY\n",
    "               })\n"
   ]
  },
  {
   "cell_type": "code",
   "execution_count": null,
   "id": "b90f8e6b-6ffa-46f6-813c-e1ae2e60c95f",
   "metadata": {},
   "outputs": [],
   "source": []
  }
 ],
 "metadata": {
  "kernelspec": {
   "display_name": "Python [conda env:notebook_env] *",
   "language": "python",
   "name": "conda-env-notebook_env-py"
  },
  "language_info": {
   "codemirror_mode": {
    "name": "ipython",
    "version": 3
   },
   "file_extension": ".py",
   "mimetype": "text/x-python",
   "name": "python",
   "nbconvert_exporter": "python",
   "pygments_lexer": "ipython3",
   "version": "3.11.9"
  }
 },
 "nbformat": 4,
 "nbformat_minor": 5
}
