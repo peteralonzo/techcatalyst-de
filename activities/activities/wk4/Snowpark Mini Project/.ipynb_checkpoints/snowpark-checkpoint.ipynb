{
 "cells": [
  {
   "cell_type": "markdown",
   "id": "9acd9bd4-9617-4cb3-ad07-fb5e567a05f1",
   "metadata": {},
   "source": [
    "## Installation "
   ]
  },
  {
   "cell_type": "markdown",
   "id": "68da168a-6eb0-44f1-94d6-0fd3ec7e2018",
   "metadata": {},
   "source": [
    "If you have not installed snowflake-snowpark-python you can install it here. Make sure you are in the right conda environment.\n",
    "\n",
    "If you are not sure you can try:\n",
    "\n",
    "```bash\n",
    "! which python\n",
    "```"
   ]
  },
  {
   "cell_type": "code",
   "execution_count": 119,
   "id": "121df9d6-3fb3-43b1-a260-80dd7c97d37c",
   "metadata": {},
   "outputs": [
    {
     "name": "stdout",
     "output_type": "stream",
     "text": [
      "/opt/anaconda3/envs/dev2/bin/python\n"
     ]
    }
   ],
   "source": [
    "! which python"
   ]
  },
  {
   "cell_type": "markdown",
   "id": "cf463656-381e-499a-85b7-f4257707d40c",
   "metadata": {},
   "source": [
    "Install the library"
   ]
  },
  {
   "cell_type": "code",
   "execution_count": 117,
   "id": "0a721aa0-09ff-40a8-b27c-2cbbfd8c661a",
   "metadata": {},
   "outputs": [],
   "source": [
    "# !conda install snowflake-snowpark-python -y"
   ]
  },
  {
   "cell_type": "markdown",
   "id": "0df2e1bd-fb6b-49c5-b112-2a845e7227b2",
   "metadata": {},
   "source": [
    "# THE **E**\n",
    "## Snowpark Usage - Example"
   ]
  },
  {
   "cell_type": "code",
   "execution_count": 2,
   "id": "35f770dc-3e10-47e5-8968-5733c5e434d6",
   "metadata": {},
   "outputs": [],
   "source": [
    "from snowflake.snowpark import Session"
   ]
  },
  {
   "cell_type": "markdown",
   "id": "045ac1ce-6911-48fb-949d-e0b4ee800cb5",
   "metadata": {},
   "source": [
    "Example of how the `snow.cfg` file looks like\n",
    "\n",
    "```yaml\n",
    "[SNOW]\n",
    "ACCOUNT=WPA36811\n",
    "USER=tarek\n",
    "PASSWORD=yourpassowrd\n",
    "WAREHOUSE=COMPUTE_WH\n",
    "DATABASE=TECHCATALYST_DE\n",
    "SCHEMA=PUBLIC\n",
    "ROLE=DE\n",
    "```"
   ]
  },
  {
   "cell_type": "code",
   "execution_count": 3,
   "id": "9f5a8617-6c69-4c33-9922-10db5945bf6d",
   "metadata": {},
   "outputs": [
    {
     "data": {
      "text/plain": [
       "['SNOW']"
      ]
     },
     "execution_count": 3,
     "metadata": {},
     "output_type": "execute_result"
    }
   ],
   "source": [
    "import configparser\n",
    "\n",
    "config = configparser.ConfigParser()\n",
    "config.read('snow.cfg')\n",
    "config.sections()"
   ]
  },
  {
   "cell_type": "markdown",
   "id": "0f534033-4900-42eb-8a4f-6717d880830e",
   "metadata": {},
   "source": [
    "Create a dictionary (key-value) of the parameters"
   ]
  },
  {
   "cell_type": "code",
   "execution_count": 4,
   "id": "958abed0-2533-4a1e-b80d-dafff723888b",
   "metadata": {},
   "outputs": [],
   "source": [
    "params1 = dict(config['SNOW'])"
   ]
  },
  {
   "cell_type": "markdown",
   "id": "5ea19238-50be-49b7-84d9-3e40d72915cd",
   "metadata": {},
   "source": [
    "Passing the parameters as a dictionary to Session"
   ]
  },
  {
   "cell_type": "code",
   "execution_count": 5,
   "id": "bf636e8e-8056-4602-b3b5-8fa23f2619e5",
   "metadata": {},
   "outputs": [],
   "source": [
    "session1 = Session.builder.configs(params1).create()"
   ]
  },
  {
   "cell_type": "code",
   "execution_count": 6,
   "id": "706059ab-b8fa-47e5-85e6-d777502dff57",
   "metadata": {},
   "outputs": [
    {
     "name": "stdout",
     "output_type": "stream",
     "text": [
      "\"PETER_ALONZO\"\n",
      "\"TECHCATALYST_DE\"\n",
      "\"PUBLIC\"\n"
     ]
    }
   ],
   "source": [
    "print(session1.get_current_user())\n",
    "print(session1.get_current_database())\n",
    "print(session1.get_current_schema())"
   ]
  },
  {
   "cell_type": "markdown",
   "id": "a7b0c0ad-b6cc-4d15-8015-dc0aa7c4542d",
   "metadata": {},
   "source": [
    "Example using the `table` methods to call a specific table. In this example I am calling the `INS_ACCIDENTS` table"
   ]
  },
  {
   "cell_type": "code",
   "execution_count": 7,
   "id": "cd754c8d-e989-42d0-8f02-fd76e4289e7f",
   "metadata": {},
   "outputs": [
    {
     "name": "stdout",
     "output_type": "stream",
     "text": [
      "-------------------------------------------------------------------------------------------------------------------------------------------------------\n",
      "|\"ACCIDENT_ID\"  |\"POLICYHOLDER_ID\"  |\"VEHICLE_ID\"  |\"ACCIDENT_TYPE\"  |\"ACCIDENT_DATE\"  |\"ESTIMATED_COST\"  |\"ACTUAL_REPAIR_COST\"  |\"AT_FAULT\"  |\"DUI\"  |\n",
      "-------------------------------------------------------------------------------------------------------------------------------------------------------\n",
      "|1              |4333               |176           |3                |2022-03-30       |6694              |7480                  |True        |True   |\n",
      "|2              |4547               |6391          |4                |2023-09-27       |2190              |3355                  |True        |False  |\n",
      "|3              |6686               |6974          |7                |2022-06-13       |4995              |7123                  |False       |False  |\n",
      "|4              |1300               |4037          |7                |2020-01-21       |694               |850                   |False       |False  |\n",
      "|5              |1638               |6061          |7                |2019-01-11       |8939              |11116                 |False       |False  |\n",
      "-------------------------------------------------------------------------------------------------------------------------------------------------------\n",
      "\n"
     ]
    }
   ],
   "source": [
    "accidents = session1.table(\"INS_ACCIDENTS\")\n",
    "accidents.show(5)"
   ]
  },
  {
   "cell_type": "markdown",
   "id": "1b22e132-97a2-4acd-9581-a6b61ab1fc61",
   "metadata": {},
   "source": [
    "Note, `accidents` is a Snowpark object (table). There is a difference between Snowpark DataFrames and Panda DataFrames. For now, you will convert to a Pandas DataFrame to do your transformations. Once done, you will convert back to a Snowpark DataFrame and write to the Database."
   ]
  },
  {
   "cell_type": "code",
   "execution_count": 8,
   "id": "a17fdcaf-47bc-4bdf-a589-4265c4f369ce",
   "metadata": {},
   "outputs": [
    {
     "data": {
      "text/plain": [
       "snowflake.snowpark.table.Table"
      ]
     },
     "execution_count": 8,
     "metadata": {},
     "output_type": "execute_result"
    }
   ],
   "source": [
    "type(accidents)"
   ]
  },
  {
   "cell_type": "code",
   "execution_count": 9,
   "id": "a108927f-1f97-4264-833d-06cc4499c43e",
   "metadata": {},
   "outputs": [],
   "source": [
    "accidents_df = accidents.to_pandas()"
   ]
  },
  {
   "cell_type": "code",
   "execution_count": 10,
   "id": "91c05750-2f2c-4758-895d-3bb4a73bda58",
   "metadata": {},
   "outputs": [
    {
     "name": "stdout",
     "output_type": "stream",
     "text": [
      "<class 'pandas.core.frame.DataFrame'>\n",
      "RangeIndex: 10000 entries, 0 to 9999\n",
      "Data columns (total 9 columns):\n",
      " #   Column              Non-Null Count  Dtype \n",
      "---  ------              --------------  ----- \n",
      " 0   ACCIDENT_ID         10000 non-null  int16 \n",
      " 1   POLICYHOLDER_ID     10000 non-null  int16 \n",
      " 2   VEHICLE_ID          10000 non-null  int16 \n",
      " 3   ACCIDENT_TYPE       10000 non-null  int8  \n",
      " 4   ACCIDENT_DATE       10000 non-null  object\n",
      " 5   ESTIMATED_COST      10000 non-null  int16 \n",
      " 6   ACTUAL_REPAIR_COST  10000 non-null  int16 \n",
      " 7   AT_FAULT            10000 non-null  bool  \n",
      " 8   DUI                 10000 non-null  bool  \n",
      "dtypes: bool(2), int16(5), int8(1), object(1)\n",
      "memory usage: 205.2+ KB\n"
     ]
    }
   ],
   "source": [
    "accidents_df.info()"
   ]
  },
  {
   "cell_type": "markdown",
   "id": "ac183ff1-b00b-4e87-ac35-2e5403739b8d",
   "metadata": {},
   "source": [
    "# The **T**\n",
    "## Your Work Here (Transformations)"
   ]
  },
  {
   "cell_type": "code",
   "execution_count": 11,
   "id": "f9a30545-3085-412b-b4c9-a05f5aed8c89",
   "metadata": {},
   "outputs": [],
   "source": [
    "accident_type = session1.table(\"INS_ACCIDENT_TYPE\")\n",
    "accidents_type_df = accident_type.to_pandas()"
   ]
  },
  {
   "cell_type": "code",
   "execution_count": 12,
   "id": "c31997c2-0dac-48cf-a545-6c3b2eab046e",
   "metadata": {},
   "outputs": [],
   "source": [
    "gender_marital = session1.table(\"INS_GENDER_MARITAL_STATUS\")\n",
    "gender_marital_df = gender_marital.to_pandas()"
   ]
  },
  {
   "cell_type": "code",
   "execution_count": 14,
   "id": "340f8aaf-46da-40d3-b464-04e36f350203",
   "metadata": {},
   "outputs": [],
   "source": [
    "policy_holder = session1.table(\"INS_POLICYHOLDER\")\n",
    "policy_holder_df = policy_holder.to_pandas()"
   ]
  },
  {
   "cell_type": "code",
   "execution_count": 15,
   "id": "ab81532b-2f93-4a13-bf78-92c490da987d",
   "metadata": {},
   "outputs": [],
   "source": [
    "states = session1.table(\"INS_STATES\")\n",
    "states_df = states.to_pandas()"
   ]
  },
  {
   "cell_type": "code",
   "execution_count": 16,
   "id": "2024c454-d0a2-4946-bd90-45c640536ba2",
   "metadata": {},
   "outputs": [],
   "source": [
    "insurance = session1.table(\"INS_INSURANCE_COVERAGE\")\n",
    "insurance_df = insurance.to_pandas()"
   ]
  },
  {
   "cell_type": "code",
   "execution_count": 17,
   "id": "4d6514bd-bbeb-4d2e-a51f-418da1877061",
   "metadata": {},
   "outputs": [],
   "source": [
    "body_style = session1.table(\"INS_BODY_STYLE\")\n",
    "body_style_df = body_style.to_pandas()"
   ]
  },
  {
   "cell_type": "code",
   "execution_count": 18,
   "id": "ca97a511-369f-44ff-b406-2779851da0ac",
   "metadata": {},
   "outputs": [],
   "source": [
    "vehicles = session1.table(\"INS_VEHICLES\")\n",
    "vehicles_df = vehicles.to_pandas()"
   ]
  },
  {
   "cell_type": "code",
   "execution_count": 19,
   "id": "49454e71-e8dd-43ff-adc6-1f5e7634e685",
   "metadata": {},
   "outputs": [],
   "source": [
    "vehicle_use = session1.table(\"INS_VEHICLE_USE\")\n",
    "vehicle_use_df = vehicle_use.to_pandas()"
   ]
  },
  {
   "cell_type": "code",
   "execution_count": 20,
   "id": "8df85a17-9560-470d-b34a-9511686b4601",
   "metadata": {},
   "outputs": [],
   "source": [
    "import pandas as pd\n",
    "dim_accident_type_df = pd.DataFrame()\n",
    "dim_accident_type_df['ACCIDENT_TYPE_ID'] = accidents_type_df['ACCIDENT_TYPE_CODE']\n",
    "dim_accident_type_df['ACCIDENT_TYPE'] = accidents_type_df['ACCIDENT_TYPE']"
   ]
  },
  {
   "cell_type": "code",
   "execution_count": 21,
   "id": "4cffb2d1-606b-469b-8a0e-3a72666d2a68",
   "metadata": {},
   "outputs": [],
   "source": [
    "dim_body_style_df = pd.DataFrame()\n",
    "dim_body_style_df['BODY_STYLE_ID'] = body_style_df['BODY_STYLE_CODE']\n",
    "dim_body_style_df['BODY_STYLE'] = body_style_df['BODY_STYLE']"
   ]
  },
  {
   "cell_type": "code",
   "execution_count": 22,
   "id": "7df9c0dc-463a-458b-b154-70b5eccbf9da",
   "metadata": {},
   "outputs": [],
   "source": [
    "dim_gender_martial_df = pd.DataFrame()\n",
    "dim_gender_martial_df['GENDER_MARITALSTATUS_ID'] = gender_marital_df['GENDER_MARITAL_STATUS_CODE']\n",
    "dim_gender_martial_df['GENDER_MARITAL_STATUS'] = gender_marital_df['GENDER_MARITAL_STATUS']"
   ]
  },
  {
   "cell_type": "code",
   "execution_count": 23,
   "id": "ddee3c1a-56f4-4e05-a8fc-821a6c0377bb",
   "metadata": {},
   "outputs": [],
   "source": [
    "dim_policy_holder_df = pd.DataFrame()\n",
    "dim_policy_holder_df['POLICYHOLDER_ID'] = policy_holder_df['POLICYHOLDER_ID']\n",
    "dim_policy_holder_df['FIRST_NAME'] = policy_holder_df['FIRST_NAME']\n",
    "dim_policy_holder_df['LAST_NAME'] = policy_holder_df['LAST_NAME']\n",
    "dim_policy_holder_df['ADDRESS'] = policy_holder_df['ADDRESS']"
   ]
  },
  {
   "cell_type": "code",
   "execution_count": 24,
   "id": "a96d6120-d000-42ca-9ae1-5f52cd63dfdd",
   "metadata": {},
   "outputs": [],
   "source": [
    "dim_states_df = pd.DataFrame()\n",
    "dim_states_df['STATE_ID'] = states_df['STATE_CODE']\n",
    "dim_states_df['STATE'] = states_df['STATE']"
   ]
  },
  {
   "cell_type": "code",
   "execution_count": 25,
   "id": "60b7bcab-8634-4fe2-8371-cd13a04bf10f",
   "metadata": {},
   "outputs": [],
   "source": [
    "dim_vehicle_use_df = pd.DataFrame()\n",
    "dim_vehicle_use_df['VEHICLE_USECODE_ID'] = vehicle_use_df['USE_CODE']\n",
    "dim_vehicle_use_df['VEHICLE_USE'] = vehicle_use_df['VEHICLE_ID']"
   ]
  },
  {
   "cell_type": "code",
   "execution_count": 29,
   "id": "78494a51-92f4-4197-80f6-cebf37b516f2",
   "metadata": {},
   "outputs": [
    {
     "data": {
      "text/html": [
       "<div>\n",
       "<style scoped>\n",
       "    .dataframe tbody tr th:only-of-type {\n",
       "        vertical-align: middle;\n",
       "    }\n",
       "\n",
       "    .dataframe tbody tr th {\n",
       "        vertical-align: top;\n",
       "    }\n",
       "\n",
       "    .dataframe thead th {\n",
       "        text-align: right;\n",
       "    }\n",
       "</style>\n",
       "<table border=\"1\" class=\"dataframe\">\n",
       "  <thead>\n",
       "    <tr style=\"text-align: right;\">\n",
       "      <th></th>\n",
       "      <th>ACCIDENT_ID</th>\n",
       "      <th>POLICYHOLDER_ID</th>\n",
       "      <th>VEHICLE_ID</th>\n",
       "      <th>STATE_ID</th>\n",
       "      <th>BODY_STYLE_ID</th>\n",
       "      <th>ACCIDENT_TYPE_ID</th>\n",
       "      <th>GENDER_MARITALSTATUS_ID</th>\n",
       "      <th>VEHICLE_USECODE_ID</th>\n",
       "      <th>ACCIDENT_DATE</th>\n",
       "      <th>VEHICLE_YEAR</th>\n",
       "      <th>POLICYHOLDER_BIRTHDATE</th>\n",
       "      <th>ESTIMATED_COST</th>\n",
       "      <th>ACTUAL_REPAIR_COST</th>\n",
       "      <th>AT_FAULT</th>\n",
       "      <th>IS_DUI</th>\n",
       "      <th>COVERAGE_STATUS</th>\n",
       "    </tr>\n",
       "  </thead>\n",
       "  <tbody>\n",
       "    <tr>\n",
       "      <th>0</th>\n",
       "      <td>3</td>\n",
       "      <td>6686</td>\n",
       "      <td>6974</td>\n",
       "      <td>8</td>\n",
       "      <td>20</td>\n",
       "      <td>7</td>\n",
       "      <td>2</td>\n",
       "      <td>2</td>\n",
       "      <td>2022-06-13</td>\n",
       "      <td>2001</td>\n",
       "      <td>1996-07-10</td>\n",
       "      <td>4995</td>\n",
       "      <td>7123</td>\n",
       "      <td>False</td>\n",
       "      <td>False</td>\n",
       "      <td>Active</td>\n",
       "    </tr>\n",
       "    <tr>\n",
       "      <th>1</th>\n",
       "      <td>4</td>\n",
       "      <td>1300</td>\n",
       "      <td>4037</td>\n",
       "      <td>41</td>\n",
       "      <td>3</td>\n",
       "      <td>7</td>\n",
       "      <td>2</td>\n",
       "      <td>3</td>\n",
       "      <td>2020-01-21</td>\n",
       "      <td>1982</td>\n",
       "      <td>1991-09-20</td>\n",
       "      <td>694</td>\n",
       "      <td>850</td>\n",
       "      <td>False</td>\n",
       "      <td>False</td>\n",
       "      <td>Active</td>\n",
       "    </tr>\n",
       "    <tr>\n",
       "      <th>2</th>\n",
       "      <td>8</td>\n",
       "      <td>6147</td>\n",
       "      <td>4883</td>\n",
       "      <td>15</td>\n",
       "      <td>19</td>\n",
       "      <td>5</td>\n",
       "      <td>2</td>\n",
       "      <td>2</td>\n",
       "      <td>2022-12-19</td>\n",
       "      <td>2009</td>\n",
       "      <td>1986-04-18</td>\n",
       "      <td>2220</td>\n",
       "      <td>3017</td>\n",
       "      <td>True</td>\n",
       "      <td>False</td>\n",
       "      <td>Active</td>\n",
       "    </tr>\n",
       "    <tr>\n",
       "      <th>3</th>\n",
       "      <td>9</td>\n",
       "      <td>1367</td>\n",
       "      <td>4656</td>\n",
       "      <td>6</td>\n",
       "      <td>19</td>\n",
       "      <td>6</td>\n",
       "      <td>8</td>\n",
       "      <td>1</td>\n",
       "      <td>2022-01-11</td>\n",
       "      <td>1993</td>\n",
       "      <td>2001-08-09</td>\n",
       "      <td>8985</td>\n",
       "      <td>13817</td>\n",
       "      <td>False</td>\n",
       "      <td>False</td>\n",
       "      <td>Active</td>\n",
       "    </tr>\n",
       "    <tr>\n",
       "      <th>4</th>\n",
       "      <td>12</td>\n",
       "      <td>9162</td>\n",
       "      <td>6079</td>\n",
       "      <td>47</td>\n",
       "      <td>20</td>\n",
       "      <td>7</td>\n",
       "      <td>1</td>\n",
       "      <td>5</td>\n",
       "      <td>2020-11-09</td>\n",
       "      <td>1989</td>\n",
       "      <td>1968-04-21</td>\n",
       "      <td>8765</td>\n",
       "      <td>13942</td>\n",
       "      <td>False</td>\n",
       "      <td>False</td>\n",
       "      <td>Active</td>\n",
       "    </tr>\n",
       "  </tbody>\n",
       "</table>\n",
       "</div>"
      ],
      "text/plain": [
       "   ACCIDENT_ID  POLICYHOLDER_ID  VEHICLE_ID  STATE_ID  BODY_STYLE_ID  \\\n",
       "0            3             6686        6974         8             20   \n",
       "1            4             1300        4037        41              3   \n",
       "2            8             6147        4883        15             19   \n",
       "3            9             1367        4656         6             19   \n",
       "4           12             9162        6079        47             20   \n",
       "\n",
       "   ACCIDENT_TYPE_ID  GENDER_MARITALSTATUS_ID VEHICLE_USECODE_ID ACCIDENT_DATE  \\\n",
       "0                 7                        2                  2    2022-06-13   \n",
       "1                 7                        2                  3    2020-01-21   \n",
       "2                 5                        2                  2    2022-12-19   \n",
       "3                 6                        8                  1    2022-01-11   \n",
       "4                 7                        1                  5    2020-11-09   \n",
       "\n",
       "   VEHICLE_YEAR POLICYHOLDER_BIRTHDATE  ESTIMATED_COST  ACTUAL_REPAIR_COST  \\\n",
       "0          2001             1996-07-10            4995                7123   \n",
       "1          1982             1991-09-20             694                 850   \n",
       "2          2009             1986-04-18            2220                3017   \n",
       "3          1993             2001-08-09            8985               13817   \n",
       "4          1989             1968-04-21            8765               13942   \n",
       "\n",
       "   AT_FAULT  IS_DUI COVERAGE_STATUS  \n",
       "0     False   False          Active  \n",
       "1     False   False          Active  \n",
       "2      True   False          Active  \n",
       "3     False   False          Active  \n",
       "4     False   False          Active  "
      ]
     },
     "execution_count": 29,
     "metadata": {},
     "output_type": "execute_result"
    }
   ],
   "source": [
    "#fact_accidents_df = pd.merge(accidents_df, dim_policy_holder_df, how='inner', on='POLICYHOLDER_ID')\n",
    "fact_accidents_df = pd.DataFrame()\n",
    "fact_accidents_df = pd.merge(accidents_df, policy_holder_df, how='inner', on='POLICYHOLDER_ID')\n",
    "fact_accidents_df = pd.merge(fact_accidents_df, states_df, how='inner', on='STATE_CODE')\n",
    "vehicles_temp = vehicles_df.drop(axis=1, columns='POLICYHOLDER_ID')\n",
    "gender_temp = gender_marital_df.rename(columns={'GENDER_MARITAL_STATUS' : 'GENDER_MARITAL_STATUS_2', 'GENDER_MARITAL_STATUS_CODE' : 'GENDER_MARITAL_STATUS'})\n",
    "accident_temp = accidents_type_df.rename(columns={'ACCIDENT_TYPE' : 'ACCIDENT_TYPE_2', 'ACCIDENT_TYPE_CODE' : 'ACCIDENT_TYPE'})\n",
    "fact_accidents_df = pd.merge(fact_accidents_df, insurance_df, how='inner', on='POLICYHOLDER_ID')\n",
    "fact_accidents_df = pd.merge(fact_accidents_df, vehicles_temp, how='inner', on='VEHICLE_ID')\n",
    "fact_accidents_df = pd.merge(fact_accidents_df, vehicle_use_df, how='inner', on='VEHICLE_ID')\n",
    "fact_accidents_df = pd.merge(fact_accidents_df, body_style_df, how='inner', on='BODY_STYLE_CODE')\n",
    "fact_accidents_df = pd.merge(fact_accidents_df, gender_temp, how='inner', on='GENDER_MARITAL_STATUS')\n",
    "fact_accidents_df = pd.merge(fact_accidents_df, accident_temp, how='inner', on='ACCIDENT_TYPE')\n",
    "\n",
    "final_df = pd.DataFrame()\n",
    "final_df['ACCIDENT_ID'] = fact_accidents_df['ACCIDENT_ID'] \n",
    "final_df['POLICYHOLDER_ID'] = fact_accidents_df['POLICYHOLDER_ID'] \n",
    "final_df['VEHICLE_ID'] = fact_accidents_df['VEHICLE_ID'] \n",
    "final_df['STATE_ID'] = fact_accidents_df['STATE_CODE']\n",
    "final_df['BODY_STYLE_ID'] = fact_accidents_df['BODY_STYLE_CODE']\n",
    "final_df['ACCIDENT_TYPE_ID'] = fact_accidents_df['ACCIDENT_TYPE']\n",
    "final_df['GENDER_MARITALSTATUS_ID'] = fact_accidents_df['GENDER_MARITAL_STATUS']\n",
    "final_df['VEHICLE_USECODE_ID'] = fact_accidents_df['USE_CODE']\n",
    "final_df['ACCIDENT_DATE'] = fact_accidents_df['ACCIDENT_DATE']\n",
    "final_df['VEHICLE_YEAR'] = fact_accidents_df['YEAR']\n",
    "final_df['POLICYHOLDER_BIRTHDATE'] = fact_accidents_df['BIRTHDATE']\n",
    "final_df['ESTIMATED_COST'] = fact_accidents_df['ESTIMATED_COST']\n",
    "final_df['ACTUAL_REPAIR_COST'] = fact_accidents_df['ACTUAL_REPAIR_COST']\n",
    "final_df['AT_FAULT'] = fact_accidents_df['AT_FAULT']\n",
    "final_df['IS_DUI'] = fact_accidents_df['DUI']\n",
    "final_df['COVERAGE_STATUS'] = fact_accidents_df['COVERAGE_STATUS']\n",
    "final_df = final_df.drop_duplicates()\n",
    "final_df.reset_index(inplace = True, drop = True)\n",
    "final_df.head()"
   ]
  },
  {
   "cell_type": "markdown",
   "id": "db42f8a7-c18a-4c11-9a3b-c2fa233f7e36",
   "metadata": {},
   "source": [
    "# THE **L**\n",
    "## Write to Snowflak"
   ]
  },
  {
   "cell_type": "markdown",
   "id": "94f03f9c-152f-4522-ba9c-dbb20dcf74d2",
   "metadata": {},
   "source": [
    "To avoid mistakes, make sure you use your schema. "
   ]
  },
  {
   "cell_type": "code",
   "execution_count": 30,
   "id": "88f36951-c946-41d0-b0f9-597b5d001c67",
   "metadata": {},
   "outputs": [
    {
     "name": "stdout",
     "output_type": "stream",
     "text": [
      "techcatalyst_de.palonzo\n"
     ]
    }
   ],
   "source": [
    "yourschema = 'palonzo'\n",
    "location = f'techcatalyst_de.{yourschema}'\n",
    "print(location)"
   ]
  },
  {
   "cell_type": "markdown",
   "id": "902e4c40-5b47-4c04-8275-2df04fb735e7",
   "metadata": {},
   "source": [
    "Convert the Pandas DataFrame into a Snowpark DataFrame"
   ]
  },
  {
   "cell_type": "code",
   "execution_count": 31,
   "id": "40f29921-a7a5-4f12-a2cf-0f914f6d27ce",
   "metadata": {},
   "outputs": [],
   "source": [
    "accidents_sdf = session1.create_dataframe(final_df)"
   ]
  },
  {
   "cell_type": "code",
   "execution_count": 32,
   "id": "b90c1104-0d7d-4485-89ee-484812c416e3",
   "metadata": {},
   "outputs": [
    {
     "name": "stdout",
     "output_type": "stream",
     "text": [
      "<class 'pandas.core.frame.DataFrame'>\n",
      "<class 'snowflake.snowpark.table.Table'>\n"
     ]
    }
   ],
   "source": [
    "print(type(final_df))\n",
    "print(type(accidents_sdf))"
   ]
  },
  {
   "cell_type": "markdown",
   "id": "7135f675-e368-4c20-9264-14bf36bbabe6",
   "metadata": {},
   "source": [
    "When using the `write.mode()` method there are different options:\n",
    "\n",
    "* ”`append`”: Append data of this DataFrame to the existing table. Creates a table if it does not exist.\n",
    "\n",
    "* ”`overwrite`”: Overwrite the existing table by dropping old table.\n",
    "\n",
    "* ”`truncate`”: Overwrite the existing table by truncating old table.\n",
    "\n",
    "* ”`errorifexists`”: Throw an exception if the table already exists.\n",
    "\n",
    "* ”`ignore`”: Ignore this operation if the table already exists.\n",
    "\n",
    "* Default value is “`errorifexists`”."
   ]
  },
  {
   "cell_type": "code",
   "execution_count": 33,
   "id": "16638820-d8f8-4cdf-9d03-3fed266ec032",
   "metadata": {},
   "outputs": [],
   "source": [
    "# example using overwrite\n",
    "\n",
    "accidents_sdf.write.mode(\"overwrite\").save_as_table(f\"{location}.fact_accidents_py\")"
   ]
  },
  {
   "cell_type": "code",
   "execution_count": 34,
   "id": "6bca5328-6371-47cc-aed7-7ced731e8bb3",
   "metadata": {},
   "outputs": [],
   "source": [
    "at_sdf = session1.create_dataframe(dim_accident_type_df)\n",
    "at_sdf.write.mode(\"overwrite\").save_as_table(f\"{location}.py_accident_type\")"
   ]
  },
  {
   "cell_type": "code",
   "execution_count": 38,
   "id": "ed322668-ae98-4546-acd3-1d62db959381",
   "metadata": {},
   "outputs": [],
   "source": [
    "bs_sdf = session1.create_dataframe(dim_body_style_df)\n",
    "bs_sdf.write.mode(\"overwrite\").save_as_table(f\"{location}.py_body_style\")"
   ]
  },
  {
   "cell_type": "code",
   "execution_count": 39,
   "id": "d7e890e3-b733-4bae-88ac-a643361f47ee",
   "metadata": {},
   "outputs": [],
   "source": [
    "gm_sdf = session1.create_dataframe(dim_gender_martial_df)\n",
    "gm_sdf.write.mode(\"overwrite\").save_as_table(f\"{location}.py_gender_marital\")"
   ]
  },
  {
   "cell_type": "code",
   "execution_count": 37,
   "id": "ad443bcc-1f66-4e24-9dcb-c1a8faa6a2b9",
   "metadata": {},
   "outputs": [],
   "source": [
    "ph_sdf = session1.create_dataframe(dim_policy_holder_df)\n",
    "ph_sdf.write.mode(\"overwrite\").save_as_table(f\"{location}.py_policyholder\")"
   ]
  },
  {
   "cell_type": "code",
   "execution_count": 40,
   "id": "f031406e-112f-44ad-9ce3-4ee9b3e1c219",
   "metadata": {},
   "outputs": [],
   "source": [
    "s_sdf = session1.create_dataframe(dim_states_df)\n",
    "s_sdf.write.mode(\"overwrite\").save_as_table(f\"{location}.py_states\")"
   ]
  },
  {
   "cell_type": "code",
   "execution_count": 42,
   "id": "99ebd2b3-c91a-4a1d-a294-62bbf6a92e35",
   "metadata": {},
   "outputs": [],
   "source": [
    "vu_sdf = session1.create_dataframe(dim_vehicle_use_df)\n",
    "vu_sdf.write.mode(\"overwrite\").save_as_table(f\"{location}.py_vehicle_use\")"
   ]
  }
 ],
 "metadata": {
  "kernelspec": {
   "display_name": "Python [conda env:notebook_env] *",
   "language": "python",
   "name": "conda-env-notebook_env-py"
  },
  "language_info": {
   "codemirror_mode": {
    "name": "ipython",
    "version": 3
   },
   "file_extension": ".py",
   "mimetype": "text/x-python",
   "name": "python",
   "nbconvert_exporter": "python",
   "pygments_lexer": "ipython3",
   "version": "3.11.9"
  }
 },
 "nbformat": 4,
 "nbformat_minor": 5
}
